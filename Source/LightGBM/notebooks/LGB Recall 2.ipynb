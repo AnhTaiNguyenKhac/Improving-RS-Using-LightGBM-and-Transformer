{
  "cells": [
    {
      "cell_type": "code",
      "execution_count": 52,
      "metadata": {
        "colab": {
          "base_uri": "https://localhost:8080/"
        },
        "id": "Ej-kIjP5d_zw",
        "outputId": "c136f82a-e31d-47a9-c196-44dff67735e9"
      },
      "outputs": [],
      "source": [
        "import os\n",
        "os.environ['LDFLAGS'] = \"-L/opt/homebrew/opt/libomp/lib\"\n",
        "os.environ['CPPFLAGS'] = \"-I/opt/homebrew/opt/libomp/include\"\n",
        "\n",
        "# !pip3 install cmake\n",
        "# !pip3 install --no-cache-dir lightgbm\n",
        "# !pip3 install lightgbm\n",
        "# %pip install implicit"
      ]
    },
    {
      "cell_type": "code",
      "execution_count": 53,
      "metadata": {
        "id": "gboISq82XUN1"
      },
      "outputs": [],
      "source": [
        "import pandas as pd\n",
        "from pandas.api.types import CategoricalDtype\n",
        "import numpy as np\n",
        "import seaborn as sns\n",
        "import matplotlib.pyplot as plt\n",
        "import lightgbm as lgb\n",
        "\n",
        "import pickle\n",
        "from tqdm import tqdm\n",
        "import gc\n",
        "from pathlib import Path"
      ]
    },
    {
      "cell_type": "code",
      "execution_count": 54,
      "metadata": {},
      "outputs": [],
      "source": [
        "# !pip3 install pandas numpy seaborn matplotlib lightgbm tqdm pickle5"
      ]
    },
    {
      "cell_type": "code",
      "execution_count": 55,
      "metadata": {
        "id": "F6WO2VtEXefj"
      },
      "outputs": [],
      "source": [
        "import warnings\n",
        "import sys\n",
        "from IPython.core.interactiveshell import InteractiveShell\n",
        "\n",
        "warnings.filterwarnings(\"ignore\")\n",
        "sys.path.append(\"/Users/tuanthanh/Documents/KLTN/SourceClone/H-M-Fashion-RecSys/\") # path to the `src`` folder\n",
        "InteractiveShell.ast_node_interactivity = \"all\"\n",
        "tqdm.pandas()"
      ]
    },
    {
      "cell_type": "code",
      "execution_count": 56,
      "metadata": {
        "id": "5ZHkDegnyFcl"
      },
      "outputs": [],
      "source": [
        "\n",
        "from src.data import DataHelper\n",
        "from src.data.metrics import map_at_k, hr_at_k, recall_at_k\n",
        "\n",
        "from src.retrieval.rules import (\n",
        "    OrderHistory,\n",
        "    ALS,\n",
        "    BPR,\n",
        "    UserGroupTimeHistory,\n",
        "    OrderHistoryDecay,\n",
        "    ItemPair,\n",
        "    TimeHistory,\n",
        "    ItemCF,\n",
        "    UserGroupItemCF\n",
        ")\n",
        "from src.retrieval.collector import RuleCollector\n",
        "\n",
        "from src.features import full_sale, week_sale, repurchase_ratio, popularity, period_sale\n",
        "\n",
        "from src.utils import (\n",
        "    calc_valid_date,\n",
        "    merge_week_data,\n",
        "    reduce_mem_usage,\n",
        "    calc_embd_similarity,\n",
        ")"
      ]
    },
    {
      "cell_type": "code",
      "execution_count": 57,
      "metadata": {
        "id": "siEeXUYUyFcn"
      },
      "outputs": [],
      "source": [
        "from sklearn.preprocessing import MinMaxScaler"
      ]
    },
    {
      "cell_type": "code",
      "execution_count": null,
      "metadata": {
        "id": "5xR9epc0yFco"
      },
      "outputs": [],
      "source": [
        "# data_dir = Path(\"/Users/tuanthanh/Documents/KLTN/SourceClone/H-M-Fashion-RecSys/data/Vibrent\")\n",
        "# model_dir = Path(\"/Users/tuanthanh/Documents/KLTN/SourceClone/H-M-Fashion-RecSys/models/models_Vibrent\")\n",
        "data_dir = Path(\"/Users/tuanthanh/Documents/KLTN/SourceClone/H-M-Fashion-RecSys/data/HM\")\n",
        "model_dir = Path(\"/Users/tuanthanh/Documents/KLTN/SourceClone/H-M-Fashion-RecSys/models/models_HM\")"
      ]
    },
    {
      "cell_type": "code",
      "execution_count": 59,
      "metadata": {
        "id": "I8HF7BnjyFcp"
      },
      "outputs": [],
      "source": [
        "TRAIN_WEEK_NUM = 4\n",
        "WEEK_NUM = TRAIN_WEEK_NUM + 2\n",
        "\n",
        "VERSION_NAME = \"LargeRecall\"\n",
        "TEST = True # * Set as `False` when do local experiments to save time"
      ]
    },
    {
      "cell_type": "code",
      "execution_count": 60,
      "metadata": {},
      "outputs": [],
      "source": [
        "TEST_BATCH_SIZE = 70000\n",
        "TEST_BATCH_NUM = 10 # 1371980 / 70000\n",
        "# TEST_BATCH_SIZE = 35000\n",
        "# TEST_BATCH_NUM = 10"
      ]
    },
    {
      "cell_type": "code",
      "execution_count": 61,
      "metadata": {
        "id": "zAccvyQ8yFcq"
      },
      "outputs": [],
      "source": [
        "import os\n",
        "if not os.path.exists(data_dir/\"interim\"/VERSION_NAME):\n",
        "    os.mkdir(data_dir/\"interim\"/VERSION_NAME)\n",
        "if not os.path.exists(data_dir/\"processed\"/VERSION_NAME):\n",
        "    os.mkdir(data_dir/\"processed\"/VERSION_NAME)"
      ]
    },
    {
      "cell_type": "markdown",
      "metadata": {
        "id": "ORF4aRfcyFcr"
      },
      "source": [
        "Pepare data: encoding ids and preprocessing"
      ]
    },
    {
      "cell_type": "code",
      "execution_count": 62,
      "metadata": {
        "id": "2BPv2lcWGGQJ"
      },
      "outputs": [],
      "source": [
        "dh = DataHelper(data_dir)"
      ]
    },
    {
      "cell_type": "code",
      "execution_count": 63,
      "metadata": {
        "id": "TFmlEVaDyFcv"
      },
      "outputs": [],
      "source": [
        "# data = dh.preprocess_data(save=True, name=\"encoded_full\") # * run only once, processed data will be saved"
      ]
    },
    {
      "cell_type": "code",
      "execution_count": 64,
      "metadata": {
        "id": "i3ngtb7NUGbH"
      },
      "outputs": [],
      "source": [
        "data = dh.load_data(name=\"encoded_full\")"
      ]
    },
    {
      "cell_type": "code",
      "execution_count": 65,
      "metadata": {
        "id": "DHosDWIfyFcw"
      },
      "outputs": [],
      "source": [
        "uid2idx = pickle.load(open(data_dir/\"index_id_map/user_id2index.pkl\", \"rb\"))\n",
        "submission = pd.read_csv(data_dir/\"raw\"/'sample_submission.csv')\n",
        "submission['customer_id'] = submission['customer_id'].map(uid2idx)"
      ]
    },
    {
      "cell_type": "markdown",
      "metadata": {
        "id": "LX4M190s4pxo"
      },
      "source": [
        "## Retrieval\n"
      ]
    },
    {
      "cell_type": "markdown",
      "metadata": {
        "id": "wvCamBwIyFcx"
      },
      "source": [
        "Generate candidates for each week"
      ]
    },
    {
      "cell_type": "code",
      "execution_count": 66,
      "metadata": {
        "id": "CTXIGNfMyFcy"
      },
      "outputs": [],
      "source": [
        "user_info = data[\"inter\"].groupby(['customer_id'])['price'].mean().reset_index(name='mean_price')\n",
        "user_info['purchase_ability'] = pd.qcut(user_info['mean_price'],5,labels=False)\n",
        "del user_info['mean_price']"
      ]
    },
    {
      "cell_type": "code",
      "execution_count": 67,
      "metadata": {
        "id": "avb_yWBIyFcy"
      },
      "outputs": [],
      "source": [
        "listBin = [-1, 19, 29, 39, 49, 59, 69, 119]\n",
        "data['user']['age_bins'] = pd.cut(data['user']['age'], listBin)\n",
        "data['user'] = data['user'].merge(user_info, on='customer_id', how='left')"
      ]
    },
    {
      "cell_type": "code",
      "execution_count": null,
      "metadata": {
        "id": "oWgRClzdyFcz"
      },
      "outputs": [
        {
          "name": "stdout",
          "output_type": "stream",
          "text": [
            "Week 0: [2020-09-23, 2020-09-30)\n"
          ]
        },
        {
          "name": "stderr",
          "output_type": "stream",
          "text": [
            "Retrieve items by rules: 100%|██████████| 2/2 [00:00<00:00, 84.19it/s]"
          ]
        },
        {
          "name": "stdout",
          "output_type": "stream",
          "text": [
            "Positive rate: 0.02500\n",
            "skip\n"
          ]
        },
        {
          "name": "stderr",
          "output_type": "stream",
          "text": [
            "\n"
          ]
        },
        {
          "data": {
            "text/plain": [
              "850"
            ]
          },
          "execution_count": 68,
          "metadata": {},
          "output_type": "execute_result"
        },
        {
          "name": "stdout",
          "output_type": "stream",
          "text": [
            "Week 1: [2020-09-16, 2020-09-23)\n"
          ]
        },
        {
          "name": "stderr",
          "output_type": "stream",
          "text": [
            "Retrieve items by rules: 100%|██████████| 2/2 [00:00<00:00, 76.41it/s]"
          ]
        },
        {
          "name": "stdout",
          "output_type": "stream",
          "text": [
            "Positive rate: 0.00465\n",
            "skip\n"
          ]
        },
        {
          "name": "stderr",
          "output_type": "stream",
          "text": [
            "\n"
          ]
        },
        {
          "data": {
            "text/plain": [
              "34"
            ]
          },
          "execution_count": 68,
          "metadata": {},
          "output_type": "execute_result"
        },
        {
          "name": "stdout",
          "output_type": "stream",
          "text": [
            "Week 2: [2020-09-09, 2020-09-16)\n"
          ]
        },
        {
          "name": "stderr",
          "output_type": "stream",
          "text": [
            "Retrieve items by rules: 100%|██████████| 2/2 [00:00<00:00, 87.30it/s]"
          ]
        },
        {
          "name": "stdout",
          "output_type": "stream",
          "text": [
            "Positive rate: 0.01170\n",
            "skip\n"
          ]
        },
        {
          "name": "stderr",
          "output_type": "stream",
          "text": [
            "\n"
          ]
        },
        {
          "data": {
            "text/plain": [
              "34"
            ]
          },
          "execution_count": 68,
          "metadata": {},
          "output_type": "execute_result"
        },
        {
          "name": "stdout",
          "output_type": "stream",
          "text": [
            "Week 3: [2020-09-02, 2020-09-09)\n"
          ]
        },
        {
          "name": "stderr",
          "output_type": "stream",
          "text": [
            "Retrieve items by rules: 100%|██████████| 2/2 [00:00<00:00, 90.42it/s]"
          ]
        },
        {
          "name": "stdout",
          "output_type": "stream",
          "text": [
            "Positive rate: 0.01724\n",
            "skip\n"
          ]
        },
        {
          "name": "stderr",
          "output_type": "stream",
          "text": [
            "\n"
          ]
        },
        {
          "data": {
            "text/plain": [
              "34"
            ]
          },
          "execution_count": 68,
          "metadata": {},
          "output_type": "execute_result"
        },
        {
          "name": "stdout",
          "output_type": "stream",
          "text": [
            "Week 4: [2020-08-26, 2020-09-02)\n"
          ]
        },
        {
          "name": "stderr",
          "output_type": "stream",
          "text": [
            "Retrieve items by rules:   0%|          | 0/2 [00:00<?, ?it/s]"
          ]
        },
        {
          "name": "stdout",
          "output_type": "stream",
          "text": [
            "skip\n"
          ]
        },
        {
          "name": "stderr",
          "output_type": "stream",
          "text": [
            "Retrieve items by rules: 100%|██████████| 2/2 [00:00<00:00, 83.71it/s]\n"
          ]
        },
        {
          "name": "stdout",
          "output_type": "stream",
          "text": [
            "skip\n"
          ]
        },
        {
          "ename": "AttributeError",
          "evalue": "'NoneType' object has no attribute 'memory_usage'",
          "output_type": "error",
          "traceback": [
            "\u001b[0;31m---------------------------------------------------------------------------\u001b[0m",
            "\u001b[0;31mAttributeError\u001b[0m                            Traceback (most recent call last)",
            "Cell \u001b[0;32mIn[68], line 60\u001b[0m\n\u001b[1;32m     28\u001b[0m \u001b[38;5;66;03m# * ========================== Retrieval Strategies ==========================\u001b[39;00m\n\u001b[1;32m     30\u001b[0m candidates \u001b[38;5;241m=\u001b[39m RuleCollector()\u001b[38;5;241m.\u001b[39mcollect(\n\u001b[1;32m     31\u001b[0m     week_num \u001b[38;5;241m=\u001b[39m week,\n\u001b[1;32m     32\u001b[0m     trans_df \u001b[38;5;241m=\u001b[39m trans,\n\u001b[0;32m   (...)\u001b[0m\n\u001b[1;32m     57\u001b[0m     compress\u001b[38;5;241m=\u001b[39m\u001b[38;5;28;01mFalse\u001b[39;00m,\n\u001b[1;32m     58\u001b[0m )\n\u001b[0;32m---> 60\u001b[0m candidates, _ \u001b[38;5;241m=\u001b[39m \u001b[43mreduce_mem_usage\u001b[49m\u001b[43m(\u001b[49m\u001b[43mcandidates\u001b[49m\u001b[43m)\u001b[49m\n\u001b[1;32m     61\u001b[0m \u001b[38;5;66;03m# candidates = (\u001b[39;00m\n\u001b[1;32m     62\u001b[0m \u001b[38;5;66;03m#     pd.pivot_table(\u001b[39;00m\n\u001b[1;32m     63\u001b[0m \u001b[38;5;66;03m#         candidates,\u001b[39;00m\n\u001b[0;32m   (...)\u001b[0m\n\u001b[1;32m     69\u001b[0m \u001b[38;5;66;03m#     .reset_index()\u001b[39;00m\n\u001b[1;32m     70\u001b[0m \u001b[38;5;66;03m# )\u001b[39;00m\n\u001b[1;32m     71\u001b[0m \u001b[38;5;28;01mif\u001b[39;00m candidates \u001b[38;5;129;01mis\u001b[39;00m \u001b[38;5;129;01mnot\u001b[39;00m \u001b[38;5;28;01mNone\u001b[39;00m \u001b[38;5;129;01mand\u001b[39;00m \u001b[38;5;129;01mnot\u001b[39;00m candidates\u001b[38;5;241m.\u001b[39mempty:\n",
            "File \u001b[0;32m~/Documents/KLTN/SourceClone/H-M-Fashion-RecSys/src/utils.py:217\u001b[0m, in \u001b[0;36mreduce_mem_usage\u001b[0;34m(df, verbose)\u001b[0m\n\u001b[1;32m    215\u001b[0m \u001b[38;5;28;01mdef\u001b[39;00m\u001b[38;5;250m \u001b[39m\u001b[38;5;21mreduce_mem_usage\u001b[39m(df: pd\u001b[38;5;241m.\u001b[39mDataFrame, verbose: \u001b[38;5;28mbool\u001b[39m \u001b[38;5;241m=\u001b[39m \u001b[38;5;28;01mFalse\u001b[39;00m) \u001b[38;5;241m-\u001b[39m\u001b[38;5;241m>\u001b[39m pd\u001b[38;5;241m.\u001b[39mDataFrame:\n\u001b[1;32m    216\u001b[0m \u001b[38;5;250m    \u001b[39m\u001b[38;5;124;03m\"\"\"Reduce memory usage by changing feature dtype with safer type conversion.\"\"\"\u001b[39;00m\n\u001b[0;32m--> 217\u001b[0m     start_mem_usg \u001b[38;5;241m=\u001b[39m \u001b[43mdf\u001b[49m\u001b[38;5;241;43m.\u001b[39;49m\u001b[43mmemory_usage\u001b[49m()\u001b[38;5;241m.\u001b[39msum() \u001b[38;5;241m/\u001b[39m \u001b[38;5;241m1024\u001b[39m\u001b[38;5;241m*\u001b[39m\u001b[38;5;241m*\u001b[39m\u001b[38;5;241m2\u001b[39m\n\u001b[1;32m    218\u001b[0m     \u001b[38;5;28;01mif\u001b[39;00m verbose:\n\u001b[1;32m    219\u001b[0m         \u001b[38;5;28mprint\u001b[39m(\u001b[38;5;124m\"\u001b[39m\u001b[38;5;124mMemory usage of dataframe is :\u001b[39m\u001b[38;5;124m\"\u001b[39m, start_mem_usg, \u001b[38;5;124m\"\u001b[39m\u001b[38;5;124m MB\u001b[39m\u001b[38;5;124m\"\u001b[39m)\n",
            "\u001b[0;31mAttributeError\u001b[0m: 'NoneType' object has no attribute 'memory_usage'"
          ]
        }
      ],
      "source": [
        "# * WEEK_NUM = 0: test\n",
        "# * WEEK_NUM = 1: valid\n",
        "# * WEEK_NUM > 1: train\n",
        "for week in range(WEEK_NUM):\n",
        "    # * use sliding window to generate candidates\n",
        "    if week == 0 and not TEST:\n",
        "        continue\n",
        "    trans = data[\"inter\"]\n",
        "\n",
        "    start_date, end_date = calc_valid_date(week)\n",
        "    print(f\"Week {week}: [{start_date}, {end_date})\")\n",
        "\n",
        "    train, valid = dh.split_data(trans, start_date, end_date)\n",
        "    train = train.merge(data['user'][['customer_id','age_bins','user_gender']], on='customer_id', how='left')\n",
        "    train = train.merge(user_info, on='customer_id', how='left')\n",
        "\n",
        "    train['t_dat'] = pd.to_datetime(train['t_dat'])\n",
        "    last_week = train[train['t_dat']>train['t_dat'].max()-pd.Timedelta(days=7)]\n",
        "    last_2week = train[train['t_dat']>train['t_dat'].max()-pd.Timedelta(days=14)]\n",
        "    last_60day = train[train['t_dat']>train['t_dat'].max()-pd.Timedelta(days=60)]\n",
        "    last_80day = train[train['t_dat']>train['t_dat'].max()-pd.Timedelta(days=80)]\n",
        "\n",
        "    if week != 0:\n",
        "        customer_list = valid[\"customer_id\"].values\n",
        "    else:\n",
        "        customer_list = submission['customer_id'].values\n",
        "\n",
        "    # * ========================== Retrieval Strategies ==========================\n",
        "\n",
        "    candidates = RuleCollector().collect(\n",
        "        week_num = week,\n",
        "        trans_df = trans,\n",
        "        customer_list=customer_list,\n",
        "        rules=[\n",
        "            ALS(customer_list, last_60day, n=30, iter_num=40),\n",
        "            BPR(customer_list, last_80day, n=30, iter_num=100),\n",
        "            UserGroupTimeHistory(data, customer_list, last_week, ['age_bins'], n=30, scale=True, name='1'),\n",
        "            UserGroupTimeHistory(data, customer_list, last_week, ['purchase_ability'], n=30, scale=True, name='2'),\n",
        "            UserGroupTimeHistory(data, customer_list, last_week, ['user_gender'], n=30, scale=True, name='3'),\n",
        "            OrderHistory(train, days=35, n=30),\n",
        "            OrderHistoryDecay(train, days=7, n=30),\n",
        "            TimeHistory(customer_list, last_week, n=30),\n",
        "\n",
        "            ItemCF(last_80day, last_2week, top_k=10, name='1'),\n",
        "            ItemCF(last_60day, last_2week, top_k=10, name='2'),\n",
        "            ItemCF(last_2week, last_2week, top_k=10, name='3'),\n",
        "            UserGroupItemCF(last_80day, last_2week, 'age_bins', top_k=10, name='1'),\n",
        "            UserGroupItemCF(last_60day, last_2week, 'age_bins', top_k=10, name='2'),\n",
        "            UserGroupItemCF(last_2week, last_2week, 'age_bins', top_k=10, name='3'),\n",
        "            UserGroupItemCF(last_80day, last_2week, 'purchase_ability', top_k=10, name='4'),\n",
        "            UserGroupItemCF(last_60day, last_2week, 'purchase_ability', top_k=10, name='5'),\n",
        "            UserGroupItemCF(last_2week, last_2week, 'purchase_ability', top_k=10, name='6'),\n",
        "        ],\n",
        "\n",
        "        min_pos_rate=0.006,\n",
        "        norm=False,\n",
        "        compress=False,\n",
        "    )\n",
        "\n",
        "    candidates, _ = reduce_mem_usage(candidates)\n",
        "    candidates = (\n",
        "        pd.pivot_table(\n",
        "            candidates,\n",
        "            values=\"score\",\n",
        "            index=[\"customer_id\", \"article_id\"],\n",
        "            columns=[\"method\"],\n",
        "            aggfunc=np.sum,\n",
        "        )\n",
        "        .reset_index()\n",
        "    )\n",
        "    rule_names = [x for x in candidates.columns if x not in [\"customer_id\", \"article_id\"]]\n",
        "    tmp = candidates[rule_names]\n",
        "    for f in rule_names:\n",
        "        tmp[f] = MinMaxScaler().fit_transform(tmp[f].values.reshape(-1, 1))\n",
        "    candidates['score'] = tmp[rule_names].sum(axis=1)\n",
        "    del tmp\n",
        "    gc.collect()\n",
        "    candidates['rank'] = candidates.groupby(['customer_id'])['score'].rank(ascending=False)\n",
        "    candidates = candidates[candidates['rank']<=30]\n",
        "\n",
        "    candidates.to_parquet(data_dir/\"interim\"/VERSION_NAME/f\"week{week}_candidate.pqt\")\n",
        "    valid.to_parquet(data_dir/\"processed\"/VERSION_NAME/f\"week{week}_label.pqt\")\n"
      ]
    },
    {
      "cell_type": "code",
      "execution_count": null,
      "metadata": {},
      "outputs": [],
      "source": []
    },
    {
      "cell_type": "code",
      "execution_count": null,
      "metadata": {
        "colab": {
          "base_uri": "https://localhost:8080/"
        },
        "id": "GhGFllGyyFc4",
        "outputId": "a51b3f89-b83d-46f8-8518-37a8d157e71e"
      },
      "outputs": [
        {
          "data": {
            "text/plain": [
              "20"
            ]
          },
          "execution_count": 18,
          "metadata": {},
          "output_type": "execute_result"
        }
      ],
      "source": [
        "del train, valid, customer_list, candidates\n",
        "gc.collect()"
      ]
    },
    {
      "cell_type": "markdown",
      "metadata": {
        "id": "jywhBCAGGGQS"
      },
      "source": [
        "## Merge Features\n"
      ]
    },
    {
      "cell_type": "code",
      "execution_count": null,
      "metadata": {
        "id": "cxSNgWvVuv2A"
      },
      "outputs": [],
      "source": [
        "inter = pd.read_parquet(data_dir / \"processed/processed_inter.pqt\")"
      ]
    },
    {
      "cell_type": "code",
      "execution_count": null,
      "metadata": {
        "id": "FIm6uoIXyFc_"
      },
      "outputs": [],
      "source": [
        "#* embeddings from DSSM model\n",
        "dssm_user_embd = np.load(data_dir / \"external/dssm_user_embd.npy\", allow_pickle=True)\n",
        "dssm_item_embd = np.load(data_dir / \"external/dssm_item_embd.npy\", allow_pickle=True)\n",
        "# * embeddings from YouTubeDNN model\n",
        "yt_user_embd = np.load(data_dir / \"external/yt_user_embd.npy\", allow_pickle=True)\n",
        "yt_item_embd = np.load(data_dir / \"external/yt_item_embd.npy\", allow_pickle=True)\n",
        "# * embeddings from Word2Vector model\n",
        "w2v_user_embd = np.load(data_dir/'external'/'w2v_user_embd.npy', allow_pickle=True)\n",
        "w2v_item_embd = np.load(data_dir/'external'/'w2v_item_embd.npy', allow_pickle=True)"
      ]
    },
    {
      "cell_type": "code",
      "execution_count": null,
      "metadata": {
        "id": "FiPHvn7pn6ng"
      },
      "outputs": [],
      "source": [
        "for col in inter.columns:\n",
        "    inter[col] = np.nan_to_num(inter[col])\n",
        "    "
      ]
    },
    {
      "cell_type": "code",
      "execution_count": null,
      "metadata": {
        "colab": {
          "base_uri": "https://localhost:8080/"
        },
        "id": "4r4K6ifJyFc_",
        "outputId": "24b63a7e-d39f-4e43-bf2b-ee13673f8e1d"
      },
      "outputs": [],
      "source": [
        "# \n",
        "for i in tqdm(range(1)):\n",
        "    if i == 0 and not TEST:\n",
        "        continue\n",
        "    \n",
        "    if i == 0:\n",
        "        for j in range(TEST_BATCH_NUM):\n",
        "            # candidate = pd.read_parquet(data_dir/\"interim\"/VERSION_NAME/f\"week{i}_candidate_{j}.pqt\")\n",
        "            candidate = pd.read_parquet(data_dir/\"interim\"/VERSION_NAME/f\"week{i}_candidate.pqt\")\n",
        "            chunk_size = int(candidate.shape[0] * 0.5)\n",
        "\n",
        "            for chunk, batch in enumerate(range(0, candidate.shape[0], chunk_size)):\n",
        "                sub_candidate = candidate.iloc[batch:batch+chunk_size-1]\n",
        "                # * merge features\n",
        "                sub_candidate = merge_week_data(data, inter, i, sub_candidate)\n",
        "                # * merge DSSM user and item embeddings\n",
        "                sub_candidate[\"dssm_similarity\"] = calc_embd_similarity(sub_candidate, dssm_user_embd, dssm_item_embd)\n",
        "                # * merge YouTubeDNN user and item embeddings\n",
        "                sub_candidate[\"yt_similarity\"] = calc_embd_similarity(sub_candidate, yt_user_embd, yt_item_embd)\n",
        "                sub_candidate[\"wv_similarity\"] = calc_embd_similarity(sub_candidate, w2v_user_embd, w2v_item_embd, sub=False)\n",
        "                \n",
        "                # Calculate the final score by combining all similarity measures\n",
        "                similarity_cols = ['dssm_similarity', 'yt_similarity', 'wv_similarity']\n",
        "                for col in similarity_cols:\n",
        "                    sub_candidate[col] = MinMaxScaler().fit_transform(sub_candidate[col].values.reshape(-1, 1))\n",
        "                \n",
        "                # Combine scores (you can adjust weights if needed)\n",
        "                sub_candidate['final_score'] = sub_candidate[similarity_cols].sum(axis=1)\n",
        "                \n",
        "                # Rank the candidates within each customer_id group\n",
        "                sub_candidate['rank'] = sub_candidate.groupby('customer_id')['final_score'].rank(ascending=False, method='first')\n",
        "                \n",
        "                # Keep only top N candidates (adjust N as needed)\n",
        "                sub_candidate = sub_candidate[sub_candidate['rank'] <= 30]\n",
        "                \n",
        "                print(f\"Chunk {chunk} done...\")\n",
        "                print(\"Columns in candidate:\", candidate.columns.tolist())  # Kiểm tra các cột trước khi lưu\n",
        "                sub_candidate.to_parquet(data_dir/\"processed\"/VERSION_NAME/f\"week{i}_candidate_{j}_{chunk}.pqt\")\n",
        "                gc.collect()\n",
        "    else:\n",
        "        candidate = pd.read_parquet(data_dir/\"interim\"/VERSION_NAME/f\"week{i}_candidate.pqt\")\n",
        "        # * merge features\n",
        "        candidate = merge_week_data(data, inter, i, candidate)\n",
        "        print(candidate['week'].unique())\n",
        "        # * merge DSSM user and item embeddings\n",
        "        candidate[\"dssm_similarity\"] = calc_embd_similarity(candidate, dssm_user_embd, dssm_item_embd)\n",
        "        # * merge YouTubeDNN user and item embeddings\n",
        "        candidate[\"yt_similarity\"] = calc_embd_similarity(candidate, yt_user_embd, yt_item_embd)\n",
        "        \n",
        "        # Calculate the final score by combining all similarity measures\n",
        "        similarity_cols = ['dssm_similarity', 'yt_similarity']\n",
        "        for col in similarity_cols:\n",
        "            candidate[col] = MinMaxScaler().fit_transform(candidate[col].values.reshape(-1, 1))\n",
        "        \n",
        "        # Combine scores (you can adjust weights if needed)\n",
        "        candidate['final_score'] = candidate[similarity_cols].sum(axis=1)\n",
        "        \n",
        "        # Rank the candidates within each customer_id group\n",
        "        candidate['rank'] = candidate.groupby('customer_id')['final_score'].rank(ascending=False, method='first')\n",
        "        # Keep only top N candidates (adjust N as needed)\n",
        "        candidate = candidate[candidate['rank'] <= 30]\n",
        "        print(\"Columns in candidate:\", candidate.columns.tolist())  # Kiểm tra các cột trước khi lưu\n",
        "        candidate.to_parquet(data_dir/\"processed\"/VERSION_NAME/f\"week{i}_candidate.pqt\")"
      ]
    },
    {
      "cell_type": "code",
      "execution_count": null,
      "metadata": {
        "colab": {
          "base_uri": "https://localhost:8080/"
        },
        "id": "sWyKQBAt3x--",
        "outputId": "367f61d4-6032-446b-fe25-fe64f66a91c2"
      },
      "outputs": [
        {
          "data": {
            "text/plain": [
              "0"
            ]
          },
          "execution_count": 23,
          "metadata": {},
          "output_type": "execute_result"
        }
      ],
      "source": [
        "del dssm_user_embd, dssm_item_embd, yt_user_embd, yt_item_embd\n",
        "gc.collect()"
      ]
    },
    {
      "cell_type": "markdown",
      "metadata": {
        "id": "7Zml-cxryoU_"
      },
      "source": [
        "## Ranking\n"
      ]
    },
    {
      "cell_type": "code",
      "execution_count": null,
      "metadata": {
        "colab": {
          "base_uri": "https://localhost:8080/"
        },
        "id": "PsmE6rgjdtIr",
        "outputId": "fad43353-367b-4b9d-fce5-a3f921d31577"
      },
      "outputs": [
        {
          "name": "stdout",
          "output_type": "stream",
          "text": [
            "Available columns: ['customer_id', 'article_id', 'ItemPairRetrieve_1', 'ItemPairRetrieve_2', 'ItemPairRetrieve_3', 'ItemPairRetrieve_4', 'OrderHistoryDecay_1', 'OrderHistoryDecay_2', 'OrderHistory_1', 'OrderHistory_2', 'SaleTrend_1', 'TimeHistoryDecay_1', 'TimeHistoryDecay_2', 'TimeHistory_1', 'TimeHistory_2', 'UGSaleTrend_1', 'UGTimeHistory_1', 'UGTimeHistory_2', 'label', 'week', 't_dat', 'price', 'sales_channel_id', 'valid', 'product_code', 'i_1w_sale_rank', 'i_1w_sale_norm', 'p_1w_sale_rank', 'p_1w_sale_norm', 'i_2w_sale', 'i_2w_sale_rank', 'i_2w_sale_norm', 'p_2w_sale', 'p_2w_sale_rank', 'p_2w_sale_norm', 'i_3w_sale', 'i_3w_sale_rank', 'i_3w_sale_norm', 'p_3w_sale', 'p_3w_sale_rank', 'p_3w_sale_norm', 'i_4w_sale', 'i_4w_sale_rank', 'i_4w_sale_norm', 'p_4w_sale', 'p_4w_sale_rank', 'p_4w_sale_norm', 'i_repurchase_ratio', 'p_repurchase_ratio', 'i_sale', 'p_sale', 'i_sale_uni', 'p_sale_uni', 'lw_i_sale', 'lw_p_sale', 'lw_i_sale_uni', 'lw_p_sale_uni', 'i_sale_ratio', 'i_sale_uni_ratio', 'lw_i_sale_ratio', 'lw_i_sale_uni_ratio', 'i_uni_ratio', 'p_uni_ratio', 'lw_i_uni_ratio', 'lw_p_uni_ratio', 'i_sale_trend', 'p_sale_trend', 'product_type_no_sale', 'lw_product_type_no_sale', 'product_type_no_sale_trend', 'first_dat', 'i_daily_sale', 'p_daily_sale', 'i_daily_sale_ratio', 'i_w_full_sale_ratio', 'i_2w_full_sale_ratio', 'p_w_full_sale_ratio', 'p_2w_full_sale_ratio', 'i_week_above_daily_sale', 'p_week_above_full_sale', 'i_2w_week_above_daily_sale', 'p_2w_week_above_daily_sale', 'product_type_no_daily_sale', 'i_product_type_no_daily_sale_ratio', 'p_product_type_no_daily_sale_ratio', 'i_pop', 'p_pop', 'FN', 'Active', 'club_member_status', 'fashion_news_frequency', 'age', 'user_gender', 'product_type_no', 'product_group_name', 'graphical_appearance_no', 'colour_group_code', 'perceived_colour_value_id', 'perceived_colour_master_id', 'article_gender', 'season_type', 'dssm_similarity', 'yt_similarity', 'wv_similarity']\n"
          ]
        },
        {
          "name": "stderr",
          "output_type": "stream",
          "text": [
            "100%|██████████| 5/5 [00:06<00:00,  1.27s/it]\n"
          ]
        }
      ],
      "source": [
        "candidates = {}\n",
        "labels = {}\n",
        "# for i in tqdm(range(1, WEEK_NUM)):\n",
        "#     candidates[i] = pd.read_parquet(data_dir/\"processed\"/VERSION_NAME/f\"week{i}_candidate.pqt\")\n",
        "    \n",
        "#     candidates[i] = candidates[i][candidates[i]['rank']<=20]\n",
        "#     labels[i] = pd.read_parquet(data_dir/\"processed\"/VERSION_NAME/f\"week{i}_label.pqt\")\n",
        "# First inspect one file to see what columns exist\n",
        "sample = pd.read_parquet(data_dir/\"processed\"/VERSION_NAME/f\"week1_candidate.pqt\")\n",
        "print(\"Available columns:\", sample.columns.tolist())\n",
        "\n",
        "# Then modify your code accordingly\n",
        "for i in tqdm(range(1, WEEK_NUM)):\n",
        "    candidates[i] = pd.read_parquet(data_dir/\"processed\"/VERSION_NAME/f\"week{i}_candidate.pqt\")\n",
        "    \n",
        "    # Use whatever scoring column actually exists in your data\n",
        "    if 'score' in candidates[i].columns:  # or 'final_score' or other column name\n",
        "        candidates[i]['rank'] = candidates[i].groupby('customer_id')['score'].rank(ascending=False)\n",
        "        candidates[i] = candidates[i][candidates[i]['rank'] <= 30]\n",
        "    \n",
        "    labels[i] = pd.read_parquet(data_dir/\"processed\"/VERSION_NAME/f\"week{i}_label.pqt\")"
      ]
    },
    {
      "cell_type": "code",
      "execution_count": null,
      "metadata": {
        "id": "xWqYwCbsdtIr"
      },
      "outputs": [],
      "source": [
        "feats = [\n",
        "    x\n",
        "    for x in candidates[1].columns\n",
        "    if x\n",
        "    not in [\n",
        "        \"label\",\n",
        "        \"sales_channel_id\",\n",
        "        \"t_dat\",\n",
        "        \"week\",\n",
        "        \"valid\",\n",
        "    ]\n",
        "]\n",
        "cat_features = [\n",
        "    \"customer_id\",\n",
        "    \"article_id\",\n",
        "    \"product_code\",\n",
        "    \"FN\",\n",
        "    \"Active\",\n",
        "    \"club_member_status\",\n",
        "    \"fashion_news_frequency\",\n",
        "    \"age\",\n",
        "    \"product_type_no\",\n",
        "    \"product_group_name\",\n",
        "    \"graphical_appearance_no\",\n",
        "    \"colour_group_code\",\n",
        "    \"perceived_colour_value_id\",\n",
        "    \"perceived_colour_master_id\",\n",
        "\n",
        "    \"user_gender\",\n",
        "    \"article_gender\",\n",
        "    \"season_type\"\n",
        "]"
      ]
    },
    {
      "cell_type": "code",
      "execution_count": null,
      "metadata": {
        "colab": {
          "base_uri": "https://localhost:8080/"
        },
        "id": "dg2eHvzEyFdA",
        "outputId": "435fe227-6ea7-46fe-ae6b-9abb48bda9cb"
      },
      "outputs": [
        {
          "name": "stderr",
          "output_type": "stream",
          "text": [
            "100%|██████████| 17/17 [00:01<00:00, 11.11it/s]\n"
          ]
        }
      ],
      "source": [
        "# * Convert categorical featues as `CategoricalDtype`\n",
        "cate_dict = {}        \n",
        "for feat in tqdm(cat_features):\n",
        "    if feat in data['user'].columns:\n",
        "        value_set = set(data['user'][feat].unique())\n",
        "    elif feat in data['item'].columns:\n",
        "        value_set = set(data['item'][feat].unique())\n",
        "    else:\n",
        "        value_set = set(data['inter'][feat].unique())\n",
        "    cate_dict[feat] = CategoricalDtype(categories=value_set)"
      ]
    },
    {
      "cell_type": "code",
      "execution_count": null,
      "metadata": {
        "id": "0qzr-LdgbgSB"
      },
      "outputs": [],
      "source": [
        "full_data = pd.concat([candidates[i] for i in range(1, WEEK_NUM)], ignore_index=True)"
      ]
    },
    {
      "cell_type": "markdown",
      "metadata": {
        "id": "7g3Hs0VC0U4-"
      },
      "source": [
        "### Extra Features"
      ]
    },
    {
      "cell_type": "code",
      "execution_count": null,
      "metadata": {
        "id": "3diWfJzo1tAD"
      },
      "outputs": [],
      "source": [
        "inter = data['inter']\n",
        "inter = inter[inter['t_dat']<'2020-08-19'] # * start date of the last valid week\n",
        "inter['week'] = (pd.to_datetime('2020-09-29') - pd.to_datetime(inter['t_dat'])).dt.days // 7\n",
        "inter = inter.merge(data['item'][[\"article_id\", \"product_code\"]], on=\"article_id\", how=\"left\")"
      ]
    },
    {
      "cell_type": "code",
      "execution_count": null,
      "metadata": {
        "colab": {
          "base_uri": "https://localhost:8080/"
        },
        "id": "JIlFUbHa0WLG",
        "outputId": "0d8d2b94-1874-4c2a-d635-2a3cbb5d73e1"
      },
      "outputs": [
        {
          "data": {
            "text/plain": [
              "0"
            ]
          },
          "execution_count": 30,
          "metadata": {},
          "output_type": "execute_result"
        },
        {
          "name": "stderr",
          "output_type": "stream",
          "text": [
            "  0%|          | 0/2 [00:00<?, ?it/s]"
          ]
        },
        {
          "data": {
            "text/plain": [
              "0"
            ]
          },
          "execution_count": 30,
          "metadata": {},
          "output_type": "execute_result"
        },
        {
          "name": "stderr",
          "output_type": "stream",
          "text": [
            " 50%|█████     | 1/2 [00:15<00:15, 15.11s/it]"
          ]
        },
        {
          "data": {
            "text/plain": [
              "0"
            ]
          },
          "execution_count": 30,
          "metadata": {},
          "output_type": "execute_result"
        },
        {
          "name": "stderr",
          "output_type": "stream",
          "text": [
            "100%|██████████| 2/2 [00:28<00:00, 14.34s/it]\n"
          ]
        }
      ],
      "source": [
        "tmp = inter.groupby('article_id').week.mean()\n",
        "full_data['article_time_mean'] = full_data['article_id'].map(tmp)\n",
        "\n",
        "tmp = inter.groupby('customer_id').week.nth(-1)\n",
        "full_data['customer_id_last_time'] = full_data['customer_id'].map(tmp)\n",
        "\n",
        "tmp = inter.groupby('customer_id').week.nth(0)\n",
        "full_data['customer_id_first_time'] = full_data['customer_id'].map(tmp)\n",
        "\n",
        "tmp = inter.groupby('customer_id').week.mean()\n",
        "full_data['customer_id_time_mean'] = full_data['customer_id'].map(tmp)\n",
        "\n",
        "full_data['customer_id_gap'] = full_data['customer_id_first_time'] - full_data['customer_id_last_time']\n",
        "\n",
        "tmp = inter.groupby('customer_id').size()\n",
        "full_data['customer_daily_bought'] = full_data['customer_id'].map(tmp) / full_data['customer_id_gap']\n",
        "\n",
        "tmp = inter.groupby('customer_id').price.median()\n",
        "full_data['customer_id_price_median'] = full_data['customer_id'].map(tmp)\n",
        "\n",
        "full_data['customer_article_price_gap'] = full_data['customer_id_price_median'] - full_data['price']\n",
        "\n",
        "del tmp\n",
        "gc.collect()\n",
        "\n",
        "from itertools import chain\n",
        "def dict_union(L):\n",
        "    return dict(chain.from_iterable(d.items() for d in L))\n",
        "\n",
        "dur = [52]\n",
        "for col in tqdm([\"article_id\",\"product_code\"]):\n",
        "    full_data[f'{col}_id_week'] = full_data[col].astype('str') + '_' + full_data['week'].astype('str')\n",
        "\n",
        "    for j in dur:\n",
        "        dict_list = []\n",
        "        for i in range(5):\n",
        "            tmp = inter[(inter['week']>=(1+i+1)) & (inter['week']<(1+i+2+j))]\n",
        "            \n",
        "            tmp['week'] = i+1\n",
        "            tmp = tmp.groupby(['week', col]).size().reset_index()\n",
        "            tmp.columns = ['week', col, 'count_sales']\n",
        "\n",
        "            tmp[f'{col}_id_week'] = tmp[col].astype('str') + '_'+tmp['week'].astype('str')\n",
        "\n",
        "            dict_list.append( dict(zip(tmp[f'{col}_id_week'], tmp['count_sales'])) )\n",
        "            del tmp\n",
        "\n",
        "        dict_all = dict_union(dict_list)\n",
        "        full_data[f'{col}_week_shift{j}'] = full_data[f'{col}_id_week'].map(dict_all)\n",
        "\n",
        "        del dict_all\n",
        "    gc.collect()\n",
        "\n",
        "full_data['article_id_week_1/52'] = full_data['i_sale'] / full_data[f'article_id_week_shift52']\n",
        "full_data['product_code_week_1/52'] = full_data['i_sale'] / full_data[f'product_code_week_shift52']"
      ]
    },
    {
      "cell_type": "code",
      "execution_count": null,
      "metadata": {
        "id": "RzYn-6381jS_"
      },
      "outputs": [],
      "source": [
        "feats += [\n",
        "    'article_time_mean', \n",
        "    'customer_id_last_time', \n",
        "    'customer_id_first_time', \n",
        "    'customer_id_time_mean',\n",
        "    'customer_id_gap',\n",
        "    'customer_id_price_median',\n",
        "    'customer_daily_bought',\n",
        "    'customer_article_price_gap'\n",
        "] + [f'{col}_week_shift{j}' for col in [\"article_id\",\"product_code\"] for j in dur] +\\\n",
        "['article_id_week_1/52', 'product_code_week_1/52']"
      ]
    },
    {
      "cell_type": "markdown",
      "metadata": {
        "id": "3RojtbK9GGQU"
      },
      "source": [
        "### Train\n"
      ]
    },
    {
      "cell_type": "code",
      "execution_count": null,
      "metadata": {
        "colab": {
          "base_uri": "https://localhost:8080/"
        },
        "id": "rXJJXH7cbq1-",
        "outputId": "7f455ad4-987c-4ac4-8e80-706201ced8af"
      },
      "outputs": [
        {
          "name": "stderr",
          "output_type": "stream",
          "text": [
            "100%|██████████| 17/17 [00:04<00:00,  3.85it/s]\n"
          ]
        }
      ],
      "source": [
        "for feat in tqdm(cat_features):\n",
        "    full_data[feat] = full_data[feat].astype(cate_dict[feat])"
      ]
    },
    {
      "cell_type": "code",
      "execution_count": null,
      "metadata": {
        "colab": {
          "base_uri": "https://localhost:8080/"
        },
        "id": "mLvSewBtbpIa",
        "outputId": "c62f0119-0cfb-4524-bad3-0f72992468b8"
      },
      "outputs": [
        {
          "data": {
            "text/plain": [
              "0"
            ]
          },
          "execution_count": 33,
          "metadata": {},
          "output_type": "execute_result"
        }
      ],
      "source": [
        "train = full_data.loc[full_data['week']>1]\n",
        "valid = full_data.loc[full_data['week']==1]\n",
        "\n",
        "del full_data\n",
        "gc.collect()"
      ]
    },
    {
      "cell_type": "code",
      "execution_count": null,
      "metadata": {
        "id": "nTm9bz6vR6T4"
      },
      "outputs": [],
      "source": [
        "params = {\n",
        "    \"objective\": \"binary\", #\"lambdarank\",\n",
        "    \"boosting_type\": \"gbdt\",\n",
        "    \"metric\": \"auc\", #\"map\",\n",
        "    \"max_depth\":8,\n",
        "    \"num_leaves\": 128,\n",
        "    \"learning_rate\": 0.03,\n",
        "\n",
        "    \"verbose\": -1,\n",
        "    \"eval_at\": 12,\n",
        "    # 'device':'gpu'\n",
        "}"
      ]
    },
    {
      "cell_type": "code",
      "execution_count": null,
      "metadata": {
        "id": "ZGr5CTKTyFdB"
      },
      "outputs": [],
      "source": [
        "def train_rank_model(train, valid, train_group, valid_group):\n",
        "\n",
        "    train_set = lgb.Dataset(\n",
        "        data=train[feats],\n",
        "        label=train[\"label\"],\n",
        "        group=train_group,\n",
        "        feature_name=feats,\n",
        "        categorical_feature=cat_features,\n",
        "        params=params,\n",
        "    )\n",
        "\n",
        "    valid_set = lgb.Dataset(\n",
        "        data=valid[feats],\n",
        "        label=valid[\"label\"],\n",
        "        group=valid_group,\n",
        "        feature_name=feats,\n",
        "        categorical_feature=cat_features,\n",
        "        params=params,\n",
        "    )\n",
        "\n",
        "      # Huấn luyện mô hình với callbacks bao gồm early_stopping\n",
        "    ranker = lgb.train(\n",
        "        params=params,\n",
        "        train_set=train_set,\n",
        "        num_boost_round=300,\n",
        "        valid_sets=[valid_set],\n",
        "        valid_names=[\"valid\"],\n",
        "        callbacks=[\n",
        "            lgb.early_stopping(stopping_rounds=30),  # Dừng sớm sau 30 vòng không cải thiện\n",
        "            lgb.log_evaluation(period=10),  # Log every 10 iterations\n",
        "        ],\n",
        "    )\n",
        "    ranker.save_model(\n",
        "        model_dir / f\"lgb_large_ranker.model\",\n",
        "        num_iteration=ranker.best_iteration,\n",
        "    )\n",
        "    return ranker"
      ]
    },
    {
      "cell_type": "code",
      "execution_count": null,
      "metadata": {
        "id": "i8Aae8ViyFdC"
      },
      "outputs": [],
      "source": [
        "def train_binary_model(train, valid):\n",
        "    train_set = lgb.Dataset(\n",
        "        data=train[feats],\n",
        "        label=train[\"label\"],\n",
        "        feature_name=feats,\n",
        "        categorical_feature=cat_features,\n",
        "        params=params,\n",
        "    )\n",
        "\n",
        "    valid_set = lgb.Dataset(\n",
        "        data=valid[feats],\n",
        "        label=valid[\"label\"],\n",
        "        feature_name=feats,\n",
        "        categorical_feature=cat_features,\n",
        "        params=params,\n",
        "    )\n",
        "\n",
        "   # Huấn luyện mô hình với các callbacks\n",
        "    ranker = lgb.train(\n",
        "        params=params,\n",
        "        train_set=train_set,\n",
        "        num_boost_round=300,\n",
        "        valid_sets=[valid_set],\n",
        "        valid_names=[\"valid\"],\n",
        "        callbacks=[\n",
        "            lgb.early_stopping(stopping_rounds=30),  # Dừng sớm nếu không cải thiện sau 30 vòng\n",
        "            lgb.log_evaluation(period=10),  # Log mỗi 10 vòng\n",
        "        ],\n",
        "    )\n",
        "    ranker.save_model(\n",
        "        model_dir / \"lgb_large_binary.model\",\n",
        "        num_iteration=ranker.best_iteration,\n",
        "    )\n",
        "    return ranker"
      ]
    },
    {
      "cell_type": "code",
      "execution_count": null,
      "metadata": {
        "colab": {
          "base_uri": "https://localhost:8080/"
        },
        "id": "eXCxHp4-5EZ1",
        "outputId": "557f1613-7d75-4634-dff9-130c3d9ffb00"
      },
      "outputs": [
        {
          "data": {
            "text/plain": [
              "0"
            ]
          },
          "execution_count": 37,
          "metadata": {},
          "output_type": "execute_result"
        }
      ],
      "source": [
        "del candidates\n",
        "gc.collect()"
      ]
    },
    {
      "cell_type": "code",
      "execution_count": null,
      "metadata": {
        "colab": {
          "base_uri": "https://localhost:8080/"
        },
        "id": "AG636J4Ux7uK",
        "outputId": "282e1c11-6722-4fcd-d122-9c2bb19155a0"
      },
      "outputs": [
        {
          "name": "stdout",
          "output_type": "stream",
          "text": [
            "Train positive rate: 0.0067018773363074985\n"
          ]
        }
      ],
      "source": [
        "print(\"Train positive rate:\", train.label.mean())"
      ]
    },
    {
      "cell_type": "code",
      "execution_count": null,
      "metadata": {
        "colab": {
          "base_uri": "https://localhost:8080/"
        },
        "id": "x5NETCx74VIl",
        "outputId": "f4d239ab-f00f-4ba0-8e46-4222e8422061"
      },
      "outputs": [
        {
          "name": "stdout",
          "output_type": "stream",
          "text": [
            "Train positive rate: 0.03133030412951755\n"
          ]
        }
      ],
      "source": [
        "# * Ignore customers with full negative samples\n",
        "train['customer_id'] = train['customer_id'].astype(int)\n",
        "train['week_customer_id'] = train['customer_id'].astype(str) + '_' + train['week'].astype(str)\n",
        "valid_uids = train.groupby('week_customer_id')['label'].sum().reset_index(name='sum')\n",
        "train = train[train['week_customer_id'].isin(valid_uids.loc[valid_uids['sum'] > 0, 'week_customer_id'])]\n",
        "del train['week_customer_id']\n",
        "train['customer_id'] = train['customer_id'].astype(cate_dict['customer_id'])\n",
        "print(\"Train positive rate:\", train.label.mean())"
      ]
    },
    {
      "cell_type": "code",
      "execution_count": null,
      "metadata": {
        "id": "LfSDVe7q1Jna"
      },
      "outputs": [],
      "source": [
        "train = train.sort_values(by=[\"week\", \"customer_id\"], ascending=True).reset_index(drop=True)\n",
        "valid = valid.sort_values(by=[\"customer_id\"], ascending=True).reset_index(drop=True)"
      ]
    },
    {
      "cell_type": "code",
      "execution_count": null,
      "metadata": {
        "id": "tgEup34-yOWq"
      },
      "outputs": [],
      "source": [
        "train_group = train[[\"customer_id\", \"article_id\", \"week\"]]\n",
        "train_group = train_group.astype(\"int32\")  # * convert to int to avoid `0` in groupby count result\n",
        "train_group = (train_group.groupby([\"week\", \"customer_id\"]).size().values)"
      ]
    },
    {
      "cell_type": "code",
      "execution_count": null,
      "metadata": {
        "id": "TU1-B8Dhxn3V"
      },
      "outputs": [],
      "source": [
        "valid_group = valid[[\"customer_id\", \"article_id\"]]\n",
        "valid_group = valid_group.astype(\"int32\")  # * convert to int to avoid `0` in groupby count result\n",
        "valid_group = valid_group.groupby([\"customer_id\"]).size().values"
      ]
    },
    {
      "cell_type": "code",
      "execution_count": null,
      "metadata": {
        "id": "X_UTMT-448E0"
      },
      "outputs": [],
      "source": [
        "train = train[feats+['label']]\n",
        "valid = valid[feats+['label']]"
      ]
    },
    {
      "cell_type": "code",
      "execution_count": null,
      "metadata": {
        "colab": {
          "base_uri": "https://localhost:8080/"
        },
        "id": "nPttBNSByXRZ",
        "outputId": "2b980f12-2ecb-426e-a500-365b064e0388"
      },
      "outputs": [
        {
          "data": {
            "text/plain": [
              "0"
            ]
          },
          "execution_count": 44,
          "metadata": {},
          "output_type": "execute_result"
        }
      ],
      "source": [
        "gc.collect()"
      ]
    },
    {
      "cell_type": "code",
      "execution_count": null,
      "metadata": {
        "colab": {
          "base_uri": "https://localhost:8080/"
        },
        "id": "-B4EpFjdyFdC",
        "outputId": "56c1ad0b-723c-435c-ef97-22b4a1aed431"
      },
      "outputs": [
        {
          "name": "stdout",
          "output_type": "stream",
          "text": [
            "Training until validation scores don't improve for 30 rounds\n",
            "[10]\tvalid's auc: 0.673298\n",
            "[20]\tvalid's auc: 0.675205\n",
            "[30]\tvalid's auc: 0.676053\n",
            "[40]\tvalid's auc: 0.677455\n",
            "[50]\tvalid's auc: 0.680212\n",
            "[60]\tvalid's auc: 0.681104\n",
            "[70]\tvalid's auc: 0.681467\n",
            "[80]\tvalid's auc: 0.682362\n",
            "[90]\tvalid's auc: 0.682129\n",
            "[100]\tvalid's auc: 0.682297\n",
            "[110]\tvalid's auc: 0.682297\n",
            "Early stopping, best iteration is:\n",
            "[81]\tvalid's auc: 0.682636\n"
          ]
        }
      ],
      "source": [
        "ranker = train_rank_model(train, valid, train_group, valid_group)\n",
        "# ranker = train_binary_model(train, valid)"
      ]
    },
    {
      "cell_type": "markdown",
      "metadata": {
        "id": "KbFdGrYRdtIt"
      },
      "source": [
        "### Inference"
      ]
    },
    {
      "cell_type": "code",
      "execution_count": null,
      "metadata": {
        "id": "hl3DPTaBGGQV"
      },
      "outputs": [],
      "source": [
        "# ranker = lgb.Booster(model_file=model_dir / \"lgb_large_binary.model\")\n",
        "ranker = lgb.Booster(model_file=model_dir / \"lgb_large_ranker.model\")"
      ]
    },
    {
      "cell_type": "code",
      "execution_count": null,
      "metadata": {
        "colab": {
          "base_uri": "https://localhost:8080/",
          "height": 1000
        },
        "id": "OG9AwSntGGQV",
        "outputId": "1382a486-0b87-471c-ac59-dc0597743f63"
      },
      "outputs": [
        {
          "data": {
            "text/plain": [
              "<Figure size 800x2400 with 0 Axes>"
            ]
          },
          "execution_count": 47,
          "metadata": {},
          "output_type": "execute_result"
        },
        {
          "data": {
            "text/plain": [
              "<Axes: xlabel='importance', ylabel='feature'>"
            ]
          },
          "execution_count": 47,
          "metadata": {},
          "output_type": "execute_result"
        },
        {
          "data": {
            "image/png": "[encoded data removed]",
            "text/plain": [
              "<Figure size 800x2400 with 1 Axes>"
            ]
          },
          "metadata": {},
          "output_type": "display_data"
        }
      ],
      "source": [
        "feat_importance = pd.DataFrame(\n",
        "    {\"feature\": feats, \"importance\": ranker.feature_importance()}\n",
        ").sort_values(by=\"importance\", ascending=False)\n",
        "plt.figure(figsize=(8, 24))\n",
        "sns.barplot(y=\"feature\", x=\"importance\", data=feat_importance)"
      ]
    },
    {
      "cell_type": "markdown",
      "metadata": {
        "id": "lLWs-Z5CGGQV"
      },
      "source": [
        "### Validate"
      ]
    },
    {
      "cell_type": "code",
      "execution_count": null,
      "metadata": {
        "id": "SSpgfI0mdtIv"
      },
      "outputs": [],
      "source": [
        "val_candidates = valid.reset_index(drop=True)"
      ]
    },
    {
      "cell_type": "code",
      "execution_count": null,
      "metadata": {
        "id": "w6ECeASwyFdE"
      },
      "outputs": [],
      "source": [
        "def predict(ranker, candidates, batch_size = 5_000_000):\n",
        "    probs = np.zeros(candidates.shape[0])\n",
        "    for batch in range(0, candidates.shape[0], batch_size):\n",
        "        outputs = ranker.predict(candidates.loc[batch : batch + batch_size - 1, feats])\n",
        "        probs[batch : batch + batch_size] = outputs\n",
        "    candidates[\"prob\"] = probs\n",
        "    pred_lgb = candidates[['customer_id','article_id','prob']]\n",
        "    pred_lgb = pred_lgb.sort_values(by=[\"customer_id\",\"prob\"], ascending=False).reset_index(drop=True)\n",
        "    pred_lgb.rename(columns={'article_id':'prediction'}, inplace=True)\n",
        "    pred_lgb = pred_lgb.drop_duplicates(['customer_id', 'prediction'], keep='first')\n",
        "    pred_lgb['customer_id'] = pred_lgb['customer_id'].astype(int)\n",
        "    pred_lgb = pred_lgb.groupby(\"customer_id\")[\"prediction\"].progress_apply(list).reset_index()\n",
        "    return pred_lgb"
      ]
    },
    {
      "cell_type": "code",
      "execution_count": null,
      "metadata": {
        "colab": {
          "base_uri": "https://localhost:8080/"
        },
        "id": "YSazOwtJyFdE",
        "outputId": "e6320a29-21b4-41db-dc0f-ffb7082817ba"
      },
      "outputs": [
        {
          "data": {
            "application/vnd.jupyter.widget-view+json": {
              "model_id": "042c6618bf7d4b5db992a4dd1f3734dd",
              "version_major": 2,
              "version_minor": 0
            },
            "text/plain": [
              "  0%|          | 0/68984 [00:00<?, ?it/s]"
            ]
          },
          "metadata": {},
          "output_type": "display_data"
        }
      ],
      "source": [
        "pred = predict(ranker, val_candidates)"
      ]
    },
    {
      "cell_type": "code",
      "execution_count": null,
      "metadata": {
        "id": "G1Qh3k2aGGQW"
      },
      "outputs": [],
      "source": [
        "label = labels[1]\n",
        "label = pd.merge(label, pred, on=\"customer_id\", how=\"left\")"
      ]
    },
    {
      "cell_type": "code",
      "execution_count": null,
      "metadata": {
        "colab": {
          "base_uri": "https://localhost:8080/"
        },
        "id": "XrFnQ2evGGQW",
        "outputId": "bcbdfe91-985f-493c-fe56-f3f82a9a083d"
      },
      "outputs": [
        {
          "data": {
            "text/plain": [
              "0.02901492931326081"
            ]
          },
          "execution_count": 52,
          "metadata": {},
          "output_type": "execute_result"
        }
      ],
      "source": [
        "map_at_k(label[\"article_id\"], label[\"prediction\"], k=12)\n",
        "\n",
        "# 0.030474231530210446 ranker, top50\n",
        "# 0.028997107156740753 binary, top50"
      ]
    },
    {
      "cell_type": "code",
      "execution_count": null,
      "metadata": {},
      "outputs": [
        {
          "data": {
            "text/plain": [
              "0.06478467999559323"
            ]
          },
          "execution_count": 53,
          "metadata": {},
          "output_type": "execute_result"
        }
      ],
      "source": [
        "# Recall\n",
        "recall_at_k(label[\"article_id\"], label[\"prediction\"], k=12)"
      ]
    },
    {
      "cell_type": "code",
      "execution_count": null,
      "metadata": {},
      "outputs": [
        {
          "data": {
            "text/plain": [
              "0.1310303838571263"
            ]
          },
          "execution_count": 54,
          "metadata": {},
          "output_type": "execute_result"
        }
      ],
      "source": [
        "#HitRate\n",
        "hr_at_k(label[\"article_id\"], label[\"prediction\"], k=12)"
      ]
    },
    {
      "cell_type": "code",
      "execution_count": null,
      "metadata": {
        "id": "OJ9CuJAUQBzY"
      },
      "outputs": [],
      "source": [
        "batch_size = 7_000_000\n",
        "probs = np.zeros(val_candidates.shape[0])\n",
        "for batch in range(0, val_candidates.shape[0], batch_size):\n",
        "    outputs = ranker.predict(val_candidates.loc[batch : batch + batch_size - 1, feats])\n",
        "    probs[batch : batch + batch_size] = outputs\n",
        "val_candidates[\"prob\"] = probs\n",
        "pred_lgb = val_candidates[['customer_id','article_id','prob']]\n",
        "pred_lgb = pred_lgb.sort_values(by=[\"customer_id\",\"prob\"], ascending=False).reset_index(drop=True)\n",
        "pred_lgb.rename(columns={'article_id':'prediction'}, inplace=True)\n",
        "pred_lgb = pred_lgb.drop_duplicates(['customer_id', 'prediction'], keep='first')\n",
        "pred_lgb['customer_id'] = pred_lgb['customer_id'].astype(int)"
      ]
    },
    {
      "cell_type": "code",
      "execution_count": null,
      "metadata": {
        "id": "Iwb9Pw6JQEXb"
      },
      "outputs": [],
      "source": [
        "# pred_lgb.to_parquet(data_dir/\"processed\"/\"large_binary_valid.pqt\")\n",
        "pred_lgb.to_parquet(data_dir/\"processed\"/\"large_rank_valid.pqt\")"
      ]
    },
    {
      "cell_type": "code",
      "execution_count": null,
      "metadata": {},
      "outputs": [],
      "source": [
        "pred_lgb.to_parquet(data_dir/\"processed\"/\"nn_valid.pqt\")"
      ]
    },
    {
      "cell_type": "markdown",
      "metadata": {
        "id": "iloRdv--RZKN"
      },
      "source": [
        "### Blend"
      ]
    },
    {
      "cell_type": "code",
      "execution_count": null,
      "metadata": {
        "id": "wi_sTSTdRaqV"
      },
      "outputs": [],
      "source": [
        "pred1_lgb_rank = pd.read_parquet(data_dir/\"processed\"/\"large_rank_valid.pqt\")\n",
        "pred1_lgb_binary = pd.read_parquet(data_dir/\"processed\"/\"large_binary_valid.pqt\")\n"
      ]
    },
    {
      "cell_type": "code",
      "execution_count": null,
      "metadata": {
        "id": "fmkAJixlUv4-"
      },
      "outputs": [],
      "source": [
        "pred2_lgb_rank = pd.read_parquet(data_dir/\"processed\"/\"small_rank_valid.pqt\")\n",
        "pred2_lgb_binary = pd.read_parquet(data_dir/\"processed\"/\"small_binary_valid.pqt\")\n",
        "pred2_nn = pd.read_parquet(data_dir/\"processed\"/\"nn_valid.pqt\")\n",
        "pred2_nn.rename(columns={'article_id':'prediction'},inplace=True)"
      ]
    },
    {
      "cell_type": "code",
      "execution_count": null,
      "metadata": {
        "id": "EwgnDCGyVcyZ"
      },
      "outputs": [],
      "source": [
        "pred2_lgb_binary = pred2_lgb_binary.merge(pred2_nn, on=['customer_id','prediction'], how='left')\n",
        "pred2_lgb_binary['prob'] = pred2_lgb_binary['prob_x'] + pred2_lgb_binary['prob_y']"
      ]
    },
    {
      "cell_type": "code",
      "execution_count": null,
      "metadata": {
        "id": "1WNVoMLrRwr0"
      },
      "outputs": [],
      "source": [
        "pred1_lgb_rank   = pred1_lgb_rank.sort_values(by='prob', ascending=False).reset_index(drop=True)\n",
        "pred1_lgb_binary = pred1_lgb_binary.sort_values(by='prob', ascending=False).reset_index(drop=True)\n",
        "pred2_lgb_rank   = pred2_lgb_rank.sort_values(by='prob', ascending=False).reset_index(drop=True)\n",
        "pred2_lgb_binary = pred2_lgb_binary.sort_values(by='prob', ascending=False).reset_index(drop=True)"
      ]
    },
    {
      "cell_type": "code",
      "execution_count": null,
      "metadata": {
        "id": "2I_hnXKTRpUx"
      },
      "outputs": [],
      "source": [
        "pred1_lgb_rank   = pred1_lgb_rank.groupby('customer_id')['prediction'].apply(list).reset_index()\n",
        "pred1_lgb_binary = pred1_lgb_binary.groupby('customer_id')['prediction'].apply(list).reset_index()\n",
        "pred2_lgb_rank   = pred2_lgb_rank.groupby('customer_id')['prediction'].apply(list).reset_index()\n",
        "pred2_lgb_binary = pred2_lgb_binary.groupby('customer_id')['prediction'].apply(list).reset_index()"
      ]
    },
    {
      "cell_type": "code",
      "execution_count": null,
      "metadata": {
        "id": "xR4WLDA8R72s"
      },
      "outputs": [],
      "source": [
        "pred1_lgb_rank.rename(columns={'prediction':'large_rank'},inplace=True)\n",
        "pred1_lgb_binary.rename(columns={'prediction':'large_binary'},inplace=True)\n",
        "pred2_lgb_rank.rename(columns={'prediction':'small_rank'},inplace=True)\n",
        "pred2_lgb_binary.rename(columns={'prediction':'small_binary'},inplace=True)"
      ]
    },
    {
      "cell_type": "code",
      "execution_count": null,
      "metadata": {
        "id": "1UmeQHDZk-kw"
      },
      "outputs": [],
      "source": [
        "pred = pred1_lgb_rank.merge(pred1_lgb_binary, on=['customer_id'])\\\n",
        "                    .merge(pred2_lgb_rank, on=['customer_id'])\\\n",
        "                    .merge(pred2_lgb_binary, on=['customer_id'])"
      ]
    },
    {
      "cell_type": "code",
      "execution_count": null,
      "metadata": {
        "id": "Noz_a8LnShN8"
      },
      "outputs": [],
      "source": [
        "def cust_blend(dt, W = [1,1,1,1]):\n",
        "    #Create a list of all model predictions\n",
        "    REC = []\n",
        "\n",
        "    # Second Try\n",
        "    REC.append(dt['large_rank'])\n",
        "    REC.append(dt['large_binary'])\n",
        "    REC.append(dt['small_rank'])\n",
        "    REC.append(dt['small_binary'])\n",
        "\n",
        "    #Create a dictionary of items recommended.\n",
        "    #Assign a weight according the order of appearance and multiply by global weights\n",
        "    res = {}\n",
        "    for M in range(len(REC)):\n",
        "        for n, v in enumerate(REC[M]):\n",
        "            if v in res:\n",
        "                res[v] += (W[M]/(n+1))\n",
        "            else:\n",
        "                res[v] = (W[M]/(n+1))\n",
        "\n",
        "    # Sort dictionary by item weights\n",
        "    res = list(dict(sorted(res.items(), key=lambda item: -item[1])).keys())\n",
        "\n",
        "    # Return the top 12 items only\n",
        "    return res"
      ]
    },
    {
      "cell_type": "code",
      "execution_count": null,
      "metadata": {
        "colab": {
          "base_uri": "https://localhost:8080/"
        },
        "id": "MDFqOjHAStR1",
        "outputId": "4ff9eb57-5224-4eab-cb49-14e95969378c"
      },
      "outputs": [
        {
          "data": {
            "application/vnd.jupyter.widget-view+json": {
              "model_id": "f19945c63f7c4bd68854cb20af034bf8",
              "version_major": 2,
              "version_minor": 0
            },
            "text/plain": [
              "  0%|          | 0/68984 [00:00<?, ?it/s]"
            ]
          },
          "metadata": {},
          "output_type": "display_data"
        }
      ],
      "source": [
        "pred['prediction'] = pred.progress_apply(cust_blend, W = [1.0, 1.0, 1.0, 1.0], axis=1)"
      ]
    },
    {
      "cell_type": "code",
      "execution_count": null,
      "metadata": {
        "id": "syhsluxOTCRj"
      },
      "outputs": [],
      "source": [
        "label = labels[1]\n",
        "label = pd.merge(label, pred, on=\"customer_id\", how=\"left\")"
      ]
    },
    {
      "cell_type": "code",
      "execution_count": null,
      "metadata": {
        "colab": {
          "base_uri": "https://localhost:8080/"
        },
        "id": "l2uU9IojTO8p",
        "outputId": "6e0dbc82-2181-4472-ed54-f9a4ed8257de"
      },
      "outputs": [
        {
          "data": {
            "text/plain": [
              "0.02918998808346185"
            ]
          },
          "execution_count": 68,
          "metadata": {},
          "output_type": "execute_result"
        }
      ],
      "source": [
        "map_at_k(label[\"article_id\"], label[\"prediction\"], k=12)\n"
      ]
    },
    {
      "cell_type": "code",
      "execution_count": null,
      "metadata": {},
      "outputs": [
        {
          "data": {
            "text/plain": [
              "0.06535349561717374"
            ]
          },
          "execution_count": 69,
          "metadata": {},
          "output_type": "execute_result"
        }
      ],
      "source": [
        "# Recall\n",
        "recall_at_k(label[\"article_id\"], label[\"prediction\"], k=12)"
      ]
    },
    {
      "cell_type": "code",
      "execution_count": null,
      "metadata": {},
      "outputs": [
        {
          "data": {
            "text/plain": [
              "0.13204511191000812"
            ]
          },
          "execution_count": 70,
          "metadata": {},
          "output_type": "execute_result"
        }
      ],
      "source": [
        "#HitRate\n",
        "hr_at_k(label[\"article_id\"], label[\"prediction\"], k=12)"
      ]
    },
    {
      "cell_type": "markdown",
      "metadata": {
        "id": "OPdhQ_0RyFdF"
      },
      "source": [
        "### Test"
      ]
    },
    {
      "cell_type": "code",
      "execution_count": null,
      "metadata": {
        "colab": {
          "base_uri": "https://localhost:8080/"
        },
        "id": "5H_mZ1xWXrve",
        "outputId": "a99a9d4b-23c7-4013-8bad-07cf0679554c"
      },
      "outputs": [
        {
          "name": "stdout",
          "output_type": "stream",
          "text": [
            "Processing week0_candidate_0.pqt\n",
            "Warning: 'rank' column not found in week0_candidate_0.pqt\n",
            "No suitable score column found. Skipping rank filtering.\n"
          ]
        },
        {
          "data": {
            "text/plain": [
              "18"
            ]
          },
          "execution_count": 71,
          "metadata": {},
          "output_type": "execute_result"
        },
        {
          "name": "stderr",
          "output_type": "stream",
          "text": [
            "Creating time-shifted features:   0%|          | 0/2 [00:00<?, ?it/s]"
          ]
        },
        {
          "data": {
            "text/plain": [
              "0"
            ]
          },
          "execution_count": 71,
          "metadata": {},
          "output_type": "execute_result"
        },
        {
          "name": "stderr",
          "output_type": "stream",
          "text": [
            "Creating time-shifted features:  50%|█████     | 1/2 [00:24<00:24, 24.81s/it]"
          ]
        },
        {
          "data": {
            "text/plain": [
              "0"
            ]
          },
          "execution_count": 71,
          "metadata": {},
          "output_type": "execute_result"
        },
        {
          "name": "stderr",
          "output_type": "stream",
          "text": [
            "Creating time-shifted features: 100%|██████████| 2/2 [00:46<00:00, 23.32s/it]\n",
            "Making predictions: 100%|██████████| 6/6 [01:06<00:00, 11.13s/it]\n"
          ]
        },
        {
          "data": {
            "text/plain": [
              "4"
            ]
          },
          "execution_count": 71,
          "metadata": {},
          "output_type": "execute_result"
        },
        {
          "name": "stdout",
          "output_type": "stream",
          "text": [
            "Processing week0_candidate_0_0.pqt\n"
          ]
        },
        {
          "data": {
            "text/plain": [
              "0"
            ]
          },
          "execution_count": 71,
          "metadata": {},
          "output_type": "execute_result"
        },
        {
          "name": "stderr",
          "output_type": "stream",
          "text": [
            "Creating time-shifted features:   0%|          | 0/2 [00:00<?, ?it/s]"
          ]
        },
        {
          "data": {
            "text/plain": [
              "0"
            ]
          },
          "execution_count": 71,
          "metadata": {},
          "output_type": "execute_result"
        },
        {
          "name": "stderr",
          "output_type": "stream",
          "text": [
            "Creating time-shifted features:  50%|█████     | 1/2 [00:19<00:19, 19.39s/it]"
          ]
        },
        {
          "data": {
            "text/plain": [
              "0"
            ]
          },
          "execution_count": 71,
          "metadata": {},
          "output_type": "execute_result"
        },
        {
          "name": "stderr",
          "output_type": "stream",
          "text": [
            "Creating time-shifted features: 100%|██████████| 2/2 [00:36<00:00, 18.45s/it]\n"
          ]
        },
        {
          "name": "stdout",
          "output_type": "stream",
          "text": [
            "Warning: 11 features missing in test data. Setting to 0.\n"
          ]
        },
        {
          "name": "stderr",
          "output_type": "stream",
          "text": [
            "Making predictions: 100%|██████████| 5/5 [00:50<00:00, 10.11s/it]\n"
          ]
        },
        {
          "data": {
            "text/plain": [
              "4"
            ]
          },
          "execution_count": 71,
          "metadata": {},
          "output_type": "execute_result"
        },
        {
          "name": "stdout",
          "output_type": "stream",
          "text": [
            "Processing week0_candidate_0_1.pqt\n"
          ]
        },
        {
          "data": {
            "text/plain": [
              "0"
            ]
          },
          "execution_count": 71,
          "metadata": {},
          "output_type": "execute_result"
        },
        {
          "name": "stderr",
          "output_type": "stream",
          "text": [
            "Creating time-shifted features:   0%|          | 0/2 [00:00<?, ?it/s]"
          ]
        },
        {
          "data": {
            "text/plain": [
              "0"
            ]
          },
          "execution_count": 71,
          "metadata": {},
          "output_type": "execute_result"
        },
        {
          "name": "stderr",
          "output_type": "stream",
          "text": [
            "Creating time-shifted features:  50%|█████     | 1/2 [00:19<00:19, 19.67s/it]"
          ]
        },
        {
          "data": {
            "text/plain": [
              "0"
            ]
          },
          "execution_count": 71,
          "metadata": {},
          "output_type": "execute_result"
        },
        {
          "name": "stderr",
          "output_type": "stream",
          "text": [
            "Creating time-shifted features: 100%|██████████| 2/2 [00:36<00:00, 18.47s/it]\n"
          ]
        },
        {
          "name": "stdout",
          "output_type": "stream",
          "text": [
            "Warning: 11 features missing in test data. Setting to 0.\n"
          ]
        },
        {
          "name": "stderr",
          "output_type": "stream",
          "text": [
            "Making predictions: 100%|██████████| 5/5 [00:45<00:00,  9.02s/it]\n"
          ]
        },
        {
          "data": {
            "text/plain": [
              "4"
            ]
          },
          "execution_count": 71,
          "metadata": {},
          "output_type": "execute_result"
        },
        {
          "name": "stdout",
          "output_type": "stream",
          "text": [
            "Processing week0_candidate_0_2.pqt\n"
          ]
        },
        {
          "data": {
            "text/plain": [
              "0"
            ]
          },
          "execution_count": 71,
          "metadata": {},
          "output_type": "execute_result"
        },
        {
          "name": "stderr",
          "output_type": "stream",
          "text": [
            "Creating time-shifted features:   0%|          | 0/2 [00:00<?, ?it/s]"
          ]
        },
        {
          "data": {
            "text/plain": [
              "0"
            ]
          },
          "execution_count": 71,
          "metadata": {},
          "output_type": "execute_result"
        },
        {
          "name": "stderr",
          "output_type": "stream",
          "text": [
            "Creating time-shifted features:  50%|█████     | 1/2 [00:07<00:07,  7.77s/it]"
          ]
        },
        {
          "data": {
            "text/plain": [
              "0"
            ]
          },
          "execution_count": 71,
          "metadata": {},
          "output_type": "execute_result"
        },
        {
          "name": "stderr",
          "output_type": "stream",
          "text": [
            "Creating time-shifted features: 100%|██████████| 2/2 [00:12<00:00,  6.26s/it]\n"
          ]
        },
        {
          "name": "stdout",
          "output_type": "stream",
          "text": [
            "Warning: 11 features missing in test data. Setting to 0.\n"
          ]
        },
        {
          "name": "stderr",
          "output_type": "stream",
          "text": [
            "Making predictions: 100%|██████████| 1/1 [00:00<00:00, 10.04it/s]\n"
          ]
        },
        {
          "data": {
            "text/plain": [
              "4"
            ]
          },
          "execution_count": 71,
          "metadata": {},
          "output_type": "execute_result"
        },
        {
          "name": "stdout",
          "output_type": "stream",
          "text": [
            "Processing week0_candidate_1.pqt\n",
            "Warning: 'rank' column not found in week0_candidate_1.pqt\n",
            "No suitable score column found. Skipping rank filtering.\n"
          ]
        },
        {
          "data": {
            "text/plain": [
              "0"
            ]
          },
          "execution_count": 71,
          "metadata": {},
          "output_type": "execute_result"
        },
        {
          "name": "stderr",
          "output_type": "stream",
          "text": [
            "Creating time-shifted features:   0%|          | 0/2 [00:00<?, ?it/s]"
          ]
        },
        {
          "data": {
            "text/plain": [
              "0"
            ]
          },
          "execution_count": 71,
          "metadata": {},
          "output_type": "execute_result"
        },
        {
          "name": "stderr",
          "output_type": "stream",
          "text": [
            "Creating time-shifted features:  50%|█████     | 1/2 [00:23<00:23, 23.33s/it]"
          ]
        },
        {
          "data": {
            "text/plain": [
              "0"
            ]
          },
          "execution_count": 71,
          "metadata": {},
          "output_type": "execute_result"
        },
        {
          "name": "stderr",
          "output_type": "stream",
          "text": [
            "Creating time-shifted features: 100%|██████████| 2/2 [00:44<00:00, 22.27s/it]\n",
            "Making predictions: 100%|██████████| 6/6 [01:01<00:00, 10.25s/it]\n"
          ]
        },
        {
          "data": {
            "text/plain": [
              "4"
            ]
          },
          "execution_count": 71,
          "metadata": {},
          "output_type": "execute_result"
        },
        {
          "name": "stdout",
          "output_type": "stream",
          "text": [
            "Processing week0_candidate_10_0.pqt\n"
          ]
        },
        {
          "data": {
            "text/plain": [
              "0"
            ]
          },
          "execution_count": 71,
          "metadata": {},
          "output_type": "execute_result"
        },
        {
          "name": "stderr",
          "output_type": "stream",
          "text": [
            "Creating time-shifted features:   0%|          | 0/2 [00:00<?, ?it/s]"
          ]
        },
        {
          "data": {
            "text/plain": [
              "0"
            ]
          },
          "execution_count": 71,
          "metadata": {},
          "output_type": "execute_result"
        },
        {
          "name": "stderr",
          "output_type": "stream",
          "text": [
            "Creating time-shifted features:  50%|█████     | 1/2 [00:14<00:14, 14.51s/it]"
          ]
        },
        {
          "data": {
            "text/plain": [
              "0"
            ]
          },
          "execution_count": 71,
          "metadata": {},
          "output_type": "execute_result"
        },
        {
          "name": "stderr",
          "output_type": "stream",
          "text": [
            "Creating time-shifted features: 100%|██████████| 2/2 [00:26<00:00, 13.03s/it]\n"
          ]
        },
        {
          "name": "stdout",
          "output_type": "stream",
          "text": [
            "Warning: 16 features missing in test data. Setting to 0.\n"
          ]
        },
        {
          "name": "stderr",
          "output_type": "stream",
          "text": [
            "Making predictions: 100%|██████████| 3/3 [00:22<00:00,  7.42s/it]\n"
          ]
        },
        {
          "data": {
            "text/plain": [
              "4"
            ]
          },
          "execution_count": 71,
          "metadata": {},
          "output_type": "execute_result"
        },
        {
          "name": "stdout",
          "output_type": "stream",
          "text": [
            "Processing week0_candidate_10_1.pqt\n"
          ]
        },
        {
          "data": {
            "text/plain": [
              "0"
            ]
          },
          "execution_count": 71,
          "metadata": {},
          "output_type": "execute_result"
        },
        {
          "name": "stderr",
          "output_type": "stream",
          "text": [
            "Creating time-shifted features:   0%|          | 0/2 [00:00<?, ?it/s]"
          ]
        },
        {
          "data": {
            "text/plain": [
              "0"
            ]
          },
          "execution_count": 71,
          "metadata": {},
          "output_type": "execute_result"
        },
        {
          "name": "stderr",
          "output_type": "stream",
          "text": [
            "Creating time-shifted features:  50%|█████     | 1/2 [00:14<00:14, 14.47s/it]"
          ]
        },
        {
          "data": {
            "text/plain": [
              "0"
            ]
          },
          "execution_count": 71,
          "metadata": {},
          "output_type": "execute_result"
        },
        {
          "name": "stderr",
          "output_type": "stream",
          "text": [
            "Creating time-shifted features: 100%|██████████| 2/2 [00:25<00:00, 12.93s/it]\n"
          ]
        },
        {
          "name": "stdout",
          "output_type": "stream",
          "text": [
            "Warning: 16 features missing in test data. Setting to 0.\n"
          ]
        },
        {
          "name": "stderr",
          "output_type": "stream",
          "text": [
            "Making predictions: 100%|██████████| 3/3 [00:22<00:00,  7.46s/it]\n"
          ]
        },
        {
          "data": {
            "text/plain": [
              "4"
            ]
          },
          "execution_count": 71,
          "metadata": {},
          "output_type": "execute_result"
        },
        {
          "name": "stdout",
          "output_type": "stream",
          "text": [
            "Processing week0_candidate_10_2.pqt\n"
          ]
        },
        {
          "data": {
            "text/plain": [
              "0"
            ]
          },
          "execution_count": 71,
          "metadata": {},
          "output_type": "execute_result"
        },
        {
          "name": "stderr",
          "output_type": "stream",
          "text": [
            "Creating time-shifted features:   0%|          | 0/2 [00:00<?, ?it/s]"
          ]
        },
        {
          "data": {
            "text/plain": [
              "0"
            ]
          },
          "execution_count": 71,
          "metadata": {},
          "output_type": "execute_result"
        },
        {
          "name": "stderr",
          "output_type": "stream",
          "text": [
            "Creating time-shifted features:  50%|█████     | 1/2 [00:06<00:06,  6.58s/it]"
          ]
        },
        {
          "data": {
            "text/plain": [
              "0"
            ]
          },
          "execution_count": 71,
          "metadata": {},
          "output_type": "execute_result"
        },
        {
          "name": "stderr",
          "output_type": "stream",
          "text": [
            "Creating time-shifted features: 100%|██████████| 2/2 [00:11<00:00,  5.65s/it]\n"
          ]
        },
        {
          "name": "stdout",
          "output_type": "stream",
          "text": [
            "Warning: 16 features missing in test data. Setting to 0.\n"
          ]
        },
        {
          "name": "stderr",
          "output_type": "stream",
          "text": [
            "Making predictions: 100%|██████████| 1/1 [00:00<00:00,  9.76it/s]\n"
          ]
        },
        {
          "data": {
            "text/plain": [
              "4"
            ]
          },
          "execution_count": 71,
          "metadata": {},
          "output_type": "execute_result"
        },
        {
          "name": "stdout",
          "output_type": "stream",
          "text": [
            "Processing week0_candidate_11_0.pqt\n"
          ]
        },
        {
          "data": {
            "text/plain": [
              "0"
            ]
          },
          "execution_count": 71,
          "metadata": {},
          "output_type": "execute_result"
        },
        {
          "name": "stderr",
          "output_type": "stream",
          "text": [
            "Creating time-shifted features:   0%|          | 0/2 [00:00<?, ?it/s]"
          ]
        },
        {
          "data": {
            "text/plain": [
              "0"
            ]
          },
          "execution_count": 71,
          "metadata": {},
          "output_type": "execute_result"
        },
        {
          "name": "stderr",
          "output_type": "stream",
          "text": [
            "Creating time-shifted features:  50%|█████     | 1/2 [00:13<00:13, 13.35s/it]"
          ]
        },
        {
          "data": {
            "text/plain": [
              "0"
            ]
          },
          "execution_count": 71,
          "metadata": {},
          "output_type": "execute_result"
        },
        {
          "name": "stderr",
          "output_type": "stream",
          "text": [
            "Creating time-shifted features: 100%|██████████| 2/2 [00:24<00:00, 12.42s/it]\n"
          ]
        },
        {
          "name": "stdout",
          "output_type": "stream",
          "text": [
            "Warning: 16 features missing in test data. Setting to 0.\n"
          ]
        },
        {
          "name": "stderr",
          "output_type": "stream",
          "text": [
            "Making predictions: 100%|██████████| 3/3 [00:21<00:00,  7.23s/it]\n"
          ]
        },
        {
          "data": {
            "text/plain": [
              "4"
            ]
          },
          "execution_count": 71,
          "metadata": {},
          "output_type": "execute_result"
        },
        {
          "name": "stdout",
          "output_type": "stream",
          "text": [
            "Processing week0_candidate_11_1.pqt\n"
          ]
        },
        {
          "data": {
            "text/plain": [
              "0"
            ]
          },
          "execution_count": 71,
          "metadata": {},
          "output_type": "execute_result"
        },
        {
          "name": "stderr",
          "output_type": "stream",
          "text": [
            "Creating time-shifted features:   0%|          | 0/2 [00:00<?, ?it/s]"
          ]
        },
        {
          "data": {
            "text/plain": [
              "0"
            ]
          },
          "execution_count": 71,
          "metadata": {},
          "output_type": "execute_result"
        },
        {
          "name": "stderr",
          "output_type": "stream",
          "text": [
            "Creating time-shifted features:  50%|█████     | 1/2 [00:13<00:13, 13.25s/it]"
          ]
        },
        {
          "data": {
            "text/plain": [
              "0"
            ]
          },
          "execution_count": 71,
          "metadata": {},
          "output_type": "execute_result"
        },
        {
          "name": "stderr",
          "output_type": "stream",
          "text": [
            "Creating time-shifted features: 100%|██████████| 2/2 [00:24<00:00, 12.36s/it]\n"
          ]
        },
        {
          "name": "stdout",
          "output_type": "stream",
          "text": [
            "Warning: 16 features missing in test data. Setting to 0.\n"
          ]
        },
        {
          "name": "stderr",
          "output_type": "stream",
          "text": [
            "Making predictions: 100%|██████████| 3/3 [00:21<00:00,  7.12s/it]\n"
          ]
        },
        {
          "data": {
            "text/plain": [
              "4"
            ]
          },
          "execution_count": 71,
          "metadata": {},
          "output_type": "execute_result"
        },
        {
          "name": "stdout",
          "output_type": "stream",
          "text": [
            "Processing week0_candidate_11_2.pqt\n"
          ]
        },
        {
          "data": {
            "text/plain": [
              "0"
            ]
          },
          "execution_count": 71,
          "metadata": {},
          "output_type": "execute_result"
        },
        {
          "name": "stderr",
          "output_type": "stream",
          "text": [
            "Creating time-shifted features:   0%|          | 0/2 [00:00<?, ?it/s]"
          ]
        },
        {
          "data": {
            "text/plain": [
              "0"
            ]
          },
          "execution_count": 71,
          "metadata": {},
          "output_type": "execute_result"
        },
        {
          "name": "stderr",
          "output_type": "stream",
          "text": [
            "Creating time-shifted features:  50%|█████     | 1/2 [00:06<00:06,  6.59s/it]"
          ]
        },
        {
          "data": {
            "text/plain": [
              "0"
            ]
          },
          "execution_count": 71,
          "metadata": {},
          "output_type": "execute_result"
        },
        {
          "name": "stderr",
          "output_type": "stream",
          "text": [
            "Creating time-shifted features: 100%|██████████| 2/2 [00:11<00:00,  5.65s/it]\n"
          ]
        },
        {
          "name": "stdout",
          "output_type": "stream",
          "text": [
            "Warning: 16 features missing in test data. Setting to 0.\n"
          ]
        },
        {
          "name": "stderr",
          "output_type": "stream",
          "text": [
            "Making predictions: 100%|██████████| 1/1 [00:00<00:00,  9.66it/s]\n"
          ]
        },
        {
          "data": {
            "text/plain": [
              "4"
            ]
          },
          "execution_count": 71,
          "metadata": {},
          "output_type": "execute_result"
        },
        {
          "name": "stdout",
          "output_type": "stream",
          "text": [
            "Processing week0_candidate_12_0.pqt\n"
          ]
        },
        {
          "data": {
            "text/plain": [
              "0"
            ]
          },
          "execution_count": 71,
          "metadata": {},
          "output_type": "execute_result"
        },
        {
          "name": "stderr",
          "output_type": "stream",
          "text": [
            "Creating time-shifted features:   0%|          | 0/2 [00:00<?, ?it/s]"
          ]
        },
        {
          "data": {
            "text/plain": [
              "0"
            ]
          },
          "execution_count": 71,
          "metadata": {},
          "output_type": "execute_result"
        },
        {
          "name": "stderr",
          "output_type": "stream",
          "text": [
            "Creating time-shifted features:  50%|█████     | 1/2 [00:13<00:13, 13.32s/it]"
          ]
        },
        {
          "data": {
            "text/plain": [
              "0"
            ]
          },
          "execution_count": 71,
          "metadata": {},
          "output_type": "execute_result"
        },
        {
          "name": "stderr",
          "output_type": "stream",
          "text": [
            "Creating time-shifted features: 100%|██████████| 2/2 [00:24<00:00, 12.47s/it]\n"
          ]
        },
        {
          "name": "stdout",
          "output_type": "stream",
          "text": [
            "Warning: 16 features missing in test data. Setting to 0.\n"
          ]
        },
        {
          "name": "stderr",
          "output_type": "stream",
          "text": [
            "Making predictions: 100%|██████████| 3/3 [00:22<00:00,  7.37s/it]\n"
          ]
        },
        {
          "data": {
            "text/plain": [
              "4"
            ]
          },
          "execution_count": 71,
          "metadata": {},
          "output_type": "execute_result"
        },
        {
          "name": "stdout",
          "output_type": "stream",
          "text": [
            "Processing week0_candidate_12_1.pqt\n"
          ]
        },
        {
          "data": {
            "text/plain": [
              "0"
            ]
          },
          "execution_count": 71,
          "metadata": {},
          "output_type": "execute_result"
        },
        {
          "name": "stderr",
          "output_type": "stream",
          "text": [
            "Creating time-shifted features:   0%|          | 0/2 [00:00<?, ?it/s]"
          ]
        },
        {
          "data": {
            "text/plain": [
              "0"
            ]
          },
          "execution_count": 71,
          "metadata": {},
          "output_type": "execute_result"
        },
        {
          "name": "stderr",
          "output_type": "stream",
          "text": [
            "Creating time-shifted features:  50%|█████     | 1/2 [00:13<00:13, 13.79s/it]"
          ]
        },
        {
          "data": {
            "text/plain": [
              "0"
            ]
          },
          "execution_count": 71,
          "metadata": {},
          "output_type": "execute_result"
        },
        {
          "name": "stderr",
          "output_type": "stream",
          "text": [
            "Creating time-shifted features: 100%|██████████| 2/2 [00:25<00:00, 12.69s/it]\n"
          ]
        },
        {
          "name": "stdout",
          "output_type": "stream",
          "text": [
            "Warning: 16 features missing in test data. Setting to 0.\n"
          ]
        },
        {
          "name": "stderr",
          "output_type": "stream",
          "text": [
            "Making predictions: 100%|██████████| 3/3 [00:21<00:00,  7.25s/it]\n"
          ]
        },
        {
          "data": {
            "text/plain": [
              "4"
            ]
          },
          "execution_count": 71,
          "metadata": {},
          "output_type": "execute_result"
        },
        {
          "name": "stdout",
          "output_type": "stream",
          "text": [
            "Processing week0_candidate_12_2.pqt\n"
          ]
        },
        {
          "data": {
            "text/plain": [
              "0"
            ]
          },
          "execution_count": 71,
          "metadata": {},
          "output_type": "execute_result"
        },
        {
          "name": "stderr",
          "output_type": "stream",
          "text": [
            "Creating time-shifted features:   0%|          | 0/2 [00:00<?, ?it/s]"
          ]
        },
        {
          "data": {
            "text/plain": [
              "0"
            ]
          },
          "execution_count": 71,
          "metadata": {},
          "output_type": "execute_result"
        },
        {
          "name": "stderr",
          "output_type": "stream",
          "text": [
            "Creating time-shifted features:  50%|█████     | 1/2 [00:06<00:06,  6.67s/it]"
          ]
        },
        {
          "data": {
            "text/plain": [
              "0"
            ]
          },
          "execution_count": 71,
          "metadata": {},
          "output_type": "execute_result"
        },
        {
          "name": "stderr",
          "output_type": "stream",
          "text": [
            "Creating time-shifted features: 100%|██████████| 2/2 [00:11<00:00,  5.72s/it]\n"
          ]
        },
        {
          "name": "stdout",
          "output_type": "stream",
          "text": [
            "Warning: 16 features missing in test data. Setting to 0.\n"
          ]
        },
        {
          "name": "stderr",
          "output_type": "stream",
          "text": [
            "Making predictions: 100%|██████████| 1/1 [00:00<00:00,  9.92it/s]\n"
          ]
        },
        {
          "data": {
            "text/plain": [
              "4"
            ]
          },
          "execution_count": 71,
          "metadata": {},
          "output_type": "execute_result"
        },
        {
          "name": "stdout",
          "output_type": "stream",
          "text": [
            "Processing week0_candidate_13_0.pqt\n"
          ]
        },
        {
          "data": {
            "text/plain": [
              "0"
            ]
          },
          "execution_count": 71,
          "metadata": {},
          "output_type": "execute_result"
        },
        {
          "name": "stderr",
          "output_type": "stream",
          "text": [
            "Creating time-shifted features:   0%|          | 0/2 [00:00<?, ?it/s]"
          ]
        },
        {
          "data": {
            "text/plain": [
              "0"
            ]
          },
          "execution_count": 71,
          "metadata": {},
          "output_type": "execute_result"
        },
        {
          "name": "stderr",
          "output_type": "stream",
          "text": [
            "Creating time-shifted features:  50%|█████     | 1/2 [00:13<00:13, 13.33s/it]"
          ]
        },
        {
          "data": {
            "text/plain": [
              "0"
            ]
          },
          "execution_count": 71,
          "metadata": {},
          "output_type": "execute_result"
        },
        {
          "name": "stderr",
          "output_type": "stream",
          "text": [
            "Creating time-shifted features: 100%|██████████| 2/2 [00:24<00:00, 12.42s/it]\n"
          ]
        },
        {
          "name": "stdout",
          "output_type": "stream",
          "text": [
            "Warning: 16 features missing in test data. Setting to 0.\n"
          ]
        },
        {
          "name": "stderr",
          "output_type": "stream",
          "text": [
            "Making predictions: 100%|██████████| 3/3 [00:21<00:00,  7.05s/it]\n"
          ]
        },
        {
          "data": {
            "text/plain": [
              "4"
            ]
          },
          "execution_count": 71,
          "metadata": {},
          "output_type": "execute_result"
        },
        {
          "name": "stdout",
          "output_type": "stream",
          "text": [
            "Processing week0_candidate_1_0.pqt\n"
          ]
        },
        {
          "data": {
            "text/plain": [
              "0"
            ]
          },
          "execution_count": 71,
          "metadata": {},
          "output_type": "execute_result"
        },
        {
          "name": "stderr",
          "output_type": "stream",
          "text": [
            "Creating time-shifted features:   0%|          | 0/2 [00:00<?, ?it/s]"
          ]
        },
        {
          "data": {
            "text/plain": [
              "0"
            ]
          },
          "execution_count": 71,
          "metadata": {},
          "output_type": "execute_result"
        },
        {
          "name": "stderr",
          "output_type": "stream",
          "text": [
            "Creating time-shifted features:  50%|█████     | 1/2 [00:19<00:19, 19.56s/it]"
          ]
        },
        {
          "data": {
            "text/plain": [
              "0"
            ]
          },
          "execution_count": 71,
          "metadata": {},
          "output_type": "execute_result"
        },
        {
          "name": "stderr",
          "output_type": "stream",
          "text": [
            "Creating time-shifted features: 100%|██████████| 2/2 [17:54<00:00, 537.14s/it]\n"
          ]
        },
        {
          "name": "stdout",
          "output_type": "stream",
          "text": [
            "Warning: 11 features missing in test data. Setting to 0.\n"
          ]
        },
        {
          "name": "stderr",
          "output_type": "stream",
          "text": [
            "Making predictions: 100%|██████████| 5/5 [17:36<00:00, 211.32s/it]\n"
          ]
        },
        {
          "data": {
            "text/plain": [
              "4"
            ]
          },
          "execution_count": 71,
          "metadata": {},
          "output_type": "execute_result"
        },
        {
          "name": "stdout",
          "output_type": "stream",
          "text": [
            "Processing week0_candidate_1_1.pqt\n"
          ]
        },
        {
          "data": {
            "text/plain": [
              "0"
            ]
          },
          "execution_count": 71,
          "metadata": {},
          "output_type": "execute_result"
        },
        {
          "name": "stderr",
          "output_type": "stream",
          "text": [
            "Creating time-shifted features:   0%|          | 0/2 [00:00<?, ?it/s]"
          ]
        },
        {
          "data": {
            "text/plain": [
              "0"
            ]
          },
          "execution_count": 71,
          "metadata": {},
          "output_type": "execute_result"
        },
        {
          "name": "stderr",
          "output_type": "stream",
          "text": [
            "Creating time-shifted features:  50%|█████     | 1/2 [00:19<00:19, 19.45s/it]"
          ]
        },
        {
          "data": {
            "text/plain": [
              "0"
            ]
          },
          "execution_count": 71,
          "metadata": {},
          "output_type": "execute_result"
        },
        {
          "name": "stderr",
          "output_type": "stream",
          "text": [
            "Creating time-shifted features: 100%|██████████| 2/2 [00:35<00:00, 17.98s/it]\n"
          ]
        },
        {
          "name": "stdout",
          "output_type": "stream",
          "text": [
            "Warning: 11 features missing in test data. Setting to 0.\n"
          ]
        },
        {
          "name": "stderr",
          "output_type": "stream",
          "text": [
            "Making predictions: 100%|██████████| 5/5 [17:42<00:00, 212.56s/it]\n"
          ]
        },
        {
          "data": {
            "text/plain": [
              "4"
            ]
          },
          "execution_count": 71,
          "metadata": {},
          "output_type": "execute_result"
        },
        {
          "name": "stdout",
          "output_type": "stream",
          "text": [
            "Processing week0_candidate_1_2.pqt\n"
          ]
        },
        {
          "data": {
            "text/plain": [
              "0"
            ]
          },
          "execution_count": 71,
          "metadata": {},
          "output_type": "execute_result"
        },
        {
          "name": "stderr",
          "output_type": "stream",
          "text": [
            "Creating time-shifted features:   0%|          | 0/2 [00:00<?, ?it/s]"
          ]
        },
        {
          "data": {
            "text/plain": [
              "0"
            ]
          },
          "execution_count": 71,
          "metadata": {},
          "output_type": "execute_result"
        },
        {
          "name": "stderr",
          "output_type": "stream",
          "text": [
            "Creating time-shifted features:  50%|█████     | 1/2 [00:07<00:07,  7.50s/it]"
          ]
        },
        {
          "data": {
            "text/plain": [
              "0"
            ]
          },
          "execution_count": 71,
          "metadata": {},
          "output_type": "execute_result"
        },
        {
          "name": "stderr",
          "output_type": "stream",
          "text": [
            "Creating time-shifted features: 100%|██████████| 2/2 [00:12<00:00,  6.01s/it]\n"
          ]
        },
        {
          "name": "stdout",
          "output_type": "stream",
          "text": [
            "Warning: 11 features missing in test data. Setting to 0.\n"
          ]
        },
        {
          "name": "stderr",
          "output_type": "stream",
          "text": [
            "Making predictions: 100%|██████████| 1/1 [00:00<00:00, 10.73it/s]\n"
          ]
        },
        {
          "data": {
            "text/plain": [
              "4"
            ]
          },
          "execution_count": 71,
          "metadata": {},
          "output_type": "execute_result"
        },
        {
          "name": "stdout",
          "output_type": "stream",
          "text": [
            "Processing week0_candidate_2_0.pqt\n"
          ]
        },
        {
          "data": {
            "text/plain": [
              "0"
            ]
          },
          "execution_count": 71,
          "metadata": {},
          "output_type": "execute_result"
        },
        {
          "name": "stderr",
          "output_type": "stream",
          "text": [
            "Creating time-shifted features:   0%|          | 0/2 [00:00<?, ?it/s]"
          ]
        },
        {
          "data": {
            "text/plain": [
              "0"
            ]
          },
          "execution_count": 71,
          "metadata": {},
          "output_type": "execute_result"
        },
        {
          "name": "stderr",
          "output_type": "stream",
          "text": [
            "Creating time-shifted features:  50%|█████     | 1/2 [00:18<00:18, 18.56s/it]"
          ]
        },
        {
          "data": {
            "text/plain": [
              "0"
            ]
          },
          "execution_count": 71,
          "metadata": {},
          "output_type": "execute_result"
        },
        {
          "name": "stderr",
          "output_type": "stream",
          "text": [
            "Creating time-shifted features: 100%|██████████| 2/2 [00:34<00:00, 17.41s/it]\n"
          ]
        },
        {
          "name": "stdout",
          "output_type": "stream",
          "text": [
            "Warning: 11 features missing in test data. Setting to 0.\n"
          ]
        },
        {
          "name": "stderr",
          "output_type": "stream",
          "text": [
            "Making predictions: 100%|██████████| 5/5 [15:54<00:00, 191.00s/it]\n"
          ]
        },
        {
          "data": {
            "text/plain": [
              "4"
            ]
          },
          "execution_count": 71,
          "metadata": {},
          "output_type": "execute_result"
        },
        {
          "name": "stdout",
          "output_type": "stream",
          "text": [
            "Processing week0_candidate_2_1.pqt\n"
          ]
        },
        {
          "data": {
            "text/plain": [
              "0"
            ]
          },
          "execution_count": 71,
          "metadata": {},
          "output_type": "execute_result"
        },
        {
          "name": "stderr",
          "output_type": "stream",
          "text": [
            "Creating time-shifted features:   0%|          | 0/2 [00:00<?, ?it/s]"
          ]
        },
        {
          "data": {
            "text/plain": [
              "0"
            ]
          },
          "execution_count": 71,
          "metadata": {},
          "output_type": "execute_result"
        },
        {
          "name": "stderr",
          "output_type": "stream",
          "text": [
            "Creating time-shifted features:  50%|█████     | 1/2 [00:18<00:18, 18.88s/it]"
          ]
        },
        {
          "data": {
            "text/plain": [
              "0"
            ]
          },
          "execution_count": 71,
          "metadata": {},
          "output_type": "execute_result"
        },
        {
          "name": "stderr",
          "output_type": "stream",
          "text": [
            "Creating time-shifted features: 100%|██████████| 2/2 [00:35<00:00, 17.63s/it]\n"
          ]
        },
        {
          "name": "stdout",
          "output_type": "stream",
          "text": [
            "Warning: 11 features missing in test data. Setting to 0.\n"
          ]
        },
        {
          "name": "stderr",
          "output_type": "stream",
          "text": [
            "Making predictions: 100%|██████████| 5/5 [15:02<00:00, 180.49s/it]\n"
          ]
        },
        {
          "data": {
            "text/plain": [
              "4"
            ]
          },
          "execution_count": 71,
          "metadata": {},
          "output_type": "execute_result"
        },
        {
          "name": "stdout",
          "output_type": "stream",
          "text": [
            "Processing week0_candidate_2_2.pqt\n"
          ]
        },
        {
          "data": {
            "text/plain": [
              "0"
            ]
          },
          "execution_count": 71,
          "metadata": {},
          "output_type": "execute_result"
        },
        {
          "name": "stderr",
          "output_type": "stream",
          "text": [
            "Creating time-shifted features:   0%|          | 0/2 [00:00<?, ?it/s]"
          ]
        },
        {
          "data": {
            "text/plain": [
              "0"
            ]
          },
          "execution_count": 71,
          "metadata": {},
          "output_type": "execute_result"
        },
        {
          "name": "stderr",
          "output_type": "stream",
          "text": [
            "Creating time-shifted features:  50%|█████     | 1/2 [00:07<00:07,  7.90s/it]"
          ]
        },
        {
          "data": {
            "text/plain": [
              "0"
            ]
          },
          "execution_count": 71,
          "metadata": {},
          "output_type": "execute_result"
        },
        {
          "name": "stderr",
          "output_type": "stream",
          "text": [
            "Creating time-shifted features: 100%|██████████| 2/2 [00:12<00:00,  6.29s/it]\n"
          ]
        },
        {
          "name": "stdout",
          "output_type": "stream",
          "text": [
            "Warning: 11 features missing in test data. Setting to 0.\n"
          ]
        },
        {
          "name": "stderr",
          "output_type": "stream",
          "text": [
            "Making predictions: 100%|██████████| 1/1 [00:00<00:00, 10.40it/s]\n"
          ]
        },
        {
          "data": {
            "text/plain": [
              "4"
            ]
          },
          "execution_count": 71,
          "metadata": {},
          "output_type": "execute_result"
        },
        {
          "name": "stdout",
          "output_type": "stream",
          "text": [
            "Processing week0_candidate_3_0.pqt\n"
          ]
        },
        {
          "data": {
            "text/plain": [
              "0"
            ]
          },
          "execution_count": 71,
          "metadata": {},
          "output_type": "execute_result"
        },
        {
          "name": "stderr",
          "output_type": "stream",
          "text": [
            "Creating time-shifted features:   0%|          | 0/2 [00:00<?, ?it/s]"
          ]
        },
        {
          "data": {
            "text/plain": [
              "0"
            ]
          },
          "execution_count": 71,
          "metadata": {},
          "output_type": "execute_result"
        },
        {
          "name": "stderr",
          "output_type": "stream",
          "text": [
            "Creating time-shifted features:  50%|█████     | 1/2 [00:19<00:19, 19.50s/it]"
          ]
        },
        {
          "data": {
            "text/plain": [
              "0"
            ]
          },
          "execution_count": 71,
          "metadata": {},
          "output_type": "execute_result"
        },
        {
          "name": "stderr",
          "output_type": "stream",
          "text": [
            "Creating time-shifted features: 100%|██████████| 2/2 [00:36<00:00, 18.41s/it]\n"
          ]
        },
        {
          "name": "stdout",
          "output_type": "stream",
          "text": [
            "Warning: 11 features missing in test data. Setting to 0.\n"
          ]
        },
        {
          "name": "stderr",
          "output_type": "stream",
          "text": [
            "Making predictions: 100%|██████████| 5/5 [00:45<00:00,  9.08s/it]\n"
          ]
        },
        {
          "data": {
            "text/plain": [
              "4"
            ]
          },
          "execution_count": 71,
          "metadata": {},
          "output_type": "execute_result"
        },
        {
          "name": "stdout",
          "output_type": "stream",
          "text": [
            "Processing week0_candidate_3_1.pqt\n"
          ]
        },
        {
          "data": {
            "text/plain": [
              "0"
            ]
          },
          "execution_count": 71,
          "metadata": {},
          "output_type": "execute_result"
        },
        {
          "name": "stderr",
          "output_type": "stream",
          "text": [
            "Creating time-shifted features:   0%|          | 0/2 [00:00<?, ?it/s]"
          ]
        },
        {
          "data": {
            "text/plain": [
              "0"
            ]
          },
          "execution_count": 71,
          "metadata": {},
          "output_type": "execute_result"
        },
        {
          "name": "stderr",
          "output_type": "stream",
          "text": [
            "Creating time-shifted features:  50%|█████     | 1/2 [25:34<25:34, 1534.92s/it]"
          ]
        },
        {
          "data": {
            "text/plain": [
              "0"
            ]
          },
          "execution_count": 71,
          "metadata": {},
          "output_type": "execute_result"
        },
        {
          "name": "stderr",
          "output_type": "stream",
          "text": [
            "Creating time-shifted features: 100%|██████████| 2/2 [25:53<00:00, 776.64s/it] \n"
          ]
        },
        {
          "name": "stdout",
          "output_type": "stream",
          "text": [
            "Warning: 11 features missing in test data. Setting to 0.\n"
          ]
        },
        {
          "name": "stderr",
          "output_type": "stream",
          "text": [
            "Making predictions: 100%|██████████| 5/5 [00:49<00:00,  9.86s/it]\n"
          ]
        },
        {
          "data": {
            "text/plain": [
              "4"
            ]
          },
          "execution_count": 71,
          "metadata": {},
          "output_type": "execute_result"
        },
        {
          "name": "stdout",
          "output_type": "stream",
          "text": [
            "Processing week0_candidate_3_2.pqt\n"
          ]
        },
        {
          "data": {
            "text/plain": [
              "0"
            ]
          },
          "execution_count": 71,
          "metadata": {},
          "output_type": "execute_result"
        },
        {
          "name": "stderr",
          "output_type": "stream",
          "text": [
            "Creating time-shifted features:   0%|          | 0/2 [00:00<?, ?it/s]"
          ]
        },
        {
          "data": {
            "text/plain": [
              "0"
            ]
          },
          "execution_count": 71,
          "metadata": {},
          "output_type": "execute_result"
        },
        {
          "name": "stderr",
          "output_type": "stream",
          "text": [
            "Creating time-shifted features:  50%|█████     | 1/2 [00:07<00:07,  7.73s/it]"
          ]
        },
        {
          "data": {
            "text/plain": [
              "0"
            ]
          },
          "execution_count": 71,
          "metadata": {},
          "output_type": "execute_result"
        },
        {
          "name": "stderr",
          "output_type": "stream",
          "text": [
            "Creating time-shifted features: 100%|██████████| 2/2 [00:12<00:00,  6.25s/it]\n"
          ]
        },
        {
          "name": "stdout",
          "output_type": "stream",
          "text": [
            "Warning: 11 features missing in test data. Setting to 0.\n"
          ]
        },
        {
          "name": "stderr",
          "output_type": "stream",
          "text": [
            "Making predictions: 100%|██████████| 1/1 [00:00<00:00, 10.31it/s]\n"
          ]
        },
        {
          "data": {
            "text/plain": [
              "4"
            ]
          },
          "execution_count": 71,
          "metadata": {},
          "output_type": "execute_result"
        },
        {
          "name": "stdout",
          "output_type": "stream",
          "text": [
            "Processing week0_candidate_4_0.pqt\n"
          ]
        },
        {
          "data": {
            "text/plain": [
              "0"
            ]
          },
          "execution_count": 71,
          "metadata": {},
          "output_type": "execute_result"
        },
        {
          "name": "stderr",
          "output_type": "stream",
          "text": [
            "Creating time-shifted features:   0%|          | 0/2 [00:00<?, ?it/s]"
          ]
        },
        {
          "data": {
            "text/plain": [
              "0"
            ]
          },
          "execution_count": 71,
          "metadata": {},
          "output_type": "execute_result"
        },
        {
          "name": "stderr",
          "output_type": "stream",
          "text": [
            "Creating time-shifted features:  50%|█████     | 1/2 [00:19<00:19, 19.47s/it]"
          ]
        },
        {
          "data": {
            "text/plain": [
              "0"
            ]
          },
          "execution_count": 71,
          "metadata": {},
          "output_type": "execute_result"
        },
        {
          "name": "stderr",
          "output_type": "stream",
          "text": [
            "Creating time-shifted features: 100%|██████████| 2/2 [00:37<00:00, 18.53s/it]\n"
          ]
        },
        {
          "name": "stdout",
          "output_type": "stream",
          "text": [
            "Warning: 11 features missing in test data. Setting to 0.\n"
          ]
        },
        {
          "name": "stderr",
          "output_type": "stream",
          "text": [
            "Making predictions: 100%|██████████| 5/5 [00:51<00:00, 10.35s/it]\n"
          ]
        },
        {
          "data": {
            "text/plain": [
              "4"
            ]
          },
          "execution_count": 71,
          "metadata": {},
          "output_type": "execute_result"
        },
        {
          "name": "stdout",
          "output_type": "stream",
          "text": [
            "Processing week0_candidate_4_1.pqt\n"
          ]
        },
        {
          "data": {
            "text/plain": [
              "0"
            ]
          },
          "execution_count": 71,
          "metadata": {},
          "output_type": "execute_result"
        },
        {
          "name": "stderr",
          "output_type": "stream",
          "text": [
            "Creating time-shifted features:   0%|          | 0/2 [00:00<?, ?it/s]"
          ]
        },
        {
          "data": {
            "text/plain": [
              "0"
            ]
          },
          "execution_count": 71,
          "metadata": {},
          "output_type": "execute_result"
        },
        {
          "name": "stderr",
          "output_type": "stream",
          "text": [
            "Creating time-shifted features:  50%|█████     | 1/2 [00:20<00:20, 20.09s/it]"
          ]
        },
        {
          "data": {
            "text/plain": [
              "0"
            ]
          },
          "execution_count": 71,
          "metadata": {},
          "output_type": "execute_result"
        },
        {
          "name": "stderr",
          "output_type": "stream",
          "text": [
            "Creating time-shifted features: 100%|██████████| 2/2 [00:37<00:00, 18.54s/it]\n"
          ]
        },
        {
          "name": "stdout",
          "output_type": "stream",
          "text": [
            "Warning: 11 features missing in test data. Setting to 0.\n"
          ]
        },
        {
          "name": "stderr",
          "output_type": "stream",
          "text": [
            "Making predictions: 100%|██████████| 5/5 [00:50<00:00, 10.05s/it]\n"
          ]
        },
        {
          "data": {
            "text/plain": [
              "4"
            ]
          },
          "execution_count": 71,
          "metadata": {},
          "output_type": "execute_result"
        },
        {
          "name": "stdout",
          "output_type": "stream",
          "text": [
            "Processing week0_candidate_4_2.pqt\n"
          ]
        },
        {
          "data": {
            "text/plain": [
              "0"
            ]
          },
          "execution_count": 71,
          "metadata": {},
          "output_type": "execute_result"
        },
        {
          "name": "stderr",
          "output_type": "stream",
          "text": [
            "Creating time-shifted features:   0%|          | 0/2 [00:00<?, ?it/s]"
          ]
        },
        {
          "data": {
            "text/plain": [
              "0"
            ]
          },
          "execution_count": 71,
          "metadata": {},
          "output_type": "execute_result"
        },
        {
          "name": "stderr",
          "output_type": "stream",
          "text": [
            "Creating time-shifted features:  50%|█████     | 1/2 [00:07<00:07,  7.91s/it]"
          ]
        },
        {
          "data": {
            "text/plain": [
              "0"
            ]
          },
          "execution_count": 71,
          "metadata": {},
          "output_type": "execute_result"
        },
        {
          "name": "stderr",
          "output_type": "stream",
          "text": [
            "Creating time-shifted features: 100%|██████████| 2/2 [00:12<00:00,  6.44s/it]\n"
          ]
        },
        {
          "name": "stdout",
          "output_type": "stream",
          "text": [
            "Warning: 11 features missing in test data. Setting to 0.\n"
          ]
        },
        {
          "name": "stderr",
          "output_type": "stream",
          "text": [
            "Making predictions: 100%|██████████| 1/1 [00:00<00:00, 10.40it/s]\n"
          ]
        },
        {
          "data": {
            "text/plain": [
              "4"
            ]
          },
          "execution_count": 71,
          "metadata": {},
          "output_type": "execute_result"
        },
        {
          "name": "stdout",
          "output_type": "stream",
          "text": [
            "Processing week0_candidate_5_0.pqt\n"
          ]
        },
        {
          "data": {
            "text/plain": [
              "0"
            ]
          },
          "execution_count": 71,
          "metadata": {},
          "output_type": "execute_result"
        },
        {
          "name": "stderr",
          "output_type": "stream",
          "text": [
            "Creating time-shifted features:   0%|          | 0/2 [00:00<?, ?it/s]"
          ]
        },
        {
          "data": {
            "text/plain": [
              "0"
            ]
          },
          "execution_count": 71,
          "metadata": {},
          "output_type": "execute_result"
        },
        {
          "name": "stderr",
          "output_type": "stream",
          "text": [
            "Creating time-shifted features:  50%|█████     | 1/2 [00:20<00:20, 20.24s/it]"
          ]
        },
        {
          "data": {
            "text/plain": [
              "0"
            ]
          },
          "execution_count": 71,
          "metadata": {},
          "output_type": "execute_result"
        },
        {
          "name": "stderr",
          "output_type": "stream",
          "text": [
            "Creating time-shifted features: 100%|██████████| 2/2 [00:37<00:00, 18.84s/it]\n"
          ]
        },
        {
          "name": "stdout",
          "output_type": "stream",
          "text": [
            "Warning: 11 features missing in test data. Setting to 0.\n"
          ]
        },
        {
          "name": "stderr",
          "output_type": "stream",
          "text": [
            "Making predictions: 100%|██████████| 5/5 [00:50<00:00, 10.14s/it]\n"
          ]
        },
        {
          "data": {
            "text/plain": [
              "4"
            ]
          },
          "execution_count": 71,
          "metadata": {},
          "output_type": "execute_result"
        },
        {
          "name": "stdout",
          "output_type": "stream",
          "text": [
            "Processing week0_candidate_5_1.pqt\n"
          ]
        },
        {
          "data": {
            "text/plain": [
              "0"
            ]
          },
          "execution_count": 71,
          "metadata": {},
          "output_type": "execute_result"
        },
        {
          "name": "stderr",
          "output_type": "stream",
          "text": [
            "Creating time-shifted features:   0%|          | 0/2 [00:00<?, ?it/s]"
          ]
        },
        {
          "data": {
            "text/plain": [
              "0"
            ]
          },
          "execution_count": 71,
          "metadata": {},
          "output_type": "execute_result"
        },
        {
          "name": "stderr",
          "output_type": "stream",
          "text": [
            "Creating time-shifted features:  50%|█████     | 1/2 [00:20<00:20, 20.14s/it]"
          ]
        },
        {
          "data": {
            "text/plain": [
              "0"
            ]
          },
          "execution_count": 71,
          "metadata": {},
          "output_type": "execute_result"
        },
        {
          "name": "stderr",
          "output_type": "stream",
          "text": [
            "Creating time-shifted features: 100%|██████████| 2/2 [00:37<00:00, 18.81s/it]\n"
          ]
        },
        {
          "name": "stdout",
          "output_type": "stream",
          "text": [
            "Warning: 11 features missing in test data. Setting to 0.\n"
          ]
        },
        {
          "name": "stderr",
          "output_type": "stream",
          "text": [
            "Making predictions: 100%|██████████| 5/5 [00:49<00:00,  9.90s/it]\n"
          ]
        },
        {
          "data": {
            "text/plain": [
              "4"
            ]
          },
          "execution_count": 71,
          "metadata": {},
          "output_type": "execute_result"
        },
        {
          "name": "stdout",
          "output_type": "stream",
          "text": [
            "Processing week0_candidate_5_2.pqt\n"
          ]
        },
        {
          "data": {
            "text/plain": [
              "0"
            ]
          },
          "execution_count": 71,
          "metadata": {},
          "output_type": "execute_result"
        },
        {
          "name": "stderr",
          "output_type": "stream",
          "text": [
            "Creating time-shifted features:   0%|          | 0/2 [00:00<?, ?it/s]"
          ]
        },
        {
          "data": {
            "text/plain": [
              "0"
            ]
          },
          "execution_count": 71,
          "metadata": {},
          "output_type": "execute_result"
        },
        {
          "name": "stderr",
          "output_type": "stream",
          "text": [
            "Creating time-shifted features:  50%|█████     | 1/2 [00:07<00:07,  7.91s/it]"
          ]
        },
        {
          "data": {
            "text/plain": [
              "0"
            ]
          },
          "execution_count": 71,
          "metadata": {},
          "output_type": "execute_result"
        },
        {
          "name": "stderr",
          "output_type": "stream",
          "text": [
            "Creating time-shifted features: 100%|██████████| 2/2 [00:12<00:00,  6.40s/it]\n"
          ]
        },
        {
          "name": "stdout",
          "output_type": "stream",
          "text": [
            "Warning: 11 features missing in test data. Setting to 0.\n"
          ]
        },
        {
          "name": "stderr",
          "output_type": "stream",
          "text": [
            "Making predictions: 100%|██████████| 1/1 [00:00<00:00, 10.19it/s]\n"
          ]
        },
        {
          "data": {
            "text/plain": [
              "4"
            ]
          },
          "execution_count": 71,
          "metadata": {},
          "output_type": "execute_result"
        },
        {
          "name": "stdout",
          "output_type": "stream",
          "text": [
            "Processing week0_candidate_6_0.pqt\n"
          ]
        },
        {
          "data": {
            "text/plain": [
              "0"
            ]
          },
          "execution_count": 71,
          "metadata": {},
          "output_type": "execute_result"
        },
        {
          "name": "stderr",
          "output_type": "stream",
          "text": [
            "Creating time-shifted features:   0%|          | 0/2 [00:00<?, ?it/s]"
          ]
        },
        {
          "data": {
            "text/plain": [
              "0"
            ]
          },
          "execution_count": 71,
          "metadata": {},
          "output_type": "execute_result"
        },
        {
          "name": "stderr",
          "output_type": "stream",
          "text": [
            "Creating time-shifted features:  50%|█████     | 1/2 [00:19<00:19, 19.92s/it]"
          ]
        },
        {
          "data": {
            "text/plain": [
              "0"
            ]
          },
          "execution_count": 71,
          "metadata": {},
          "output_type": "execute_result"
        },
        {
          "name": "stderr",
          "output_type": "stream",
          "text": [
            "Creating time-shifted features: 100%|██████████| 2/2 [00:37<00:00, 18.82s/it]\n"
          ]
        },
        {
          "name": "stdout",
          "output_type": "stream",
          "text": [
            "Warning: 11 features missing in test data. Setting to 0.\n"
          ]
        },
        {
          "name": "stderr",
          "output_type": "stream",
          "text": [
            "Making predictions: 100%|██████████| 5/5 [00:49<00:00,  9.94s/it]\n"
          ]
        },
        {
          "data": {
            "text/plain": [
              "4"
            ]
          },
          "execution_count": 71,
          "metadata": {},
          "output_type": "execute_result"
        },
        {
          "name": "stdout",
          "output_type": "stream",
          "text": [
            "Processing week0_candidate_6_1.pqt\n"
          ]
        },
        {
          "data": {
            "text/plain": [
              "0"
            ]
          },
          "execution_count": 71,
          "metadata": {},
          "output_type": "execute_result"
        },
        {
          "name": "stderr",
          "output_type": "stream",
          "text": [
            "Creating time-shifted features:   0%|          | 0/2 [00:00<?, ?it/s]"
          ]
        },
        {
          "data": {
            "text/plain": [
              "0"
            ]
          },
          "execution_count": 71,
          "metadata": {},
          "output_type": "execute_result"
        },
        {
          "name": "stderr",
          "output_type": "stream",
          "text": [
            "Creating time-shifted features:  50%|█████     | 1/2 [00:20<00:20, 20.53s/it]"
          ]
        },
        {
          "data": {
            "text/plain": [
              "0"
            ]
          },
          "execution_count": 71,
          "metadata": {},
          "output_type": "execute_result"
        },
        {
          "name": "stderr",
          "output_type": "stream",
          "text": [
            "Creating time-shifted features: 100%|██████████| 2/2 [00:38<00:00, 19.09s/it]\n"
          ]
        },
        {
          "name": "stdout",
          "output_type": "stream",
          "text": [
            "Warning: 11 features missing in test data. Setting to 0.\n"
          ]
        },
        {
          "name": "stderr",
          "output_type": "stream",
          "text": [
            "Making predictions: 100%|██████████| 5/5 [00:50<00:00, 10.08s/it]\n"
          ]
        },
        {
          "data": {
            "text/plain": [
              "4"
            ]
          },
          "execution_count": 71,
          "metadata": {},
          "output_type": "execute_result"
        },
        {
          "name": "stdout",
          "output_type": "stream",
          "text": [
            "Processing week0_candidate_6_2.pqt\n"
          ]
        },
        {
          "data": {
            "text/plain": [
              "0"
            ]
          },
          "execution_count": 71,
          "metadata": {},
          "output_type": "execute_result"
        },
        {
          "name": "stderr",
          "output_type": "stream",
          "text": [
            "Creating time-shifted features:   0%|          | 0/2 [00:00<?, ?it/s]"
          ]
        },
        {
          "data": {
            "text/plain": [
              "0"
            ]
          },
          "execution_count": 71,
          "metadata": {},
          "output_type": "execute_result"
        },
        {
          "name": "stderr",
          "output_type": "stream",
          "text": [
            "Creating time-shifted features:  50%|█████     | 1/2 [00:08<00:08,  8.34s/it]"
          ]
        },
        {
          "data": {
            "text/plain": [
              "0"
            ]
          },
          "execution_count": 71,
          "metadata": {},
          "output_type": "execute_result"
        },
        {
          "name": "stderr",
          "output_type": "stream",
          "text": [
            "Creating time-shifted features: 100%|██████████| 2/2 [00:13<00:00,  6.60s/it]\n"
          ]
        },
        {
          "name": "stdout",
          "output_type": "stream",
          "text": [
            "Warning: 11 features missing in test data. Setting to 0.\n"
          ]
        },
        {
          "name": "stderr",
          "output_type": "stream",
          "text": [
            "Making predictions: 100%|██████████| 1/1 [00:00<00:00, 10.20it/s]\n"
          ]
        },
        {
          "data": {
            "text/plain": [
              "4"
            ]
          },
          "execution_count": 71,
          "metadata": {},
          "output_type": "execute_result"
        },
        {
          "name": "stdout",
          "output_type": "stream",
          "text": [
            "Processing week0_candidate_7_0.pqt\n"
          ]
        },
        {
          "data": {
            "text/plain": [
              "0"
            ]
          },
          "execution_count": 71,
          "metadata": {},
          "output_type": "execute_result"
        },
        {
          "name": "stderr",
          "output_type": "stream",
          "text": [
            "Creating time-shifted features:   0%|          | 0/2 [00:00<?, ?it/s]"
          ]
        },
        {
          "data": {
            "text/plain": [
              "0"
            ]
          },
          "execution_count": 71,
          "metadata": {},
          "output_type": "execute_result"
        },
        {
          "name": "stderr",
          "output_type": "stream",
          "text": [
            "Creating time-shifted features:  50%|█████     | 1/2 [00:20<00:20, 20.32s/it]"
          ]
        },
        {
          "data": {
            "text/plain": [
              "0"
            ]
          },
          "execution_count": 71,
          "metadata": {},
          "output_type": "execute_result"
        },
        {
          "name": "stderr",
          "output_type": "stream",
          "text": [
            "Creating time-shifted features: 100%|██████████| 2/2 [00:37<00:00, 18.98s/it]\n"
          ]
        },
        {
          "name": "stdout",
          "output_type": "stream",
          "text": [
            "Warning: 11 features missing in test data. Setting to 0.\n"
          ]
        },
        {
          "name": "stderr",
          "output_type": "stream",
          "text": [
            "Making predictions: 100%|██████████| 5/5 [00:49<00:00,  9.92s/it]\n"
          ]
        },
        {
          "data": {
            "text/plain": [
              "4"
            ]
          },
          "execution_count": 71,
          "metadata": {},
          "output_type": "execute_result"
        },
        {
          "name": "stdout",
          "output_type": "stream",
          "text": [
            "Processing week0_candidate_7_1.pqt\n"
          ]
        },
        {
          "data": {
            "text/plain": [
              "0"
            ]
          },
          "execution_count": 71,
          "metadata": {},
          "output_type": "execute_result"
        },
        {
          "name": "stderr",
          "output_type": "stream",
          "text": [
            "Creating time-shifted features:   0%|          | 0/2 [00:00<?, ?it/s]"
          ]
        },
        {
          "data": {
            "text/plain": [
              "0"
            ]
          },
          "execution_count": 71,
          "metadata": {},
          "output_type": "execute_result"
        },
        {
          "name": "stderr",
          "output_type": "stream",
          "text": [
            "Creating time-shifted features:  50%|█████     | 1/2 [00:19<00:19, 19.98s/it]"
          ]
        },
        {
          "data": {
            "text/plain": [
              "0"
            ]
          },
          "execution_count": 71,
          "metadata": {},
          "output_type": "execute_result"
        },
        {
          "name": "stderr",
          "output_type": "stream",
          "text": [
            "Creating time-shifted features: 100%|██████████| 2/2 [00:37<00:00, 18.72s/it]\n"
          ]
        },
        {
          "name": "stdout",
          "output_type": "stream",
          "text": [
            "Warning: 11 features missing in test data. Setting to 0.\n"
          ]
        },
        {
          "name": "stderr",
          "output_type": "stream",
          "text": [
            "Making predictions: 100%|██████████| 5/5 [00:49<00:00,  9.82s/it]\n"
          ]
        },
        {
          "data": {
            "text/plain": [
              "4"
            ]
          },
          "execution_count": 71,
          "metadata": {},
          "output_type": "execute_result"
        },
        {
          "name": "stdout",
          "output_type": "stream",
          "text": [
            "Processing week0_candidate_7_2.pqt\n"
          ]
        },
        {
          "data": {
            "text/plain": [
              "0"
            ]
          },
          "execution_count": 71,
          "metadata": {},
          "output_type": "execute_result"
        },
        {
          "name": "stderr",
          "output_type": "stream",
          "text": [
            "Creating time-shifted features:   0%|          | 0/2 [00:00<?, ?it/s]"
          ]
        },
        {
          "data": {
            "text/plain": [
              "0"
            ]
          },
          "execution_count": 71,
          "metadata": {},
          "output_type": "execute_result"
        },
        {
          "name": "stderr",
          "output_type": "stream",
          "text": [
            "Creating time-shifted features:  50%|█████     | 1/2 [00:07<00:07,  7.93s/it]"
          ]
        },
        {
          "data": {
            "text/plain": [
              "0"
            ]
          },
          "execution_count": 71,
          "metadata": {},
          "output_type": "execute_result"
        },
        {
          "name": "stderr",
          "output_type": "stream",
          "text": [
            "Creating time-shifted features: 100%|██████████| 2/2 [00:12<00:00,  6.41s/it]\n"
          ]
        },
        {
          "name": "stdout",
          "output_type": "stream",
          "text": [
            "Warning: 11 features missing in test data. Setting to 0.\n"
          ]
        },
        {
          "name": "stderr",
          "output_type": "stream",
          "text": [
            "Making predictions: 100%|██████████| 1/1 [00:00<00:00, 10.10it/s]\n"
          ]
        },
        {
          "data": {
            "text/plain": [
              "4"
            ]
          },
          "execution_count": 71,
          "metadata": {},
          "output_type": "execute_result"
        },
        {
          "name": "stdout",
          "output_type": "stream",
          "text": [
            "Processing week0_candidate_8_0.pqt\n"
          ]
        },
        {
          "data": {
            "text/plain": [
              "0"
            ]
          },
          "execution_count": 71,
          "metadata": {},
          "output_type": "execute_result"
        },
        {
          "name": "stderr",
          "output_type": "stream",
          "text": [
            "Creating time-shifted features:   0%|          | 0/2 [00:00<?, ?it/s]"
          ]
        },
        {
          "data": {
            "text/plain": [
              "0"
            ]
          },
          "execution_count": 71,
          "metadata": {},
          "output_type": "execute_result"
        },
        {
          "name": "stderr",
          "output_type": "stream",
          "text": [
            "Creating time-shifted features:  50%|█████     | 1/2 [00:20<00:20, 20.06s/it]"
          ]
        },
        {
          "data": {
            "text/plain": [
              "0"
            ]
          },
          "execution_count": 71,
          "metadata": {},
          "output_type": "execute_result"
        },
        {
          "name": "stderr",
          "output_type": "stream",
          "text": [
            "Creating time-shifted features: 100%|██████████| 2/2 [00:37<00:00, 18.78s/it]\n"
          ]
        },
        {
          "name": "stdout",
          "output_type": "stream",
          "text": [
            "Warning: 11 features missing in test data. Setting to 0.\n"
          ]
        },
        {
          "name": "stderr",
          "output_type": "stream",
          "text": [
            "Making predictions: 100%|██████████| 5/5 [00:48<00:00,  9.63s/it]\n"
          ]
        },
        {
          "data": {
            "text/plain": [
              "4"
            ]
          },
          "execution_count": 71,
          "metadata": {},
          "output_type": "execute_result"
        },
        {
          "name": "stdout",
          "output_type": "stream",
          "text": [
            "Processing week0_candidate_8_1.pqt\n"
          ]
        },
        {
          "data": {
            "text/plain": [
              "0"
            ]
          },
          "execution_count": 71,
          "metadata": {},
          "output_type": "execute_result"
        },
        {
          "name": "stderr",
          "output_type": "stream",
          "text": [
            "Creating time-shifted features:   0%|          | 0/2 [00:00<?, ?it/s]"
          ]
        },
        {
          "data": {
            "text/plain": [
              "0"
            ]
          },
          "execution_count": 71,
          "metadata": {},
          "output_type": "execute_result"
        },
        {
          "name": "stderr",
          "output_type": "stream",
          "text": [
            "Creating time-shifted features:  50%|█████     | 1/2 [00:20<00:20, 20.16s/it]"
          ]
        },
        {
          "data": {
            "text/plain": [
              "0"
            ]
          },
          "execution_count": 71,
          "metadata": {},
          "output_type": "execute_result"
        },
        {
          "name": "stderr",
          "output_type": "stream",
          "text": [
            "Creating time-shifted features: 100%|██████████| 2/2 [00:37<00:00, 18.96s/it]\n"
          ]
        },
        {
          "name": "stdout",
          "output_type": "stream",
          "text": [
            "Warning: 11 features missing in test data. Setting to 0.\n"
          ]
        },
        {
          "name": "stderr",
          "output_type": "stream",
          "text": [
            "Making predictions: 100%|██████████| 5/5 [00:48<00:00,  9.76s/it]\n"
          ]
        },
        {
          "data": {
            "text/plain": [
              "4"
            ]
          },
          "execution_count": 71,
          "metadata": {},
          "output_type": "execute_result"
        },
        {
          "name": "stdout",
          "output_type": "stream",
          "text": [
            "Processing week0_candidate_8_2.pqt\n"
          ]
        },
        {
          "data": {
            "text/plain": [
              "0"
            ]
          },
          "execution_count": 71,
          "metadata": {},
          "output_type": "execute_result"
        },
        {
          "name": "stderr",
          "output_type": "stream",
          "text": [
            "Creating time-shifted features:   0%|          | 0/2 [00:00<?, ?it/s]"
          ]
        },
        {
          "data": {
            "text/plain": [
              "0"
            ]
          },
          "execution_count": 71,
          "metadata": {},
          "output_type": "execute_result"
        },
        {
          "name": "stderr",
          "output_type": "stream",
          "text": [
            "Creating time-shifted features:  50%|█████     | 1/2 [00:08<00:08,  8.10s/it]"
          ]
        },
        {
          "data": {
            "text/plain": [
              "0"
            ]
          },
          "execution_count": 71,
          "metadata": {},
          "output_type": "execute_result"
        },
        {
          "name": "stderr",
          "output_type": "stream",
          "text": [
            "Creating time-shifted features: 100%|██████████| 2/2 [00:13<00:00,  6.50s/it]\n"
          ]
        },
        {
          "name": "stdout",
          "output_type": "stream",
          "text": [
            "Warning: 11 features missing in test data. Setting to 0.\n"
          ]
        },
        {
          "name": "stderr",
          "output_type": "stream",
          "text": [
            "Making predictions: 100%|██████████| 1/1 [00:00<00:00, 10.42it/s]\n"
          ]
        },
        {
          "data": {
            "text/plain": [
              "4"
            ]
          },
          "execution_count": 71,
          "metadata": {},
          "output_type": "execute_result"
        },
        {
          "name": "stdout",
          "output_type": "stream",
          "text": [
            "Processing week0_candidate_9_0.pqt\n"
          ]
        },
        {
          "data": {
            "text/plain": [
              "0"
            ]
          },
          "execution_count": 71,
          "metadata": {},
          "output_type": "execute_result"
        },
        {
          "name": "stderr",
          "output_type": "stream",
          "text": [
            "Creating time-shifted features:   0%|          | 0/2 [00:00<?, ?it/s]"
          ]
        },
        {
          "data": {
            "text/plain": [
              "0"
            ]
          },
          "execution_count": 71,
          "metadata": {},
          "output_type": "execute_result"
        },
        {
          "name": "stderr",
          "output_type": "stream",
          "text": [
            "Creating time-shifted features:  50%|█████     | 1/2 [00:21<00:21, 21.15s/it]"
          ]
        },
        {
          "data": {
            "text/plain": [
              "0"
            ]
          },
          "execution_count": 71,
          "metadata": {},
          "output_type": "execute_result"
        },
        {
          "name": "stderr",
          "output_type": "stream",
          "text": [
            "Creating time-shifted features: 100%|██████████| 2/2 [00:39<00:00, 19.71s/it]\n"
          ]
        },
        {
          "name": "stdout",
          "output_type": "stream",
          "text": [
            "Warning: 11 features missing in test data. Setting to 0.\n"
          ]
        },
        {
          "name": "stderr",
          "output_type": "stream",
          "text": [
            "Making predictions: 100%|██████████| 5/5 [00:48<00:00,  9.78s/it]\n"
          ]
        },
        {
          "data": {
            "text/plain": [
              "4"
            ]
          },
          "execution_count": 71,
          "metadata": {},
          "output_type": "execute_result"
        },
        {
          "name": "stdout",
          "output_type": "stream",
          "text": [
            "Processing week0_candidate_9_1.pqt\n"
          ]
        },
        {
          "data": {
            "text/plain": [
              "0"
            ]
          },
          "execution_count": 71,
          "metadata": {},
          "output_type": "execute_result"
        },
        {
          "name": "stderr",
          "output_type": "stream",
          "text": [
            "Creating time-shifted features:   0%|          | 0/2 [00:00<?, ?it/s]"
          ]
        },
        {
          "data": {
            "text/plain": [
              "0"
            ]
          },
          "execution_count": 71,
          "metadata": {},
          "output_type": "execute_result"
        },
        {
          "name": "stderr",
          "output_type": "stream",
          "text": [
            "Creating time-shifted features:  50%|█████     | 1/2 [00:20<00:20, 20.80s/it]"
          ]
        },
        {
          "data": {
            "text/plain": [
              "0"
            ]
          },
          "execution_count": 71,
          "metadata": {},
          "output_type": "execute_result"
        },
        {
          "name": "stderr",
          "output_type": "stream",
          "text": [
            "Creating time-shifted features: 100%|██████████| 2/2 [00:39<00:00, 19.70s/it]\n"
          ]
        },
        {
          "name": "stdout",
          "output_type": "stream",
          "text": [
            "Warning: 11 features missing in test data. Setting to 0.\n"
          ]
        },
        {
          "name": "stderr",
          "output_type": "stream",
          "text": [
            "Making predictions: 100%|██████████| 5/5 [00:52<00:00, 10.47s/it]\n"
          ]
        },
        {
          "data": {
            "text/plain": [
              "4"
            ]
          },
          "execution_count": 71,
          "metadata": {},
          "output_type": "execute_result"
        },
        {
          "name": "stdout",
          "output_type": "stream",
          "text": [
            "Processing week0_candidate_9_2.pqt\n"
          ]
        },
        {
          "data": {
            "text/plain": [
              "0"
            ]
          },
          "execution_count": 71,
          "metadata": {},
          "output_type": "execute_result"
        },
        {
          "name": "stderr",
          "output_type": "stream",
          "text": [
            "Creating time-shifted features:   0%|          | 0/2 [00:00<?, ?it/s]"
          ]
        },
        {
          "data": {
            "text/plain": [
              "0"
            ]
          },
          "execution_count": 71,
          "metadata": {},
          "output_type": "execute_result"
        },
        {
          "name": "stderr",
          "output_type": "stream",
          "text": [
            "Creating time-shifted features:  50%|█████     | 1/2 [00:07<00:07,  7.90s/it]"
          ]
        },
        {
          "data": {
            "text/plain": [
              "0"
            ]
          },
          "execution_count": 71,
          "metadata": {},
          "output_type": "execute_result"
        },
        {
          "name": "stderr",
          "output_type": "stream",
          "text": [
            "Creating time-shifted features: 100%|██████████| 2/2 [00:12<00:00,  6.42s/it]\n"
          ]
        },
        {
          "name": "stdout",
          "output_type": "stream",
          "text": [
            "Warning: 11 features missing in test data. Setting to 0.\n"
          ]
        },
        {
          "name": "stderr",
          "output_type": "stream",
          "text": [
            "Making predictions: 100%|██████████| 1/1 [00:00<00:00, 10.11it/s]\n"
          ]
        },
        {
          "data": {
            "text/plain": [
              "4"
            ]
          },
          "execution_count": 71,
          "metadata": {},
          "output_type": "execute_result"
        }
      ],
      "source": [
        "# files = os.listdir(data_dir/\"processed\"/VERSION_NAME)\n",
        "# for batch in range(TEST_BATCH_NUM):\n",
        "#     chunk_files = [f for f in files if f.startswith(f\"week0_candidate_{batch}\")]\n",
        "#     for chunk,chunk_file in enumerate(sorted(chunk_files)):\n",
        "#         print(chunk_file)\n",
        "#         test_candidate = pd.read_parquet(data_dir/\"processed\"/VERSION_NAME/chunk_file)\n",
        "#         test_candidate = test_candidate[test_candidate['rank']<=20].reset_index(drop=True)\n",
        "#         # * ============================================================================================\n",
        "\n",
        "#         tmp = inter.groupby('article_id').week.mean()\n",
        "#         test_candidate['article_time_mean'] = test_candidate['article_id'].map(tmp)\n",
        "\n",
        "#         tmp = inter.groupby('customer_id').week.nth(-1)\n",
        "#         test_candidate['customer_id_last_time'] = test_candidate['customer_id'].map(tmp)\n",
        "\n",
        "#         tmp = inter.groupby('customer_id').week.nth(0)\n",
        "#         test_candidate['customer_id_first_time'] = test_candidate['customer_id'].map(tmp)\n",
        "\n",
        "#         tmp = inter.groupby('customer_id').week.mean()\n",
        "#         test_candidate['customer_id_time_mean'] = test_candidate['customer_id'].map(tmp)\n",
        "\n",
        "#         test_candidate['customer_id_gap'] = test_candidate['customer_id_first_time'] - test_candidate['customer_id_last_time']\n",
        "\n",
        "#         tmp = inter.groupby('customer_id').size()\n",
        "#         test_candidate['customer_daily_bought'] = test_candidate['customer_id'].map(tmp) / test_candidate['customer_id_gap']\n",
        "\n",
        "#         tmp = inter.groupby('customer_id').price.median()\n",
        "#         test_candidate['customer_id_price_median'] = test_candidate['customer_id'].map(tmp)\n",
        "\n",
        "#         test_candidate['customer_article_price_gap'] = test_candidate['customer_id_price_median'] - test_candidate['price']\n",
        "\n",
        "#         del tmp\n",
        "#         gc.collect()\n",
        "\n",
        "#         from itertools import chain\n",
        "#         def dict_union(L):\n",
        "#             return dict(chain.from_iterable(d.items() for d in L))\n",
        "\n",
        "#         dur = [52]\n",
        "#         for col in tqdm([\"article_id\",\"product_code\"]):\n",
        "#             test_candidate[f'{col}_id_week'] = test_candidate[col].astype('str') + '_' + test_candidate['week'].astype('str')\n",
        "\n",
        "#             for j in dur:\n",
        "#                 dict_list = []\n",
        "#                 for i in range(5):\n",
        "#                     tmp = inter[(inter['week']>=(1+i+1)) & (inter['week']<(1+i+2+j))]\n",
        "                    \n",
        "#                     tmp['week'] = i+1\n",
        "#                     tmp = tmp.groupby(['week', col]).size().reset_index()\n",
        "#                     tmp.columns = ['week', col, 'count_sales']\n",
        "\n",
        "#                     tmp[f'{col}_id_week'] = tmp[col].astype('str') + '_'+tmp['week'].astype('str')\n",
        "\n",
        "#                     dict_list.append( dict(zip(tmp[f'{col}_id_week'], tmp['count_sales'])) )\n",
        "#                     del tmp\n",
        "\n",
        "#                 dict_all = dict_union(dict_list)\n",
        "#                 test_candidate[f'{col}_week_shift{j}'] = test_candidate[f'{col}_id_week'].map(dict_all)\n",
        "\n",
        "#                 del dict_all\n",
        "#             gc.collect()\n",
        "\n",
        "#         test_candidate['article_id_week_1/52'] = test_candidate['i_sale'] / test_candidate[f'article_id_week_shift52']\n",
        "#         test_candidate['product_code_week_1/52'] = test_candidate['i_sale'] / test_candidate[f'product_code_week_shift52']\n",
        "\n",
        "#         # * =================================================================================================================\n",
        "\n",
        "#         for feat in cat_features:\n",
        "#             test_candidate[feat] = test_candidate[feat].astype(cate_dict[feat])\n",
        "\n",
        "#         batch_size = 5_000_000\n",
        "#         probs = np.zeros(test_candidate.shape[0])\n",
        "#         for mini_batch in tqdm(range(0, test_candidate.shape[0], batch_size)):\n",
        "#             outputs = ranker.predict(test_candidate.loc[mini_batch : mini_batch + batch_size - 1, feats])\n",
        "#             probs[mini_batch : mini_batch + batch_size] = outputs\n",
        "#         test_candidate[\"prob\"] = probs\n",
        "#         pred_lgb = test_candidate[['customer_id','article_id','prob']]\n",
        "#         pred_lgb = pred_lgb.sort_values(by=[\"customer_id\",\"prob\"], ascending=False).reset_index(drop=True)\n",
        "#         pred_lgb.rename(columns={'article_id':'prediction'}, inplace=True)\n",
        "#         pred_lgb = pred_lgb.drop_duplicates(['customer_id', 'prediction'], keep='first')\n",
        "#         pred_lgb['customer_id'] = pred_lgb['customer_id'].astype(int)\n",
        "\n",
        "#         # pred_lgb.to_parquet(data_dir/\"interim\"/VERSION_NAME/f\"large_binary_test_{batch}_{chunk}.pqt\")\n",
        "#         pred_lgb.to_parquet(data_dir/\"interim\"/VERSION_NAME/f\"large_rank_test_{batch}_{chunk}.pqt\")\n",
        "\n",
        "#         del test_candidate\n",
        "#         gc.collect()\n",
        "files = os.listdir(data_dir/\"processed\"/VERSION_NAME)\n",
        "    \n",
        "for batch in range(TEST_BATCH_NUM):\n",
        "        chunk_files = [f for f in files if f.startswith(f\"week0_candidate_{batch}\")]\n",
        "        \n",
        "        for chunk, chunk_file in enumerate(sorted(chunk_files)):\n",
        "            print(f\"Processing {chunk_file}\")\n",
        "            \n",
        "            # Load candidate data\n",
        "            test_candidate = pd.read_parquet(data_dir/\"processed\"/VERSION_NAME/chunk_file)\n",
        "            \n",
        "            # Check and handle rank column\n",
        "            if 'rank' not in test_candidate.columns:\n",
        "                print(f\"Warning: 'rank' column not found in {chunk_file}\")\n",
        "                \n",
        "                # Try to create rank from available score columns\n",
        "                score_cols = ['score', 'final_score', 'prediction_score']  # add possible score column names\n",
        "                found_score = None\n",
        "                \n",
        "                for col in score_cols:\n",
        "                    if col in test_candidate.columns:\n",
        "                        found_score = col\n",
        "                        break\n",
        "                \n",
        "                if found_score:\n",
        "                    print(f\"Creating rank from {found_score} column\")\n",
        "                    test_candidate['rank'] = test_candidate.groupby('customer_id')[found_score].rank(ascending=False)\n",
        "                    test_candidate = test_candidate[test_candidate['rank'] <= 30].reset_index(drop=True)\n",
        "                else:\n",
        "                    print(\"No suitable score column found. Skipping rank filtering.\")\n",
        "            else:\n",
        "                test_candidate = test_candidate[test_candidate['rank'] <= 30].reset_index(drop=True)\n",
        "            \n",
        "            # Feature Engineering\n",
        "            # Time-based features\n",
        "            tmp = inter.groupby('article_id').week.mean()\n",
        "            test_candidate['article_time_mean'] = test_candidate['article_id'].map(tmp)\n",
        "\n",
        "            tmp = inter.groupby('customer_id').week.nth(-1)\n",
        "            test_candidate['customer_id_last_time'] = test_candidate['customer_id'].map(tmp)\n",
        "\n",
        "            tmp = inter.groupby('customer_id').week.nth(0)\n",
        "            test_candidate['customer_id_first_time'] = test_candidate['customer_id'].map(tmp)\n",
        "\n",
        "            tmp = inter.groupby('customer_id').week.mean()\n",
        "            test_candidate['customer_id_time_mean'] = test_candidate['customer_id'].map(tmp)\n",
        "\n",
        "            test_candidate['customer_id_gap'] = test_candidate['customer_id_first_time'] - test_candidate['customer_id_last_time']\n",
        "\n",
        "            tmp = inter.groupby('customer_id').size()\n",
        "            test_candidate['customer_daily_bought'] = test_candidate['customer_id'].map(tmp) / test_candidate['customer_id_gap']\n",
        "\n",
        "            tmp = inter.groupby('customer_id').price.median()\n",
        "            test_candidate['customer_id_price_median'] = test_candidate['customer_id'].map(tmp)\n",
        "\n",
        "            test_candidate['customer_article_price_gap'] = test_candidate['customer_id_price_median'] - test_candidate['price']\n",
        "\n",
        "            del tmp\n",
        "            gc.collect()\n",
        "\n",
        "            # Time-shifted features\n",
        "            dur = [52]\n",
        "            for col in tqdm([\"article_id\",\"product_code\"], desc=\"Creating time-shifted features\"):\n",
        "                test_candidate[f'{col}_id_week'] = test_candidate[col].astype('str') + '_' + test_candidate['week'].astype('str')\n",
        "\n",
        "                for j in dur:\n",
        "                    dict_list = []\n",
        "                    for i in range(5):\n",
        "                        tmp = inter[(inter['week']>=(1+i+1)) & (inter['week']<(1+i+2+j))]\n",
        "                        \n",
        "                        tmp['week'] = i+1\n",
        "                        tmp = tmp.groupby(['week', col]).size().reset_index()\n",
        "                        tmp.columns = ['week', col, 'count_sales']\n",
        "\n",
        "                        tmp[f'{col}_id_week'] = tmp[col].astype('str') + '_'+tmp['week'].astype('str')\n",
        "\n",
        "                        dict_list.append(dict(zip(tmp[f'{col}_id_week'], tmp['count_sales'])))\n",
        "                        del tmp\n",
        "\n",
        "                    dict_all = dict_union(dict_list)\n",
        "                    test_candidate[f'{col}_week_shift{j}'] = test_candidate[f'{col}_id_week'].map(dict_all)\n",
        "\n",
        "                    del dict_all\n",
        "                gc.collect()\n",
        "\n",
        "            test_candidate['article_id_week_1/52'] = test_candidate['i_sale'] / test_candidate[f'article_id_week_shift52']\n",
        "            test_candidate['product_code_week_1/52'] = test_candidate['i_sale'] / test_candidate[f'product_code_week_shift52']\n",
        "\n",
        "            # Handle categorical features\n",
        "            for feat in cat_features:\n",
        "                if feat in test_candidate.columns:\n",
        "                    test_candidate[feat] = test_candidate[feat].astype(cate_dict[feat])\n",
        "                else:\n",
        "                    print(f\"Warning: Categorical feature {feat} not found in data\")\n",
        "\n",
        "            # Batch prediction\n",
        "            batch_size = 5_000_000\n",
        "            probs = np.zeros(test_candidate.shape[0])\n",
        "            \n",
        "            # Ensure we only use features that exist in both model and data\n",
        "            available_feats = [f for f in feats if f in test_candidate.columns]\n",
        "            missing_feats = [f for f in feats if f not in test_candidate.columns]\n",
        "            \n",
        "            if missing_feats:\n",
        "                print(f\"Warning: {len(missing_feats)} features missing in test data. Setting to 0.\")\n",
        "                for f in missing_feats:\n",
        "                    test_candidate[f] = 0.0\n",
        "                available_feats = feats  # Now all features are available\n",
        "            \n",
        "            for mini_batch in tqdm(range(0, test_candidate.shape[0], batch_size), desc=\"Making predictions\"):\n",
        "                batch_end = min(mini_batch + batch_size, test_candidate.shape[0])\n",
        "                outputs = ranker.predict(test_candidate.iloc[mini_batch:batch_end][available_feats])\n",
        "                probs[mini_batch:batch_end] = outputs\n",
        "            \n",
        "            test_candidate[\"prob\"] = probs\n",
        "            \n",
        "            # Prepare final predictions\n",
        "            pred_lgb = test_candidate[['customer_id','article_id','prob']]\n",
        "            pred_lgb = pred_lgb.sort_values(by=[\"customer_id\",\"prob\"], ascending=False).reset_index(drop=True)\n",
        "            pred_lgb.rename(columns={'article_id':'prediction'}, inplace=True)\n",
        "            pred_lgb = pred_lgb.drop_duplicates(['customer_id', 'prediction'], keep='first')\n",
        "            pred_lgb['customer_id'] = pred_lgb['customer_id'].astype(int)\n",
        "\n",
        "            # Save predictions\n",
        "            pred_lgb.to_parquet(data_dir/\"interim\"/VERSION_NAME/f\"large_rank_test_{batch}_{chunk}.pqt\")\n",
        "\n",
        "            del test_candidate, pred_lgb, probs\n",
        "            gc.collect()\n"
      ]
    },
    {
      "cell_type": "code",
      "execution_count": null,
      "metadata": {
        "id": "t2xAlNi0Ft1l"
      },
      "outputs": [],
      "source": [
        "files = os.listdir(data_dir/\"interim\"/VERSION_NAME)\n",
        "chunk_files = [f for f in files if f.startswith(\"large_rank_test\")]"
      ]
    },
    {
      "cell_type": "code",
      "execution_count": null,
      "metadata": {
        "id": "9KaJvmuXW-0X"
      },
      "outputs": [
        {
          "name": "stderr",
          "output_type": "stream",
          "text": [
            "100%|██████████| 42/42 [00:11<00:00,  3.51it/s]\n"
          ]
        }
      ],
      "source": [
        "test_l = []\n",
        "for f in tqdm(chunk_files):\n",
        "    tmp_df = pd.read_parquet(data_dir/\"interim\"/VERSION_NAME/f)\n",
        "    test_l.append(tmp_df)"
      ]
    },
    {
      "cell_type": "code",
      "execution_count": null,
      "metadata": {
        "id": "rwbyZtnmW_aI"
      },
      "outputs": [],
      "source": [
        "test_pred = pd.concat(test_l, ignore_index=True)"
      ]
    },
    {
      "cell_type": "code",
      "execution_count": null,
      "metadata": {
        "colab": {
          "base_uri": "https://localhost:8080/"
        },
        "id": "7RPcW1NOXZQp",
        "outputId": "bb5f3ea9-5171-43ed-b4b6-de7d4e8b5a3d"
      },
      "outputs": [
        {
          "data": {
            "text/plain": [
              "1371980"
            ]
          },
          "execution_count": 75,
          "metadata": {},
          "output_type": "execute_result"
        }
      ],
      "source": [
        "test_pred['customer_id'].nunique()"
      ]
    },
    {
      "cell_type": "code",
      "execution_count": null,
      "metadata": {
        "id": "L8kKD6C2XaO0"
      },
      "outputs": [],
      "source": [
        "test_pred.to_parquet(data_dir/\"processed\"/\"large_rank_test.pqt\")"
      ]
    }
  ],
  "metadata": {
    "colab": {
      "collapsed_sections": [
        "LX4M190s4pxo",
        "jywhBCAGGGQS",
        "7g3Hs0VC0U4-"
      ],
      "machine_shape": "hm",
      "name": "HM-RecLargeRecall-rank.ipynb",
      "provenance": []
    },
    "kernelspec": {
      "display_name": "Python 3",
      "language": "python",
      "name": "python3"
    },
    "language_info": {
      "codemirror_mode": {
        "name": "ipython",
        "version": 3
      },
      "file_extension": ".py",
      "mimetype": "text/x-python",
      "name": "python",
      "nbconvert_exporter": "python",
      "pygments_lexer": "ipython3",
      "version": "3.9.6"
    }
  },
  "nbformat": 4,
  "nbformat_minor": 0
}
