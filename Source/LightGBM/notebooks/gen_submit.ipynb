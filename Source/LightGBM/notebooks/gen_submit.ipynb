{
  "cells": [
    {
      "cell_type": "code",
      "execution_count": 1,
      "metadata": {
        "id": "gboISq82XUN1"
      },
      "outputs": [],
      "source": [
        "import pandas as pd\n",
        "from pandas.api.types import CategoricalDtype\n",
        "import numpy as np\n",
        "import seaborn as sns\n",
        "import matplotlib.pyplot as plt\n",
        "import lightgbm as lgb\n",
        "\n",
        "import pickle\n",
        "from tqdm import tqdm\n",
        "import gc\n",
        "from pathlib import Path"
      ]
    },
    {
      "cell_type": "code",
      "execution_count": 2,
      "metadata": {
        "id": "F6WO2VtEXefj"
      },
      "outputs": [],
      "source": [
        "import warnings\n",
        "import sys\n",
        "from IPython.core.interactiveshell import InteractiveShell\n",
        "\n",
        "warnings.filterwarnings(\"ignore\")\n",
        "sys.path.append(\"/Users/tuanthanh/Documents/KLTN/SourceClone/H-M-Fashion-RecSys/\") # path to the `src`` folder\n",
        "InteractiveShell.ast_node_interactivity = \"all\"\n",
        "tqdm.pandas()"
      ]
    },
    {
      "cell_type": "code",
      "execution_count": 3,
      "metadata": {
        "id": "5ZHkDegnyFcl"
      },
      "outputs": [],
      "source": [
        "from src.data import DataHelper\n",
        "from src.data.metrics import map_at_k, hr_at_k, recall_at_k, ndcg_at_k, mrr_at_k\n",
        "\n",
        "from src.utils import (\n",
        "    calc_valid_date,\n",
        "    merge_week_data,\n",
        "    reduce_mem_usage,\n",
        "    calc_embd_similarity,\n",
        ")"
      ]
    },
    {
      "cell_type": "code",
      "execution_count": 4,
      "metadata": {
        "id": "9YVC614joQqQ"
      },
      "outputs": [],
      "source": [
        "tqdm.pandas()"
      ]
    },
    {
      "cell_type": "code",
      "execution_count": 5,
      "metadata": {
        "id": "5xR9epc0yFco"
      },
      "outputs": [],
      "source": [
        "data_dir = Path(\"/Users/tuanthanh/Documents/KLTN/SourceClone/H-M-Fashion-RecSys/data/HM\")\n",
        "model_dir = Path(\"/Users/tuanthanh/Documents/KLTN/SourceClone/H-M-Fashion-RecSys/models/models_HM\")"
      ]
    },
    {
      "cell_type": "markdown",
      "metadata": {
        "id": "ORF4aRfcyFcr"
      },
      "source": [
        "Pepare data: encoding ids and preprocessing"
      ]
    },
    {
      "cell_type": "code",
      "execution_count": 6,
      "metadata": {
        "id": "2BPv2lcWGGQJ"
      },
      "outputs": [],
      "source": [
        "dh = DataHelper(data_dir)"
      ]
    },
    {
      "cell_type": "code",
      "execution_count": 7,
      "metadata": {
        "id": "TFmlEVaDyFcv"
      },
      "outputs": [],
      "source": [
        "# data = dh.preprocess_data(save=True, name=\"encoded_full\") # * run only once, processed data will be saved"
      ]
    },
    {
      "cell_type": "code",
      "execution_count": 8,
      "metadata": {
        "id": "i3ngtb7NUGbH"
      },
      "outputs": [],
      "source": [
        "data = dh.load_data(name=\"encoded_full\")"
      ]
    },
    {
      "cell_type": "markdown",
      "metadata": {
        "id": "iloRdv--RZKN"
      },
      "source": [
        "### Blend"
      ]
    },
    {
      "cell_type": "code",
      "execution_count": 9,
      "metadata": {
        "id": "wi_sTSTdRaqV"
      },
      "outputs": [],
      "source": [
        "pred1_lgb_rank = pd.read_parquet(data_dir/\"processed\"/\"large_rank_valid.pqt\")\n",
        "pred1_lgb_binary = pd.read_parquet(data_dir/\"processed\"/\"large_binary_valid.pqt\")\n",
        "pred1_nn = pd.read_parquet(data_dir/\"external\"/\"large_nn_valid.pqt\")\n",
        "pred1_nn.rename(columns={'article_id':'prediction'},inplace=True)"
      ]
    },
    {
      "cell_type": "code",
      "execution_count": 10,
      "metadata": {
        "id": "fmkAJixlUv4-"
      },
      "outputs": [],
      "source": [
        "pred2_lgb_rank = pd.read_parquet(data_dir/\"processed\"/\"small_rank_valid.pqt\")\n",
        "pred2_lgb_binary = pd.read_parquet(data_dir/\"processed\"/\"small_binary_valid.pqt\")\n",
        "pred2_nn = pd.read_parquet(data_dir/\"external\"/\"small_nn_valid.pqt\")\n",
        "pred2_nn.rename(columns={'article_id':'prediction'},inplace=True)"
      ]
    },
    {
      "cell_type": "code",
      "execution_count": 11,
      "metadata": {
        "id": "EwgnDCGyVcyZ"
      },
      "outputs": [],
      "source": [
        "pred1_lgb_binary = pred1_lgb_binary.merge(pred1_nn, on=['customer_id','prediction'], how='left')\n",
        "pred1_lgb_binary['prob'] = pred1_lgb_binary['prob_x'] + pred1_lgb_binary['prob_y']\n",
        "\n",
        "pred2_lgb_binary = pred2_lgb_binary.merge(pred2_nn, on=['customer_id','prediction'], how='left')\n",
        "pred2_lgb_binary['prob'] = pred2_lgb_binary['prob_x'] + pred2_lgb_binary['prob_y']"
      ]
    },
    {
      "cell_type": "code",
      "execution_count": 12,
      "metadata": {
        "id": "1WNVoMLrRwr0"
      },
      "outputs": [],
      "source": [
        "pred1_lgb_rank   = pred1_lgb_rank.sort_values(by='prob', ascending=False).reset_index(drop=True)\n",
        "pred1_lgb_binary = pred1_lgb_binary.sort_values(by='prob', ascending=False).reset_index(drop=True)\n",
        "pred2_lgb_rank   = pred2_lgb_rank.sort_values(by='prob', ascending=False).reset_index(drop=True)\n",
        "pred2_lgb_binary = pred2_lgb_binary.sort_values(by='prob', ascending=False).reset_index(drop=True)"
      ]
    },
    {
      "cell_type": "code",
      "execution_count": 13,
      "metadata": {
        "id": "2I_hnXKTRpUx"
      },
      "outputs": [],
      "source": [
        "pred1_lgb_rank   = pred1_lgb_rank.groupby('customer_id')['prediction'].apply(list).reset_index()\n",
        "pred1_lgb_binary = pred1_lgb_binary.groupby('customer_id')['prediction'].apply(list).reset_index()\n",
        "pred2_lgb_rank   = pred2_lgb_rank.groupby('customer_id')['prediction'].apply(list).reset_index()\n",
        "pred2_lgb_binary = pred2_lgb_binary.groupby('customer_id')['prediction'].apply(list).reset_index()"
      ]
    },
    {
      "cell_type": "code",
      "execution_count": 14,
      "metadata": {
        "id": "xR4WLDA8R72s"
      },
      "outputs": [],
      "source": [
        "pred1_lgb_rank.rename(columns={'prediction':'large_rank'},inplace=True)\n",
        "pred1_lgb_binary.rename(columns={'prediction':'large_binary'},inplace=True)\n",
        "pred2_lgb_rank.rename(columns={'prediction':'small_rank'},inplace=True)\n",
        "pred2_lgb_binary.rename(columns={'prediction':'small_binary'},inplace=True)"
      ]
    },
    {
      "cell_type": "code",
      "execution_count": 15,
      "metadata": {
        "id": "1UmeQHDZk-kw"
      },
      "outputs": [],
      "source": [
        "pred = (\n",
        "    pred1_lgb_rank.merge(pred1_lgb_binary, on=['customer_id'])\n",
        "                    .merge(pred2_lgb_rank, on=['customer_id'])\n",
        "                    .merge(pred2_lgb_binary, on=['customer_id'])\n",
        "                    )"
      ]
    },
    {
      "cell_type": "code",
      "execution_count": 16,
      "metadata": {
        "id": "Noz_a8LnShN8"
      },
      "outputs": [],
      "source": [
        "def cust_blend(dt, W = [1,1,1,1]):\n",
        "    #Create a list of all model predictions\n",
        "    REC = []\n",
        "\n",
        "    # Second Try\n",
        "    REC.append(dt['large_rank'])\n",
        "    REC.append(dt['large_binary'])\n",
        "    REC.append(dt['small_rank'])\n",
        "    REC.append(dt['small_binary'])\n",
        "\n",
        "    #Create a dictionary of items recommended.\n",
        "    #Assign a weight according the order of appearance and multiply by global weights\n",
        "    res = {}\n",
        "    for M in range(len(REC)):\n",
        "        for n, v in enumerate(REC[M]):\n",
        "            if v in res:\n",
        "                res[v] += (W[M]/(n+1))\n",
        "            else:\n",
        "                res[v] = (W[M]/(n+1))\n",
        "\n",
        "    # Sort dictionary by item weights\n",
        "    res = list(dict(sorted(res.items(), key=lambda item: -item[1])).keys())\n",
        "\n",
        "    # Return the top 12 items only\n",
        "    return res[:12]"
      ]
    },
    {
      "cell_type": "code",
      "execution_count": 17,
      "metadata": {
        "colab": {
          "base_uri": "https://localhost:8080/"
        },
        "id": "MDFqOjHAStR1",
        "outputId": "76fab036-9dbd-4428-cf5d-6ede02c14392"
      },
      "outputs": [
        {
          "name": "stderr",
          "output_type": "stream",
          "text": [
            "100%|██████████| 68984/68984 [00:02<00:00, 29344.78it/s]\n"
          ]
        }
      ],
      "source": [
        "pred['prediction'] = pred.progress_apply(cust_blend, W = [1.0, 1.3, 1.0, 1.3], axis=1)"
      ]
    },
    {
      "cell_type": "code",
      "execution_count": 18,
      "metadata": {
        "id": "syhsluxOTCRj"
      },
      "outputs": [],
      "source": [
        "label = pd.read_parquet(data_dir/\"processed\"/\"LargeRecall\"/\"week1_label.pqt\")\n",
        "label = pd.merge(label, pred, on=\"customer_id\", how=\"left\")"
      ]
    },
    {
      "cell_type": "code",
      "execution_count": 19,
      "metadata": {
        "colab": {
          "base_uri": "https://localhost:8080/"
        },
        "id": "l2uU9IojTO8p",
        "outputId": "07a115f4-92fd-4d2b-f7bb-088473455938"
      },
      "outputs": [
        {
          "data": {
            "text/plain": [
              "0.028300624460422388"
            ]
          },
          "execution_count": 19,
          "metadata": {},
          "output_type": "execute_result"
        },
        {
          "data": {
            "text/plain": [
              "0.02943935547687692"
            ]
          },
          "execution_count": 19,
          "metadata": {},
          "output_type": "execute_result"
        }
      ],
      "source": [
        "#MapK\n",
        "map_at_k(label[\"article_id\"], label[\"prediction\"], k=5)\n",
        "map_at_k(label[\"article_id\"], label[\"prediction\"], k=20)\n"
      ]
    },
    {
      "cell_type": "code",
      "execution_count": 20,
      "metadata": {},
      "outputs": [
        {
          "data": {
            "text/plain": [
              "0.04668818648196349"
            ]
          },
          "execution_count": 20,
          "metadata": {},
          "output_type": "execute_result"
        },
        {
          "data": {
            "text/plain": [
              "0.06750526919717242"
            ]
          },
          "execution_count": 20,
          "metadata": {},
          "output_type": "execute_result"
        }
      ],
      "source": [
        "#Recall\n",
        "recall_at_k(label[\"article_id\"], label[\"prediction\"], k=5)\n",
        "recall_at_k(label[\"article_id\"], label[\"prediction\"], k=20)"
      ]
    },
    {
      "cell_type": "code",
      "execution_count": 21,
      "metadata": {},
      "outputs": [
        {
          "data": {
            "text/plain": [
              "0.09044126174185319"
            ]
          },
          "execution_count": 21,
          "metadata": {},
          "output_type": "execute_result"
        },
        {
          "data": {
            "text/plain": [
              "0.1349008465731184"
            ]
          },
          "execution_count": 21,
          "metadata": {},
          "output_type": "execute_result"
        }
      ],
      "source": [
        "#HitRate\n",
        "hr_at_k(label[\"article_id\"], label[\"prediction\"], k=5)\n",
        "hr_at_k(label[\"article_id\"], label[\"prediction\"], k=20)"
      ]
    },
    {
      "cell_type": "code",
      "execution_count": 22,
      "metadata": {},
      "outputs": [
        {
          "data": {
            "text/plain": [
              "0.0387206876164103"
            ]
          },
          "execution_count": 22,
          "metadata": {},
          "output_type": "execute_result"
        },
        {
          "data": {
            "text/plain": [
              "0.044658269835736654"
            ]
          },
          "execution_count": 22,
          "metadata": {},
          "output_type": "execute_result"
        }
      ],
      "source": [
        "ndcg_at_k(label[\"article_id\"], label[\"prediction\"], k=5)\n",
        "ndcg_at_k(label[\"article_id\"], label[\"prediction\"], k=20)"
      ]
    },
    {
      "cell_type": "code",
      "execution_count": 23,
      "metadata": {},
      "outputs": [
        {
          "data": {
            "text/plain": [
              "0.05480159650546987"
            ]
          },
          "execution_count": 23,
          "metadata": {},
          "output_type": "execute_result"
        },
        {
          "data": {
            "text/plain": [
              "0.06017284797327996"
            ]
          },
          "execution_count": 23,
          "metadata": {},
          "output_type": "execute_result"
        }
      ],
      "source": [
        "mrr_at_k(label[\"article_id\"], label[\"prediction\"], k=5)\n",
        "mrr_at_k(label[\"article_id\"], label[\"prediction\"], k=20)"
      ]
    },
    {
      "cell_type": "markdown",
      "metadata": {
        "id": "OPdhQ_0RyFdF"
      },
      "source": [
        "### Test"
      ]
    },
    {
      "cell_type": "code",
      "execution_count": 24,
      "metadata": {
        "id": "AdZ_2zctgDzz"
      },
      "outputs": [],
      "source": [
        "pred1_lgb_rank = pd.read_parquet(data_dir/\"processed\"/\"large_rank_test.pqt\")\n",
        "pred1_lgb_binary = pd.read_parquet(data_dir/\"processed\"/\"large_binary_test.pqt\")\n",
        "pred1_nn = pd.read_parquet(data_dir/\"processed\"/\"large_nn_test.pqt\")\n",
        "# pred1_lgb_rank = pd.read_parquet(data_dir/\"processed\"/\"small_rank_test.pqt\")\n",
        "# pred1_lgb_binary = pd.read_parquet(data_dir/\"processed\"/\"small_binary_test.pqt\")\n",
        "# pred1_nn = pd.read_parquet(data_dir/\"processed\"/\"small_nn_test.pqt\")\n",
        "pred1_nn.rename(columns={'article_id':'prediction'},inplace=True)"
      ]
    },
    {
      "cell_type": "code",
      "execution_count": 25,
      "metadata": {
        "id": "YGkf0iWrlZl0"
      },
      "outputs": [
        {
          "ename": "KeyboardInterrupt",
          "evalue": "",
          "output_type": "error",
          "traceback": [
            "\u001b[0;31m---------------------------------------------------------------------------\u001b[0m",
            "\u001b[0;31mKeyboardInterrupt\u001b[0m                         Traceback (most recent call last)",
            "Cell \u001b[0;32mIn[25], line 1\u001b[0m\n\u001b[0;32m----> 1\u001b[0m pred1_lgb_rank \u001b[38;5;241m=\u001b[39m \u001b[43mpred1_lgb_rank\u001b[49m\u001b[38;5;241;43m.\u001b[39;49m\u001b[43msort_values\u001b[49m\u001b[43m(\u001b[49m\u001b[43mby\u001b[49m\u001b[38;5;241;43m=\u001b[39;49m\u001b[38;5;124;43m'\u001b[39;49m\u001b[38;5;124;43mprob\u001b[39;49m\u001b[38;5;124;43m'\u001b[39;49m\u001b[43m,\u001b[49m\u001b[43m \u001b[49m\u001b[43mascending\u001b[49m\u001b[38;5;241;43m=\u001b[39;49m\u001b[38;5;28;43;01mFalse\u001b[39;49;00m\u001b[43m)\u001b[49m\u001b[38;5;241m.\u001b[39mreset_index(drop\u001b[38;5;241m=\u001b[39m\u001b[38;5;28;01mTrue\u001b[39;00m)\n\u001b[1;32m      2\u001b[0m pred1_lgb_rank \u001b[38;5;241m=\u001b[39m pred1_lgb_rank\u001b[38;5;241m.\u001b[39mdrop_duplicates([\u001b[38;5;124m'\u001b[39m\u001b[38;5;124mcustomer_id\u001b[39m\u001b[38;5;124m'\u001b[39m,\u001b[38;5;124m'\u001b[39m\u001b[38;5;124mprediction\u001b[39m\u001b[38;5;124m'\u001b[39m])\n\u001b[1;32m      4\u001b[0m pred1_lgb_binary \u001b[38;5;241m=\u001b[39m pred1_lgb_binary\u001b[38;5;241m.\u001b[39msort_values(by\u001b[38;5;241m=\u001b[39m\u001b[38;5;124m'\u001b[39m\u001b[38;5;124mprob\u001b[39m\u001b[38;5;124m'\u001b[39m, ascending\u001b[38;5;241m=\u001b[39m\u001b[38;5;28;01mFalse\u001b[39;00m)\u001b[38;5;241m.\u001b[39mreset_index(drop\u001b[38;5;241m=\u001b[39m\u001b[38;5;28;01mTrue\u001b[39;00m)\n",
            "File \u001b[0;32m~/Library/Python/3.9/lib/python/site-packages/pandas/util/_decorators.py:331\u001b[0m, in \u001b[0;36mdeprecate_nonkeyword_arguments.<locals>.decorate.<locals>.wrapper\u001b[0;34m(*args, **kwargs)\u001b[0m\n\u001b[1;32m    325\u001b[0m \u001b[38;5;28;01mif\u001b[39;00m \u001b[38;5;28mlen\u001b[39m(args) \u001b[38;5;241m>\u001b[39m num_allow_args:\n\u001b[1;32m    326\u001b[0m     warnings\u001b[38;5;241m.\u001b[39mwarn(\n\u001b[1;32m    327\u001b[0m         msg\u001b[38;5;241m.\u001b[39mformat(arguments\u001b[38;5;241m=\u001b[39m_format_argument_list(allow_args)),\n\u001b[1;32m    328\u001b[0m         \u001b[38;5;167;01mFutureWarning\u001b[39;00m,\n\u001b[1;32m    329\u001b[0m         stacklevel\u001b[38;5;241m=\u001b[39mfind_stack_level(),\n\u001b[1;32m    330\u001b[0m     )\n\u001b[0;32m--> 331\u001b[0m \u001b[38;5;28;01mreturn\u001b[39;00m \u001b[43mfunc\u001b[49m\u001b[43m(\u001b[49m\u001b[38;5;241;43m*\u001b[39;49m\u001b[43margs\u001b[49m\u001b[43m,\u001b[49m\u001b[43m \u001b[49m\u001b[38;5;241;43m*\u001b[39;49m\u001b[38;5;241;43m*\u001b[39;49m\u001b[43mkwargs\u001b[49m\u001b[43m)\u001b[49m\n",
            "File \u001b[0;32m~/Library/Python/3.9/lib/python/site-packages/pandas/core/frame.py:6923\u001b[0m, in \u001b[0;36mDataFrame.sort_values\u001b[0;34m(self, by, axis, ascending, inplace, kind, na_position, ignore_index, key)\u001b[0m\n\u001b[1;32m   6920\u001b[0m     \u001b[38;5;28;01mif\u001b[39;00m \u001b[38;5;28misinstance\u001b[39m(ascending, (\u001b[38;5;28mtuple\u001b[39m, \u001b[38;5;28mlist\u001b[39m)):\n\u001b[1;32m   6921\u001b[0m         ascending \u001b[38;5;241m=\u001b[39m ascending[\u001b[38;5;241m0\u001b[39m]\n\u001b[0;32m-> 6923\u001b[0m     indexer \u001b[38;5;241m=\u001b[39m \u001b[43mnargsort\u001b[49m\u001b[43m(\u001b[49m\n\u001b[1;32m   6924\u001b[0m \u001b[43m        \u001b[49m\u001b[43mk\u001b[49m\u001b[43m,\u001b[49m\u001b[43m \u001b[49m\u001b[43mkind\u001b[49m\u001b[38;5;241;43m=\u001b[39;49m\u001b[43mkind\u001b[49m\u001b[43m,\u001b[49m\u001b[43m \u001b[49m\u001b[43mascending\u001b[49m\u001b[38;5;241;43m=\u001b[39;49m\u001b[43mascending\u001b[49m\u001b[43m,\u001b[49m\u001b[43m \u001b[49m\u001b[43mna_position\u001b[49m\u001b[38;5;241;43m=\u001b[39;49m\u001b[43mna_position\u001b[49m\u001b[43m,\u001b[49m\u001b[43m \u001b[49m\u001b[43mkey\u001b[49m\u001b[38;5;241;43m=\u001b[39;49m\u001b[43mkey\u001b[49m\n\u001b[1;32m   6925\u001b[0m \u001b[43m    \u001b[49m\u001b[43m)\u001b[49m\n\u001b[1;32m   6926\u001b[0m \u001b[38;5;28;01melse\u001b[39;00m:\n\u001b[1;32m   6927\u001b[0m     \u001b[38;5;28;01mreturn\u001b[39;00m \u001b[38;5;28mself\u001b[39m\u001b[38;5;241m.\u001b[39mcopy()\n",
            "File \u001b[0;32m~/Library/Python/3.9/lib/python/site-packages/pandas/core/sorting.py:438\u001b[0m, in \u001b[0;36mnargsort\u001b[0;34m(items, kind, ascending, na_position, key, mask)\u001b[0m\n\u001b[1;32m    436\u001b[0m     non_nans \u001b[38;5;241m=\u001b[39m non_nans[::\u001b[38;5;241m-\u001b[39m\u001b[38;5;241m1\u001b[39m]\n\u001b[1;32m    437\u001b[0m     non_nan_idx \u001b[38;5;241m=\u001b[39m non_nan_idx[::\u001b[38;5;241m-\u001b[39m\u001b[38;5;241m1\u001b[39m]\n\u001b[0;32m--> 438\u001b[0m indexer \u001b[38;5;241m=\u001b[39m non_nan_idx[\u001b[43mnon_nans\u001b[49m\u001b[38;5;241;43m.\u001b[39;49m\u001b[43margsort\u001b[49m\u001b[43m(\u001b[49m\u001b[43mkind\u001b[49m\u001b[38;5;241;43m=\u001b[39;49m\u001b[43mkind\u001b[49m\u001b[43m)\u001b[49m]\n\u001b[1;32m    439\u001b[0m \u001b[38;5;28;01mif\u001b[39;00m \u001b[38;5;129;01mnot\u001b[39;00m ascending:\n\u001b[1;32m    440\u001b[0m     indexer \u001b[38;5;241m=\u001b[39m indexer[::\u001b[38;5;241m-\u001b[39m\u001b[38;5;241m1\u001b[39m]\n",
            "\u001b[0;31mKeyboardInterrupt\u001b[0m: "
          ]
        }
      ],
      "source": [
        "pred1_lgb_rank = pred1_lgb_rank.sort_values(by='prob', ascending=False).reset_index(drop=True)\n",
        "pred1_lgb_rank = pred1_lgb_rank.drop_duplicates(['customer_id','prediction'])\n",
        "\n",
        "pred1_lgb_binary = pred1_lgb_binary.sort_values(by='prob', ascending=False).reset_index(drop=True)\n",
        "pred1_lgb_binary = pred1_lgb_binary.drop_duplicates(['customer_id','prediction'])\n",
        "\n",
        "pred1_nn = pred1_nn.sort_values(by='prob', ascending=False).reset_index(drop=True)\n",
        "pred1_nn = pred1_nn.drop_duplicates(['customer_id','prediction'])"
      ]
    },
    {
      "cell_type": "code",
      "execution_count": null,
      "metadata": {
        "id": "WUtCYAq3lrBO"
      },
      "outputs": [],
      "source": [
        "pred1_lgb_binary = pred1_lgb_binary.sort_values(by=['customer_id','prediction']).reset_index(drop=True)\n",
        "pred1_nn = pred1_nn.sort_values(by=['customer_id','prediction']).reset_index(drop=True)\n",
        "\n",
        "# * not using merge here to avoid memory error\n",
        "pred1_lgb_binary['prob2'] = pred1_lgb_binary['prob'] + pred1_nn['prob']\n",
        "pred1_lgb_binary = pred1_lgb_binary.sort_values(by='prob2', ascending=False).reset_index(drop=True)"
      ]
    },
    {
      "cell_type": "code",
      "execution_count": null,
      "metadata": {
        "colab": {
          "base_uri": "https://localhost:8080/"
        },
        "id": "YrVLaitUnGdF",
        "outputId": "a1313dea-58db-41a5-f57e-9ba30566c130"
      },
      "outputs": [
        {
          "name": "stderr",
          "output_type": "stream",
          "text": [
            "100%|██████████| 1371980/1371980 [00:38<00:00, 35712.21it/s]\n",
            "100%|██████████| 1371980/1371980 [00:35<00:00, 38128.53it/s]\n"
          ]
        }
      ],
      "source": [
        "pred1_lgb_rank   = pred1_lgb_rank.groupby('customer_id')['prediction'].progress_apply(list).reset_index()\n",
        "pred1_lgb_binary = pred1_lgb_binary.groupby('customer_id')['prediction'].progress_apply(list).reset_index()"
      ]
    },
    {
      "cell_type": "code",
      "execution_count": null,
      "metadata": {
        "id": "5SQgAvBNp6UB"
      },
      "outputs": [],
      "source": [
        "pred1_lgb_rank.to_parquet(data_dir/\"large_rank_test_new.pqt\")\n",
        "pred1_lgb_binary.to_parquet(data_dir/\"large_binary_test_new.pqt\")"
      ]
    },
    {
      "cell_type": "code",
      "execution_count": null,
      "metadata": {
        "id": "zlgAXzsQnF9n"
      },
      "outputs": [],
      "source": [
        "# * ------------------------------------------------------------"
      ]
    },
    {
      "cell_type": "code",
      "execution_count": null,
      "metadata": {
        "id": "NFiC3aK3gXf5"
      },
      "outputs": [],
      "source": [
        "pred2_lgb_rank = pd.read_parquet(data_dir/\"processed\"/\"small_rank_test.pqt\")\n",
        "pred2_lgb_binary = pd.read_parquet(data_dir/\"processed\"/\"small_binary_test.pqt\")\n",
        "pred2_nn = pd.read_parquet(data_dir/\"processed\"/\"small_nn_test.pqt\")\n",
        "pred2_nn.rename(columns={'article_id':'prediction'},inplace=True)"
      ]
    },
    {
      "cell_type": "code",
      "execution_count": null,
      "metadata": {
        "id": "uVCrvguroeVS"
      },
      "outputs": [],
      "source": [
        "pred2_lgb_rank = pred2_lgb_rank.sort_values(by='prob', ascending=False).reset_index(drop=True)\n",
        "pred2_lgb_rank = pred2_lgb_rank.drop_duplicates(['customer_id','prediction'])\n",
        "\n",
        "pred2_lgb_binary = pred2_lgb_binary.sort_values(by='prob', ascending=False).reset_index(drop=True)\n",
        "pred2_lgb_binary = pred2_lgb_binary.drop_duplicates(['customer_id','prediction'])\n",
        "\n",
        "pred2_nn = pred2_nn.sort_values(by='prob', ascending=False).reset_index(drop=True)\n",
        "pred2_nn = pred2_nn.drop_duplicates(['customer_id','prediction'])"
      ]
    },
    {
      "cell_type": "code",
      "execution_count": null,
      "metadata": {
        "id": "eoOCoYEKofOL"
      },
      "outputs": [],
      "source": [
        "pred2_lgb_binary = pred2_lgb_binary.sort_values(by=['customer_id','prediction']).reset_index(drop=True)\n",
        "pred2_nn = pred2_nn.sort_values(by=['customer_id','prediction']).reset_index(drop=True)\n",
        "\n",
        "pred2_lgb_binary['prob2'] = pred2_lgb_binary['prob'] + pred2_nn['prob']\n",
        "pred2_lgb_binary = pred2_lgb_binary.sort_values(by='prob2', ascending=False).reset_index(drop=True)"
      ]
    },
    {
      "cell_type": "code",
      "execution_count": null,
      "metadata": {
        "colab": {
          "base_uri": "https://localhost:8080/"
        },
        "id": "8C7olIhinXAN",
        "outputId": "293828ec-9e0b-4d3a-dc17-c380d05ecf8e"
      },
      "outputs": [
        {
          "name": "stderr",
          "output_type": "stream",
          "text": [
            "100%|██████████| 1371980/1371980 [00:39<00:00, 34394.36it/s]\n",
            "100%|██████████| 1371980/1371980 [00:45<00:00, 30081.73it/s]\n"
          ]
        }
      ],
      "source": [
        "pred2_lgb_rank   = pred2_lgb_rank.groupby('customer_id')['prediction'].progress_apply(list).reset_index()\n",
        "pred2_lgb_binary = pred2_lgb_binary.groupby('customer_id')['prediction'].progress_apply(list).reset_index()"
      ]
    },
    {
      "cell_type": "code",
      "execution_count": null,
      "metadata": {
        "colab": {
          "base_uri": "https://localhost:8080/"
        },
        "id": "GAN-Ayl160WP",
        "outputId": "e49e2123-9ef6-4a84-c8dc-c915fdb259cb"
      },
      "outputs": [
        {
          "data": {
            "text/plain": [
              "(1371980, 2)"
            ]
          },
          "execution_count": 30,
          "metadata": {},
          "output_type": "execute_result"
        }
      ],
      "source": [
        "pred2_lgb_rank.shape"
      ]
    },
    {
      "cell_type": "code",
      "execution_count": null,
      "metadata": {
        "id": "Z9GS2hQBqG0q"
      },
      "outputs": [],
      "source": [
        "# pred2_lgb_rank.to_parquet(data_dir/\"small_rank_test.pqt\")\n",
        "# pred2_lgb_binary.to_parquet(data_dir/\"small_binary_test.pqt\")"
      ]
    },
    {
      "cell_type": "code",
      "execution_count": null,
      "metadata": {
        "id": "Cfur-9Zoo-4E"
      },
      "outputs": [],
      "source": [
        "# ----------------------------------------------------------"
      ]
    },
    {
      "cell_type": "code",
      "execution_count": null,
      "metadata": {
        "id": "aP07ETVNqrxf"
      },
      "outputs": [],
      "source": [
        "pred1_lgb_rank.rename(columns={'prediction':'large_rank'},inplace=True)\n",
        "pred1_lgb_binary.rename(columns={'prediction':'large_binary'},inplace=True)\n",
        "pred2_lgb_rank.rename(columns={'prediction':'small_rank'},inplace=True)\n",
        "pred2_lgb_binary.rename(columns={'prediction':'small_binary'},inplace=True)"
      ]
    },
    {
      "cell_type": "code",
      "execution_count": null,
      "metadata": {
        "id": "f8Zk3h0Qphtu"
      },
      "outputs": [],
      "source": [
        "pred = pred2_lgb_rank.merge(pred2_lgb_binary, on=['customer_id'], how='left')\\\n",
        "                    .merge(pred1_lgb_rank, on=['customer_id'], how='left')\\\n",
        "                    .merge(pred1_lgb_binary, on=['customer_id'], how='left')"
      ]
    },
    {
      "cell_type": "code",
      "execution_count": null,
      "metadata": {
        "colab": {
          "base_uri": "https://localhost:8080/"
        },
        "id": "pjEwRB1Z8c22",
        "outputId": "12c2cdb0-5208-4e5c-e76c-28b7a4366414"
      },
      "outputs": [
        {
          "name": "stderr",
          "output_type": "stream",
          "text": [
            "100%|██████████| 1371980/1371980 [00:11<00:00, 119005.52it/s]\n",
            "100%|██████████| 1371980/1371980 [00:11<00:00, 114337.07it/s]\n"
          ]
        }
      ],
      "source": [
        "for f in ['large_rank','large_binary']:\n",
        "    pred[f] = pred.progress_apply(lambda x:x[f] if not pd.isna(np.array(x[f])).any() else [], axis=1)"
      ]
    },
    {
      "cell_type": "code",
      "execution_count": null,
      "metadata": {
        "id": "XGelzzCut2Kv"
      },
      "outputs": [],
      "source": [
        "def cust_blend(dt, W = [1,1]):\n",
        "    #Create a list of all model predictions\n",
        "    REC = []\n",
        "\n",
        "    # Second Try\n",
        "    REC.append(dt['large_rank'])\n",
        "    REC.append(dt['large_binary'])\n",
        "    REC.append(dt['small_rank'])\n",
        "    REC.append(dt['small_binary'])\n",
        "\n",
        "    #Create a dictionary of items recommended.\n",
        "    #Assign a weight according the order of appearance and multiply by global weights\n",
        "    res = {}\n",
        "    for M in range(len(REC)):\n",
        "        for n, v in enumerate(REC[M]):\n",
        "            if v in res:\n",
        "                res[v] += (W[M]/(n+1))\n",
        "            else:\n",
        "                res[v] = (W[M]/(n+1))\n",
        "\n",
        "    # Sort dictionary by item weights\n",
        "    res = list(dict(sorted(res.items(), key=lambda item: -item[1])).keys())\n",
        "\n",
        "    # Return the top 12 items only\n",
        "    return res[:12]"
      ]
    },
    {
      "cell_type": "code",
      "execution_count": null,
      "metadata": {
        "id": "EHmEwVhyphil"
      },
      "outputs": [
        {
          "name": "stderr",
          "output_type": "stream",
          "text": [
            "100%|██████████| 1371980/1371980 [00:54<00:00, 25301.19it/s]\n"
          ]
        }
      ],
      "source": [
        "pred['prediction'] = pred.progress_apply(cust_blend, W = [1.0, 1.3, 1.0, 1.3], axis=1) # , 1.0, 1.2"
      ]
    },
    {
      "cell_type": "code",
      "execution_count": null,
      "metadata": {
        "id": "2j8GWLt-phWx"
      },
      "outputs": [],
      "source": [
        "idx2uid = pickle.load(open(data_dir/\"index_id_map/user_index2id.pkl\", \"rb\"))\n",
        "idx2iid = pickle.load(open(data_dir/\"index_id_map/item_index2id.pkl\", \"rb\"))"
      ]
    },
    {
      "cell_type": "code",
      "execution_count": null,
      "metadata": {
        "id": "TC-P-z5CphHM"
      },
      "outputs": [],
      "source": [
        "def parse(x):\n",
        "    l = ['0'+str(idx2iid[i]) for i in x]\n",
        "    l = ' '.join(l[:12])\n",
        "    return l"
      ]
    },
    {
      "cell_type": "code",
      "execution_count": null,
      "metadata": {
        "colab": {
          "base_uri": "https://localhost:8080/"
        },
        "id": "epa6fmsVrIMt",
        "outputId": "7c0f522e-f285-4e05-8dd1-5a8575c5df98"
      },
      "outputs": [
        {
          "name": "stderr",
          "output_type": "stream",
          "text": [
            "100%|██████████| 1371980/1371980 [00:03<00:00, 365733.77it/s]\n"
          ]
        }
      ],
      "source": [
        "pred['prediction'] = pred['prediction'].progress_apply(lambda x: parse(x))"
      ]
    },
    {
      "cell_type": "code",
      "execution_count": null,
      "metadata": {
        "id": "QMLK8QK4rTP3"
      },
      "outputs": [],
      "source": [
        "uid2idx = pickle.load(open(data_dir/\"index_id_map/user_id2index.pkl\", \"rb\"))\n",
        "submission = pd.read_csv(data_dir/\"raw\"/'sample_submission.csv')\n",
        "submission['customer_id'] = submission['customer_id'].map(uid2idx)"
      ]
    },
    {
      "cell_type": "code",
      "execution_count": null,
      "metadata": {
        "id": "oKm-hQXSrUon"
      },
      "outputs": [],
      "source": [
        "del submission['prediction']\n",
        "submission = submission.merge(pred, on='customer_id', how='left')\n",
        "submission['customer_id'] = submission['customer_id'].map(idx2uid)"
      ]
    },
    {
      "cell_type": "code",
      "execution_count": null,
      "metadata": {
        "id": "_93vacCqsU6r"
      },
      "outputs": [],
      "source": [
        "submission = submission[['customer_id', 'prediction']]"
      ]
    },
    {
      "cell_type": "code",
      "execution_count": null,
      "metadata": {
        "id": "F-foFLIdrVqi"
      },
      "outputs": [],
      "source": [
        "submission.to_csv('large_recall.csv', index=False)"
      ]
    },
    {
      "cell_type": "code",
      "execution_count": null,
      "metadata": {
        "colab": {
          "base_uri": "https://localhost:8080/",
          "height": 206
        },
        "id": "tQLjEM-2t_WL",
        "outputId": "c09078fa-dee5-4be9-aa60-0b0d707f0649"
      },
      "outputs": [
        {
          "data": {
            "text/html": [
              "<div>\n",
              "<style scoped>\n",
              "    .dataframe tbody tr th:only-of-type {\n",
              "        vertical-align: middle;\n",
              "    }\n",
              "\n",
              "    .dataframe tbody tr th {\n",
              "        vertical-align: top;\n",
              "    }\n",
              "\n",
              "    .dataframe thead th {\n",
              "        text-align: right;\n",
              "    }\n",
              "</style>\n",
              "<table border=\"1\" class=\"dataframe\">\n",
              "  <thead>\n",
              "    <tr style=\"text-align: right;\">\n",
              "      <th></th>\n",
              "      <th>customer_id</th>\n",
              "      <th>prediction</th>\n",
              "    </tr>\n",
              "  </thead>\n",
              "  <tbody>\n",
              "    <tr>\n",
              "      <th>0</th>\n",
              "      <td>00000dbacae5abe5e23885899a1fa44253a17956c6d1c3...</td>\n",
              "      <td>0762846031 0924243002 0762846027 0751471043 07...</td>\n",
              "    </tr>\n",
              "    <tr>\n",
              "      <th>1</th>\n",
              "      <td>0000423b00ade91418cceaf3b26c6af3dd342b51fd051e...</td>\n",
              "      <td>0706016001 0915529003 0762846027 0751471001 07...</td>\n",
              "    </tr>\n",
              "    <tr>\n",
              "      <th>2</th>\n",
              "      <td>000058a12d5b43e67d225668fa1f8d618c13dc232df0ca...</td>\n",
              "      <td>0706016001 0794321007 0924243002 0448509014 07...</td>\n",
              "    </tr>\n",
              "    <tr>\n",
              "      <th>3</th>\n",
              "      <td>00005ca1c9ed5f5146b52ac8639a40ca9d57aeff4d1bd2...</td>\n",
              "      <td>0751471043 0762846027 0924243002 0918522001 04...</td>\n",
              "    </tr>\n",
              "    <tr>\n",
              "      <th>4</th>\n",
              "      <td>00006413d8573cd20ed7128e53b7b13819fe5cfc2d801f...</td>\n",
              "      <td>0896152002 0915529003 0896152001 0866731001 07...</td>\n",
              "    </tr>\n",
              "  </tbody>\n",
              "</table>\n",
              "</div>"
            ],
            "text/plain": [
              "                                         customer_id  \\\n",
              "0  00000dbacae5abe5e23885899a1fa44253a17956c6d1c3...   \n",
              "1  0000423b00ade91418cceaf3b26c6af3dd342b51fd051e...   \n",
              "2  000058a12d5b43e67d225668fa1f8d618c13dc232df0ca...   \n",
              "3  00005ca1c9ed5f5146b52ac8639a40ca9d57aeff4d1bd2...   \n",
              "4  00006413d8573cd20ed7128e53b7b13819fe5cfc2d801f...   \n",
              "\n",
              "                                          prediction  \n",
              "0  0762846031 0924243002 0762846027 0751471043 07...  \n",
              "1  0706016001 0915529003 0762846027 0751471001 07...  \n",
              "2  0706016001 0794321007 0924243002 0448509014 07...  \n",
              "3  0751471043 0762846027 0924243002 0918522001 04...  \n",
              "4  0896152002 0915529003 0896152001 0866731001 07...  "
            ]
          },
          "execution_count": 43,
          "metadata": {},
          "output_type": "execute_result"
        }
      ],
      "source": [
        "submission.head()"
      ]
    }
  ],
  "metadata": {
    "colab": {
      "collapsed_sections": [
        "LX4M190s4pxo",
        "jywhBCAGGGQS",
        "7g3Hs0VC0U4-"
      ],
      "machine_shape": "hm",
      "name": "gen_submit.ipynb",
      "provenance": []
    },
    "kernelspec": {
      "display_name": "Python 3",
      "language": "python",
      "name": "python3"
    },
    "language_info": {
      "codemirror_mode": {
        "name": "ipython",
        "version": 3
      },
      "file_extension": ".py",
      "mimetype": "text/x-python",
      "name": "python",
      "nbconvert_exporter": "python",
      "pygments_lexer": "ipython3",
      "version": "3.9.6"
    }
  },
  "nbformat": 4,
  "nbformat_minor": 0
}
