{
 "cells": [
  {
   "cell_type": "code",
   "execution_count": 410,
   "metadata": {
    "colab": {
     "base_uri": "https://localhost:8080/"
    },
    "executionInfo": {
     "elapsed": 3122,
     "status": "ok",
     "timestamp": 1652036916079,
     "user": {
      "displayName": "WP Zhang",
      "userId": "08181056311681578219"
     },
     "user_tz": 240
    },
    "id": "vt9B5f7NRIda",
    "outputId": "f459600e-c2b5-4a81-a439-7146da423a2d"
   },
   "outputs": [],
   "source": [
    "# !pip3 install tensorflow_addons"
   ]
  },
  {
   "cell_type": "code",
   "execution_count": 411,
   "metadata": {
    "executionInfo": {
     "elapsed": 5,
     "status": "ok",
     "timestamp": 1652036917112,
     "user": {
      "displayName": "WP Zhang",
      "userId": "08181056311681578219"
     },
     "user_tz": 240
    },
    "id": "_EiplKjw4dok"
   },
   "outputs": [],
   "source": [
    "\n",
    "import sys\n",
    "from IPython.core.interactiveshell import InteractiveShell\n",
    "import os\n",
    "os.environ['LDFLAGS'] = \"-L/opt/homebrew/opt/libomp/lib\"\n",
    "os.environ['CPPFLAGS'] = \"-I/opt/homebrew/opt/libomp/include\"\n",
    "sys.path.append(\"/Users/tuanthanh/Documents/KLTN/SourceClone/H-M-Fashion-RecSys/\")"
   ]
  },
  {
   "cell_type": "code",
   "execution_count": 412,
   "metadata": {},
   "outputs": [],
   "source": [
    "# !pip uninstall tensorflow keras protobuf tensorboard tensorflow-macos tensorflow-text tf-keras tf-models-official -y\n",
    "# !pip uninstall tensorflow-hub tensorflow-metadata -y\n"
   ]
  },
  {
   "cell_type": "code",
   "execution_count": 413,
   "metadata": {},
   "outputs": [],
   "source": [
    "# !pip3 install tensorflow==2.18.0\n",
    "# !pip3 install tf-keras==2.14.1 \n",
    "# !pip3 install protobuf==4.21.6\n",
    "# !pip3 install tensorflow-hub==0.16.1\n",
    "# !pip3 install tensorflow-metadata==1.17.0\n",
    "\n"
   ]
  },
  {
   "cell_type": "code",
   "execution_count": 414,
   "metadata": {},
   "outputs": [],
   "source": [
    "# !pip3 install tensorflow-macos==2.11.0\n",
    "# !pip3 install keras==2.11.0\n",
    "# !pip3 install protobuf==3.19.6\n",
    "# !pip3 install tensorboard==2.11.2\n",
    "# !pip3 install tensorflow-text==2.18.1\n",
    "# !pip3 install tf-keras==2.18.0\n",
    "# !pip3 install tf-models-official==2.18.0\n",
    "\n"
   ]
  },
  {
   "cell_type": "code",
   "execution_count": 415,
   "metadata": {},
   "outputs": [],
   "source": [
    "# !pip3 show tensorflow\n",
    "# !pip3 show tensorflow-macos\n",
    "# !pip3 show protobuf\n",
    "# !pip3 show tensorboard\n"
   ]
  },
  {
   "cell_type": "code",
   "execution_count": 416,
   "metadata": {
    "executionInfo": {
     "elapsed": 5702,
     "status": "ok",
     "timestamp": 1652036922809,
     "user": {
      "displayName": "WP Zhang",
      "userId": "08181056311681578219"
     },
     "user_tz": 240
    },
    "id": "kXPJ-c7F4fja"
   },
   "outputs": [],
   "source": [
    "# !pip uninstall tensorflow keras protobuf tensorboard tensorflow-macos -y\n",
    "\n",
    "# !pip3 install tensorflow==2.18.0 keras==2.9 protobuf==3.19.6 tensorboard==2.11.2 tensorflow-macos==2.11.0\n",
    "\n",
    "# !pip3 install patchify    \n",
    "# !pip3 install segmentation_models\n",
    "import sys\n",
    "import tensorflow as tf\n",
    "from tensorflow.keras.layers import Embedding, Input, Dense, Dropout, BatchNormalization, Concatenate\n",
    "import numpy as np\n",
    "import pandas as pd\n",
    "import gc\n",
    "# import tensorflow_addons as tfa\n"
   ]
  },
  {
   "cell_type": "code",
   "execution_count": 417,
   "metadata": {
    "executionInfo": {
     "elapsed": 11,
     "status": "ok",
     "timestamp": 1652036922811,
     "user": {
      "displayName": "WP Zhang",
      "userId": "08181056311681578219"
     },
     "user_tz": 240
    },
    "id": "dXrnVUXj7tT3"
   },
   "outputs": [],
   "source": [
    "from src.data import DataHelper\n",
    "from src.data.metrics_VB import map_at_k, recall_at_k, hr_at_k"
   ]
  },
  {
   "cell_type": "code",
   "execution_count": 418,
   "metadata": {
    "executionInfo": {
     "elapsed": 10,
     "status": "ok",
     "timestamp": 1652036922811,
     "user": {
      "displayName": "WP Zhang",
      "userId": "08181056311681578219"
     },
     "user_tz": 240
    },
    "id": "v9Qx0k0ZKRup"
   },
   "outputs": [],
   "source": [
    "import os\n",
    "from sklearn.feature_extraction.text import TfidfVectorizer\n",
    "from sklearn.decomposition import TruncatedSVD"
   ]
  },
  {
   "cell_type": "code",
   "execution_count": 419,
   "metadata": {
    "executionInfo": {
     "elapsed": 11,
     "status": "ok",
     "timestamp": 1652036922812,
     "user": {
      "displayName": "WP Zhang",
      "userId": "08181056311681578219"
     },
     "user_tz": 240
    },
    "id": "tJxGhYB45S5V"
   },
   "outputs": [],
   "source": [
    "from pathlib import Path\n",
    "from tqdm import tqdm\n",
    "\n",
    "import warnings\n",
    "warnings.filterwarnings('ignore')"
   ]
  },
  {
   "cell_type": "code",
   "execution_count": 420,
   "metadata": {
    "executionInfo": {
     "elapsed": 11,
     "status": "ok",
     "timestamp": 1652036922812,
     "user": {
      "displayName": "WP Zhang",
      "userId": "08181056311681578219"
     },
     "user_tz": 240
    },
    "id": "f2qZdUFqgtPF"
   },
   "outputs": [],
   "source": [
    "# os.environ['CUDA_VISIBLE_DEVICES'] = '-1'"
   ]
  },
  {
   "cell_type": "code",
   "execution_count": 421,
   "metadata": {
    "executionInfo": {
     "elapsed": 11,
     "status": "ok",
     "timestamp": 1652036922813,
     "user": {
      "displayName": "WP Zhang",
      "userId": "08181056311681578219"
     },
     "user_tz": 240
    },
    "id": "5mjYRXj54tY1"
   },
   "outputs": [],
   "source": [
    "RANK_EMBEDDING_DIM = 64\n",
    "BATCH_SIZE = 2**12\n",
    "NEPOCH = 20"
   ]
  },
  {
   "cell_type": "code",
   "execution_count": 422,
   "metadata": {
    "executionInfo": {
     "elapsed": 12,
     "status": "ok",
     "timestamp": 1652036922814,
     "user": {
      "displayName": "WP Zhang",
      "userId": "08181056311681578219"
     },
     "user_tz": 240
    },
    "id": "ImqKrQio47V1"
   },
   "outputs": [],
   "source": [
    "TRAIN_WEEK_NUM = 4\n",
    "WEEK_NUM = TRAIN_WEEK_NUM + 2\n",
    "\n",
    "VERSION_NAME = \"Recall 1\""
   ]
  },
  {
   "cell_type": "code",
   "execution_count": 423,
   "metadata": {
    "executionInfo": {
     "elapsed": 12,
     "status": "ok",
     "timestamp": 1652036922815,
     "user": {
      "displayName": "WP Zhang",
      "userId": "08181056311681578219"
     },
     "user_tz": 240
    },
    "id": "MS0MEj1z5Rxs"
   },
   "outputs": [],
   "source": [
    "data_dir = Path(\"/Users/tuanthanh/Documents/KLTN/SourceClone/H-M-Fashion-RecSys/data/Vibrent\")\n",
    "model_dir = Path(\"/Users/tuanthanh/Documents/KLTN/SourceClone/H-M-Fashion-RecSys/models/models_Vibrent\")\n",
    "# data_dir = Path(\"/Users/tuanthanh/Documents/KLTN/SourceClone/H-M-Fashion-RecSys/data/HM\")\n",
    "# model_dir = Path(\"/Users/tuanthanh/Documents/KLTN/SourceClone/H-M-Fashion-RecSys/models/models_HM\")"
   ]
  },
  {
   "cell_type": "code",
   "execution_count": 424,
   "metadata": {
    "executionInfo": {
     "elapsed": 3784,
     "status": "ok",
     "timestamp": 1652036926587,
     "user": {
      "displayName": "WP Zhang",
      "userId": "08181056311681578219"
     },
     "user_tz": 240
    },
    "id": "tbasc4Yn7vjP"
   },
   "outputs": [],
   "source": [
    "dh = DataHelper(data_dir)\n",
    "data = dh.load_data(name=\"encoded_full\")"
   ]
  },
  {
   "cell_type": "code",
   "execution_count": 425,
   "metadata": {
    "executionInfo": {
     "elapsed": 1275,
     "status": "ok",
     "timestamp": 1652036928072,
     "user": {
      "displayName": "WP Zhang",
      "userId": "08181056311681578219"
     },
     "user_tz": 240
    },
    "id": "Dvqsn-x2NSVR"
   },
   "outputs": [],
   "source": [
    "inter = data['inter']\n",
    "# H&M\n",
    "# inter = inter.loc[(inter.t_dat <= \"2020-08-19\")] \n",
    "# Vibrent\n",
    "inter = inter.loc[(inter.t_dat <= \"2023-10-30\")]"
   ]
  },
  {
   "cell_type": "markdown",
   "metadata": {
    "id": "ZvLo7j94F0l6"
   },
   "source": [
    "## Calculate & Load Embeddings"
   ]
  },
  {
   "cell_type": "code",
   "execution_count": 426,
   "metadata": {
    "executionInfo": {
     "elapsed": 2346,
     "status": "ok",
     "timestamp": 1652036930415,
     "user": {
      "displayName": "WP Zhang",
      "userId": "08181056311681578219"
     },
     "user_tz": 240
    },
    "id": "p-dWWWZ8F5Pk"
   },
   "outputs": [],
   "source": [
    "import numpy as np\n",
    "# article description - TFIDF - SVD\n",
    "if not os.path.exists(data_dir/'external/tfidf_item_embd.npy'):\n",
    "    articles = pd.read_csv(data_dir/'raw/articles.csv')\n",
    "\n",
    "    corpus = articles[[col for col in articles.columns if 'name' in col] + ['detail_desc']].T.apply(lambda x: ' '.join(map(str,x))).T\n",
    "\n",
    "    vectorizer = TfidfVectorizer(min_df=3)\n",
    "    X = vectorizer.fit_transform(corpus)\n",
    "    svd = TruncatedSVD(n_components=256, random_state=0)\n",
    "    tfidf_item = svd.fit_transform(X)\n",
    "    tfidf_item = np.concatenate([np.ones((1,256)), tfidf_item], axis=0)\n",
    "    tfidf_item.dump(data_dir/'external/tfidf_item_embd.npy')\n",
    "else:\n",
    "    tfidf_item = np.load(data_dir/'external/tfidf_item_embd.npy', allow_pickle=True)"
   ]
  },
  {
   "cell_type": "code",
   "execution_count": 427,
   "metadata": {
    "executionInfo": {
     "elapsed": 931,
     "status": "ok",
     "timestamp": 1652036931342,
     "user": {
      "displayName": "WP Zhang",
      "userId": "08181056311681578219"
     },
     "user_tz": 240
    },
    "id": "-36br0IjNpM7"
   },
   "outputs": [],
   "source": [
    "# article_id - customer_id TFIDF + SVD\n",
    "if not os.path.exists(data_dir/'external/tfidf_item_embd2.npy'):\n",
    "    corpus = inter.groupby('article_id').customer_id.apply(lambda x: ' '.join(map(str, x)))\n",
    "    article_ids = np.array(list(corpus.index))\n",
    "\n",
    "    vectorizer = TfidfVectorizer(min_df=3)\n",
    "    X = vectorizer.fit_transform(corpus)\n",
    "    svd = TruncatedSVD(n_components=128, random_state=0)\n",
    "    X_svd = svd.fit_transform(X)\n",
    "\n",
    "    item_num = data['item']['article_id'].nunique()\n",
    "    tfidf_item2 = np.ones((item_num+1, 128)) / 128\n",
    "    for i,iid in enumerate(article_ids):\n",
    "        tfidf_item2[iid,:] = X_svd[i,:]\n",
    "\n",
    "    tfidf_item2.dump(data_dir/'external/tfidf_item_embd2.npy')\n",
    "else:\n",
    "    tfidf_item2 = np.load(data_dir/'external/tfidf_item_embd2.npy', allow_pickle=True)"
   ]
  },
  {
   "cell_type": "code",
   "execution_count": 428,
   "metadata": {
    "executionInfo": {
     "elapsed": 14506,
     "status": "ok",
     "timestamp": 1652036945845,
     "user": {
      "displayName": "WP Zhang",
      "userId": "08181056311681578219"
     },
     "user_tz": 240
    },
    "id": "QF8DZs-wMkUl"
   },
   "outputs": [],
   "source": [
    "# customer_id - product_code TFIDF + SVD\n",
    "if not os.path.exists(data_dir/'external/tfidf_user_embd.npy'):\n",
    "    inter = inter.merge(data['item'][['article_id','product_code']], on=['article_id'], how='left')\n",
    "    corpus = inter.groupby('customer_id').product_code.apply(lambda x: ' '.join(map(str, x)))\n",
    "    customer_ids = np.array(list(corpus.index))\n",
    "\n",
    "    vectorizer = TfidfVectorizer(min_df=3)\n",
    "    X = vectorizer.fit_transform(corpus)\n",
    "    svd = TruncatedSVD(n_components=128, random_state=0)\n",
    "    X_svd = svd.fit_transform(X)\n",
    "\n",
    "    user_num = data['user']['customer_id'].nunique()\n",
    "    tfidf_user = np.ones((user_num+1, 128)) / 128\n",
    "    for i,uid in enumerate(customer_ids):\n",
    "        tfidf_user[uid,:] = X_svd[i,:]\n",
    "\n",
    "    tfidf_user.dump(data_dir/'external/tfidf_user_embd.npy')\n",
    "else:\n",
    "    tfidf_user = np.load(data_dir/'external/tfidf_user_embd.npy', allow_pickle=True)"
   ]
  },
  {
   "cell_type": "code",
   "execution_count": 429,
   "metadata": {
    "executionInfo": {
     "elapsed": 39774,
     "status": "ok",
     "timestamp": 1652036985605,
     "user": {
      "displayName": "WP Zhang",
      "userId": "08181056311681578219"
     },
     "user_tz": 240
    },
    "id": "M32FeEH_PS1w"
   },
   "outputs": [],
   "source": [
    "# * Load pre-trained embeddings\n",
    "w2v_user_embd = np.load(data_dir/'external'/'w2v_user_embd.npy', allow_pickle=True)\n",
    "w2v_item_embd = np.load(data_dir/'external'/'w2v_item_embd.npy', allow_pickle=True)\n",
    "w2v_product_embd = np.load(data_dir/'external'/'w2v_product_embd.npy', allow_pickle=True)\n",
    "# image_item_embd = np.load(data_dir/'external'/'image_embd.npy', allow_pickle=True)\n",
    "w2v_sg_user_embd = np.load(data_dir/'external'/'w2v_skipgram_user_embd.npy', allow_pickle=True)\n",
    "w2v_sg_item_embd = np.load(data_dir/'external'/'w2v_skipgram_item_embd.npy', allow_pickle=True)\n",
    "w2v_sg_product_embd = np.load(data_dir/'external'/'w2v_skipgram_product_embd.npy', allow_pickle=True)"
   ]
  },
  {
   "cell_type": "markdown",
   "metadata": {
    "id": "UiszC35_47or"
   },
   "source": [
    "## Load Candidates & Prepare Data"
   ]
  },
  {
   "cell_type": "code",
   "execution_count": 430,
   "metadata": {
    "colab": {
     "base_uri": "https://localhost:8080/"
    },
    "executionInfo": {
     "elapsed": 8449,
     "status": "ok",
     "timestamp": 1652036994037,
     "user": {
      "displayName": "WP Zhang",
      "userId": "08181056311681578219"
     },
     "user_tz": 240
    },
    "id": "g7KbLtnk4z0z",
    "outputId": "fc1b0792-4361-465a-c6b9-f8baa1edc582"
   },
   "outputs": [
    {
     "name": "stderr",
     "output_type": "stream",
     "text": [
      "100%|██████████| 5/5 [00:00<00:00, 118.62it/s]\n"
     ]
    }
   ],
   "source": [
    "candidates = {}\n",
    "labels = {}\n",
    "for i in tqdm(range(1, WEEK_NUM)):\n",
    "    candidates[i] = pd.read_parquet(data_dir/\"processed\"/VERSION_NAME/f\"week{i}_candidate.pqt\")\n",
    "    labels[i] = pd.read_parquet(data_dir/\"processed\"/VERSION_NAME/f\"week{i}_label.pqt\")"
   ]
  },
  {
   "cell_type": "code",
   "execution_count": 431,
   "metadata": {
    "executionInfo": {
     "elapsed": 9,
     "status": "ok",
     "timestamp": 1652036994038,
     "user": {
      "displayName": "WP Zhang",
      "userId": "08181056311681578219"
     },
     "user_tz": 240
    },
    "id": "TkNhkfuq5EPw"
   },
   "outputs": [],
   "source": [
    "feats = [\n",
    "    x\n",
    "    for x in candidates[1].columns\n",
    "    if x\n",
    "    not in [\n",
    "        \"label\",\n",
    "        \"sales_channel_id\",\n",
    "        \"t_dat\",\n",
    "        \"week\",\n",
    "        \"wv_similarity\",\n",
    "    ]\n",
    "]\n",
    "\n",
    "ids = [\"customer_id\", \"article_id\", \"product_code\"]\n",
    "dense_feats = [x for x in feats if x not in ids]"
   ]
  },
  {
   "cell_type": "code",
   "execution_count": 432,
   "metadata": {
    "colab": {
     "base_uri": "https://localhost:8080/"
    },
    "executionInfo": {
     "elapsed": 31307,
     "status": "ok",
     "timestamp": 1652037025337,
     "user": {
      "displayName": "WP Zhang",
      "userId": "08181056311681578219"
     },
     "user_tz": 240
    },
    "id": "dIfny2Isklqs",
    "outputId": "6a722cf6-5e1a-4928-b6e6-3569a819f7f7"
   },
   "outputs": [
    {
     "name": "stderr",
     "output_type": "stream",
     "text": [
      "100%|██████████| 115/115 [00:00<00:00, 2235.49it/s]\n"
     ]
    }
   ],
   "source": [
    "for f in tqdm(dense_feats):\n",
    "    for i in range(1,WEEK_NUM):\n",
    "        if f in candidates[i].columns:\n",
    "            candidates[i][f] = candidates[i][f].astype('float16')"
   ]
  },
  {
   "cell_type": "code",
   "execution_count": 433,
   "metadata": {
    "executionInfo": {
     "elapsed": 41619,
     "status": "ok",
     "timestamp": 1652037066952,
     "user": {
      "displayName": "WP Zhang",
      "userId": "08181056311681578219"
     },
     "user_tz": 240
    },
    "id": "bYWW99nD556M"
   },
   "outputs": [],
   "source": [
    "full_data = pd.concat([candidates[i] for i in range(1,WEEK_NUM)], ignore_index=True)\n",
    "\n",
    "\n",
    "inter = data['inter']\n",
    "inter = inter[inter['t_dat']<'2020-08-19'] # * start date of the last valid week\n",
    "inter['week'] = (pd.to_datetime('2020-09-29') - pd.to_datetime(inter['t_dat'])).dt.days // 7\n",
    "inter = inter.merge(data['item'][[\"article_id\", \"product_code\"]], on=\"article_id\", how=\"left\")\n",
    "\n",
    "tmp = inter.groupby('article_id').week.mean()\n",
    "full_data['article_time_mean'] = full_data['article_id'].map(tmp)\n",
    "\n",
    "tmp = inter.groupby('customer_id').week.nth(-1)\n",
    "full_data['customer_id_last_time'] = full_data['customer_id'].map(tmp)\n",
    "\n",
    "tmp = inter.groupby('customer_id').week.nth(0)\n",
    "full_data['customer_id_first_time'] = full_data['customer_id'].map(tmp)\n",
    "\n",
    "tmp = inter.groupby('customer_id').week.mean()\n",
    "full_data['customer_id_time_mean'] = full_data['customer_id'].map(tmp)\n",
    "\n",
    "full_data['customer_id_gap'] = full_data['customer_id_first_time'] - full_data['customer_id_last_time']\n",
    "extra_feats = [\n",
    "    'article_time_mean', \n",
    "    'customer_id_last_time', \n",
    "    'customer_id_first_time', \n",
    "    'customer_id_time_mean',\n",
    "    'customer_id_gap'\n",
    "]\n",
    "feats += extra_feats\n",
    "dense_feats += extra_feats\n",
    "\n",
    "for f in extra_feats:\n",
    "    full_data[f] = full_data[f].astype('float16')\n",
    "\n",
    "\n",
    "full_data = full_data[feats+['week','label']]\n",
    "gc.collect()\n",
    "\n",
    "\n",
    "train = full_data[full_data['week']>1]\n",
    "valid = full_data[full_data['week']==1]"
   ]
  },
  {
   "cell_type": "code",
   "execution_count": 434,
   "metadata": {
    "colab": {
     "base_uri": "https://localhost:8080/"
    },
    "executionInfo": {
     "elapsed": 51,
     "status": "ok",
     "timestamp": 1652037067241,
     "user": {
      "displayName": "WP Zhang",
      "userId": "08181056311681578219"
     },
     "user_tz": 240
    },
    "id": "pVcq5-t7zreT",
    "outputId": "8e90dac9-7f8d-4a1c-a200-dce2974f68a0"
   },
   "outputs": [
    {
     "data": {
      "text/plain": [
       "0"
      ]
     },
     "execution_count": 434,
     "metadata": {},
     "output_type": "execute_result"
    }
   ],
   "source": [
    "del candidates\n",
    "gc.collect()"
   ]
  },
  {
   "cell_type": "code",
   "execution_count": 435,
   "metadata": {
    "executionInfo": {
     "elapsed": 22,
     "status": "ok",
     "timestamp": 1652037067243,
     "user": {
      "displayName": "WP Zhang",
      "userId": "08181056311681578219"
     },
     "user_tz": 240
    },
    "id": "t8-Ohirc6SWH"
   },
   "outputs": [],
   "source": [
    "feat_dim = {}\n",
    "for feat in ids:\n",
    "    if feat in data['user'].columns:\n",
    "        feat_dim[feat] = int(data['user'][feat].max()) + 1\n",
    "    elif feat in data['item'].columns:\n",
    "        feat_dim[feat] = int(data['item'][feat].max()) + 1\n",
    "    else:\n",
    "        feat_dim[feat] = int(full_data[feat].max()) + 1"
   ]
  },
  {
   "cell_type": "code",
   "execution_count": 436,
   "metadata": {
    "colab": {
     "base_uri": "https://localhost:8080/"
    },
    "executionInfo": {
     "elapsed": 22,
     "status": "ok",
     "timestamp": 1652037067244,
     "user": {
      "displayName": "WP Zhang",
      "userId": "08181056311681578219"
     },
     "user_tz": 240
    },
    "id": "F9cISY640Y8x",
    "outputId": "a2c625cd-3968-40da-a64f-8197961d4103"
   },
   "outputs": [
    {
     "data": {
      "text/plain": [
       "0"
      ]
     },
     "execution_count": 436,
     "metadata": {},
     "output_type": "execute_result"
    }
   ],
   "source": [
    "del full_data\n",
    "gc.collect()"
   ]
  },
  {
   "cell_type": "code",
   "execution_count": 437,
   "metadata": {
    "colab": {
     "base_uri": "https://localhost:8080/"
    },
    "executionInfo": {
     "elapsed": 33004,
     "status": "ok",
     "timestamp": 1652037100234,
     "user": {
      "displayName": "WP Zhang",
      "userId": "08181056311681578219"
     },
     "user_tz": 240
    },
    "id": "AqVs0eQC0FRY",
    "outputId": "8d5a31b1-f69a-4a7b-faaf-b8dac1d6c5a5"
   },
   "outputs": [
    {
     "name": "stderr",
     "output_type": "stream",
     "text": [
      "120it [00:00, 14150.82it/s]\n"
     ]
    }
   ],
   "source": [
    "X_train1 = train[['customer_id', 'article_id', 'product_code']].values.astype('int32')\n",
    "X_train2 = np.zeros((X_train1.shape[0], len(dense_feats)), dtype='float32')\n",
    "for i,f in tqdm(enumerate(dense_feats)):\n",
    "    X_train2[:, i] = np.nan_to_num(train[f].values).astype('float32')\n",
    "    del train[f]\n",
    "y_train = train['label'].values"
   ]
  },
  {
   "cell_type": "code",
   "execution_count": 438,
   "metadata": {
    "colab": {
     "base_uri": "https://localhost:8080/"
    },
    "executionInfo": {
     "elapsed": 10314,
     "status": "ok",
     "timestamp": 1652037110533,
     "user": {
      "displayName": "WP Zhang",
      "userId": "08181056311681578219"
     },
     "user_tz": 240
    },
    "id": "54XxZ1OP0Scb",
    "outputId": "2a347706-2da7-4393-beda-03edf246f054"
   },
   "outputs": [
    {
     "name": "stderr",
     "output_type": "stream",
     "text": [
      "120it [00:00, 13761.59it/s]\n"
     ]
    }
   ],
   "source": [
    "X_test1 = valid[['customer_id', 'article_id', 'product_code']].values.astype('int32')\n",
    "X_test2 = np.zeros((X_test1.shape[0], len(dense_feats)), dtype='float32')\n",
    "for i,f in tqdm(enumerate(dense_feats)):\n",
    "    X_test2[:, i] = np.nan_to_num(valid[f].values).astype('float32')\n",
    "    del valid[f]\n",
    "y_test = valid['label'].values"
   ]
  },
  {
   "cell_type": "markdown",
   "metadata": {
    "id": "VxUVZlxJ0Y8y"
   },
   "source": [
    "## Train Model"
   ]
  },
  {
   "cell_type": "code",
   "execution_count": 439,
   "metadata": {
    "executionInfo": {
     "elapsed": 15,
     "status": "ok",
     "timestamp": 1652037110534,
     "user": {
      "displayName": "WP Zhang",
      "userId": "08181056311681578219"
     },
     "user_tz": 240
    },
    "id": "B1ZH721w5pSG"
   },
   "outputs": [],
   "source": [
    "customer_embd_layer_1 = Embedding(\n",
    "    feat_dim[\"customer_id\"], 128, weights=[w2v_sg_user_embd], trainable=False\n",
    ")\n",
    "customer_embd_layer_2 = Embedding(\n",
    "    feat_dim[\"customer_id\"], 128, weights=[w2v_user_embd], trainable=False\n",
    ")\n",
    "customer_embd_layer_3 = Embedding(\n",
    "    feat_dim[\"customer_id\"], 128, weights=[tfidf_user], trainable=False\n",
    ")"
   ]
  },
  {
   "cell_type": "code",
   "execution_count": 440,
   "metadata": {
    "executionInfo": {
     "elapsed": 14,
     "status": "ok",
     "timestamp": 1652037110534,
     "user": {
      "displayName": "WP Zhang",
      "userId": "08181056311681578219"
     },
     "user_tz": 240
    },
    "id": "1S2eMLNp5H5x"
   },
   "outputs": [],
   "source": [
    "article_embd_layer_1 = Embedding(\n",
    "    feat_dim[\"article_id\"], 128, weights=[w2v_sg_item_embd], trainable=False\n",
    ")\n",
    "\n",
    "article_embd_layer_2 = Embedding(\n",
    "    feat_dim[\"article_id\"], 128, weights=[w2v_item_embd], trainable=False\n",
    ")\n",
    "\n",
    "article_embd_layer_3 = Embedding(\n",
    "    feat_dim[\"article_id\"], 256, weights=[tfidf_item], trainable=False\n",
    ")\n",
    "\n",
    "article_embd_layer_4 = Embedding(\n",
    "    feat_dim[\"article_id\"], 128, weights=[tfidf_item2], trainable=False\n",
    ")\n",
    "# H&M\n",
    "# article_embd_layer_5 = Embedding(\n",
    "#     feat_dim[\"article_id\"], 512, weights=[image_item_embd], trainable=False\n",
    "# )"
   ]
  },
  {
   "cell_type": "code",
   "execution_count": 441,
   "metadata": {
    "executionInfo": {
     "elapsed": 254,
     "status": "ok",
     "timestamp": 1652037110774,
     "user": {
      "displayName": "WP Zhang",
      "userId": "08181056311681578219"
     },
     "user_tz": 240
    },
    "id": "bfru5_xrg8qh"
   },
   "outputs": [],
   "source": [
    "product_embd_layer_1 = Embedding(\n",
    "    feat_dim[\"product_code\"], 128, weights=[w2v_sg_product_embd], trainable=False\n",
    ")\n",
    "product_embd_layer_2 = Embedding(\n",
    "    feat_dim[\"product_code\"], 128, weights=[w2v_product_embd], trainable=False\n",
    ")"
   ]
  },
  {
   "cell_type": "code",
   "execution_count": 442,
   "metadata": {
    "executionInfo": {
     "elapsed": 2277,
     "status": "ok",
     "timestamp": 1652037113050,
     "user": {
      "displayName": "WP Zhang",
      "userId": "08181056311681578219"
     },
     "user_tz": 240
    },
    "id": "psg5LLL94URR"
   },
   "outputs": [],
   "source": [
    "inputs1 = Input(shape=X_train1.shape[1:], dtype=tf.int64)\n",
    "inputs2 = Input(shape=X_train2.shape[1:], dtype=tf.float32)\n",
    "\n",
    "# No need to cast inputs1; it's already a symbolic tensor\n",
    "x_c_id1 = customer_embd_layer_1(inputs1[:, 0])\n",
    "x_c_id2 = customer_embd_layer_2(inputs1[:, 0])\n",
    "x_c_id3 = customer_embd_layer_3(inputs1[:, 0])\n",
    "\n",
    "x_a_id1 = article_embd_layer_1(inputs1[:, 1])\n",
    "x_a_id2 = article_embd_layer_2(inputs1[:, 1])\n",
    "x_a_id3 = article_embd_layer_3(inputs1[:, 1])\n",
    "x_a_id3 = Dense(128)(x_a_id3)\n",
    "x_a_id4 = article_embd_layer_4(inputs1[:, 1])\n",
    "# H&M\n",
    "# x_a_id5 = article_embd_layer_5(inputs1[:, 1])\n",
    "# x_a_id5 = Dense(128)(x_a_id5)\n",
    "\n",
    "x_p_id1 = product_embd_layer_1(inputs1[:, 2])\n",
    "x_p_id2 = product_embd_layer_2(inputs1[:, 2])\n",
    "\n",
    "x_id = Concatenate(axis=-1)([\n",
    "    x_c_id1, x_c_id2,\n",
    "    x_a_id1, x_a_id2, x_a_id3, x_a_id4, # x_a_id5,\n",
    "    x_p_id1, x_p_id2,\n",
    "])\n",
    "\n",
    "x0 = Concatenate(axis=-1)([x_id, BatchNormalization()(inputs2)])\n",
    "\n",
    "x = Dropout(0.3)(x0)\n",
    "x = Dense(512, activation='swish')(x)\n",
    "x = Dropout(0.3)(x)\n",
    "x = Dense(256, activation='swish')(x)\n",
    "\n",
    "x = Concatenate(axis=-1)([x, x0])\n",
    "x = Dropout(0.3)(x)\n",
    "\n",
    "output = Dense(1, activation='sigmoid')(x)\n",
    "\n",
    "model = tf.keras.Model(inputs=[inputs1, inputs2], outputs=[output])\n",
    "\n",
    "model.compile(\n",
    "    optimizer=tf.keras.optimizers.Adam(learning_rate=0.001, weight_decay=1e-4),\n",
    "    loss='binary_crossentropy',\n",
    "    metrics=['AUC']\n",
    ")\n"
   ]
  },
  {
   "cell_type": "code",
   "execution_count": 443,
   "metadata": {
    "executionInfo": {
     "elapsed": 4,
     "status": "ok",
     "timestamp": 1652037113051,
     "user": {
      "displayName": "WP Zhang",
      "userId": "08181056311681578219"
     },
     "user_tz": 240
    },
    "id": "K6Um4beR62FC"
   },
   "outputs": [
    {
     "name": "stdout",
     "output_type": "stream",
     "text": [
      "Epoch 1/30\n",
      "\u001b[1m1/1\u001b[0m \u001b[32m━━━━━━━━━━━━━━━━━━━━\u001b[0m\u001b[37m\u001b[0m \u001b[1m1s\u001b[0m 1s/step - AUC: 0.6340 - loss: 0.7674 - val_AUC: 0.3832 - val_loss: 0.1427\n",
      "Epoch 2/30\n",
      "\u001b[1m1/1\u001b[0m \u001b[32m━━━━━━━━━━━━━━━━━━━━\u001b[0m\u001b[37m\u001b[0m \u001b[1m0s\u001b[0m 64ms/step - AUC: 0.6866 - loss: 0.5563 - val_AUC: 0.5209 - val_loss: 0.1543\n",
      "Epoch 3/30\n",
      "\u001b[1m1/1\u001b[0m \u001b[32m━━━━━━━━━━━━━━━━━━━━\u001b[0m\u001b[37m\u001b[0m \u001b[1m0s\u001b[0m 64ms/step - AUC: 0.5878 - loss: 0.3960 - val_AUC: 0.5391 - val_loss: 0.1787\n",
      "Epoch 4/30\n",
      "\u001b[1m1/1\u001b[0m \u001b[32m━━━━━━━━━━━━━━━━━━━━\u001b[0m\u001b[37m\u001b[0m \u001b[1m0s\u001b[0m 59ms/step - AUC: 0.7467 - loss: 0.2574 - val_AUC: 0.5000 - val_loss: 0.2076\n",
      "Epoch 5/30\n",
      "\u001b[1m1/1\u001b[0m \u001b[32m━━━━━━━━━━━━━━━━━━━━\u001b[0m\u001b[37m\u001b[0m \u001b[1m0s\u001b[0m 60ms/step - AUC: 0.6135 - loss: 0.1569 - val_AUC: 0.5000 - val_loss: 0.2395\n",
      "Epoch 6/30\n",
      "\u001b[1m1/1\u001b[0m \u001b[32m━━━━━━━━━━━━━━━━━━━━\u001b[0m\u001b[37m\u001b[0m \u001b[1m0s\u001b[0m 65ms/step - AUC: 0.6956 - loss: 0.0965 - val_AUC: 0.5000 - val_loss: 0.2719\n",
      "Epoch 7/30\n",
      "\u001b[1m1/1\u001b[0m \u001b[32m━━━━━━━━━━━━━━━━━━━━\u001b[0m\u001b[37m\u001b[0m \u001b[1m0s\u001b[0m 73ms/step - AUC: 0.7263 - loss: 0.0698 - val_AUC: 0.5000 - val_loss: 0.3022\n",
      "Epoch 8/30\n",
      "\u001b[1m1/1\u001b[0m \u001b[32m━━━━━━━━━━━━━━━━━━━━\u001b[0m\u001b[37m\u001b[0m \u001b[1m0s\u001b[0m 71ms/step - AUC: 0.6361 - loss: 0.0661 - val_AUC: 0.5000 - val_loss: 0.3268\n",
      "Epoch 9/30\n",
      "\u001b[1m1/1\u001b[0m \u001b[32m━━━━━━━━━━━━━━━━━━━━\u001b[0m\u001b[37m\u001b[0m \u001b[1m0s\u001b[0m 64ms/step - AUC: 0.6699 - loss: 0.0692 - val_AUC: 0.5000 - val_loss: 0.3439\n",
      "Epoch 10/30\n",
      "\u001b[1m1/1\u001b[0m \u001b[32m━━━━━━━━━━━━━━━━━━━━\u001b[0m\u001b[37m\u001b[0m \u001b[1m0s\u001b[0m 69ms/step - AUC: 0.5235 - loss: 0.0773 - val_AUC: 0.5000 - val_loss: 0.3525\n",
      "Epoch 11/30\n",
      "\u001b[1m1/1\u001b[0m \u001b[32m━━━━━━━━━━━━━━━━━━━━\u001b[0m\u001b[37m\u001b[0m \u001b[1m0s\u001b[0m 62ms/step - AUC: 0.4991 - loss: 0.0887 - val_AUC: 0.5000 - val_loss: 0.3524\n",
      "Epoch 12/30\n",
      "\u001b[1m1/1\u001b[0m \u001b[32m━━━━━━━━━━━━━━━━━━━━\u001b[0m\u001b[37m\u001b[0m \u001b[1m0s\u001b[0m 58ms/step - AUC: 0.4991 - loss: 0.0962 - val_AUC: 0.5000 - val_loss: 0.3452\n",
      "Epoch 13/30\n",
      "\u001b[1m1/1\u001b[0m \u001b[32m━━━━━━━━━━━━━━━━━━━━\u001b[0m\u001b[37m\u001b[0m \u001b[1m0s\u001b[0m 151ms/step - AUC: 0.4996 - loss: 0.0953 - val_AUC: 0.5000 - val_loss: 0.3326\n",
      "Epoch 14/30\n",
      "\u001b[1m1/1\u001b[0m \u001b[32m━━━━━━━━━━━━━━━━━━━━\u001b[0m\u001b[37m\u001b[0m \u001b[1m0s\u001b[0m 68ms/step - AUC: 0.5000 - loss: 0.1001 - val_AUC: 0.5000 - val_loss: 0.3151\n",
      "Epoch 15/30\n",
      "\u001b[1m1/1\u001b[0m \u001b[32m━━━━━━━━━━━━━━━━━━━━\u001b[0m\u001b[37m\u001b[0m \u001b[1m0s\u001b[0m 66ms/step - AUC: 0.5000 - loss: 0.1002 - val_AUC: 0.5000 - val_loss: 0.2950\n",
      "Epoch 16/30\n",
      "\u001b[1m1/1\u001b[0m \u001b[32m━━━━━━━━━━━━━━━━━━━━\u001b[0m\u001b[37m\u001b[0m \u001b[1m0s\u001b[0m 64ms/step - AUC: 0.5000 - loss: 0.1005 - val_AUC: 0.5000 - val_loss: 0.2732\n",
      "Epoch 17/30\n",
      "\u001b[1m1/1\u001b[0m \u001b[32m━━━━━━━━━━━━━━━━━━━━\u001b[0m\u001b[37m\u001b[0m \u001b[1m0s\u001b[0m 67ms/step - AUC: 0.5000 - loss: 0.0941 - val_AUC: 0.5000 - val_loss: 0.2508\n",
      "Epoch 18/30\n",
      "\u001b[1m1/1\u001b[0m \u001b[32m━━━━━━━━━━━━━━━━━━━━\u001b[0m\u001b[37m\u001b[0m \u001b[1m0s\u001b[0m 63ms/step - AUC: 0.4996 - loss: 0.0922 - val_AUC: 0.5000 - val_loss: 0.2279\n",
      "Epoch 19/30\n",
      "\u001b[1m1/1\u001b[0m \u001b[32m━━━━━━━━━━━━━━━━━━━━\u001b[0m\u001b[37m\u001b[0m \u001b[1m0s\u001b[0m 60ms/step - AUC: 0.5623 - loss: 0.0836 - val_AUC: 0.5000 - val_loss: 0.2063\n",
      "Epoch 20/30\n",
      "\u001b[1m1/1\u001b[0m \u001b[32m━━━━━━━━━━━━━━━━━━━━\u001b[0m\u001b[37m\u001b[0m \u001b[1m0s\u001b[0m 61ms/step - AUC: 0.7555 - loss: 0.0772 - val_AUC: 0.4956 - val_loss: 0.1863\n",
      "Epoch 21/30\n",
      "\u001b[1m1/1\u001b[0m \u001b[32m━━━━━━━━━━━━━━━━━━━━\u001b[0m\u001b[37m\u001b[0m \u001b[1m0s\u001b[0m 68ms/step - AUC: 0.7949 - loss: 0.0736 - val_AUC: 0.4849 - val_loss: 0.1685\n",
      "Epoch 22/30\n",
      "\u001b[1m1/1\u001b[0m \u001b[32m━━━━━━━━━━━━━━━━━━━━\u001b[0m\u001b[37m\u001b[0m \u001b[1m0s\u001b[0m 73ms/step - AUC: 0.7754 - loss: 0.0678 - val_AUC: 0.5435 - val_loss: 0.1534\n",
      "Epoch 23/30\n",
      "\u001b[1m1/1\u001b[0m \u001b[32m━━━━━━━━━━━━━━━━━━━━\u001b[0m\u001b[37m\u001b[0m \u001b[1m0s\u001b[0m 65ms/step - AUC: 0.8080 - loss: 0.0633 - val_AUC: 0.5246 - val_loss: 0.1418\n",
      "Epoch 24/30\n",
      "\u001b[1m1/1\u001b[0m \u001b[32m━━━━━━━━━━━━━━━━━━━━\u001b[0m\u001b[37m\u001b[0m \u001b[1m0s\u001b[0m 63ms/step - AUC: 0.7922 - loss: 0.0631 - val_AUC: 0.5718 - val_loss: 0.1340\n",
      "Epoch 25/30\n",
      "\u001b[1m1/1\u001b[0m \u001b[32m━━━━━━━━━━━━━━━━━━━━\u001b[0m\u001b[37m\u001b[0m \u001b[1m0s\u001b[0m 113ms/step - AUC: 0.7875 - loss: 0.0609 - val_AUC: 0.5471 - val_loss: 0.1302\n",
      "Epoch 26/30\n",
      "\u001b[1m1/1\u001b[0m \u001b[32m━━━━━━━━━━━━━━━━━━━━\u001b[0m\u001b[37m\u001b[0m \u001b[1m0s\u001b[0m 60ms/step - AUC: 0.7922 - loss: 0.0584 - val_AUC: 0.5428 - val_loss: 0.1301\n",
      "Epoch 27/30\n",
      "\u001b[1m1/1\u001b[0m \u001b[32m━━━━━━━━━━━━━━━━━━━━\u001b[0m\u001b[37m\u001b[0m \u001b[1m0s\u001b[0m 62ms/step - AUC: 0.7989 - loss: 0.0553 - val_AUC: 0.5401 - val_loss: 0.1323\n",
      "Epoch 28/30\n",
      "\u001b[1m1/1\u001b[0m \u001b[32m━━━━━━━━━━━━━━━━━━━━\u001b[0m\u001b[37m\u001b[0m \u001b[1m0s\u001b[0m 61ms/step - AUC: 0.8184 - loss: 0.0587 - val_AUC: 0.5332 - val_loss: 0.1353\n",
      "Epoch 29/30\n",
      "\u001b[1m1/1\u001b[0m \u001b[32m━━━━━━━━━━━━━━━━━━━━\u001b[0m\u001b[37m\u001b[0m \u001b[1m0s\u001b[0m 63ms/step - AUC: 0.8412 - loss: 0.0572 - val_AUC: 0.5546 - val_loss: 0.1378\n",
      "Epoch 30/30\n",
      "\u001b[1m1/1\u001b[0m \u001b[32m━━━━━━━━━━━━━━━━━━━━\u001b[0m\u001b[37m\u001b[0m \u001b[1m0s\u001b[0m 65ms/step - AUC: 0.8144 - loss: 0.0596 - val_AUC: 0.5393 - val_loss: 0.1384\n"
     ]
    }
   ],
   "source": [
    "\n",
    "early_stop = tf.keras.callbacks.EarlyStopping(\n",
    "    monitor='val_auc',\n",
    "    patience=10,\n",
    "    mode='max'\n",
    ")\n",
    "\n",
    "checkpoint = tf.keras.callbacks.ModelCheckpoint(\n",
    "    filepath=str(model_dir / 'small_nn.weights.h5'),\n",
    "    save_weights_only=True,\n",
    "    monitor='val_auc',\n",
    "    mode='max',\n",
    "    save_best_only=True\n",
    ")\n",
    "\n",
    "history = model.fit(\n",
    "    [X_train1, X_train2], y_train.astype(int), \n",
    "    shuffle=True,\n",
    "    batch_size=2048,\n",
    "    validation_data=([X_test1, X_test2], y_test.astype(int)),\n",
    "    epochs=30,\n",
    "    callbacks=[checkpoint, early_stop]\n",
    ")"
   ]
  },
  {
   "cell_type": "code",
   "execution_count": 444,
   "metadata": {},
   "outputs": [
    {
     "name": "stdout",
     "output_type": "stream",
     "text": [
      "Best model saved at: -inf\n"
     ]
    }
   ],
   "source": [
    "print(\"Best model saved at:\", checkpoint.best)"
   ]
  },
  {
   "cell_type": "code",
   "execution_count": 445,
   "metadata": {},
   "outputs": [],
   "source": [
    "model.save(str(model_dir / 'small_nn.weights.keras'))  # Lưu mô hình thủ công sau khi huấn luyện"
   ]
  },
  {
   "cell_type": "code",
   "execution_count": 446,
   "metadata": {
    "executionInfo": {
     "elapsed": 3,
     "status": "ok",
     "timestamp": 1652037113051,
     "user": {
      "displayName": "WP Zhang",
      "userId": "08181056311681578219"
     },
     "user_tz": 240
    },
    "id": "QGW114IL7I9C"
   },
   "outputs": [
    {
     "name": "stdout",
     "output_type": "stream",
     "text": [
      "\u001b[1m1/1\u001b[0m \u001b[32m━━━━━━━━━━━━━━━━━━━━\u001b[0m\u001b[37m\u001b[0m \u001b[1m0s\u001b[0m 76ms/step\n"
     ]
    },
    {
     "data": {
      "text/plain": [
       "0.20860942647499248"
      ]
     },
     "execution_count": 446,
     "metadata": {},
     "output_type": "execute_result"
    }
   ],
   "source": [
    "model.load_weights(model_dir/'small_nn.weights.keras')\n",
    "probs = model.predict([X_test1, X_test2], batch_size=4096)\n",
    "label = data['inter'][data['inter']['t_dat']>='2020-09-16']\n",
    "label = label.groupby('customer_id')['article_id'].apply(list).reset_index()\n",
    "\n",
    "valid['prob'] = probs\n",
    "pred = valid.sort_values(by='prob',ascending=False).reset_index(drop=True)\n",
    "pred = pred.groupby('customer_id')['article_id'].apply(list).reset_index()\n",
    "pred.columns = ['customer_id','prediction']\n",
    "\n",
    "label = label.merge(pred, on='customer_id', how='left')\n",
    "map_at_k(label['article_id'], label['prediction'], k=12)"
   ]
  },
  {
   "cell_type": "code",
   "execution_count": 447,
   "metadata": {},
   "outputs": [
    {
     "data": {
      "text/plain": [
       "0.06952298296096888"
      ]
     },
     "execution_count": 447,
     "metadata": {},
     "output_type": "execute_result"
    }
   ],
   "source": [
    "# Recall\n",
    "recall_at_k(label[\"article_id\"], label[\"prediction\"], k=12)"
   ]
  },
  {
   "cell_type": "code",
   "execution_count": 448,
   "metadata": {},
   "outputs": [
    {
     "data": {
      "text/plain": [
       "0.0444743935309973"
      ]
     },
     "execution_count": 448,
     "metadata": {},
     "output_type": "execute_result"
    }
   ],
   "source": [
    "#HitRate\n",
    "hr_at_k(label[\"article_id\"], label[\"prediction\"], k=12)"
   ]
  },
  {
   "cell_type": "code",
   "execution_count": 449,
   "metadata": {},
   "outputs": [],
   "source": [
    "valid = valid[['customer_id','article_id','prob']]\n",
    "valid.to_parquet(data_dir/'external'/'small_nn_valid.pqt')"
   ]
  },
  {
   "cell_type": "markdown",
   "metadata": {
    "id": "Bk7Z1JIsSkFW"
   },
   "source": [
    "## Test"
   ]
  },
  {
   "cell_type": "code",
   "execution_count": 450,
   "metadata": {
    "executionInfo": {
     "elapsed": 2717,
     "status": "ok",
     "timestamp": 1652037115765,
     "user": {
      "displayName": "WP Zhang",
      "userId": "08181056311681578219"
     },
     "user_tz": 240
    },
    "id": "PRkjESDvSlrr"
   },
   "outputs": [],
   "source": [
    "model.load_weights(model_dir/'small_nn.weights.keras')"
   ]
  },
  {
   "cell_type": "code",
   "execution_count": 451,
   "metadata": {
    "executionInfo": {
     "elapsed": 16,
     "status": "ok",
     "timestamp": 1652037115766,
     "user": {
      "displayName": "WP Zhang",
      "userId": "08181056311681578219"
     },
     "user_tz": 240
    },
    "id": "aMSekWFSRO11"
   },
   "outputs": [],
   "source": [
    "class TQDMPredictCallback(tf.keras.callbacks.Callback):\n",
    "    def __init__(self, custom_tqdm_instance=None, tqdm_cls=tqdm, **tqdm_params):\n",
    "        super().__init__()\n",
    "        self.tqdm_cls = tqdm_cls\n",
    "        self.tqdm_progress = None\n",
    "        self.prev_predict_batch = None\n",
    "        self.custom_tqdm_instance = custom_tqdm_instance\n",
    "        self.tqdm_params = tqdm_params\n",
    "\n",
    "    def on_predict_batch_begin(self, batch, logs=None):\n",
    "        pass\n",
    "\n",
    "    def on_predict_batch_end(self, batch, logs=None):\n",
    "        self.tqdm_progress.update(batch - self.prev_predict_batch)\n",
    "        self.prev_predict_batch = batch\n",
    "\n",
    "    def on_predict_begin(self, logs=None):\n",
    "        self.prev_predict_batch = 0\n",
    "        if self.custom_tqdm_instance:\n",
    "            self.tqdm_progress = self.custom_tqdm_instance\n",
    "            return\n",
    "\n",
    "        total = self.params.get('steps')\n",
    "        if total:\n",
    "            total -= 1\n",
    "\n",
    "        self.tqdm_progress = self.tqdm_cls(total=total, **self.tqdm_params)\n",
    "\n",
    "    def on_predict_end(self, logs=None):\n",
    "        if self.tqdm_progress and not self.custom_tqdm_instance:\n",
    "            self.tqdm_progress.close()"
   ]
  },
  {
   "cell_type": "code",
   "execution_count": 452,
   "metadata": {
    "colab": {
     "base_uri": "https://localhost:8080/"
    },
    "executionInfo": {
     "elapsed": 15,
     "status": "ok",
     "timestamp": 1652037115766,
     "user": {
      "displayName": "WP Zhang",
      "userId": "08181056311681578219"
     },
     "user_tz": 240
    },
    "id": "lpTOgjxSSqRJ",
    "outputId": "7070ee23-3288-4b1d-d158-cbe65e139411"
   },
   "outputs": [
    {
     "data": {
      "text/plain": [
       "6084"
      ]
     },
     "execution_count": 452,
     "metadata": {},
     "output_type": "execute_result"
    }
   ],
   "source": [
    "del train, valid, X_train1, X_train2, X_test1, X_test2\n",
    "gc.collect()"
   ]
  },
  {
   "cell_type": "code",
   "execution_count": 453,
   "metadata": {},
   "outputs": [],
   "source": [
    "CHUNK_NUM = 2"
   ]
  },
  {
   "cell_type": "code",
   "execution_count": 454,
   "metadata": {
    "colab": {
     "base_uri": "https://localhost:8080/"
    },
    "executionInfo": {
     "elapsed": 879460,
     "status": "ok",
     "timestamp": 1652037995213,
     "user": {
      "displayName": "WP Zhang",
      "userId": "08181056311681578219"
     },
     "user_tz": 240
    },
    "id": "uYGqgcXb0ZWa",
    "outputId": "b2413485-39b5-4549-8a5a-ff3a4b0b8762"
   },
   "outputs": [
    {
     "name": "stderr",
     "output_type": "stream",
     "text": [
      "100%|██████████| 120/120 [00:00<00:00, 9151.87it/s]\n",
      "120it [00:00, 8872.45it/s]\n",
      "  0%|          | 0/1 [00:00<?, ?it/s]"
     ]
    },
    {
     "name": "stdout",
     "output_type": "stream",
     "text": [
      "\u001b[1m1/2\u001b[0m \u001b[32m━━━━━━━━━━\u001b[0m\u001b[37m━━━━━━━━━━\u001b[0m \u001b[1m0s\u001b[0m 94ms/step"
     ]
    },
    {
     "name": "stderr",
     "output_type": "stream",
     "text": [
      "100%|██████████| 1/1 [00:00<00:00,  8.65it/s]"
     ]
    },
    {
     "name": "stdout",
     "output_type": "stream",
     "text": [
      "\u001b[1m2/2\u001b[0m \u001b[32m━━━━━━━━━━━━━━━━━━━━\u001b[0m\u001b[37m\u001b[0m \u001b[1m0s\u001b[0m 22ms/step\n"
     ]
    },
    {
     "name": "stderr",
     "output_type": "stream",
     "text": [
      "\n",
      "100%|██████████| 120/120 [00:00<00:00, 8082.94it/s]\n",
      "120it [00:00, 8421.17it/s]\n",
      "  0%|          | 0/1 [00:00<?, ?it/s]"
     ]
    },
    {
     "name": "stdout",
     "output_type": "stream",
     "text": [
      "\u001b[1m1/2\u001b[0m \u001b[32m━━━━━━━━━━\u001b[0m\u001b[37m━━━━━━━━━━\u001b[0m \u001b[1m0s\u001b[0m 16ms/step"
     ]
    },
    {
     "name": "stderr",
     "output_type": "stream",
     "text": [
      "100%|██████████| 1/1 [00:00<00:00, 29.66it/s]"
     ]
    },
    {
     "name": "stdout",
     "output_type": "stream",
     "text": [
      "\u001b[1m2/2\u001b[0m \u001b[32m━━━━━━━━━━━━━━━━━━━━\u001b[0m\u001b[37m\u001b[0m \u001b[1m0s\u001b[0m 18ms/step\n"
     ]
    },
    {
     "name": "stderr",
     "output_type": "stream",
     "text": [
      "\n"
     ]
    }
   ],
   "source": [
    "for chunk in range(CHUNK_NUM):\n",
    "    test_candidates = pd.read_parquet(data_dir/\"processed\"/VERSION_NAME/f\"week0_candidate_{chunk}.pqt\")\n",
    "\n",
    "    tmp = inter.groupby('article_id').week.mean()\n",
    "    test_candidates['article_time_mean'] = test_candidates['article_id'].map(tmp)\n",
    "\n",
    "    tmp = inter.groupby('customer_id').week.nth(-1)\n",
    "    test_candidates['customer_id_last_time'] = test_candidates['customer_id'].map(tmp)\n",
    "\n",
    "    tmp = inter.groupby('customer_id').week.nth(0)\n",
    "    test_candidates['customer_id_first_time'] = test_candidates['customer_id'].map(tmp)\n",
    "\n",
    "    tmp = inter.groupby('customer_id').week.mean()\n",
    "    test_candidates['customer_id_time_mean'] = test_candidates['customer_id'].map(tmp)\n",
    "\n",
    "    test_candidates['customer_id_gap'] = test_candidates['customer_id_first_time'] - test_candidates['customer_id_last_time']\n",
    "\n",
    "    for f in tqdm(dense_feats):\n",
    "        test_candidates[f] = test_candidates[f].astype('float16')\n",
    "\n",
    "    test1 = test_candidates[['customer_id', 'article_id', 'product_code']].values.astype('int32')\n",
    "    test2 = np.zeros((test1.shape[0], len(dense_feats)), dtype='float32')\n",
    "    for i,f in tqdm(enumerate(dense_feats)):\n",
    "        test2[:, i] = np.nan_to_num(test_candidates[f].values).astype('float32')\n",
    "        del test_candidates[f]\n",
    "    gc.collect()\n",
    "\n",
    "    probs = model.predict([test1, test2], batch_size=2048, callbacks=[TQDMPredictCallback()])\n",
    "    test_candidates[\"prob\"] = probs\n",
    "    pred_nn = test_candidates[['customer_id','article_id','prob']]\n",
    "    pred_nn.rename(columns={'article_id':'prediction'}, inplace=True)\n",
    "    pred_nn['customer_id'] = pred_nn['customer_id'].astype(int)\n",
    "    pred_nn.to_parquet(data_dir/'interim'/f'small_nn_test_{chunk}.pqt')"
   ]
  },
  {
   "cell_type": "code",
   "execution_count": 455,
   "metadata": {
    "executionInfo": {
     "elapsed": 2912,
     "status": "ok",
     "timestamp": 1652037998112,
     "user": {
      "displayName": "WP Zhang",
      "userId": "08181056311681578219"
     },
     "user_tz": 240
    },
    "id": "83ftWTZN5z95"
   },
   "outputs": [],
   "source": [
    "test_pred1 = pd.read_parquet(data_dir/'interim'/f'small_nn_test_0.pqt')\n",
    "test_pred2 = pd.read_parquet(data_dir/'interim'/f'small_nn_test_1.pqt')"
   ]
  },
  {
   "cell_type": "code",
   "execution_count": 456,
   "metadata": {
    "executionInfo": {
     "elapsed": 44168,
     "status": "ok",
     "timestamp": 1652038042277,
     "user": {
      "displayName": "WP Zhang",
      "userId": "08181056311681578219"
     },
     "user_tz": 240
    },
    "id": "MgEvjLJvYFry"
   },
   "outputs": [],
   "source": [
    "test_pred = pd.concat([test_pred1, test_pred2], ignore_index=True)\n",
    "test_pred = test_pred.sort_values(by=[\"prob\"], ascending=False).reset_index(drop=True)\n",
    "test_pred = test_pred.drop_duplicates(['customer_id', 'prediction'], keep='first')"
   ]
  },
  {
   "cell_type": "code",
   "execution_count": 457,
   "metadata": {
    "executionInfo": {
     "elapsed": 6571,
     "status": "ok",
     "timestamp": 1652038048845,
     "user": {
      "displayName": "WP Zhang",
      "userId": "08181056311681578219"
     },
     "user_tz": 240
    },
    "id": "mjx-3arOaAx6"
   },
   "outputs": [],
   "source": [
    "test_pred.to_parquet(data_dir/'processed'/'small_nn_test.pqt')"
   ]
  }
 ],
 "metadata": {
  "accelerator": "GPU",
  "colab": {
   "collapsed_sections": [],
   "machine_shape": "hm",
   "name": "DNN.ipynb",
   "provenance": []
  },
  "kernelspec": {
   "display_name": "Python 3",
   "language": "python",
   "name": "python3"
  },
  "language_info": {
   "codemirror_mode": {
    "name": "ipython",
    "version": 3
   },
   "file_extension": ".py",
   "mimetype": "text/x-python",
   "name": "python",
   "nbconvert_exporter": "python",
   "pygments_lexer": "ipython3",
   "version": "3.9.6"
  }
 },
 "nbformat": 4,
 "nbformat_minor": 0
}
