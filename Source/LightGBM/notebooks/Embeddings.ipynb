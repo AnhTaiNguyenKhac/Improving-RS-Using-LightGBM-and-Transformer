{
 "cells": [
  {
   "cell_type": "code",
   "execution_count": 33,
   "metadata": {
    "id": "Ej-kIjP5d_zw"
   },
   "outputs": [],
   "source": [
    "# %pip install -U lightgbm==3.3.2"
   ]
  },
  {
   "cell_type": "code",
   "execution_count": 34,
   "metadata": {
    "executionInfo": {
     "elapsed": 6,
     "status": "ok",
     "timestamp": 1652107969713,
     "user": {
      "displayName": "WP Zhang",
      "userId": "08181056311681578219"
     },
     "user_tz": 240
    },
    "id": "wu0YB-gRFBf7"
   },
   "outputs": [],
   "source": [
    "# %pip install implicit"
   ]
  },
  {
   "cell_type": "code",
   "execution_count": 35,
   "metadata": {},
   "outputs": [],
   "source": [
    "\n",
    "# !pip3 uninstall -y numpy gensim\n",
    "# !pip3 install numpy==1.26.4 gensim==4.3.3 --no-cache-dir\n"
   ]
  },
  {
   "cell_type": "code",
   "execution_count": 36,
   "metadata": {},
   "outputs": [],
   "source": [
    "# pip list | grep -E 'numpy|gensim|scipy|pandas'\n"
   ]
  },
  {
   "cell_type": "code",
   "execution_count": 37,
   "metadata": {
    "executionInfo": {
     "elapsed": 215,
     "status": "ok",
     "timestamp": 1652107984985,
     "user": {
      "displayName": "WP Zhang",
      "userId": "08181056311681578219"
     },
     "user_tz": 240
    },
    "id": "gboISq82XUN1"
   },
   "outputs": [],
   "source": [
    "import pandas as pd\n",
    "import numpy as np\n",
    "\n",
    "import pickle\n",
    "from tqdm import tqdm\n",
    "import gc\n",
    "from pathlib import Path\n",
    "\n",
    "from gensim.models import Word2Vec\n",
    "\n",
    "import warnings\n",
    "import sys\n",
    "from IPython.core.interactiveshell import InteractiveShell\n",
    "\n",
    "warnings.filterwarnings(\"ignore\")\n",
    "sys.path.append(\"/Users/tuanthanh/Documents/KLTN/SourceClone/H-M-Fashion-RecSys/\") # path to the `src`` folder\n",
    "InteractiveShell.ast_node_interactivity = \"all\"\n",
    "tqdm.pandas()"
   ]
  },
  {
   "cell_type": "code",
   "execution_count": 38,
   "metadata": {
    "executionInfo": {
     "elapsed": 2776,
     "status": "ok",
     "timestamp": 1652107987759,
     "user": {
      "displayName": "WP Zhang",
      "userId": "08181056311681578219"
     },
     "user_tz": 240
    },
    "id": "_iSrpD4NXcSq"
   },
   "outputs": [],
   "source": [
    "from src.data import DataHelper\n",
    "import pickle"
   ]
  },
  {
   "cell_type": "code",
   "execution_count": 39,
   "metadata": {
    "executionInfo": {
     "elapsed": 6,
     "status": "ok",
     "timestamp": 1652107987759,
     "user": {
      "displayName": "WP Zhang",
      "userId": "08181056311681578219"
     },
     "user_tz": 240
    },
    "id": "0zdCOhCIh7Gj"
   },
   "outputs": [],
   "source": [
    "from collections import defaultdict"
   ]
  },
  {
   "cell_type": "code",
   "execution_count": 40,
   "metadata": {
    "executionInfo": {
     "elapsed": 6,
     "status": "ok",
     "timestamp": 1652107987760,
     "user": {
      "displayName": "WP Zhang",
      "userId": "08181056311681578219"
     },
     "user_tz": 240
    },
    "id": "Rdt7FKjA6ovy"
   },
   "outputs": [],
   "source": [
    "data_dir = Path(\"/Users/tuanthanh/Documents/KLTN/SourceClone/H-M-Fashion-RecSys/data/Vibrent\")\n",
    "model_dir = Path(\"/Users/tuanthanh/Documents/KLTN/SourceClone/H-M-Fashion-RecSys/models/models_Vibrent\")\n",
    "# data_dir = Path(\"/Users/tuanthanh/Documents/KLTN/SourceClone/H-M-Fashion-RecSys/data/HM\")\n",
    "# model_dir = Path(\"/Users/tuanthanh/Documents/KLTN/SourceClone/H-M-Fashion-RecSys/models/models_HM\")"
   ]
  },
  {
   "cell_type": "code",
   "execution_count": 41,
   "metadata": {},
   "outputs": [],
   "source": [
    "# !pip3 install fastparquet\n"
   ]
  },
  {
   "cell_type": "code",
   "execution_count": 42,
   "metadata": {
    "executionInfo": {
     "elapsed": 5105,
     "status": "ok",
     "timestamp": 1652107992860,
     "user": {
      "displayName": "WP Zhang",
      "userId": "08181056311681578219"
     },
     "user_tz": 240
    },
    "id": "k2v6_A2pXfTQ"
   },
   "outputs": [
    {
     "name": "stderr",
     "output_type": "stream",
     "text": [
      "Encode User Sparse Feats: 100%|██████████| 5/5 [00:00<00:00, 868.21it/s]\n",
      "Encode Item Sparse Feats: 100%|██████████| 12/12 [00:00<00:00, 180.31it/s]\n"
     ]
    }
   ],
   "source": [
    "dh = DataHelper(data_dir)\n",
    "data = dh.preprocess_data(save=True, name=\"encoded_full\") # * run only once, processed data will be saved\n",
    "data = dh.load_data(name=\"encoded_full\")"
   ]
  },
  {
   "cell_type": "markdown",
   "metadata": {
    "id": "3RojtbK9GGQU"
   },
   "source": [
    "### Train\n"
   ]
  },
  {
   "cell_type": "code",
   "execution_count": 43,
   "metadata": {
    "executionInfo": {
     "elapsed": 460,
     "status": "ok",
     "timestamp": 1652108091891,
     "user": {
      "displayName": "WP Zhang",
      "userId": "08181056311681578219"
     },
     "user_tz": 240
    },
    "id": "JZMt_s4P5mo3"
   },
   "outputs": [],
   "source": [
    "inter = data['inter']"
   ]
  },
  {
   "cell_type": "code",
   "execution_count": 44,
   "metadata": {
    "id": "_obyQP1gia3-"
   },
   "outputs": [],
   "source": [
    "inter['t_dat'] = pd.to_datetime(inter['t_dat'])\n",
    "# last_week_start = pd.to_datetime(\"2020-08-19\")\n",
    "last_week_start = pd.to_datetime(\"2023-10-30\")\n",
    "inter = inter.loc[(inter.t_dat < last_week_start)]"
   ]
  },
  {
   "cell_type": "code",
   "execution_count": 45,
   "metadata": {
    "id": "pZgBSutCaxn_"
   },
   "outputs": [],
   "source": [
    "feedid_seq_list = inter.groupby(['customer_id']).article_id.apply(lambda x: [str(id) for id in x] ).values"
   ]
  },
  {
   "cell_type": "code",
   "execution_count": 46,
   "metadata": {
    "id": "Qc3sLdTq5jwv"
   },
   "outputs": [],
   "source": [
    "# model_sg = Word2Vec(feedid_seq_list,  size=128, window=32, min_count=1, sg=0, sample=1e-3, negative=15, workers=32, seed=1, iter=10)\n",
    "# model_sg.save(open(model_dir/'articleid_model_cbow.model','wb'))\n",
    "model_sg = Word2Vec(feedid_seq_list,  \n",
    "                     vector_size=128,  # Đổi 'size' thành 'vector_size'\n",
    "                     window=32, \n",
    "                     min_count=1, \n",
    "                     sg=1, \n",
    "                     sample=1e-3, \n",
    "                     negative=15, \n",
    "                     workers=32, \n",
    "                     seed=1, \n",
    "                     epochs=10)  # Đổi 'iter' thành 'epochs'\n",
    "\n",
    "# Lưu mô hình đúng cách\n",
    "model_sg.save(str(model_dir / 'articleid_model_skipgram.model'))\n"
   ]
  },
  {
   "cell_type": "code",
   "execution_count": 47,
   "metadata": {
    "id": "yXaLEP_ClQqT"
   },
   "outputs": [],
   "source": [
    "# model_sg = pickle.load(open(model_dir/'articleid_model_cbow.model','rb'))\n",
    "model_sg = Word2Vec.load(str(model_dir / 'articleid_model_skipgram.model'))\n"
   ]
  },
  {
   "cell_type": "code",
   "execution_count": 48,
   "metadata": {},
   "outputs": [],
   "source": [
    "\n",
    "# !pip3 install gensim==3.8.3\n"
   ]
  },
  {
   "cell_type": "code",
   "execution_count": 49,
   "metadata": {
    "colab": {
     "base_uri": "https://localhost:8080/"
    },
    "executionInfo": {
     "elapsed": 282627,
     "status": "ok",
     "timestamp": 1651987851408,
     "user": {
      "displayName": "WP Zhang",
      "userId": "08181056311681578219"
     },
     "user_tz": 240
    },
    "id": "VKXtLXe6iVxU",
    "outputId": "bdd13fb1-cf54-4638-fa84-adab37d36f9a"
   },
   "outputs": [
    {
     "name": "stderr",
     "output_type": "stream",
     "text": [
      "100%|██████████| 2214/2214 [00:00<00:00, 21067.44it/s]\n"
     ]
    }
   ],
   "source": [
    "# * Customer Embedding\n",
    "feedid_seq_list = inter.groupby(['customer_id']).article_id.apply(lambda x: [str(id) for id in x] ).reset_index()\n",
    "\n",
    "full_users = data['user']['customer_id'].values\n",
    "customer_embedding = np.ones((len(full_users)+1, 128))/128\n",
    "\n",
    "for uid, items in tqdm(feedid_seq_list.values):\n",
    "    if len(items) > 1:\n",
    "        vec = np.mean(\n",
    "    [model_sg.wv[str(x)] for x in items if str(x) in model_sg.wv.key_to_index], axis=0)\n",
    "    else:\n",
    "        vec = model_sg.wv[str(items[0])] if str(items[0]) in model_sg.wv.key_to_index else np.zeros(model_sg.vector_size)\n",
    "    customer_embedding[uid] = vec/np.sqrt(np.sum(vec**2))"
   ]
  },
  {
   "cell_type": "code",
   "execution_count": 50,
   "metadata": {
    "colab": {
     "base_uri": "https://localhost:8080/"
    },
    "executionInfo": {
     "elapsed": 253,
     "status": "ok",
     "timestamp": 1651987853397,
     "user": {
      "displayName": "WP Zhang",
      "userId": "08181056311681578219"
     },
     "user_tz": 240
    },
    "id": "7doE4ofzkaSF",
    "outputId": "8e5635f3-2daa-4ba1-e4cc-db8984cefc83"
   },
   "outputs": [
    {
     "data": {
      "text/plain": [
       "0"
      ]
     },
     "execution_count": 50,
     "metadata": {},
     "output_type": "execute_result"
    }
   ],
   "source": [
    "del full_users, feedid_seq_list, inter\n",
    "gc.collect()"
   ]
  },
  {
   "cell_type": "code",
   "execution_count": 51,
   "metadata": {
    "id": "FiX3b0mjjb6C"
   },
   "outputs": [],
   "source": [
    "# The line `# customer_embedding.dump(data_dir/'external'/'w2v_user_embd.npy')` is a comment in the code. Comments are used to provide explanations or notes within the code for better understanding by developers. In this case, it seems like the code is intended to dump or save the customer embedding data to a file named 'w2v_user_embd.npy' in the 'external' directory within the specified data directory. However, the line is commented out, so it is not currently active or executed when the code runs.\n",
    "customer_embedding.dump(data_dir/'external'/'w2v_user_embd.npy')\n",
    "customer_embedding.dump(data_dir/'external'/'w2v_skipgram_user_embd.npy')"
   ]
  },
  {
   "cell_type": "code",
   "execution_count": 52,
   "metadata": {
    "colab": {
     "base_uri": "https://localhost:8080/"
    },
    "executionInfo": {
     "elapsed": 3477,
     "status": "ok",
     "timestamp": 1651987889348,
     "user": {
      "displayName": "WP Zhang",
      "userId": "08181056311681578219"
     },
     "user_tz": 240
    },
    "id": "MKmO5MdAoWfB",
    "outputId": "3d42c3bf-ae21-4000-e50f-39ca600b2453"
   },
   "outputs": [
    {
     "name": "stderr",
     "output_type": "stream",
     "text": [
      "100%|██████████| 15649/15649 [00:00<00:00, 210536.55it/s]\n"
     ]
    }
   ],
   "source": [
    "# * Article Embedding\n",
    "full_items = data['item']['article_id'].values\n",
    "article_embedding = np.ones((len(full_items)+1, 128))/128\n",
    "for item in tqdm(full_items):\n",
    "    try:\n",
    "        vec = model_sg[str(item)] \n",
    "    except:\n",
    "        vec = article_embedding[item]\n",
    "    article_embedding[item,:] = vec/np.sqrt(np.sum(vec**2))"
   ]
  },
  {
   "cell_type": "code",
   "execution_count": 53,
   "metadata": {
    "id": "bqT8Y0TFpjA1"
   },
   "outputs": [],
   "source": [
    "article_embedding.dump(data_dir/'external'/'w2v_item_embd.npy')\n",
    "article_embedding.dump(data_dir/'external'/'w2v_skipgram_item_embd.npy')"
   ]
  },
  {
   "cell_type": "code",
   "execution_count": 54,
   "metadata": {
    "id": "S28-nZGic9Li"
   },
   "outputs": [],
   "source": [
    "# * Product_code Embedding\n",
    "full_products = list(data['item']['product_code'].unique())"
   ]
  },
  {
   "cell_type": "code",
   "execution_count": 55,
   "metadata": {
    "colab": {
     "base_uri": "https://localhost:8080/"
    },
    "executionInfo": {
     "elapsed": 8632,
     "status": "ok",
     "timestamp": 1651987900947,
     "user": {
      "displayName": "WP Zhang",
      "userId": "08181056311681578219"
     },
     "user_tz": 240
    },
    "id": "Jqp1N3o3zyXp",
    "outputId": "014ed5ba-3751-40d9-cd19-0d1e06adc7b5"
   },
   "outputs": [
    {
     "name": "stderr",
     "output_type": "stream",
     "text": [
      "100%|██████████| 9756/9756 [00:00<00:00, 43255.79it/s]\n"
     ]
    }
   ],
   "source": [
    "product_embd_dict = {}\n",
    "for pid, items in tqdm(data['item'].groupby('product_code')):\n",
    "    embd = article_embedding[items['article_id'].values]\n",
    "    embd = np.sum(embd, axis=0)\n",
    "    product_embd_dict[pid] = embd/np.sqrt(np.sum(embd**2))"
   ]
  },
  {
   "cell_type": "code",
   "execution_count": 56,
   "metadata": {
    "colab": {
     "base_uri": "https://localhost:8080/"
    },
    "executionInfo": {
     "elapsed": 41,
     "status": "ok",
     "timestamp": 1651987900948,
     "user": {
      "displayName": "WP Zhang",
      "userId": "08181056311681578219"
     },
     "user_tz": 240
    },
    "id": "KA7xfm-ae2rH",
    "outputId": "9caa3eee-441b-45db-8a87-830f2772a005"
   },
   "outputs": [
    {
     "name": "stderr",
     "output_type": "stream",
     "text": [
      "100%|██████████| 9756/9756 [00:00<00:00, 527865.81it/s]\n"
     ]
    }
   ],
   "source": [
    "product_embedding = np.ones((len(full_products)+1, 128))/128\n",
    "for pid,embd in tqdm(product_embd_dict.items()):\n",
    "    product_embedding[pid,:] = embd"
   ]
  },
  {
   "cell_type": "code",
   "execution_count": 57,
   "metadata": {
    "id": "CUcYAExYfL2v"
   },
   "outputs": [],
   "source": [
    "product_embedding.dump(data_dir/'external'/'w2v_product_embd.npy')\n",
    "product_embedding.dump(data_dir/'external'/'w2v_skipgram_product_embd.npy')"
   ]
  },
  {
   "cell_type": "markdown",
   "metadata": {
    "id": "IeSXuUB7T1b5"
   },
   "source": [
    "---"
   ]
  },
  {
   "cell_type": "code",
   "execution_count": 58,
   "metadata": {
    "id": "R0MT5lbIUlCD"
   },
   "outputs": [],
   "source": [
    "# * Product_code Embedding\n",
    "full_products = list(data['item']['product_code'].unique())"
   ]
  },
  {
   "cell_type": "code",
   "execution_count": 59,
   "metadata": {
    "executionInfo": {
     "elapsed": 2345,
     "status": "ok",
     "timestamp": 1652108084455,
     "user": {
      "displayName": "WP Zhang",
      "userId": "08181056311681578219"
     },
     "user_tz": 240
    },
    "id": "TPFbi7o-T2Dx"
   },
   "outputs": [
    {
     "name": "stderr",
     "output_type": "stream",
     "text": [
      "100%|██████████| 9756/9756 [00:00<00:00, 42368.42it/s]\n",
      "100%|██████████| 9756/9756 [00:00<00:00, 1715779.69it/s]\n"
     ]
    }
   ],
   "source": [
    "dssm_item_embd = np.load(data_dir/'external'/'dssm_item_embd.npy', allow_pickle=True)\n",
    "\n",
    "product_embd_dict = {}\n",
    "for pid, items in tqdm(data['item'].groupby('product_code')):\n",
    "    embd = dssm_item_embd[items['article_id'].values-1]\n",
    "    embd = np.sum(embd, axis=0)\n",
    "    product_embd_dict[pid] = embd/np.sqrt(np.sum(embd**2))\n",
    "\n",
    "product_embedding = np.ones((len(full_products), 128))/128\n",
    "for pid,embd in tqdm(product_embd_dict.items()):\n",
    "    product_embedding[pid-1,:] = embd"
   ]
  },
  {
   "cell_type": "code",
   "execution_count": 60,
   "metadata": {
    "executionInfo": {
     "elapsed": 3,
     "status": "ok",
     "timestamp": 1652108100501,
     "user": {
      "displayName": "WP Zhang",
      "userId": "08181056311681578219"
     },
     "user_tz": 240
    },
    "id": "6NRoj0fGULpv"
   },
   "outputs": [],
   "source": [
    "product_embedding.dump(data_dir/'external'/'dssm_product_embd.npy')"
   ]
  },
  {
   "cell_type": "code",
   "execution_count": 61,
   "metadata": {
    "colab": {
     "base_uri": "https://localhost:8080/"
    },
    "executionInfo": {
     "elapsed": 9093,
     "status": "ok",
     "timestamp": 1652108237989,
     "user": {
      "displayName": "WP Zhang",
      "userId": "08181056311681578219"
     },
     "user_tz": 240
    },
    "id": "6HzzPLzTUQCL",
    "outputId": "5baffabe-580b-4860-9b5e-a219df2dcf8b"
   },
   "outputs": [
    {
     "name": "stderr",
     "output_type": "stream",
     "text": [
      "100%|██████████| 9756/9756 [00:00<00:00, 41967.26it/s]\n",
      "100%|██████████| 9756/9756 [00:00<00:00, 1639933.87it/s]\n"
     ]
    }
   ],
   "source": [
    "yt_item_embd = np.load(data_dir/'external'/'yt_item_embd.npy', allow_pickle=True)\n",
    "\n",
    "product_embd_dict = {}\n",
    "for pid, items in tqdm(data['item'].groupby('product_code')):\n",
    "    embd = yt_item_embd[items['article_id'].values-1]\n",
    "    embd = np.sum(embd, axis=0)\n",
    "    product_embd_dict[pid] = embd/np.sqrt(np.sum(embd**2))\n",
    "\n",
    "product_embedding = np.ones((len(full_products), 128))/128\n",
    "for pid,embd in tqdm(product_embd_dict.items()):\n",
    "    product_embedding[pid-1,:] = embd"
   ]
  },
  {
   "cell_type": "code",
   "execution_count": 62,
   "metadata": {
    "executionInfo": {
     "elapsed": 679,
     "status": "ok",
     "timestamp": 1652108240082,
     "user": {
      "displayName": "WP Zhang",
      "userId": "08181056311681578219"
     },
     "user_tz": 240
    },
    "id": "UScGXMhLUaf-"
   },
   "outputs": [],
   "source": [
    "product_embedding.dump(data_dir/'external'/'yt_product_embd.npy')"
   ]
  },
  {
   "cell_type": "code",
   "execution_count": 63,
   "metadata": {},
   "outputs": [],
   "source": [
    "np.save(data_dir/'external'/'dssm_user_embd.npy', customer_embedding)"
   ]
  },
  {
   "cell_type": "code",
   "execution_count": 64,
   "metadata": {},
   "outputs": [
    {
     "name": "stderr",
     "output_type": "stream",
     "text": [
      "100%|██████████| 2293/2293 [00:00<00:00, 75152.88it/s]\n"
     ]
    },
    {
     "data": {
      "text/plain": [
       "0"
      ]
     },
     "execution_count": 64,
     "metadata": {},
     "output_type": "execute_result"
    }
   ],
   "source": [
    "# yt_interactions = pd.read_csv('/Users/tuanthanh/Documents/KLTN/SourceClone/H-M-Fashion-RecSys/data/Vibrent/raw/transactions_train.csv')\n",
    "yt_interactions = pd.read_csv('/Users/tuanthanh/Documents/KLTN/SourceClone/H-M-Fashion-RecSys/data/Vibrent/raw/transactions_train.csv')\n",
    "yt_feedid_seq_list = yt_interactions.groupby(['customer_id']).article_id.apply(lambda x: [str(id) for id in x]).reset_index()\n",
    "\n",
    "# Initialize the embedding array for yt_users\n",
    "full_yt_users = yt_interactions['customer_id'].unique()\n",
    "yt_user_embedding = np.ones((len(full_yt_users) + 1, 128)) / 128\n",
    "\n",
    "user_id_to_index = {user_id: idx for idx, user_id in enumerate(full_yt_users)}\n",
    "\n",
    "for uid, items in tqdm(yt_feedid_seq_list.values):\n",
    "    user_index = user_id_to_index.get(uid) \n",
    "    if user_index is None:\n",
    "        continue \n",
    "\n",
    "    if len(items) > 1:\n",
    "        vec = np.mean([model_sg.wv[str(x)] for x in items if str(x) in model_sg.wv.key_to_index], axis=0)\n",
    "    else:\n",
    "        vec = model_sg.wv[str(items[0])] if str(items[0]) in model_sg.wv.key_to_index else np.zeros(model_sg.vector_size)\n",
    "\n",
    "    # Normalize the embedding\n",
    "    yt_user_embedding[user_index] = vec / np.sqrt(np.sum(vec**2))\n",
    "\n",
    "del full_yt_users, yt_feedid_seq_list, yt_interactions\n",
    "gc.collect()\n",
    "\n",
    "np.save(data_dir / 'external' / 'yt_user_embd.npy', yt_user_embedding)\n"
   ]
  }
 ],
 "metadata": {
  "colab": {
   "collapsed_sections": [],
   "machine_shape": "hm",
   "name": "Word2Vec.ipynb",
   "provenance": []
  },
  "kernelspec": {
   "display_name": "Python 3",
   "language": "python",
   "name": "python3"
  },
  "language_info": {
   "codemirror_mode": {
    "name": "ipython",
    "version": 3
   },
   "file_extension": ".py",
   "mimetype": "text/x-python",
   "name": "python",
   "nbconvert_exporter": "python",
   "pygments_lexer": "ipython3",
   "version": "3.9.6"
  }
 },
 "nbformat": 4,
 "nbformat_minor": 0
}
