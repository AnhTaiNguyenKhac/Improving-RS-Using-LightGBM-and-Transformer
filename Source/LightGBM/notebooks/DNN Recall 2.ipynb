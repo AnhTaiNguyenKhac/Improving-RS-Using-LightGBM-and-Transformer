{
 "cells": [
  {
   "cell_type": "code",
   "execution_count": 2,
   "metadata": {
    "colab": {
     "base_uri": "https://localhost:8080/"
    },
    "executionInfo": {
     "elapsed": 3079,
     "status": "ok",
     "timestamp": 1652036253285,
     "user": {
      "displayName": "WP Zhang",
      "userId": "08181056311681578219"
     },
     "user_tz": 240
    },
    "id": "vt9B5f7NRIda",
    "outputId": "16439752-beda-494d-edd0-d2eedaa1f4f6"
   },
   "outputs": [],
   "source": [
    "# %pip install tensorflow_addons"
   ]
  },
  {
   "cell_type": "code",
   "execution_count": 3,
   "metadata": {
    "executionInfo": {
     "elapsed": 6,
     "status": "ok",
     "timestamp": 1652036254335,
     "user": {
      "displayName": "WP Zhang",
      "userId": "08181056311681578219"
     },
     "user_tz": 240
    },
    "id": "_EiplKjw4dok"
   },
   "outputs": [],
   "source": [
    "import sys\n",
    "sys.path.append(\"/Users/tuanthanh/Documents/KLTN/SourceClone/H-M-Fashion-RecSys/\")"
   ]
  },
  {
   "cell_type": "code",
   "execution_count": 4,
   "metadata": {
    "executionInfo": {
     "elapsed": 5872,
     "status": "ok",
     "timestamp": 1652036260201,
     "user": {
      "displayName": "WP Zhang",
      "userId": "08181056311681578219"
     },
     "user_tz": 240
    },
    "id": "kXPJ-c7F4fja"
   },
   "outputs": [
    {
     "name": "stderr",
     "output_type": "stream",
     "text": [
      "/Users/tuanthanh/Library/Python/3.9/lib/python/site-packages/urllib3/__init__.py:35: NotOpenSSLWarning: urllib3 v2 only supports OpenSSL 1.1.1+, currently the 'ssl' module is compiled with 'LibreSSL 2.8.3'. See: https://github.com/urllib3/urllib3/issues/3020\n",
      "  warnings.warn(\n"
     ]
    }
   ],
   "source": [
    "import tensorflow as tf\n",
    "from tensorflow.keras.layers import Embedding, Input, Dense, Dropout, BatchNormalization, Concatenate\n",
    "import numpy as np\n",
    "import pandas as pd\n",
    "import gc"
   ]
  },
  {
   "cell_type": "code",
   "execution_count": 5,
   "metadata": {
    "executionInfo": {
     "elapsed": 6,
     "status": "ok",
     "timestamp": 1652036260202,
     "user": {
      "displayName": "WP Zhang",
      "userId": "08181056311681578219"
     },
     "user_tz": 240
    },
    "id": "_UiH-5IQRMQa"
   },
   "outputs": [],
   "source": [
    "# import tensorflow_addons as tfa"
   ]
  },
  {
   "cell_type": "code",
   "execution_count": 6,
   "metadata": {
    "executionInfo": {
     "elapsed": 5,
     "status": "ok",
     "timestamp": 1652036260202,
     "user": {
      "displayName": "WP Zhang",
      "userId": "08181056311681578219"
     },
     "user_tz": 240
    },
    "id": "dXrnVUXj7tT3"
   },
   "outputs": [],
   "source": [
    "from src.data import DataHelper\n",
    "from src.data.metrics import map_at_k, recall_at_k, hr_at_k"
   ]
  },
  {
   "cell_type": "code",
   "execution_count": 7,
   "metadata": {
    "executionInfo": {
     "elapsed": 354,
     "status": "ok",
     "timestamp": 1652036260552,
     "user": {
      "displayName": "WP Zhang",
      "userId": "08181056311681578219"
     },
     "user_tz": 240
    },
    "id": "v9Qx0k0ZKRup"
   },
   "outputs": [],
   "source": [
    "import os\n",
    "from sklearn.feature_extraction.text import TfidfVectorizer\n",
    "from sklearn.decomposition import TruncatedSVD"
   ]
  },
  {
   "cell_type": "code",
   "execution_count": 8,
   "metadata": {
    "executionInfo": {
     "elapsed": 6,
     "status": "ok",
     "timestamp": 1652036260552,
     "user": {
      "displayName": "WP Zhang",
      "userId": "08181056311681578219"
     },
     "user_tz": 240
    },
    "id": "tJxGhYB45S5V"
   },
   "outputs": [],
   "source": [
    "from pathlib import Path\n",
    "from tqdm import tqdm\n",
    "\n",
    "import warnings\n",
    "warnings.filterwarnings('ignore')"
   ]
  },
  {
   "cell_type": "code",
   "execution_count": 9,
   "metadata": {
    "executionInfo": {
     "elapsed": 6,
     "status": "ok",
     "timestamp": 1652036260553,
     "user": {
      "displayName": "WP Zhang",
      "userId": "08181056311681578219"
     },
     "user_tz": 240
    },
    "id": "f2qZdUFqgtPF"
   },
   "outputs": [],
   "source": [
    "# * uncomment this when predicting testset to avoid GPU memory error\n",
    "# os.environ['CUDA_VISIBLE_DEVICES'] = '-1'"
   ]
  },
  {
   "cell_type": "code",
   "execution_count": 10,
   "metadata": {
    "executionInfo": {
     "elapsed": 6,
     "status": "ok",
     "timestamp": 1652036260554,
     "user": {
      "displayName": "WP Zhang",
      "userId": "08181056311681578219"
     },
     "user_tz": 240
    },
    "id": "5mjYRXj54tY1"
   },
   "outputs": [],
   "source": [
    "RANK_EMBEDDING_DIM = 64\n",
    "BATCH_SIZE = 2**12\n",
    "NEPOCH = 20"
   ]
  },
  {
   "cell_type": "code",
   "execution_count": 11,
   "metadata": {
    "executionInfo": {
     "elapsed": 6,
     "status": "ok",
     "timestamp": 1652036260554,
     "user": {
      "displayName": "WP Zhang",
      "userId": "08181056311681578219"
     },
     "user_tz": 240
    },
    "id": "ImqKrQio47V1"
   },
   "outputs": [],
   "source": [
    "TRAIN_WEEK_NUM = 4\n",
    "WEEK_NUM = TRAIN_WEEK_NUM + 2\n",
    "\n",
    "VERSION_NAME = \"LargeRecall\""
   ]
  },
  {
   "cell_type": "code",
   "execution_count": 12,
   "metadata": {
    "executionInfo": {
     "elapsed": 6,
     "status": "ok",
     "timestamp": 1652036260555,
     "user": {
      "displayName": "WP Zhang",
      "userId": "08181056311681578219"
     },
     "user_tz": 240
    },
    "id": "MS0MEj1z5Rxs"
   },
   "outputs": [],
   "source": [
    "data_dir = Path(\"/Users/tuanthanh/Documents/KLTN/SourceClone/H-M-Fashion-RecSys/data/HM\")\n",
    "model_dir = Path(\"/Users/tuanthanh/Documents/KLTN/SourceClone/H-M-Fashion-RecSys/models/models_HM\")"
   ]
  },
  {
   "cell_type": "code",
   "execution_count": 13,
   "metadata": {
    "executionInfo": {
     "elapsed": 2805,
     "status": "ok",
     "timestamp": 1652036263354,
     "user": {
      "displayName": "WP Zhang",
      "userId": "08181056311681578219"
     },
     "user_tz": 240
    },
    "id": "tbasc4Yn7vjP"
   },
   "outputs": [],
   "source": [
    "dh = DataHelper(data_dir)\n",
    "data = dh.load_data(name=\"encoded_full\")"
   ]
  },
  {
   "cell_type": "code",
   "execution_count": 14,
   "metadata": {
    "executionInfo": {
     "elapsed": 1324,
     "status": "ok",
     "timestamp": 1652036266679,
     "user": {
      "displayName": "WP Zhang",
      "userId": "08181056311681578219"
     },
     "user_tz": 240
    },
    "id": "Dvqsn-x2NSVR"
   },
   "outputs": [],
   "source": [
    "inter = data['inter']\n",
    "inter = inter.loc[(inter.t_dat <= \"2020-08-19\")]"
   ]
  },
  {
   "cell_type": "markdown",
   "metadata": {
    "id": "ZvLo7j94F0l6"
   },
   "source": [
    "## Calculate & Load Embeddings"
   ]
  },
  {
   "cell_type": "code",
   "execution_count": 15,
   "metadata": {
    "executionInfo": {
     "elapsed": 3325,
     "status": "ok",
     "timestamp": 1652036269993,
     "user": {
      "displayName": "WP Zhang",
      "userId": "08181056311681578219"
     },
     "user_tz": 240
    },
    "id": "p-dWWWZ8F5Pk"
   },
   "outputs": [],
   "source": [
    "# article description - TFIDF - SVD\n",
    "if not os.path.exists(data_dir/'external/tfidf_item_embd.npy'):\n",
    "    articles = pd.read_csv(data_dir/'raw/articles.csv')\n",
    "\n",
    "    corpus = articles[[col for col in articles.columns if 'name' in col] + ['detail_desc']].T.apply(lambda x: ' '.join(map(str,x))).T\n",
    "\n",
    "    vectorizer = TfidfVectorizer(min_df=3)\n",
    "    X = vectorizer.fit_transform(corpus)\n",
    "    svd = TruncatedSVD(n_components=256, random_state=0)\n",
    "    tfidf_item = svd.fit_transform(X)\n",
    "    tfidf_item = np.concatenate([np.ones((1,256)), tfidf_item], axis=0)\n",
    "    tfidf_item.dump(data_dir/'external/tfidf_item_embd.npy')\n",
    "else:\n",
    "    tfidf_item = np.load(data_dir/'external/tfidf_item_embd.npy', allow_pickle=True)"
   ]
  },
  {
   "cell_type": "code",
   "execution_count": 16,
   "metadata": {
    "executionInfo": {
     "elapsed": 1683,
     "status": "ok",
     "timestamp": 1652036271665,
     "user": {
      "displayName": "WP Zhang",
      "userId": "08181056311681578219"
     },
     "user_tz": 240
    },
    "id": "-36br0IjNpM7"
   },
   "outputs": [],
   "source": [
    "# article_id - customer_id TFIDF + SVD\n",
    "if not os.path.exists(data_dir/'external/tfidf_item_embd2.npy'):\n",
    "    corpus = inter.groupby('article_id').customer_id.apply(lambda x: ' '.join(map(str, x)))\n",
    "    article_ids = np.array(list(corpus.index))\n",
    "\n",
    "    vectorizer = TfidfVectorizer(min_df=3)\n",
    "    X = vectorizer.fit_transform(corpus)\n",
    "    svd = TruncatedSVD(n_components=128, random_state=0)\n",
    "    X_svd = svd.fit_transform(X)\n",
    "\n",
    "    item_num = data['item']['article_id'].nunique()\n",
    "    tfidf_item2 = np.ones((item_num+1, 128)) / 128\n",
    "    for i,iid in enumerate(article_ids):\n",
    "        tfidf_item2[iid,:] = X_svd[i,:]\n",
    "\n",
    "    tfidf_item2.dump(data_dir/'external/tfidf_item_embd2.npy')\n",
    "else:\n",
    "    tfidf_item2 = np.load(data_dir/'external/tfidf_item_embd2.npy', allow_pickle=True)"
   ]
  },
  {
   "cell_type": "code",
   "execution_count": 17,
   "metadata": {
    "executionInfo": {
     "elapsed": 20793,
     "status": "ok",
     "timestamp": 1652036292455,
     "user": {
      "displayName": "WP Zhang",
      "userId": "08181056311681578219"
     },
     "user_tz": 240
    },
    "id": "QF8DZs-wMkUl"
   },
   "outputs": [],
   "source": [
    "# customer_id - product_code TFIDF + SVD\n",
    "if not os.path.exists(data_dir/'external/tfidf_user_embd.npy'):\n",
    "    inter = inter.merge(data['item'][['article_id','product_code']], on=['article_id'], how='left')\n",
    "    corpus = inter.groupby('customer_id').product_code.apply(lambda x: ' '.join(map(str, x)))\n",
    "    customer_ids = np.array(list(corpus.index))\n",
    "\n",
    "    vectorizer = TfidfVectorizer(min_df=3)\n",
    "    X = vectorizer.fit_transform(corpus)\n",
    "    svd = TruncatedSVD(n_components=128, random_state=0)\n",
    "    X_svd = svd.fit_transform(X)\n",
    "\n",
    "    user_num = data['user']['customer_id'].nunique()\n",
    "    tfidf_user = np.ones((user_num+1, 128)) / 128\n",
    "    for i,uid in enumerate(customer_ids):\n",
    "        tfidf_user[uid,:] = X_svd[i,:]\n",
    "\n",
    "    tfidf_user.dump(data_dir/'external/tfidf_user_embd.npy')\n",
    "else:\n",
    "    tfidf_user = np.load(data_dir/'external/tfidf_user_embd.npy', allow_pickle=True)"
   ]
  },
  {
   "cell_type": "code",
   "execution_count": 18,
   "metadata": {
    "executionInfo": {
     "elapsed": 39290,
     "status": "ok",
     "timestamp": 1652036331733,
     "user": {
      "displayName": "WP Zhang",
      "userId": "08181056311681578219"
     },
     "user_tz": 240
    },
    "id": "M32FeEH_PS1w"
   },
   "outputs": [],
   "source": [
    "# * Load pre-trained embeddings\n",
    "w2v_user_embd = np.load(data_dir/'external'/'w2v_user_embd.npy', allow_pickle=True)\n",
    "w2v_item_embd = np.load(data_dir/'external'/'w2v_item_embd.npy', allow_pickle=True)\n",
    "w2v_product_embd = np.load(data_dir/'external'/'w2v_product_embd.npy', allow_pickle=True)\n",
    "image_item_embd = np.load(data_dir/'external'/'image_embd.npy', allow_pickle=True)\n",
    "w2v_sg_user_embd = np.load(data_dir/'external'/'w2v_skipgram_user_embd.npy', allow_pickle=True)\n",
    "w2v_sg_item_embd = np.load(data_dir/'external'/'w2v_skipgram_item_embd.npy', allow_pickle=True)\n",
    "w2v_sg_product_embd = np.load(data_dir/'external'/'w2v_skipgram_product_embd.npy', allow_pickle=True)"
   ]
  },
  {
   "cell_type": "markdown",
   "metadata": {
    "id": "UiszC35_47or"
   },
   "source": [
    "## Load Candidates & Prepare Data"
   ]
  },
  {
   "cell_type": "code",
   "execution_count": 19,
   "metadata": {
    "colab": {
     "base_uri": "https://localhost:8080/"
    },
    "executionInfo": {
     "elapsed": 58463,
     "status": "ok",
     "timestamp": 1652036390178,
     "user": {
      "displayName": "WP Zhang",
      "userId": "08181056311681578219"
     },
     "user_tz": 240
    },
    "id": "g7KbLtnk4z0z",
    "outputId": "5490b524-ca20-4a78-bf96-3e81b9d05dc5"
   },
   "outputs": [
    {
     "name": "stderr",
     "output_type": "stream",
     "text": [
      "100%|██████████| 5/5 [00:06<00:00,  1.36s/it]\n"
     ]
    }
   ],
   "source": [
    "candidates = {}\n",
    "labels = {}\n",
    "for i in tqdm(range(1, WEEK_NUM)):\n",
    "    candidates[i] = pd.read_parquet(data_dir/\"processed\"/VERSION_NAME/f\"week{i}_candidate.pqt\")\n",
    "    \n",
    "    # Use whatever scoring column actually exists in your data\n",
    "    if 'score' in candidates[i].columns:  # or 'final_score' or other column name\n",
    "        candidates[i]['rank'] = candidates[i].groupby('customer_id')['score'].rank(ascending=False)\n",
    "        candidates[i] = candidates[i][candidates[i]['rank'] <= 20]\n",
    "    \n",
    "    labels[i] = pd.read_parquet(data_dir/\"processed\"/VERSION_NAME/f\"week{i}_label.pqt\")"
   ]
  },
  {
   "cell_type": "code",
   "execution_count": 20,
   "metadata": {
    "executionInfo": {
     "elapsed": 11,
     "status": "ok",
     "timestamp": 1652036390178,
     "user": {
      "displayName": "WP Zhang",
      "userId": "08181056311681578219"
     },
     "user_tz": 240
    },
    "id": "TkNhkfuq5EPw"
   },
   "outputs": [],
   "source": [
    "feats = [\n",
    "    x\n",
    "    for x in candidates[1].columns\n",
    "    if x\n",
    "    not in [\n",
    "        \"label\",\n",
    "        \"sales_channel_id\",\n",
    "        \"t_dat\",\n",
    "        \"week\",\n",
    "        \"wv_similarity\"\n",
    "    ]\n",
    "]\n",
    "\n",
    "ids = [\"customer_id\", \"article_id\", \"product_code\"]\n",
    "dense_feats = [x for x in feats if x not in ids]"
   ]
  },
  {
   "cell_type": "code",
   "execution_count": 21,
   "metadata": {},
   "outputs": [],
   "source": [
    "def safe_convert_types(candidates, WEEK_NUM):\n",
    "    for i in tqdm(range(1, WEEK_NUM), desc=\"Converting data types\"):\n",
    "        try:\n",
    "            # Create a copy of columns to avoid modifying during iteration\n",
    "            cols = list(candidates[i].columns)\n",
    "            \n",
    "            for col in cols:\n",
    "                if candidates[i][col].dtype == 'float64':\n",
    "                    candidates[i][col] = candidates[i][col].astype('float16')\n",
    "                elif candidates[i][col].dtype == 'int64':\n",
    "                    candidates[i][col] = candidates[i][col].astype('int16')\n",
    "            \n",
    "            # Force garbage collection after each week's processing\n",
    "            gc.collect()\n",
    "            \n",
    "        except KeyboardInterrupt:\n",
    "            print(f\"\\nConversion interrupted during week {i}. Saving progress...\")\n",
    "            break\n",
    "        except Exception as e:\n",
    "            print(f\"Error converting types for week {i}, column {col}: {str(e)}\")\n",
    "            continue\n",
    "    \n",
    "    return candidates"
   ]
  },
  {
   "cell_type": "code",
   "execution_count": 22,
   "metadata": {
    "colab": {
     "base_uri": "https://localhost:8080/"
    },
    "executionInfo": {
     "elapsed": 55460,
     "status": "ok",
     "timestamp": 1652036445628,
     "user": {
      "displayName": "WP Zhang",
      "userId": "08181056311681578219"
     },
     "user_tz": 240
    },
    "id": "dIfny2Isklqs",
    "outputId": "6a91d708-31b0-4bcb-89ba-b114af2460a4"
   },
   "outputs": [
    {
     "name": "stderr",
     "output_type": "stream",
     "text": [
      "100%|██████████| 96/96 [01:02<00:00,  1.54it/s]\n"
     ]
    }
   ],
   "source": [
    "def convert_in_chunks(df, column, chunk_size=1000000):\n",
    "    chunks = []\n",
    "    for i in range(0, len(df), chunk_size):\n",
    "        chunk = df[column].iloc[i:i+chunk_size].astype('float16')\n",
    "        chunks.append(chunk)\n",
    "    return pd.concat(chunks)\n",
    "\n",
    "for f in tqdm(dense_feats):\n",
    "    for i in range(1, WEEK_NUM):\n",
    "        if f in candidates[i].columns:\n",
    "            candidates[i][f] = convert_in_chunks(candidates[i], f)\n",
    "            gc.collect()"
   ]
  },
  {
   "cell_type": "code",
   "execution_count": 23,
   "metadata": {
    "colab": {
     "base_uri": "https://localhost:8080/"
    },
    "executionInfo": {
     "elapsed": 115777,
     "status": "ok",
     "timestamp": 1652036561400,
     "user": {
      "displayName": "WP Zhang",
      "userId": "08181056311681578219"
     },
     "user_tz": 240
    },
    "id": "bYWW99nD556M",
    "outputId": "d10ac601-bbab-48f8-b676-a3ba893aced2"
   },
   "outputs": [
    {
     "name": "stderr",
     "output_type": "stream",
     "text": [
      "100%|██████████| 2/2 [00:25<00:00, 12.51s/it]\n"
     ]
    }
   ],
   "source": [
    "full_data = pd.concat([candidates[i] for i in range(1,WEEK_NUM)], ignore_index=True)\n",
    "\n",
    "# =============================================\n",
    "inter = data['inter']\n",
    "inter = inter[inter['t_dat']<'2020-08-19'] # * start date of the last valid week\n",
    "inter['week'] = (pd.to_datetime('2020-09-29') - pd.to_datetime(inter['t_dat'])).dt.days // 7\n",
    "inter = inter.merge(data['item'][[\"article_id\", \"product_code\"]], on=\"article_id\", how=\"left\")\n",
    "\n",
    "\n",
    "tmp = inter.groupby('article_id').week.mean()\n",
    "full_data['article_time_mean'] = full_data['article_id'].map(tmp)\n",
    "\n",
    "tmp = inter.groupby('customer_id').week.nth(-1)\n",
    "full_data['customer_id_last_time'] = full_data['customer_id'].map(tmp)\n",
    "\n",
    "tmp = inter.groupby('customer_id').week.nth(0)\n",
    "full_data['customer_id_first_time'] = full_data['customer_id'].map(tmp)\n",
    "\n",
    "tmp = inter.groupby('customer_id').week.mean()\n",
    "full_data['customer_id_time_mean'] = full_data['customer_id'].map(tmp)\n",
    "\n",
    "full_data['customer_id_gap'] = full_data['customer_id_first_time'] - full_data['customer_id_last_time']\n",
    "\n",
    "tmp = inter.groupby('customer_id').size()\n",
    "full_data['customer_daily_bought'] = full_data['customer_id'].map(tmp) / full_data['customer_id_gap']\n",
    "\n",
    "tmp = inter.groupby('customer_id').price.median()\n",
    "full_data['customer_id_price_median'] = full_data['customer_id'].map(tmp)\n",
    "\n",
    "full_data['customer_article_price_gap'] = full_data['customer_id_price_median'] - full_data['price']\n",
    "\n",
    "del tmp\n",
    "gc.collect()\n",
    "\n",
    "from itertools import chain\n",
    "def dict_union(L):\n",
    "    return dict(chain.from_iterable(d.items() for d in L))\n",
    "\n",
    "dur = [52]\n",
    "for col in tqdm([\"article_id\",\"product_code\"]):\n",
    "    full_data[f'{col}_id_week'] = full_data[col].astype('str') + '_' + full_data['week'].astype('str')\n",
    "\n",
    "    for j in dur:\n",
    "        dict_list = []\n",
    "        for i in range(5):\n",
    "            tmp = inter[(inter['week']>=(1+i+1)) & (inter['week']<(1+i+2+j))]\n",
    "            \n",
    "            tmp['week'] = i+1\n",
    "            tmp = tmp.groupby(['week', col]).size().reset_index()\n",
    "            tmp.columns = ['week', col, 'count_sales']\n",
    "\n",
    "            tmp[f'{col}_id_week'] = tmp[col].astype('str') + '_'+tmp['week'].astype('str')\n",
    "\n",
    "            dict_list.append( dict(zip(tmp[f'{col}_id_week'], tmp['count_sales'])) )\n",
    "            del tmp\n",
    "\n",
    "        dict_all = dict_union(dict_list)\n",
    "        full_data[f'{col}_week_shift{j}'] = full_data[f'{col}_id_week'].map(dict_all)\n",
    "\n",
    "        del dict_all\n",
    "    gc.collect()\n",
    "\n",
    "\n",
    "full_data['article_id_week_1/52'] = full_data['i_sale'] / full_data[f'article_id_week_shift52']\n",
    "full_data['product_code_week_1/52'] = full_data['i_sale'] / full_data[f'product_code_week_shift52']\n",
    "\n",
    "# =============================================\n",
    "extra_feats = [\n",
    "    'article_time_mean', \n",
    "    'customer_id_last_time', \n",
    "    'customer_id_first_time', \n",
    "    'customer_id_time_mean',\n",
    "    'customer_id_gap',\n",
    "    'customer_id_price_median',\n",
    "    'customer_daily_bought',\n",
    "    'customer_article_price_gap'\n",
    "] + [f'{col}_week_shift{j}' for col in [\"article_id\",\"product_code\"] for j in dur] +\\\n",
    "['article_id_week_1/52', 'product_code_week_1/52']\n",
    "feats += extra_feats\n",
    "dense_feats += extra_feats\n",
    "\n",
    "for f in extra_feats:\n",
    "    full_data[f] = full_data[f].astype('float16')\n",
    "\n",
    "# =============================================\n",
    "\n",
    "full_data = full_data[feats+['week','label']]\n",
    "# full_data, _ = reduce_mem_usage(full_data)"
   ]
  },
  {
   "cell_type": "code",
   "execution_count": 24,
   "metadata": {
    "executionInfo": {
     "elapsed": 13853,
     "status": "ok",
     "timestamp": 1652036575846,
     "user": {
      "displayName": "WP Zhang",
      "userId": "08181056311681578219"
     },
     "user_tz": 240
    },
    "id": "pRKsm-It0sUL"
   },
   "outputs": [],
   "source": [
    "gc.collect()\n",
    "train = full_data[full_data['week']>1]\n",
    "valid = full_data[full_data['week']==1]"
   ]
  },
  {
   "cell_type": "code",
   "execution_count": 25,
   "metadata": {
    "colab": {
     "base_uri": "https://localhost:8080/"
    },
    "executionInfo": {
     "elapsed": 6,
     "status": "ok",
     "timestamp": 1652036576100,
     "user": {
      "displayName": "WP Zhang",
      "userId": "08181056311681578219"
     },
     "user_tz": 240
    },
    "id": "pVcq5-t7zreT",
    "outputId": "28848f67-e151-49d2-a54a-5c453066c88c"
   },
   "outputs": [
    {
     "data": {
      "text/plain": [
       "0"
      ]
     },
     "execution_count": 25,
     "metadata": {},
     "output_type": "execute_result"
    }
   ],
   "source": [
    "del candidates\n",
    "gc.collect()"
   ]
  },
  {
   "cell_type": "code",
   "execution_count": 26,
   "metadata": {
    "executionInfo": {
     "elapsed": 3,
     "status": "ok",
     "timestamp": 1652036576100,
     "user": {
      "displayName": "WP Zhang",
      "userId": "08181056311681578219"
     },
     "user_tz": 240
    },
    "id": "t8-Ohirc6SWH"
   },
   "outputs": [],
   "source": [
    "feat_dim = {}\n",
    "for feat in ids:\n",
    "    if feat in data['user'].columns:\n",
    "        feat_dim[feat] = int(data['user'][feat].max()) + 1\n",
    "    elif feat in data['item'].columns:\n",
    "        feat_dim[feat] = int(data['item'][feat].max()) + 1\n",
    "    else:\n",
    "        feat_dim[feat] = int(full_data[feat].max()) + 1"
   ]
  },
  {
   "cell_type": "code",
   "execution_count": 27,
   "metadata": {
    "colab": {
     "base_uri": "https://localhost:8080/"
    },
    "executionInfo": {
     "elapsed": 7,
     "status": "ok",
     "timestamp": 1652036576427,
     "user": {
      "displayName": "WP Zhang",
      "userId": "08181056311681578219"
     },
     "user_tz": 240
    },
    "id": "F9cISY640Y8x",
    "outputId": "921967fc-7798-4b6f-ce50-6e3a7c3ab581"
   },
   "outputs": [
    {
     "data": {
      "text/plain": [
       "0"
      ]
     },
     "execution_count": 27,
     "metadata": {},
     "output_type": "execute_result"
    }
   ],
   "source": [
    "del full_data\n",
    "gc.collect()"
   ]
  },
  {
   "cell_type": "code",
   "execution_count": 28,
   "metadata": {
    "colab": {
     "base_uri": "https://localhost:8080/"
    },
    "executionInfo": {
     "elapsed": 61851,
     "status": "ok",
     "timestamp": 1652036638274,
     "user": {
      "displayName": "WP Zhang",
      "userId": "08181056311681578219"
     },
     "user_tz": 240
    },
    "id": "AqVs0eQC0FRY",
    "outputId": "1b6c6d99-966c-4f63-ece6-329aa731b5b4"
   },
   "outputs": [
    {
     "name": "stderr",
     "output_type": "stream",
     "text": [
      "108it [00:12,  8.63it/s]\n"
     ]
    }
   ],
   "source": [
    "X_train1 = train[['customer_id', 'article_id', 'product_code']].values.astype('int32')\n",
    "X_train2 = np.zeros((X_train1.shape[0], len(dense_feats)), dtype='float32')\n",
    "for i,f in tqdm(enumerate(dense_feats)):\n",
    "    X_train2[:, i] = np.nan_to_num(train[f].values).astype('float32')\n",
    "    del train[f]\n",
    "y_train = train['label'].values"
   ]
  },
  {
   "cell_type": "code",
   "execution_count": 29,
   "metadata": {
    "colab": {
     "base_uri": "https://localhost:8080/"
    },
    "executionInfo": {
     "elapsed": 12796,
     "status": "ok",
     "timestamp": 1652036651038,
     "user": {
      "displayName": "WP Zhang",
      "userId": "08181056311681578219"
     },
     "user_tz": 240
    },
    "id": "54XxZ1OP0Scb",
    "outputId": "66f78c3e-2b89-4b02-cc05-1002e0bca6c3"
   },
   "outputs": [
    {
     "name": "stderr",
     "output_type": "stream",
     "text": [
      "108it [00:04, 26.83it/s]\n"
     ]
    }
   ],
   "source": [
    "X_test1 = valid[['customer_id', 'article_id', 'product_code']].values.astype('int32')\n",
    "X_test2 = np.zeros((X_test1.shape[0], len(dense_feats)), dtype='float32')\n",
    "for i,f in tqdm(enumerate(dense_feats)):\n",
    "    X_test2[:, i] = np.nan_to_num(valid[f].values).astype('float32')\n",
    "    del valid[f]\n",
    "y_test = valid['label'].values"
   ]
  },
  {
   "cell_type": "markdown",
   "metadata": {
    "id": "VxUVZlxJ0Y8y"
   },
   "source": [
    "## Train Model"
   ]
  },
  {
   "cell_type": "code",
   "execution_count": 30,
   "metadata": {
    "executionInfo": {
     "elapsed": 266,
     "status": "ok",
     "timestamp": 1652036651299,
     "user": {
      "displayName": "WP Zhang",
      "userId": "08181056311681578219"
     },
     "user_tz": 240
    },
    "id": "B1ZH721w5pSG"
   },
   "outputs": [],
   "source": [
    "customer_embd_layer_1 = Embedding(\n",
    "    feat_dim[\"customer_id\"], 128, weights=[w2v_sg_user_embd], trainable=False\n",
    ")\n",
    "customer_embd_layer_2 = Embedding(\n",
    "    feat_dim[\"customer_id\"], 128, weights=[w2v_user_embd], trainable=False\n",
    ")\n",
    "customer_embd_layer_3 = Embedding(\n",
    "    feat_dim[\"customer_id\"], 128, weights=[tfidf_user], trainable=False\n",
    ")"
   ]
  },
  {
   "cell_type": "code",
   "execution_count": 31,
   "metadata": {
    "executionInfo": {
     "elapsed": 6,
     "status": "ok",
     "timestamp": 1652036651299,
     "user": {
      "displayName": "WP Zhang",
      "userId": "08181056311681578219"
     },
     "user_tz": 240
    },
    "id": "1S2eMLNp5H5x"
   },
   "outputs": [],
   "source": [
    "article_embd_layer_1 = Embedding(\n",
    "    feat_dim[\"article_id\"], 128, weights=[w2v_sg_item_embd], trainable=False\n",
    ")\n",
    "\n",
    "article_embd_layer_2 = Embedding(\n",
    "    feat_dim[\"article_id\"], 128, weights=[w2v_item_embd], trainable=False\n",
    ")\n",
    "\n",
    "article_embd_layer_3 = Embedding(\n",
    "    feat_dim[\"article_id\"], 256, weights=[tfidf_item], trainable=False\n",
    ")\n",
    "\n",
    "article_embd_layer_4 = Embedding(\n",
    "    feat_dim[\"article_id\"], 128, weights=[tfidf_item2], trainable=False\n",
    ")\n",
    "\n",
    "article_embd_layer_5 = Embedding(\n",
    "    feat_dim[\"article_id\"], 512, weights=[image_item_embd], trainable=False\n",
    ")"
   ]
  },
  {
   "cell_type": "code",
   "execution_count": 32,
   "metadata": {
    "executionInfo": {
     "elapsed": 6,
     "status": "ok",
     "timestamp": 1652036651300,
     "user": {
      "displayName": "WP Zhang",
      "userId": "08181056311681578219"
     },
     "user_tz": 240
    },
    "id": "bfru5_xrg8qh"
   },
   "outputs": [],
   "source": [
    "product_embd_layer_1 = Embedding(\n",
    "    feat_dim[\"product_code\"], 128, weights=[w2v_sg_product_embd], trainable=False\n",
    ")\n",
    "product_embd_layer_2 = Embedding(\n",
    "    feat_dim[\"product_code\"], 128, weights=[w2v_product_embd], trainable=False\n",
    ")"
   ]
  },
  {
   "cell_type": "code",
   "execution_count": 33,
   "metadata": {
    "executionInfo": {
     "elapsed": 2686,
     "status": "ok",
     "timestamp": 1652036653980,
     "user": {
      "displayName": "WP Zhang",
      "userId": "08181056311681578219"
     },
     "user_tz": 240
    },
    "id": "psg5LLL94URR"
   },
   "outputs": [],
   "source": [
    "inputs1 = Input(shape=X_train1.shape[1:], dtype=tf.int64)\n",
    "inputs2 = Input(shape=X_train2.shape[1:], dtype=tf.float32)\n",
    "\n",
    "# Use Keras Lambda layer to perform the cast operation\n",
    "input1 = tf.keras.layers.Lambda(lambda x: tf.cast(x, dtype=tf.int64))(inputs1)\n",
    "\n",
    "x_c_id1 = customer_embd_layer_1(input1[:,0])\n",
    "x_c_id2 = customer_embd_layer_2(input1[:,0])\n",
    "x_c_id3 = customer_embd_layer_3(input1[:,0])\n",
    "\n",
    "x_a_id1 = article_embd_layer_1(input1[:,1])\n",
    "x_a_id2 = article_embd_layer_2(input1[:,1])\n",
    "x_a_id3 = article_embd_layer_3(input1[:,1])\n",
    "x_a_id3 = Dense(128)(x_a_id3)\n",
    "x_a_id4 = article_embd_layer_4(input1[:,1])\n",
    "x_a_id5 = article_embd_layer_5(input1[:,1])\n",
    "x_a_id5 = Dense(128)(x_a_id5)\n",
    "\n",
    "x_p_id1 = product_embd_layer_1(input1[:,2])\n",
    "x_p_id2 = product_embd_layer_2(input1[:,2])\n",
    "\n",
    "x_id = Concatenate(axis=-1)([\n",
    "    x_c_id1, x_c_id2,\n",
    "    x_a_id1, x_a_id2, x_a_id3, x_a_id4, x_a_id5,\n",
    "    x_p_id1, x_p_id2,\n",
    "])\n",
    "\n",
    "x0 = Concatenate(axis=-1)([x_id, BatchNormalization()(inputs2)])\n",
    "\n",
    "x = Dropout(0.3)(x0)\n",
    "x = Dense(512, activation='swish')(x)\n",
    "x = Dropout(0.3)(x)\n",
    "x = Dense(256, activation='swish')(x)\n",
    "\n",
    "x = Concatenate(axis=-1)([x, x0])\n",
    "x = Dropout(0.3)(x)\n",
    "\n",
    "output = Dense(1, activation='sigmoid')(x)\n",
    "\n",
    "model = tf.keras.Model(inputs=[inputs1, inputs2], outputs=[output])\n",
    "    \n",
    "model.compile(\n",
    "    tf.keras.optimizers.AdamW(learning_rate=0.001, weight_decay=1e-4),\n",
    "    loss='binary_crossentropy',\n",
    "    metrics=['AUC']\n",
    ")"
   ]
  },
  {
   "cell_type": "markdown",
   "metadata": {},
   "source": []
  },
  {
   "cell_type": "code",
   "execution_count": null,
   "metadata": {
    "executionInfo": {
     "elapsed": 5,
     "status": "ok",
     "timestamp": 1652036653981,
     "user": {
      "displayName": "WP Zhang",
      "userId": "08181056311681578219"
     },
     "user_tz": 240
    },
    "id": "K6Um4beR62FC"
   },
   "outputs": [
    {
     "name": "stdout",
     "output_type": "stream",
     "text": [
      "Epoch 1/30\n",
      "\u001b[1m4783/4783\u001b[0m \u001b[32m━━━━━━━━━━━━━━━━━━━━\u001b[0m\u001b[37m\u001b[0m \u001b[1m263s\u001b[0m 54ms/step - AUC: 0.6659 - loss: 0.0407 - val_AUC: 0.4991 - val_loss: 0.6855\n",
      "Epoch 2/30\n",
      "\u001b[1m4783/4783\u001b[0m \u001b[32m━━━━━━━━━━━━━━━━━━━━\u001b[0m\u001b[37m\u001b[0m \u001b[1m264s\u001b[0m 55ms/step - AUC: 0.7178 - loss: 0.0371 - val_AUC: 0.4991 - val_loss: 0.5091\n",
      "Epoch 3/30\n",
      "\u001b[1m4783/4783\u001b[0m \u001b[32m━━━━━━━━━━━━━━━━━━━━\u001b[0m\u001b[37m\u001b[0m \u001b[1m248s\u001b[0m 52ms/step - AUC: 0.7259 - loss: 0.0369 - val_AUC: 0.4991 - val_loss: 0.2195\n",
      "Epoch 4/30\n",
      "\u001b[1m4783/4783\u001b[0m \u001b[32m━━━━━━━━━━━━━━━━━━━━\u001b[0m\u001b[37m\u001b[0m \u001b[1m269s\u001b[0m 56ms/step - AUC: 0.7263 - loss: 0.0369 - val_AUC: 0.5024 - val_loss: 0.0621\n",
      "Epoch 5/30\n",
      "\u001b[1m4783/4783\u001b[0m \u001b[32m━━━━━━━━━━━━━━━━━━━━\u001b[0m\u001b[37m\u001b[0m \u001b[1m233s\u001b[0m 49ms/step - AUC: 0.7300 - loss: 0.0369 - val_AUC: 0.4973 - val_loss: 0.0636\n",
      "Epoch 6/30\n",
      "\u001b[1m4783/4783\u001b[0m \u001b[32m━━━━━━━━━━━━━━━━━━━━\u001b[0m\u001b[37m\u001b[0m \u001b[1m222s\u001b[0m 46ms/step - AUC: 0.7309 - loss: 0.0367 - val_AUC: 0.4983 - val_loss: 0.0603\n",
      "Epoch 7/30\n",
      "\u001b[1m4783/4783\u001b[0m \u001b[32m━━━━━━━━━━━━━━━━━━━━\u001b[0m\u001b[37m\u001b[0m \u001b[1m560s\u001b[0m 117ms/step - AUC: 0.7312 - loss: 0.0367 - val_AUC: 0.5034 - val_loss: 0.0563\n",
      "Epoch 8/30\n",
      "\u001b[1m4783/4783\u001b[0m \u001b[32m━━━━━━━━━━━━━━━━━━━━\u001b[0m\u001b[37m\u001b[0m \u001b[1m226s\u001b[0m 47ms/step - AUC: 0.7341 - loss: 0.0367 - val_AUC: 0.5296 - val_loss: 0.0532\n",
      "Epoch 9/30\n",
      "\u001b[1m4783/4783\u001b[0m \u001b[32m━━━━━━━━━━━━━━━━━━━━\u001b[0m\u001b[37m\u001b[0m \u001b[1m1397s\u001b[0m 292ms/step - AUC: 0.7355 - loss: 0.0367 - val_AUC: 0.6160 - val_loss: 0.1498\n",
      "Epoch 10/30\n",
      "\u001b[1m4783/4783\u001b[0m \u001b[32m━━━━━━━━━━━━━━━━━━━━\u001b[0m\u001b[37m\u001b[0m \u001b[1m1200s\u001b[0m 251ms/step - AUC: 0.7365 - loss: 0.0363 - val_AUC: 0.5904 - val_loss: 0.0450\n",
      "Epoch 11/30\n",
      "\u001b[1m4783/4783\u001b[0m \u001b[32m━━━━━━━━━━━━━━━━━━━━\u001b[0m\u001b[37m\u001b[0m \u001b[1m18997s\u001b[0m 4s/step - AUC: 0.7376 - loss: 0.0364 - val_AUC: 0.6140 - val_loss: 0.0421\n",
      "Epoch 12/30\n",
      "\u001b[1m4056/4783\u001b[0m \u001b[32m━━━━━━━━━━━━━━━━\u001b[0m\u001b[37m━━━━\u001b[0m \u001b[1m2:04:20\u001b[0m 10s/step - AUC: 0.7387 - loss: 0.0364"
     ]
    }
   ],
   "source": [
    "early_stop = tf.keras.callbacks.EarlyStopping(monitor='val_auc', patience=10, mode='max')\n",
    "checkpoint = tf.keras.callbacks.ModelCheckpoint(\n",
    "    filepath=model_dir/'large_nn.weights.h5',\n",
    "    save_weights_only=True,\n",
    "    monitor='val_auc',\n",
    "    mode='max',\n",
    "    save_best_only=True)\n",
    "\n",
    "history = model.fit(\n",
    "    [X_train1, X_train2], y_train.astype(int), \n",
    "    shuffle=True,\n",
    "    batch_size=2048,\n",
    "    validation_data=([X_test1, X_test2], y_test.astype(int)),\n",
    "    epochs=30,\n",
    "    callbacks=[checkpoint, early_stop]\n",
    ")"
   ]
  },
  {
   "cell_type": "code",
   "execution_count": null,
   "metadata": {},
   "outputs": [
    {
     "name": "stdout",
     "output_type": "stream",
     "text": [
      "Best model saved at: -inf\n"
     ]
    }
   ],
   "source": [
    "print(\"Best model saved at:\", checkpoint.best)"
   ]
  },
  {
   "cell_type": "code",
   "execution_count": null,
   "metadata": {},
   "outputs": [],
   "source": [
    "model.save(str(model_dir / 'large_nn.weights.keras'))  # Lưu mô hình thủ công sau khi huấn luyện"
   ]
  },
  {
   "cell_type": "code",
   "execution_count": null,
   "metadata": {
    "executionInfo": {
     "elapsed": 4,
     "status": "ok",
     "timestamp": 1652036653981,
     "user": {
      "displayName": "WP Zhang",
      "userId": "08181056311681578219"
     },
     "user_tz": 240
    },
    "id": "QGW114IL7I9C"
   },
   "outputs": [
    {
     "name": "stdout",
     "output_type": "stream",
     "text": [
      "\u001b[1m745/745\u001b[0m \u001b[32m━━━━━━━━━━━━━━━━━━━━\u001b[0m\u001b[37m\u001b[0m \u001b[1m15s\u001b[0m 20ms/step\n"
     ]
    },
    {
     "data": {
      "text/plain": [
       "0.029407295472845037"
      ]
     },
     "execution_count": 69,
     "metadata": {},
     "output_type": "execute_result"
    }
   ],
   "source": [
    "model.load_weights(model_dir/'large_nn.weights.keras')\n",
    "\n",
    "probs = model.predict([X_test1, X_test2], batch_size=4096)\n",
    "label = data['inter'][data['inter']['t_dat']>='2020-09-16']\n",
    "label = label.groupby('customer_id')['article_id'].apply(list).reset_index()\n",
    "\n",
    "valid['prob'] = probs\n",
    "pred = valid.sort_values(by='prob',ascending=False).reset_index(drop=True)\n",
    "pred = pred.groupby('customer_id')['article_id'].apply(list).reset_index()\n",
    "pred.columns = ['customer_id','prediction']\n",
    "\n",
    "label = label.merge(pred, on='customer_id', how='left')\n",
    "\n",
    "map_at_k(label['article_id'], label['prediction'], k=12)"
   ]
  },
  {
   "cell_type": "code",
   "execution_count": null,
   "metadata": {},
   "outputs": [
    {
     "data": {
      "text/plain": [
       "0.06771824353050777"
      ]
     },
     "execution_count": 70,
     "metadata": {},
     "output_type": "execute_result"
    }
   ],
   "source": [
    "recall_at_k(label[\"article_id\"], label[\"prediction\"], k=12)"
   ]
  },
  {
   "cell_type": "code",
   "execution_count": null,
   "metadata": {},
   "outputs": [
    {
     "ename": "NameError",
     "evalue": "name 'hr_at_k' is not defined",
     "output_type": "error",
     "traceback": [
      "\u001b[0;31m---------------------------------------------------------------------------\u001b[0m",
      "\u001b[0;31mNameError\u001b[0m                                 Traceback (most recent call last)",
      "Cell \u001b[0;32mIn[1], line 1\u001b[0m\n\u001b[0;32m----> 1\u001b[0m \u001b[43mhr_at_k\u001b[49m(label[\u001b[38;5;124m\"\u001b[39m\u001b[38;5;124marticle_id\u001b[39m\u001b[38;5;124m\"\u001b[39m], label[\u001b[38;5;124m\"\u001b[39m\u001b[38;5;124mprediction\u001b[39m\u001b[38;5;124m\"\u001b[39m], k\u001b[38;5;241m=\u001b[39m\u001b[38;5;241m12\u001b[39m)\n",
      "\u001b[0;31mNameError\u001b[0m: name 'hr_at_k' is not defined"
     ]
    }
   ],
   "source": [
    "hr_at_k(label[\"article_id\"], label[\"prediction\"], k=12)"
   ]
  },
  {
   "cell_type": "code",
   "execution_count": null,
   "metadata": {},
   "outputs": [],
   "source": [
    "valid = valid[['customer_id','article_id','prob']]\n",
    "valid.to_parquet(data_dir/'external'/'large_nn_valid.pqt')"
   ]
  },
  {
   "cell_type": "markdown",
   "metadata": {
    "id": "Bk7Z1JIsSkFW"
   },
   "source": [
    "## Test"
   ]
  },
  {
   "cell_type": "code",
   "execution_count": null,
   "metadata": {
    "executionInfo": {
     "elapsed": 1600,
     "status": "ok",
     "timestamp": 1652036655577,
     "user": {
      "displayName": "WP Zhang",
      "userId": "08181056311681578219"
     },
     "user_tz": 240
    },
    "id": "PRkjESDvSlrr"
   },
   "outputs": [],
   "source": [
    "model.load_weights(model_dir/'large_nn.weights.keras')"
   ]
  },
  {
   "cell_type": "code",
   "execution_count": null,
   "metadata": {
    "executionInfo": {
     "elapsed": 3,
     "status": "ok",
     "timestamp": 1652036655578,
     "user": {
      "displayName": "WP Zhang",
      "userId": "08181056311681578219"
     },
     "user_tz": 240
    },
    "id": "aMSekWFSRO11"
   },
   "outputs": [],
   "source": [
    "class TQDMPredictCallback(tf.keras.callbacks.Callback):\n",
    "    def __init__(self, custom_tqdm_instance=None, tqdm_cls=tqdm, **tqdm_params):\n",
    "        super().__init__()\n",
    "        self.tqdm_cls = tqdm_cls\n",
    "        self.tqdm_progress = None\n",
    "        self.prev_predict_batch = None\n",
    "        self.custom_tqdm_instance = custom_tqdm_instance\n",
    "        self.tqdm_params = tqdm_params\n",
    "\n",
    "    def on_predict_batch_begin(self, batch, logs=None):\n",
    "        pass\n",
    "\n",
    "    def on_predict_batch_end(self, batch, logs=None):\n",
    "        self.tqdm_progress.update(batch - self.prev_predict_batch)\n",
    "        self.prev_predict_batch = batch\n",
    "\n",
    "    def on_predict_begin(self, logs=None):\n",
    "        self.prev_predict_batch = 0\n",
    "        if self.custom_tqdm_instance:\n",
    "            self.tqdm_progress = self.custom_tqdm_instance\n",
    "            return\n",
    "\n",
    "        total = self.params.get('steps')\n",
    "        if total:\n",
    "            total -= 1\n",
    "\n",
    "        self.tqdm_progress = self.tqdm_cls(total=total, **self.tqdm_params)\n",
    "\n",
    "    def on_predict_end(self, logs=None):\n",
    "        if self.tqdm_progress and not self.custom_tqdm_instance:\n",
    "            self.tqdm_progress.close()"
   ]
  },
  {
   "cell_type": "code",
   "execution_count": null,
   "metadata": {
    "colab": {
     "base_uri": "https://localhost:8080/"
    },
    "executionInfo": {
     "elapsed": 7,
     "status": "ok",
     "timestamp": 1652036656004,
     "user": {
      "displayName": "WP Zhang",
      "userId": "08181056311681578219"
     },
     "user_tz": 240
    },
    "id": "lpTOgjxSSqRJ",
    "outputId": "2d323e1c-b261-4c9d-fecb-c5441670e26c"
   },
   "outputs": [
    {
     "data": {
      "text/plain": [
       "3688"
      ]
     },
     "execution_count": 74,
     "metadata": {},
     "output_type": "execute_result"
    }
   ],
   "source": [
    "del train, valid, X_train1, X_train2, X_test1, X_test2\n",
    "gc.collect()"
   ]
  },
  {
   "cell_type": "code",
   "execution_count": null,
   "metadata": {
    "executionInfo": {
     "elapsed": 7,
     "status": "ok",
     "timestamp": 1652036656005,
     "user": {
      "displayName": "WP Zhang",
      "userId": "08181056311681578219"
     },
     "user_tz": 240
    },
    "id": "_9qIOOtrA88-"
   },
   "outputs": [
    {
     "ename": "",
     "evalue": "",
     "output_type": "error",
     "traceback": [
      "\u001b[1;31mThe Kernel crashed while executing code in the current cell or a previous cell. \n",
      "\u001b[1;31mPlease review the code in the cell(s) to identify a possible cause of the failure. \n",
      "\u001b[1;31mClick <a href='https://aka.ms/vscodeJupyterKernelCrash'>here</a> for more info. \n",
      "\u001b[1;31mView Jupyter <a href='command:jupyter.viewOutput'>log</a> for further details."
     ]
    }
   ],
   "source": [
    "TEST_BATCH_NUM = 10"
   ]
  },
  {
   "cell_type": "code",
   "execution_count": null,
   "metadata": {
    "colab": {
     "base_uri": "https://localhost:8080/"
    },
    "executionInfo": {
     "elapsed": 5662077,
     "status": "ok",
     "timestamp": 1652042318076,
     "user": {
      "displayName": "WP Zhang",
      "userId": "08181056311681578219"
     },
     "user_tz": 240
    },
    "id": "5VbaWbCqA68V",
    "outputId": "fe3884bd-4583-43ae-eb20-5bb695d7c98a"
   },
   "outputs": [
    {
     "name": "stdout",
     "output_type": "stream",
     "text": [
      "week0_candidate_0.pqt\n",
      "Warning: 'rank' column not found in week0_candidate_0.pqt\n",
      "No suitable score column found. Skipping rank filtering.\n"
     ]
    },
    {
     "name": "stderr",
     "output_type": "stream",
     "text": [
      "100%|██████████| 2/2 [00:43<00:00, 21.89s/it]\n",
      "100%|██████████| 108/108 [01:16<00:00,  1.42it/s]\n",
      "108it [05:42,  3.17s/it]\n"
     ]
    }
   ],
   "source": [
    "files = os.listdir(data_dir/\"processed\"/VERSION_NAME)\n",
    "for batch in range(TEST_BATCH_NUM):\n",
    "    chunk_files = [f for f in files if f.startswith(f\"week0_candidate_{batch}\")]\n",
    "    for chunk,chunk_file in enumerate(sorted(chunk_files)):\n",
    "        print(chunk_file)\n",
    "        test_candidate = pd.read_parquet(data_dir/\"processed\"/VERSION_NAME/chunk_file)\n",
    "        # test_candidate = test_candidate[test_candidate['rank']<=20].reset_index(drop=True)\n",
    "         # Check and handle rank column\n",
    "        if 'rank' not in test_candidate.columns:\n",
    "                print(f\"Warning: 'rank' column not found in {chunk_file}\")\n",
    "                \n",
    "                # Try to create rank from available score columns\n",
    "                score_cols = ['score', 'final_score', 'prediction_score']  # add possible score column names\n",
    "                found_score = None\n",
    "                \n",
    "                for col in score_cols:\n",
    "                    if col in test_candidate.columns:\n",
    "                        found_score = col\n",
    "                        break\n",
    "                \n",
    "                if found_score:\n",
    "                    print(f\"Creating rank from {found_score} column\")\n",
    "                    test_candidate['rank'] = test_candidate.groupby('customer_id')[found_score].rank(ascending=False)\n",
    "                    test_candidate = test_candidate[test_candidate['rank'] <= 20].reset_index(drop=True)\n",
    "                else:\n",
    "                    print(\"No suitable score column found. Skipping rank filtering.\")\n",
    "        else:\n",
    "                test_candidate = test_candidate[test_candidate['rank'] <= 20].reset_index(drop=True)\n",
    "            \n",
    "        # * ============================================================================================\n",
    "\n",
    "        tmp = inter.groupby('article_id').week.mean()\n",
    "        test_candidate['article_time_mean'] = test_candidate['article_id'].map(tmp)\n",
    "\n",
    "        tmp = inter.groupby('customer_id').week.nth(-1)\n",
    "        test_candidate['customer_id_last_time'] = test_candidate['customer_id'].map(tmp)\n",
    "\n",
    "        tmp = inter.groupby('customer_id').week.nth(0)\n",
    "        test_candidate['customer_id_first_time'] = test_candidate['customer_id'].map(tmp)\n",
    "\n",
    "        tmp = inter.groupby('customer_id').week.mean()\n",
    "        test_candidate['customer_id_time_mean'] = test_candidate['customer_id'].map(tmp)\n",
    "\n",
    "        test_candidate['customer_id_gap'] = test_candidate['customer_id_first_time'] - test_candidate['customer_id_last_time']\n",
    "\n",
    "        tmp = inter.groupby('customer_id').size()\n",
    "        test_candidate['customer_daily_bought'] = test_candidate['customer_id'].map(tmp) / test_candidate['customer_id_gap']\n",
    "\n",
    "        tmp = inter.groupby('customer_id').price.median()\n",
    "        test_candidate['customer_id_price_median'] = test_candidate['customer_id'].map(tmp)\n",
    "\n",
    "        test_candidate['customer_article_price_gap'] = test_candidate['customer_id_price_median'] - test_candidate['price']\n",
    "\n",
    "        del tmp\n",
    "        gc.collect()\n",
    "\n",
    "        from itertools import chain\n",
    "        def dict_union(L):\n",
    "            return dict(chain.from_iterable(d.items() for d in L))\n",
    "\n",
    "        dur = [52]\n",
    "        for col in tqdm([\"article_id\",\"product_code\"]):\n",
    "            test_candidate[f'{col}_id_week'] = test_candidate[col].astype('str') + '_' + test_candidate['week'].astype('str')\n",
    "\n",
    "            for j in dur:\n",
    "                dict_list = []\n",
    "                for i in range(5):\n",
    "                    tmp = inter[(inter['week']>=(1+i+1)) & (inter['week']<(1+i+2+j))]\n",
    "                    \n",
    "                    tmp['week'] = i+1\n",
    "                    tmp = tmp.groupby(['week', col]).size().reset_index()\n",
    "                    tmp.columns = ['week', col, 'count_sales']\n",
    "\n",
    "                    tmp[f'{col}_id_week'] = tmp[col].astype('str') + '_'+tmp['week'].astype('str')\n",
    "\n",
    "                    dict_list.append( dict(zip(tmp[f'{col}_id_week'], tmp['count_sales'])) )\n",
    "                    del tmp\n",
    "\n",
    "                dict_all = dict_union(dict_list)\n",
    "                test_candidate[f'{col}_week_shift{j}'] = test_candidate[f'{col}_id_week'].map(dict_all)\n",
    "\n",
    "                del dict_all\n",
    "            gc.collect()\n",
    "\n",
    "        test_candidate['article_id_week_1/52'] = test_candidate['i_sale'] / test_candidate[f'article_id_week_shift52']\n",
    "        test_candidate['product_code_week_1/52'] = test_candidate['i_sale'] / test_candidate[f'product_code_week_shift52']\n",
    "\n",
    "        # * =================================================================================================================\n",
    "        for f in tqdm(dense_feats):\n",
    "            test_candidate[f] = test_candidate[f].astype('float16')\n",
    "        \n",
    "        test1 = test_candidate[['customer_id', 'article_id', 'product_code']].values.astype('int32')\n",
    "        test2 = np.zeros((test1.shape[0], len(dense_feats)), dtype='float32')\n",
    "        for i,f in tqdm(enumerate(dense_feats)):\n",
    "            test2[:, i] = np.nan_to_num(test_candidate[f].values).astype('float32')\n",
    "            del test_candidate[f]\n",
    "        gc.collect()\n",
    "\n",
    "        probs = model.predict([test1, test2], batch_size=2048, callbacks=[TQDMPredictCallback()])\n",
    "        test_candidate[\"prob\"] = probs\n",
    "        pred_nn = test_candidate[['customer_id','article_id','prob']]\n",
    "        # pred_nn.rename(columns={'article_id':'prediction'}, inplace=True)\n",
    "        pred_nn['customer_id'] = pred_nn['customer_id'].astype(int)\n",
    "        pred_nn.to_parquet(data_dir/\"interim\"/VERSION_NAME/f\"large_nn_test_{batch}_{chunk}.pqt\")"
   ]
  },
  {
   "cell_type": "markdown",
   "metadata": {
    "id": "ivhW4xQuPRXs"
   },
   "source": [
    "---"
   ]
  },
  {
   "cell_type": "code",
   "execution_count": null,
   "metadata": {
    "executionInfo": {
     "elapsed": 239,
     "status": "ok",
     "timestamp": 1652042348526,
     "user": {
      "displayName": "WP Zhang",
      "userId": "08181056311681578219"
     },
     "user_tz": 240
    },
    "id": "8xWnh3eUYOn6"
   },
   "outputs": [],
   "source": [
    "files = os.listdir(data_dir/\"interim\"/VERSION_NAME)\n",
    "chunk_files = [f for f in files if f.startswith(\"large_nn_test_\")]"
   ]
  },
  {
   "cell_type": "code",
   "execution_count": null,
   "metadata": {
    "colab": {
     "base_uri": "https://localhost:8080/"
    },
    "executionInfo": {
     "elapsed": 16335,
     "status": "ok",
     "timestamp": 1652042383763,
     "user": {
      "displayName": "WP Zhang",
      "userId": "08181056311681578219"
     },
     "user_tz": 240
    },
    "id": "MotejRXtYPhU",
    "outputId": "adb73016-1ef2-48ad-c3c2-30c140fe61f6"
   },
   "outputs": [
    {
     "name": "stderr",
     "output_type": "stream",
     "text": [
      "100%|██████████| 1/1 [00:00<00:00,  2.71it/s]\n"
     ]
    }
   ],
   "source": [
    "test_l = []\n",
    "for f in tqdm(chunk_files):\n",
    "    tmp_df = pd.read_parquet(data_dir/\"interim\"/VERSION_NAME/f)\n",
    "    test_l.append(tmp_df)"
   ]
  },
  {
   "cell_type": "code",
   "execution_count": null,
   "metadata": {
    "executionInfo": {
     "elapsed": 2656,
     "status": "ok",
     "timestamp": 1652042396550,
     "user": {
      "displayName": "WP Zhang",
      "userId": "08181056311681578219"
     },
     "user_tz": 240
    },
    "id": "djXKOClWYVh-"
   },
   "outputs": [],
   "source": [
    "test_pred = pd.concat(test_l, ignore_index=True)"
   ]
  },
  {
   "cell_type": "code",
   "execution_count": null,
   "metadata": {
    "colab": {
     "base_uri": "https://localhost:8080/"
    },
    "executionInfo": {
     "elapsed": 1387,
     "status": "ok",
     "timestamp": 1652042397934,
     "user": {
      "displayName": "WP Zhang",
      "userId": "08181056311681578219"
     },
     "user_tz": 240
    },
    "id": "llqnhNBnYWS2",
    "outputId": "f8e97e74-7b11-4931-fb82-9316c3cb41e9"
   },
   "outputs": [
    {
     "data": {
      "text/plain": [
       "685997"
      ]
     },
     "execution_count": 53,
     "metadata": {},
     "output_type": "execute_result"
    }
   ],
   "source": [
    "test_pred['customer_id'].nunique()"
   ]
  },
  {
   "cell_type": "code",
   "execution_count": null,
   "metadata": {
    "executionInfo": {
     "elapsed": 10587,
     "status": "ok",
     "timestamp": 1652042410462,
     "user": {
      "displayName": "WP Zhang",
      "userId": "08181056311681578219"
     },
     "user_tz": 240
    },
    "id": "as3KsZvVYXR-"
   },
   "outputs": [],
   "source": [
    "test_pred.to_parquet(data_dir/\"processed\"/\"large_nn_test.pqt\")"
   ]
  },
  {
   "cell_type": "code",
   "execution_count": null,
   "metadata": {
    "colab": {
     "base_uri": "https://localhost:8080/",
     "height": 293
    },
    "executionInfo": {
     "elapsed": 6054,
     "status": "ok",
     "timestamp": 1652042416510,
     "user": {
      "displayName": "WP Zhang",
      "userId": "08181056311681578219"
     },
     "user_tz": 240
    },
    "id": "mGKXORMlZBhv",
    "outputId": "34318723-f73b-4e8b-a148-3c31f8b433d2"
   },
   "outputs": [
    {
     "data": {
      "text/plain": [
       "<Axes: >"
      ]
     },
     "execution_count": 55,
     "metadata": {},
     "output_type": "execute_result"
    },
    {
     "data": {
      "image/png": "[encoded data removed]",
      "text/plain": [
       "<Figure size 640x480 with 1 Axes>"
      ]
     },
     "metadata": {},
     "output_type": "display_data"
    },
    {
     "ename": "",
     "evalue": "",
     "output_type": "error",
     "traceback": [
      "\u001b[1;31mThe Kernel crashed while executing code in the current cell or a previous cell. \n",
      "\u001b[1;31mPlease review the code in the cell(s) to identify a possible cause of the failure. \n",
      "\u001b[1;31mClick <a href='https://aka.ms/vscodeJupyterKernelCrash'>here</a> for more info. \n",
      "\u001b[1;31mView Jupyter <a href='command:jupyter.viewOutput'>log</a> for further details."
     ]
    }
   ],
   "source": [
    "test_pred['prob'].hist()"
   ]
  }
 ],
 "metadata": {
  "accelerator": "GPU",
  "colab": {
   "collapsed_sections": [],
   "machine_shape": "hm",
   "name": "DNN LargeRecall.ipynb",
   "provenance": []
  },
  "kernelspec": {
   "display_name": "Python 3",
   "language": "python",
   "name": "python3"
  },
  "language_info": {
   "codemirror_mode": {
    "name": "ipython",
    "version": 3
   },
   "file_extension": ".py",
   "mimetype": "text/x-python",
   "name": "python",
   "nbconvert_exporter": "python",
   "pygments_lexer": "ipython3",
   "version": "3.9.6"
  }
 },
 "nbformat": 4,
 "nbformat_minor": 0
}
