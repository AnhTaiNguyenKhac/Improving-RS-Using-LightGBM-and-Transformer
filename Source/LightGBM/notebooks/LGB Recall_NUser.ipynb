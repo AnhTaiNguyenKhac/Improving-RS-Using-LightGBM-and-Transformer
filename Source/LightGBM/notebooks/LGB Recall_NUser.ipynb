{
  "cells": [
    {
      "cell_type": "code",
      "execution_count": 1,
      "metadata": {
        "colab": {
          "base_uri": "https://localhost:8080/"
        },
        "id": "Ej-kIjP5d_zw",
        "outputId": "5a6da2ba-33b9-4c64-c3e9-095d8506a867"
      },
      "outputs": [],
      "source": [
        "import os\n",
        "os.environ['LDFLAGS'] = \"-L/opt/homebrew/opt/libomp/lib\"\n",
        "os.environ['CPPFLAGS'] = \"-I/opt/homebrew/opt/libomp/include\"\n",
        "# !pip3 install cmake\n",
        "# !pip3 install --no-cache-dir lightgbm\n",
        "# !pip3 install lightgbm"
      ]
    },
    {
      "cell_type": "code",
      "execution_count": 12,
      "metadata": {
        "id": "F6WO2VtEXefj"
      },
      "outputs": [],
      "source": [
        "import warnings\n",
        "import sys\n",
        "from IPython.core.interactiveshell import InteractiveShell\n",
        "import os\n",
        "from pathlib import Path\n",
        "# !pip3 install pandas numpy seaborn matplotlib lightgbm tqdm pickle5\n",
        "import pandas as pd\n",
        "\n",
        "import pickle as pk\n",
        "from tqdm import tqdm\n",
        "import gc\n",
        "from pathlib import Path\n",
        "\n",
        "warnings.filterwarnings(\"ignore\")\n",
        "sys.path.append(\"/Users/tuanthanh/Documents/KLTN/SourceClone/H-M-Fashion-RecSys/\") # path to the `src`` folder\n",
        "InteractiveShell.ast_node_interactivity = \"all\""
      ]
    },
    {
      "cell_type": "code",
      "execution_count": 3,
      "metadata": {
        "id": "zxhDyWVbJR3w"
      },
      "outputs": [],
      "source": [
        "from src.data import DataHelper\n",
        "# from src.data import DataHelper_Vibrent\n",
        "\n",
        "from src.retrieval.rules import SaleTrendTopN\n"
      ]
    },
    {
      "cell_type": "code",
      "execution_count": 6,
      "metadata": {
        "id": "lL6IRSJ2JR3x"
      },
      "outputs": [],
      "source": [
        "# data_dir = Path(\"/Users/tuanthanh/Documents/KLTN/SourceClone/H-M-Fashion-RecSys/data/Vibrent\")\n",
        "# model_dir = Path(\"/Users/tuanthanh/Documents/KLTN/SourceClone/H-M-Fashion-RecSys/models/models_Vibrent\")\n",
        "data_dir = Path(\"/Users/tuanthanh/Documents/KLTN/SourceClone/H-M-Fashion-RecSys/data/HM\")\n",
        "model_dir = Path(\"/Users/tuanthanh/Documents/KLTN/SourceClone/H-M-Fashion-RecSys/models/models_HM\")"
      ]
    },
    {
      "cell_type": "code",
      "execution_count": 7,
      "metadata": {
        "id": "AakTfKUQJR3x"
      },
      "outputs": [],
      "source": [
        "TRAIN_WEEK_NUM = 4\n",
        "WEEK_NUM = TRAIN_WEEK_NUM + 2\n",
        "\n",
        "VERSION_NAME = \"Recall NUser\"\n",
        "TEST = True # * Set as `False` when do local experiments to save time"
      ]
    },
    {
      "cell_type": "code",
      "execution_count": 8,
      "metadata": {
        "id": "RHu8rsZMJR3y"
      },
      "outputs": [],
      "source": [
        "import os\n",
        "if not os.path.exists(data_dir/\"interim\"/VERSION_NAME):\n",
        "    os.mkdir(data_dir/\"interim\"/VERSION_NAME)\n",
        "if not os.path.exists(data_dir/\"processed\"/VERSION_NAME):\n",
        "    os.mkdir(data_dir/\"processed\"/VERSION_NAME)"
      ]
    },
    {
      "cell_type": "markdown",
      "metadata": {
        "id": "Mazy6bP0JR30"
      },
      "source": [
        "Pepare data: encoding ids and preprocessing"
      ]
    },
    {
      "cell_type": "code",
      "execution_count": 9,
      "metadata": {
        "id": "2BPv2lcWGGQJ"
      },
      "outputs": [],
      "source": [
        "dh = DataHelper(data_dir)\n",
        "# dh = DataHelper_Vibrent(data_dir)"
      ]
    },
    {
      "cell_type": "markdown",
      "metadata": {
        "id": "LX4M190s4pxo"
      },
      "source": [
        "## Retrieval\n"
      ]
    },
    {
      "cell_type": "code",
      "execution_count": null,
      "metadata": {
        "id": "kiIB1uvjJR33"
      },
      "outputs": [],
      "source": [
        "# data = dh.preprocess_data(save=True, name=\"encoded_full\") # * run only once, processed data will be saved"
      ]
    },
    {
      "cell_type": "code",
      "execution_count": 10,
      "metadata": {
        "id": "i3ngtb7NUGbH"
      },
      "outputs": [],
      "source": [
        "data = dh.load_data(name=\"encoded_full\")"
      ]
    },
    {
      "cell_type": "code",
      "execution_count": 13,
      "metadata": {
        "id": "J7gu-mwjJR36"
      },
      "outputs": [],
      "source": [
        "listBin = [-1, 19, 29, 39, 49, 59, 69, 119]\n",
        "data['user']['age_bins'] = pd.cut(data['user']['age'], listBin)"
      ]
    },
    {
      "cell_type": "code",
      "execution_count": 16,
      "metadata": {},
      "outputs": [],
      "source": [
        "trans = data[\"inter\"]\n",
        "\n",
        "retriever = SaleTrendTopN(trans_df=trans, days=7, n=12)\n",
        "top_trending_df = retriever.retrieve()\n",
        "\n",
        "with open(data_dir/\"index_id_map\"/\"item_index2id.pkl\", \"rb\") as f:\n",
        "    index2id = pk.load(f)\n",
        "\n",
        "top_trending_df[\"article_id\"] = top_trending_df[\"article_id\"].map(index2id)\n",
        "\n",
        "top_trending_df[\"article_id\"] = top_trending_df[\"article_id\"].astype(str).str.zfill(10)\n",
        "\n",
        "top_trending_df.to_csv(\"top_12_trending_products_mapped.csv\", index=False)\n"
      ]
    }
  ],
  "metadata": {
    "colab": {
      "collapsed_sections": [
        "LX4M190s4pxo",
        "TBIrKxhRGGQR"
      ],
      "machine_shape": "hm",
      "name": "HM-Rec.ipynb",
      "provenance": []
    },
    "kernelspec": {
      "display_name": "Python 3",
      "language": "python",
      "name": "python3"
    },
    "language_info": {
      "codemirror_mode": {
        "name": "ipython",
        "version": 3
      },
      "file_extension": ".py",
      "mimetype": "text/x-python",
      "name": "python",
      "nbconvert_exporter": "python",
      "pygments_lexer": "ipython3",
      "version": "3.9.6"
    }
  },
  "nbformat": 4,
  "nbformat_minor": 0
}
