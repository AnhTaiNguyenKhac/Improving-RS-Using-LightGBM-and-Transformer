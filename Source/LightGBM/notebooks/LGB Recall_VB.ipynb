{
  "cells": [
    {
      "cell_type": "code",
      "execution_count": 1,
      "metadata": {
        "colab": {
          "base_uri": "https://localhost:8080/"
        },
        "id": "Ej-kIjP5d_zw",
        "outputId": "5a6da2ba-33b9-4c64-c3e9-095d8506a867"
      },
      "outputs": [],
      "source": [
        "import os\n",
        "os.environ['LDFLAGS'] = \"-L/opt/homebrew/opt/libomp/lib\"\n",
        "os.environ['CPPFLAGS'] = \"-I/opt/homebrew/opt/libomp/include\"\n",
        "# !pip3 install cmake\n",
        "# !pip3 install --no-cache-dir lightgbm\n",
        "# !pip3 install lightgbm"
      ]
    },
    {
      "cell_type": "code",
      "execution_count": 2,
      "metadata": {
        "colab": {
          "base_uri": "https://localhost:8080/"
        },
        "id": "yVREKx6JJqx1",
        "outputId": "e26309d5-f064-436b-dc51-90cab3172698"
      },
      "outputs": [],
      "source": [
        "# %pip install implicit"
      ]
    },
    {
      "cell_type": "code",
      "execution_count": 3,
      "metadata": {
        "id": "gboISq82XUN1"
      },
      "outputs": [],
      "source": [
        "# !pip3 install pandas numpy seaborn matplotlib lightgbm tqdm pickle5\n",
        "import pandas as pd\n",
        "from pandas.api.types import CategoricalDtype\n",
        "import numpy as np\n",
        "import seaborn as sns\n",
        "import matplotlib.pyplot as plt\n",
        "import lightgbm as lgb\n",
        "\n",
        "import pickle\n",
        "from tqdm import tqdm\n",
        "import gc\n",
        "from pathlib import Path"
      ]
    },
    {
      "cell_type": "code",
      "execution_count": 4,
      "metadata": {
        "id": "F6WO2VtEXefj"
      },
      "outputs": [],
      "source": [
        "import warnings\n",
        "import sys\n",
        "from IPython.core.interactiveshell import InteractiveShell\n",
        "import os\n",
        "\n",
        "warnings.filterwarnings(\"ignore\")\n",
        "sys.path.append(\"/Users/tuanthanh/Documents/KLTN/SourceClone/H-M-Fashion-RecSys/\") # path to the `src`` folder\n",
        "InteractiveShell.ast_node_interactivity = \"all\"\n",
        "tqdm.pandas()"
      ]
    },
    {
      "cell_type": "code",
      "execution_count": 5,
      "metadata": {
        "id": "zxhDyWVbJR3w"
      },
      "outputs": [],
      "source": [
        "from src.data import DataHelper\n",
        "# from src.data import DataHelper_Vibrent\n",
        "from src.data.metrics_VB import map_at_k, hr_at_k, recall_at_k\n",
        "\n",
        "from src.retrieval.rules_Vibrent import (\n",
        "    OrderHistory,\n",
        "    OrderHistoryDecay,\n",
        "    ItemPair,\n",
        "    UserGroupTimeHistory,\n",
        "    UserGroupSaleTrend,\n",
        "    TimeHistory,\n",
        "    TimeHistoryDecay,\n",
        "    OutOfStock,\n",
        "\n",
        "    # ------------\n",
        "    ItemCF,\n",
        "    UserGroupItemCF\n",
        ")\n",
        "from src.retrieval.collector import RuleCollector\n",
        "\n",
        "from src.features import full_sale, week_sale, repurchase_ratio, popularity, period_sale\n",
        "\n",
        "from src.utils_VB import (\n",
        "    calc_valid_date,\n",
        "    merge_week_data,\n",
        "    reduce_mem_usage,\n",
        "    calc_embd_similarity,\n",
        ")"
      ]
    },
    {
      "cell_type": "code",
      "execution_count": 6,
      "metadata": {
        "id": "lL6IRSJ2JR3x"
      },
      "outputs": [],
      "source": [
        "data_dir = Path(\"/Users/tuanthanh/Documents/KLTN/SourceClone/H-M-Fashion-RecSys/data/Vibrent\")\n",
        "model_dir = Path(\"/Users/tuanthanh/Documents/KLTN/SourceClone/H-M-Fashion-RecSys/models/models_Vibrent\")\n",
        "# data_dir = Path(\"/Users/tuanthanh/Documents/KLTN/SourceClone/H-M-Fashion-RecSys/data/HM\")\n",
        "# model_dir = Path(\"/Users/tuanthanh/Documents/KLTN/SourceClone/H-M-Fashion-RecSys/models/models_HM\")"
      ]
    },
    {
      "cell_type": "code",
      "execution_count": 7,
      "metadata": {
        "id": "AakTfKUQJR3x"
      },
      "outputs": [],
      "source": [
        "TRAIN_WEEK_NUM = 4\n",
        "WEEK_NUM = TRAIN_WEEK_NUM + 2\n",
        "\n",
        "VERSION_NAME = \"Recall 1\"\n",
        "TEST = True # * Set as `False` when do local experiments to save time"
      ]
    },
    {
      "cell_type": "code",
      "execution_count": 8,
      "metadata": {
        "id": "RHu8rsZMJR3y"
      },
      "outputs": [],
      "source": [
        "import os\n",
        "if not os.path.exists(data_dir/\"interim\"/VERSION_NAME):\n",
        "    os.mkdir(data_dir/\"interim\"/VERSION_NAME)\n",
        "if not os.path.exists(data_dir/\"processed\"/VERSION_NAME):\n",
        "    os.mkdir(data_dir/\"processed\"/VERSION_NAME)"
      ]
    },
    {
      "cell_type": "markdown",
      "metadata": {
        "id": "Mazy6bP0JR30"
      },
      "source": [
        "Pepare data: encoding ids and preprocessing"
      ]
    },
    {
      "cell_type": "code",
      "execution_count": 9,
      "metadata": {
        "id": "2BPv2lcWGGQJ"
      },
      "outputs": [],
      "source": [
        "dh = DataHelper(data_dir)"
      ]
    },
    {
      "cell_type": "markdown",
      "metadata": {
        "id": "LX4M190s4pxo"
      },
      "source": [
        "## Retrieval\n"
      ]
    },
    {
      "cell_type": "code",
      "execution_count": 10,
      "metadata": {
        "id": "kiIB1uvjJR33"
      },
      "outputs": [],
      "source": [
        "# data = dh.preprocess_data(save=True, name=\"encoded_full\") # * run only once, processed data will be saved"
      ]
    },
    {
      "cell_type": "code",
      "execution_count": 11,
      "metadata": {
        "id": "i3ngtb7NUGbH"
      },
      "outputs": [],
      "source": [
        "data = dh.load_data(name=\"encoded_full\")"
      ]
    },
    {
      "cell_type": "code",
      "execution_count": 12,
      "metadata": {
        "id": "7ecaPObIJR34"
      },
      "outputs": [],
      "source": [
        "uid2idx = pickle.load(open(data_dir/\"index_id_map/user_id2index.pkl\", \"rb\"))\n",
        "submission = pd.read_csv(data_dir/\"raw\"/'sample_submission.csv')\n",
        "submission['customer_id'] = submission['customer_id'].map(uid2idx)"
      ]
    },
    {
      "cell_type": "markdown",
      "metadata": {
        "id": "fcShMOQPJR35"
      },
      "source": [
        "Generate candidates for each week"
      ]
    },
    {
      "cell_type": "code",
      "execution_count": 13,
      "metadata": {
        "id": "J7gu-mwjJR36"
      },
      "outputs": [],
      "source": [
        "listBin = [-1, 19, 29, 39, 49, 59, 69, 119]\n",
        "data['user']['age_bins'] = pd.cut(data['user']['age'], listBin)"
      ]
    },
    {
      "cell_type": "code",
      "execution_count": 14,
      "metadata": {
        "id": "glOiftg3JR36"
      },
      "outputs": [
        {
          "name": "stdout",
          "output_type": "stream",
          "text": [
            "Week 1: [2023-10-17, 2023-10-24)\n"
          ]
        },
        {
          "name": "stderr",
          "output_type": "stream",
          "text": [
            "Retrieve items by rules:   0%|          | 0/17 [00:00<?, ?it/s]"
          ]
        },
        {
          "name": "stdout",
          "output_type": "stream",
          "text": [
            "Positive rate: 0.17895\n",
            "Positive rate: 0.20408\n",
            "skip\n"
          ]
        },
        {
          "name": "stderr",
          "output_type": "stream",
          "text": [
            "Retrieve items by rules:  24%|██▎       | 4/17 [00:00<00:00, 38.50it/s]"
          ]
        },
        {
          "name": "stdout",
          "output_type": "stream",
          "text": [
            "Positive rate: 0.02273\n",
            "Positive rate: 0.08219\n",
            "Positive rate: 0.13924\n",
            "skip\n",
            "skip\n",
            "skip\n",
            "skip\n",
            "skip\n",
            "skip\n"
          ]
        },
        {
          "name": "stderr",
          "output_type": "stream",
          "text": [
            "Retrieve items by rules:  76%|███████▋  | 13/17 [00:00<00:00, 57.40it/s]"
          ]
        },
        {
          "name": "stdout",
          "output_type": "stream",
          "text": [
            "skip\n",
            "skip\n",
            "Positive rate: 0.12887\n"
          ]
        },
        {
          "name": "stderr",
          "output_type": "stream",
          "text": [
            "Retrieve items by rules: 100%|██████████| 17/17 [00:00<00:00, 50.95it/s]"
          ]
        },
        {
          "name": "stdout",
          "output_type": "stream",
          "text": [
            "Positive rate: 0.02273\n",
            "skip\n",
            "Week 2: [2023-10-10, 2023-10-17)\n"
          ]
        },
        {
          "name": "stderr",
          "output_type": "stream",
          "text": [
            "\n",
            "Retrieve items by rules:  24%|██▎       | 4/17 [00:00<00:00, 37.43it/s]"
          ]
        },
        {
          "name": "stdout",
          "output_type": "stream",
          "text": [
            "Positive rate: 0.18605\n",
            "Positive rate: 0.17582\n",
            "skip\n",
            "skip\n",
            "Positive rate: 0.12162\n",
            "Positive rate: 0.12500\n",
            "skip\n",
            "skip\n",
            "skip\n",
            "skip\n",
            "skip\n",
            "skip\n"
          ]
        },
        {
          "name": "stderr",
          "output_type": "stream",
          "text": [
            "Retrieve items by rules: 100%|██████████| 17/17 [00:00<00:00, 51.21it/s]"
          ]
        },
        {
          "name": "stdout",
          "output_type": "stream",
          "text": [
            "skip\n",
            "skip\n",
            "Positive rate: 0.12727\n",
            "skip\n",
            "skip\n",
            "Week 3: [2023-10-03, 2023-10-10)\n"
          ]
        },
        {
          "name": "stderr",
          "output_type": "stream",
          "text": [
            "\n",
            "Retrieve items by rules:  24%|██▎       | 4/17 [00:00<00:00, 38.89it/s]"
          ]
        },
        {
          "name": "stdout",
          "output_type": "stream",
          "text": [
            "Positive rate: 0.12245\n",
            "Positive rate: 0.12245\n",
            "skip\n",
            "skip\n",
            "Positive rate: 0.09859\n",
            "Positive rate: 0.07595\n",
            "skip\n",
            "skip\n",
            "skip\n",
            "skip\n",
            "skip\n",
            "skip\n"
          ]
        },
        {
          "name": "stderr",
          "output_type": "stream",
          "text": [
            "Retrieve items by rules: 100%|██████████| 17/17 [00:00<00:00, 50.83it/s]"
          ]
        },
        {
          "name": "stdout",
          "output_type": "stream",
          "text": [
            "skip\n",
            "skip\n",
            "Positive rate: 0.07065\n",
            "skip\n",
            "skip\n",
            "Week 4: [2023-09-26, 2023-10-03)\n"
          ]
        },
        {
          "name": "stderr",
          "output_type": "stream",
          "text": [
            "\n",
            "Retrieve items by rules:  29%|██▉       | 5/17 [00:00<00:00, 47.99it/s]"
          ]
        },
        {
          "name": "stdout",
          "output_type": "stream",
          "text": [
            "Positive rate: 0.06818\n",
            "Positive rate: 0.09375\n",
            "skip\n",
            "Positive rate: 0.04762\n",
            "Positive rate: 0.05714\n",
            "Positive rate: 0.04938\n",
            "skip\n",
            "skip\n",
            "skip\n",
            "skip\n",
            "skip\n",
            "skip\n",
            "skip\n"
          ]
        },
        {
          "name": "stderr",
          "output_type": "stream",
          "text": [
            "Retrieve items by rules: 100%|██████████| 17/17 [00:00<00:00, 58.93it/s]\n"
          ]
        },
        {
          "name": "stdout",
          "output_type": "stream",
          "text": [
            "skip\n",
            "Positive rate: 0.11220\n",
            "Positive rate: 0.04762\n",
            "skip\n",
            "Week 5: [2023-09-19, 2023-09-26)\n"
          ]
        },
        {
          "name": "stderr",
          "output_type": "stream",
          "text": [
            "Retrieve items by rules:   0%|          | 0/17 [00:00<?, ?it/s]"
          ]
        },
        {
          "name": "stdout",
          "output_type": "stream",
          "text": [
            "Positive rate: 0.44915\n",
            "Positive rate: 0.43443\n"
          ]
        },
        {
          "name": "stderr",
          "output_type": "stream",
          "text": [
            "Retrieve items by rules:  29%|██▉       | 5/17 [00:00<00:00, 46.24it/s]"
          ]
        },
        {
          "name": "stdout",
          "output_type": "stream",
          "text": [
            "skip\n",
            "skip\n",
            "Positive rate: 0.28889\n",
            "Positive rate: 0.23762\n",
            "skip\n",
            "skip\n",
            "skip\n",
            "skip\n",
            "skip\n",
            "skip\n",
            "skip\n"
          ]
        },
        {
          "name": "stderr",
          "output_type": "stream",
          "text": [
            "Retrieve items by rules:  82%|████████▏ | 14/17 [00:00<00:00, 61.40it/s]"
          ]
        },
        {
          "name": "stdout",
          "output_type": "stream",
          "text": [
            "skip\n",
            "Positive rate: 0.29630\n"
          ]
        },
        {
          "name": "stderr",
          "output_type": "stream",
          "text": [
            "Retrieve items by rules: 100%|██████████| 17/17 [00:00<00:00, 57.45it/s]"
          ]
        },
        {
          "name": "stdout",
          "output_type": "stream",
          "text": [
            "skip\n",
            "skip\n"
          ]
        },
        {
          "name": "stderr",
          "output_type": "stream",
          "text": [
            "\n"
          ]
        }
      ],
      "source": [
        "# * WEEK_NUM = 0: test\n",
        "# * WEEK_NUM = 1: valid\n",
        "# * WEEK_NUM > 1: train\n",
        "for week in range(1,WEEK_NUM):\n",
        "    # * use sliding window to generate candidates\n",
        "    if week == 0 and not TEST:\n",
        "        continue\n",
        "    trans = data[\"inter\"]\n",
        "\n",
        "    start_date, end_date = calc_valid_date(week)\n",
        "    print(f\"Week {week}: [{start_date}, {end_date})\")\n",
        "    \n",
        "    train, valid = dh.split_data(trans, start_date, end_date)\n",
        "    train = train.merge(data['user'][['customer_id','age_bins']], on='customer_id', how='left')\n",
        "\n",
        "    last_week_start = pd.to_datetime(start_date) - pd.Timedelta(days=7)\n",
        "    last_week_start = last_week_start.strftime(\"%Y-%m-%d\")\n",
        "    last_week = train.loc[train.t_dat >= last_week_start]\n",
        "    \n",
        "    last_3day_start = pd.to_datetime(start_date) - pd.Timedelta(days=3)\n",
        "    last_3day_start = last_3day_start.strftime(\"%Y-%m-%d\")\n",
        "    last_3days = train.loc[train.t_dat >= last_3day_start]\n",
        "    \n",
        "\n",
        "    if week != 0:\n",
        "        customer_list = valid[\"customer_id\"].values\n",
        "    else:\n",
        "        customer_list = submission['customer_id'].values\n",
        "\n",
        "    # * ========================== Retrieval Strategies ==========================\n",
        "\n",
        "    candidates = RuleCollector().collect(\n",
        "        week_num = week,\n",
        "        trans_df = trans,\n",
        "        customer_list=customer_list,\n",
        "        rules=[\n",
        "            OrderHistory(train, days=3, name='1'),\n",
        "            OrderHistory(train, days=7, name='2'),\n",
        "            OrderHistoryDecay(train, days=3, n=50, name='1'),\n",
        "            OrderHistoryDecay(train, days=7, n=50, name='2'),\n",
        "            ItemPair(OrderHistory(train, days=3).retrieve(), name='1'),\n",
        "            ItemPair(OrderHistory(train, days=7).retrieve(), name='2'),\n",
        "            ItemPair(OrderHistoryDecay(train, days=3, n=50).retrieve(), name='3'),\n",
        "            # ItemPair(OrderHistoryDecay(train, days=7, n=50).retrieve(), name='4'),\n",
        "            UserGroupTimeHistory(data, customer_list, last_week, ['age_bins'], n=50, name='1'),\n",
        "            UserGroupTimeHistory(data, customer_list, last_3days, ['age_bins'], n=50, name='2'),\n",
        "        \n",
        "            UserGroupSaleTrend(data, customer_list, train, ['age_bins'], days=7, n=50),\n",
        "            TimeHistory(customer_list, last_week, n=50, name='1'),\n",
        "            TimeHistory(customer_list, last_3days, n=50, name='2'),\n",
        "            TimeHistoryDecay(customer_list, train, days=3, n=50, name='1'),\n",
        "            TimeHistoryDecay(customer_list, train, days=7, n=50, name='2'),\n",
        "            #########\n",
        "        \n",
        "            OrderHistory(train, days=35, n=50),\n",
        "            OrderHistoryDecay(train, days=7, n=50),\n",
        "            TimeHistory(customer_list, last_week, n=50),\n",
        "            \n",
        "        ],\n",
        "        filters=[OutOfStock(trans)],\n",
        "        min_pos_rate=0.0001,\n",
        "        # min_pos_rate=0.007,\n",
        "        compress=False,\n",
        "    )\n",
        "\n",
        "    # candidates = (\n",
        "    #     pd.pivot_table(\n",
        "    #         candidates,\n",
        "    #         values=\"score\",\n",
        "    #         index=[\"customer_id\", \"article_id\"],\n",
        "    #         columns=[\"method\"],\n",
        "    #         aggfunc=np.sum,\n",
        "    #     )\n",
        "    #     .reset_index()\n",
        "    # )\n",
        "    if candidates is not None and not candidates.empty:\n",
        "        candidates = (\n",
        "            pd.pivot_table(\n",
        "                candidates,\n",
        "                values=\"score\",\n",
        "                index=[\"customer_id\", \"article_id\"],\n",
        "                columns=[\"method\"],\n",
        "                aggfunc=np.sum,\n",
        "            ).reset_index()\n",
        "        )\n",
        "    else:\n",
        "        print(f\"⚠️ Không có ứng viên nào ở tuần {week}. Tạo DataFrame trống.\")\n",
        "    # candidates = pd.DataFrame(columns=[\"customer_id\", \"article_id\"])\n",
        "\n",
        "\n",
        "    candidates.to_parquet(data_dir/\"interim\"/VERSION_NAME/f\"week{week}_candidate.pqt\")\n",
        "    valid.to_parquet(data_dir/\"processed\"/VERSION_NAME/f\"week{week}_label.pqt\")"
      ]
    },
    {
      "cell_type": "code",
      "execution_count": 15,
      "metadata": {
        "id": "3wqDho1ZJR38"
      },
      "outputs": [
        {
          "name": "stdout",
          "output_type": "stream",
          "text": [
            "Week 0: [2023-10-24, 2023-10-31)\n"
          ]
        },
        {
          "name": "stderr",
          "output_type": "stream",
          "text": [
            "Retrieve items by rules:   0%|          | 0/17 [00:00<?, ?it/s]"
          ]
        },
        {
          "name": "stdout",
          "output_type": "stream",
          "text": [
            "Positive rate: 0.20000\n",
            "Positive rate: 0.19767\n",
            "skip\n"
          ]
        },
        {
          "name": "stderr",
          "output_type": "stream",
          "text": [
            "Retrieve items by rules:  24%|██▎       | 4/17 [00:00<00:00, 37.22it/s]"
          ]
        },
        {
          "name": "stdout",
          "output_type": "stream",
          "text": [
            "Positive rate: 0.03704\n",
            "Positive rate: 0.10959\n",
            "Positive rate: 0.10667\n",
            "skip\n",
            "Positive rate: nan\n"
          ]
        },
        {
          "name": "stderr",
          "output_type": "stream",
          "text": [
            "Retrieve items by rules:  47%|████▋     | 8/17 [00:01<00:01,  6.49it/s]"
          ]
        },
        {
          "name": "stdout",
          "output_type": "stream",
          "text": [
            "Positive rate: nan\n",
            "Positive rate: nan\n"
          ]
        },
        {
          "name": "stderr",
          "output_type": "stream",
          "text": [
            "Retrieve items by rules:  59%|█████▉    | 10/17 [00:03<00:02,  2.53it/s]"
          ]
        },
        {
          "name": "stdout",
          "output_type": "stream",
          "text": [
            "Positive rate: nan\n",
            "Positive rate: nan\n"
          ]
        },
        {
          "name": "stderr",
          "output_type": "stream",
          "text": [
            "Retrieve items by rules:  71%|███████   | 12/17 [00:07<00:04,  1.01it/s]"
          ]
        },
        {
          "name": "stdout",
          "output_type": "stream",
          "text": [
            "Positive rate: nan\n"
          ]
        },
        {
          "name": "stderr",
          "output_type": "stream",
          "text": [
            "Retrieve items by rules:  76%|███████▋  | 13/17 [00:12<00:06,  1.58s/it]"
          ]
        },
        {
          "name": "stdout",
          "output_type": "stream",
          "text": [
            "Positive rate: nan\n"
          ]
        },
        {
          "name": "stderr",
          "output_type": "stream",
          "text": [
            "Retrieve items by rules:  82%|████████▏ | 14/17 [00:15<00:05,  1.95s/it]"
          ]
        },
        {
          "name": "stdout",
          "output_type": "stream",
          "text": [
            "Positive rate: 0.13953\n"
          ]
        },
        {
          "name": "stderr",
          "output_type": "stream",
          "text": [
            "Retrieve items by rules:  88%|████████▊ | 15/17 [00:16<00:03,  1.75s/it]"
          ]
        },
        {
          "name": "stdout",
          "output_type": "stream",
          "text": [
            "Positive rate: 0.03704\n"
          ]
        },
        {
          "name": "stderr",
          "output_type": "stream",
          "text": [
            "Retrieve items by rules:  94%|█████████▍| 16/17 [00:17<00:01,  1.59s/it]"
          ]
        },
        {
          "name": "stdout",
          "output_type": "stream",
          "text": [
            "Positive rate: nan\n"
          ]
        },
        {
          "name": "stderr",
          "output_type": "stream",
          "text": [
            "Retrieve items by rules: 100%|██████████| 17/17 [00:32<00:00,  1.89s/it]\n"
          ]
        }
      ],
      "source": [
        "if TEST:\n",
        "    week = 0\n",
        "    trans = data[\"inter\"]\n",
        "    \n",
        "    start_date, end_date = calc_valid_date(week)\n",
        "    print(f\"Week {week}: [{start_date}, {end_date})\")\n",
        "    \n",
        "    train, valid = dh.split_data(trans, start_date, end_date)\n",
        "    train = train.merge(data['user'][['customer_id','age_bins']], on='customer_id', how='left')\n",
        "\n",
        "    last_week_start = pd.to_datetime(start_date) - pd.Timedelta(days=7)\n",
        "    last_week_start = last_week_start.strftime(\"%Y-%m-%d\")\n",
        "    last_week = train.loc[train.t_dat >= last_week_start]\n",
        "    \n",
        "    last_3day_start = pd.to_datetime(start_date) - pd.Timedelta(days=3)\n",
        "    last_3day_start = last_3day_start.strftime(\"%Y-%m-%d\")\n",
        "    last_3days = train.loc[train.t_dat >= last_3day_start]\n",
        "\n",
        "    customer_list = submission['customer_id'].values\n",
        "\n",
        "    # * ========================== Retrieval Strategies ==========================\n",
        "\n",
        "    candidates = RuleCollector().collect(\n",
        "        week_num = week,\n",
        "        trans_df = trans,\n",
        "        customer_list=customer_list,\n",
        "        rules=[\n",
        "            OrderHistory(train, days=3, name='1'),\n",
        "            OrderHistory(train, days=7, name='2'),\n",
        "            OrderHistoryDecay(train, days=3, n=50, name='1'),\n",
        "            OrderHistoryDecay(train, days=7, n=50, name='2'),\n",
        "            ItemPair(OrderHistory(train, days=3).retrieve(), name='1'),\n",
        "            ItemPair(OrderHistory(train, days=7).retrieve(), name='2'),\n",
        "            ItemPair(OrderHistoryDecay(train, 3, n=50).retrieve(), name='3'),\n",
        "            # ItemPair(OrderHistoryDecay(train, 7, n=50).retrieve(), name='4'),\n",
        "            UserGroupTimeHistory(data, customer_list, last_week, ['age_bins'], n=15, name='1'),\n",
        "            UserGroupTimeHistory(data, customer_list, last_3days, ['age_bins'], n=20.5, name='2'),\n",
        "            UserGroupSaleTrend(data, customer_list, train, ['age_bins'], days=7, n=2),\n",
        "            TimeHistory(customer_list, last_week, n=9, name='1'),\n",
        "            TimeHistory(customer_list, last_3days, n=16, name='2'),\n",
        "            TimeHistoryDecay(customer_list, train, days=3, n=12, name='1'),\n",
        "            TimeHistoryDecay(customer_list, train, days=7, n=8, name='2'),\n",
        "            # SaleTrend(customer_list, train, days=7, n=2),\n",
        "            OrderHistory(train, days=35, n=50),\n",
        "            OrderHistoryDecay(train, days=7, n=50),\n",
        "            TimeHistory(customer_list, last_week, n=50),\n",
        "        ],\n",
        "        filters=[OutOfStock(trans)],\n",
        "        min_pos_rate=0.0001,\n",
        "        compress=False,\n",
        "    )\n",
        "    \n",
        "    candidates, _ = reduce_mem_usage(candidates)\n",
        "    # candidates = (\n",
        "    #     pd.pivot_table(\n",
        "    #         candidates,\n",
        "    #         values=\"score\",\n",
        "    #         index=[\"customer_id\", \"article_id\"],\n",
        "    #         columns=[\"method\"],\n",
        "    #         aggfunc=np.sum,\n",
        "    #     )\n",
        "    #     .reset_index()\n",
        "    # )\n",
        "    if candidates is not None and not candidates.empty:\n",
        "        candidates = (\n",
        "            pd.pivot_table(\n",
        "                candidates,\n",
        "                values=\"score\",\n",
        "                index=[\"customer_id\", \"article_id\"],\n",
        "                columns=[\"method\"],\n",
        "                aggfunc=np.sum,\n",
        "            ).reset_index()\n",
        "        )\n",
        "    else:\n",
        "        print(f\"⚠️ Không có ứng viên nào ở tuần {week}. Tạo DataFrame trống.\")\n",
        "    # candidates = pd.DataFrame(columns=[\"customer_id\", \"article_id\"])\n",
        "    \n",
        "\n",
        "    candidates.to_parquet(data_dir/\"interim\"/VERSION_NAME/f\"week{week}_candidate.pqt\")\n",
        "    valid.to_parquet(data_dir/\"processed\"/VERSION_NAME/f\"week{week}_label.pqt\")"
      ]
    },
    {
      "cell_type": "code",
      "execution_count": 16,
      "metadata": {
        "id": "gQEog9JJJR39"
      },
      "outputs": [
        {
          "data": {
            "text/plain": [
              "253"
            ]
          },
          "execution_count": 16,
          "metadata": {},
          "output_type": "execute_result"
        }
      ],
      "source": [
        "del train, valid, last_week, customer_list, candidates\n",
        "gc.collect()"
      ]
    },
    {
      "cell_type": "code",
      "execution_count": null,
      "metadata": {},
      "outputs": [],
      "source": []
    },
    {
      "cell_type": "markdown",
      "metadata": {
        "id": "TBIrKxhRGGQR"
      },
      "source": [
        "## Feature engineering\n"
      ]
    },
    {
      "cell_type": "code",
      "execution_count": 17,
      "metadata": {
        "id": "9pF-sOMSGGQP"
      },
      "outputs": [],
      "source": [
        "user = data[\"user\"]\n",
        "item = data[\"item\"]\n",
        "inter = data[\"inter\"]"
      ]
    },
    {
      "cell_type": "code",
      "execution_count": 18,
      "metadata": {
        "id": "heKIAtoRdtIk"
      },
      "outputs": [],
      "source": [
        "# calculate week number\n",
        "inter['week'] = (pd.to_datetime('2020-09-29') - pd.to_datetime(inter['t_dat'])).dt.days // 7"
      ]
    },
    {
      "cell_type": "code",
      "execution_count": 19,
      "metadata": {
        "colab": {
          "base_uri": "https://localhost:8080/"
        },
        "id": "kaEwbD6KY5R8",
        "outputId": "f71ff8a2-e5e1-4aa8-b1ce-91462fcaa87c"
      },
      "outputs": [
        {
          "name": "stderr",
          "output_type": "stream",
          "text": [
            "100%|██████████| 6/6 [00:00<00:00, 357.63it/s]\n"
          ]
        },
        {
          "data": {
            "text/plain": [
              "0"
            ]
          },
          "execution_count": 19,
          "metadata": {},
          "output_type": "execute_result"
        }
      ],
      "source": [
        "# merge full candidates to transaction data (avoid feature missing in training data)\n",
        "full_candidates = []\n",
        "for i in tqdm(range(WEEK_NUM)):\n",
        "    candidate = pd.read_parquet(data_dir/\"interim\"/VERSION_NAME/f\"week{i}_candidate.pqt\")\n",
        "    full_candidates += candidate['article_id'].values.tolist()\n",
        "full_candidates = list(set(full_candidates))\n",
        "del candidate\n",
        "gc.collect()\n",
        "\n",
        "num_candidates = len(full_candidates)\n",
        "full_candidates = np.array(full_candidates)\n",
        "full_candidates = np.tile(full_candidates, WEEK_NUM + 1)\n",
        "weeks = np.repeat(np.arange(1,WEEK_NUM+2), num_candidates)\n",
        "full_candidates = pd.DataFrame({'article_id':full_candidates, 'week':weeks})\n",
        "\n",
        "inter['valid'] = 1\n",
        "in_train = inter[inter['week']<=WEEK_NUM + 1]\n",
        "out_train = inter[inter['week']>WEEK_NUM + 1]\n",
        "\n",
        "in_train = in_train.merge(full_candidates, on=['article_id','week'], how='right')\n",
        "in_train['valid'] = in_train['valid'].fillna(0)\n",
        "inter = pd.concat([in_train, out_train], ignore_index=True)\n",
        "inter = inter.sort_values([\"valid\"], ascending=False).reset_index(drop=True)"
      ]
    },
    {
      "cell_type": "code",
      "execution_count": 20,
      "metadata": {
        "id": "QsW8gPPUUUg_"
      },
      "outputs": [],
      "source": [
        "# merge `product_code`\n",
        "inter = inter.merge(item[[\"article_id\", \"product_code\"]], on=\"article_id\", how=\"left\")"
      ]
    },
    {
      "cell_type": "code",
      "execution_count": 21,
      "metadata": {
        "colab": {
          "base_uri": "https://localhost:8080/"
        },
        "id": "Hz4m4zsiieqn",
        "outputId": "f4855f51-d2ea-4c3b-f1f2-a59ecbce5000"
      },
      "outputs": [
        {
          "data": {
            "text/plain": [
              "(32714, 8)"
            ]
          },
          "execution_count": 21,
          "metadata": {},
          "output_type": "execute_result"
        }
      ],
      "source": [
        "inter.shape"
      ]
    },
    {
      "cell_type": "code",
      "execution_count": 22,
      "metadata": {
        "id": "kYdOqlyldvNM"
      },
      "outputs": [],
      "source": [
        "_, inter[\"i_1w_sale_rank\"], inter[\"i_1w_sale_norm\"] = period_sale(\n",
        "    inter, [\"article_id\"], days=14, rank=True, norm=True, week_num=WEEK_NUM\n",
        ")\n",
        "_, inter[\"p_1w_sale_rank\"], inter[\"p_1w_sale_norm\"] = period_sale(\n",
        "    inter, [\"product_code\"], days=14, rank=True, norm=True, week_num=WEEK_NUM\n",
        ")\n",
        "inter[\"i_2w_sale\"], inter[\"i_2w_sale_rank\"], inter[\"i_2w_sale_norm\"] = period_sale(\n",
        "    inter, [\"article_id\"], days=14, rank=True, norm=True, week_num=WEEK_NUM\n",
        ")\n",
        "inter[\"p_2w_sale\"], inter[\"p_2w_sale_rank\"], inter[\"p_2w_sale_norm\"] = period_sale(\n",
        "    inter, [\"product_code\"], days=14, rank=True, norm=True, week_num=WEEK_NUM\n",
        ")"
      ]
    },
    {
      "cell_type": "code",
      "execution_count": 23,
      "metadata": {
        "id": "7Lv1FtoOeI9n"
      },
      "outputs": [],
      "source": [
        "inter[\"i_3w_sale\"], inter[\"i_3w_sale_rank\"], inter[\"i_3w_sale_norm\"] = period_sale(\n",
        "    inter, [\"article_id\"], days=21, rank=True, norm=True, week_num=WEEK_NUM\n",
        ")\n",
        "inter[\"p_3w_sale\"], inter[\"p_3w_sale_rank\"], inter[\"p_3w_sale_norm\"] = period_sale(\n",
        "    inter, [\"product_code\"], days=21, rank=True, norm=True, week_num=WEEK_NUM\n",
        ")\n",
        "inter[\"i_4w_sale\"], inter[\"i_4w_sale_rank\"], inter[\"i_4w_sale_norm\"] = period_sale(\n",
        "    inter, [\"article_id\"], days=28, rank=True, norm=True, week_num=WEEK_NUM\n",
        ")\n",
        "inter[\"p_4w_sale\"], inter[\"p_4w_sale_rank\"], inter[\"p_4w_sale_norm\"] = period_sale(\n",
        "    inter, [\"product_code\"], days=28, rank=True, norm=True, week_num=WEEK_NUM\n",
        ")"
      ]
    },
    {
      "cell_type": "code",
      "execution_count": 24,
      "metadata": {
        "colab": {
          "base_uri": "https://localhost:8080/"
        },
        "id": "2Yqb3KaWinZM",
        "outputId": "06dc54f9-2c38-4fa5-f242-f8d42ad7a5cc"
      },
      "outputs": [
        {
          "data": {
            "text/plain": [
              "(32714, 30)"
            ]
          },
          "execution_count": 24,
          "metadata": {},
          "output_type": "execute_result"
        }
      ],
      "source": [
        "inter.shape"
      ]
    },
    {
      "cell_type": "code",
      "execution_count": 25,
      "metadata": {
        "colab": {
          "base_uri": "https://localhost:8080/"
        },
        "id": "FdlZqq5QzbMR",
        "outputId": "dab8fbf6-0167-42d6-9e74-ecc826ec84c1"
      },
      "outputs": [
        {
          "name": "stderr",
          "output_type": "stream",
          "text": [
            "100%|██████████| 6/6 [00:00<00:00, 213.75it/s]\n",
            "100%|██████████| 6/6 [00:00<00:00, 227.48it/s]\n"
          ]
        }
      ],
      "source": [
        "inter['i_repurchase_ratio'] = repurchase_ratio(inter, ['article_id'], week_num=WEEK_NUM)\n",
        "inter['p_repurchase_ratio'] = repurchase_ratio(inter, ['product_code'], week_num=WEEK_NUM)"
      ]
    },
    {
      "cell_type": "code",
      "execution_count": 26,
      "metadata": {
        "colab": {
          "base_uri": "https://localhost:8080/"
        },
        "id": "Oh3Otv_Cipmi",
        "outputId": "0224c3f9-8534-4658-edca-2f0dc887f728"
      },
      "outputs": [
        {
          "data": {
            "text/plain": [
              "(32714, 32)"
            ]
          },
          "execution_count": 26,
          "metadata": {},
          "output_type": "execute_result"
        }
      ],
      "source": [
        "inter.shape"
      ]
    },
    {
      "cell_type": "code",
      "execution_count": 27,
      "metadata": {
        "id": "riX-F5H5lbMu"
      },
      "outputs": [],
      "source": [
        "inter, _ = reduce_mem_usage(inter)"
      ]
    },
    {
      "cell_type": "code",
      "execution_count": 28,
      "metadata": {
        "colab": {
          "base_uri": "https://localhost:8080/"
        },
        "id": "70okKvWfzgip",
        "outputId": "a1a2392a-c88d-49f3-b4be-d3aebecb7761"
      },
      "outputs": [
        {
          "name": "stderr",
          "output_type": "stream",
          "text": [
            "100%|██████████| 6/6 [00:00<00:00, 88.68it/s]\n"
          ]
        }
      ],
      "source": [
        "inter[\"i_sale\"] = week_sale(inter, [\"article_id\"], week_num=WEEK_NUM)\n",
        "inter[\"p_sale\"] = week_sale(inter, [\"product_code\"], week_num=WEEK_NUM)\n",
        "inter[\"i_sale_uni\"] = week_sale(inter, [\"article_id\"], True, week_num=WEEK_NUM)\n",
        "inter[\"p_sale_uni\"] = week_sale(inter, [\"product_code\"], True, week_num=WEEK_NUM)\n",
        "inter[\"lw_i_sale\"] = week_sale(inter, [\"article_id\"], step=1, week_num=WEEK_NUM) # * last week sale\n",
        "inter[\"lw_p_sale\"] = week_sale(inter, [\"product_code\"], step=1, week_num=WEEK_NUM)\n",
        "inter[\"lw_i_sale_uni\"] = week_sale(inter, [\"article_id\"], True, step=1, week_num=WEEK_NUM)\n",
        "inter[\"lw_p_sale_uni\"] = week_sale(inter, [\"product_code\"], True, step=1, week_num=WEEK_NUM)\n",
        "\n",
        "inter[\"i_sale_ratio\"] = inter[\"i_sale\"] / (inter[\"p_sale\"] + 1e-6)\n",
        "inter[\"i_sale_uni_ratio\"] = inter[\"i_sale_uni\"] / (inter[\"p_sale_uni\"] + 1e-6)\n",
        "inter[\"lw_i_sale_ratio\"] = inter[\"lw_i_sale\"] / (inter[\"lw_p_sale\"] + 1e-6)\n",
        "inter[\"lw_i_sale_uni_ratio\"] = inter[\"lw_i_sale_uni\"] / (inter[\"lw_p_sale_uni\"] + 1e-6)\n",
        "\n",
        "inter[\"i_uni_ratio\"] = inter[\"i_sale\"] / (inter[\"i_sale_uni\"] + 1e-6)\n",
        "inter[\"p_uni_ratio\"] = inter[\"p_sale\"] / (inter[\"p_sale_uni\"] + 1e-6)\n",
        "inter[\"lw_i_uni_ratio\"] = inter[\"lw_i_sale\"] / (inter[\"lw_i_sale_uni\"] + 1e-6)\n",
        "inter[\"lw_p_uni_ratio\"] = inter[\"lw_p_sale\"] / (inter[\"lw_p_sale_uni\"] + 1e-6)\n",
        "\n",
        "inter[\"i_sale_trend\"] = (inter[\"i_sale\"] - inter[\"lw_i_sale\"]) / (inter[\"lw_i_sale\"] + 1e-6)\n",
        "inter[\"p_sale_trend\"] = (inter[\"p_sale\"] - inter[\"lw_p_sale\"]) / (inter[\"lw_p_sale\"] + 1e-6)\n",
        "\n",
        "item_feats = [\n",
        "    \"product_type_no\",\n",
        "    \"product_group_name\",\n",
        "    \"graphical_appearance_no\",\n",
        "    \"colour_group_code\",\n",
        "    \"perceived_colour_value_id\",\n",
        "    \"perceived_colour_master_id\",\n",
        "]\n",
        "inter = inter.merge(item[[\"article_id\", *item_feats]], on=\"article_id\", how=\"left\")\n",
        "\n",
        "for f in tqdm(item_feats):\n",
        "    inter[f\"{f}_sale\"] = week_sale(inter, [f], f\"{f}_sale\", week_num=WEEK_NUM)\n",
        "    inter[f\"lw_{f}_sale\"] = week_sale(inter, [f], f\"{f}_sale\", step=1, week_num=WEEK_NUM)\n",
        "    inter[f\"{f}_sale_trend\"] = (inter[f\"{f}_sale\"] - inter[f\"lw_{f}_sale\"]) / (inter[f\"lw_{f}_sale\"] + 1e-6)"
      ]
    },
    {
      "cell_type": "code",
      "execution_count": 29,
      "metadata": {
        "colab": {
          "base_uri": "https://localhost:8080/"
        },
        "id": "K4hO0oT3isNu",
        "outputId": "bf229999-43ac-4e2d-ee40-eb93d608911e"
      },
      "outputs": [
        {
          "data": {
            "text/plain": [
              "(32714, 74)"
            ]
          },
          "execution_count": 29,
          "metadata": {},
          "output_type": "execute_result"
        }
      ],
      "source": [
        "inter.shape"
      ]
    },
    {
      "cell_type": "code",
      "execution_count": 30,
      "metadata": {
        "id": "mQkGNyjaBbi-"
      },
      "outputs": [],
      "source": [
        "# * Date related\n",
        "curr_date_dict = {x:calc_valid_date(x-1)[0] for x in range(100)}\n",
        "current_dat = inter['week'].map(curr_date_dict)\n",
        "mask = inter['valid']==0\n",
        "inter.loc[mask, 't_dat'] = inter.loc[mask, 'week'].map(curr_date_dict)\n",
        "first_date = inter.groupby('article_id')['t_dat'].min().reset_index(name='first_dat')\n",
        "inter = pd.merge(inter, first_date, on='article_id', how='left')\n",
        "# df = pd.merge(df, last_date, on='article_id', how='left')\n",
        "inter['first_dat'] = (pd.to_datetime(current_dat)-pd.to_datetime(inter['first_dat'])).dt.days"
      ]
    },
    {
      "cell_type": "code",
      "execution_count": 31,
      "metadata": {
        "colab": {
          "base_uri": "https://localhost:8080/"
        },
        "id": "sZHdSXtAi_zK",
        "outputId": "2a802998-74c8-4695-95fd-d134d3d7d549"
      },
      "outputs": [
        {
          "data": {
            "text/plain": [
              "(32714, 75)"
            ]
          },
          "execution_count": 31,
          "metadata": {},
          "output_type": "execute_result"
        }
      ],
      "source": [
        "inter.shape"
      ]
    },
    {
      "cell_type": "code",
      "execution_count": 32,
      "metadata": {
        "id": "OC8SIYK_Ca-g"
      },
      "outputs": [],
      "source": [
        "inter['i_full_sale'] = full_sale(inter, ['article_id'], week_num=WEEK_NUM)\n",
        "inter['p_full_sale'] = full_sale(inter, ['product_code'], week_num=WEEK_NUM)\n",
        "\n",
        "inter['i_daily_sale'] = inter['i_full_sale'] / inter['first_dat']\n",
        "inter['p_daily_sale'] = inter['p_full_sale'] / inter['first_dat']\n",
        "inter['i_daily_sale_ratio'] = inter['i_daily_sale'] / inter['p_daily_sale']\n",
        "inter['i_w_full_sale_ratio'] = inter['i_sale'] / inter['i_full_sale']\n",
        "\n",
        "inter['i_2w_full_sale_ratio'] = inter['i_2w_sale'] / inter['i_full_sale']\n",
        "inter['p_w_full_sale_ratio'] = inter['p_sale'] / inter['p_full_sale']\n",
        "inter['p_2w_full_sale_ratio'] = inter['p_2w_sale'] / inter['p_full_sale']\n",
        "\n",
        "inter['i_week_above_daily_sale'] = inter['i_sale'] / 7 - inter['i_daily_sale']\n",
        "inter['p_week_above_full_sale'] = inter['p_sale'] / 7 - inter['i_full_sale']\n",
        "inter['i_2w_week_above_daily_sale'] = inter['i_2w_sale'] / 14 - inter['i_daily_sale']\n",
        "inter['p_2w_week_above_daily_sale'] = inter['p_2w_sale'] / 14 - inter['p_daily_sale']"
      ]
    },
    {
      "cell_type": "code",
      "execution_count": 33,
      "metadata": {
        "colab": {
          "base_uri": "https://localhost:8080/"
        },
        "id": "334plAMZ5Ics",
        "outputId": "d0d6230d-ba07-43d5-9640-ca8c97e60b7a"
      },
      "outputs": [
        {
          "data": {
            "text/plain": [
              "0"
            ]
          },
          "execution_count": 33,
          "metadata": {},
          "output_type": "execute_result"
        }
      ],
      "source": [
        "gc.collect()"
      ]
    },
    {
      "cell_type": "code",
      "execution_count": 34,
      "metadata": {
        "colab": {
          "base_uri": "https://localhost:8080/"
        },
        "id": "z4HdQYbZ5CC-",
        "outputId": "daf9bf66-b53d-4504-bd05-b9a385f1fe49"
      },
      "outputs": [
        {
          "name": "stderr",
          "output_type": "stream",
          "text": [
            "  0%|          | 0/6 [00:00<?, ?it/s]"
          ]
        },
        {
          "data": {
            "text/plain": [
              "17"
            ]
          },
          "execution_count": 34,
          "metadata": {},
          "output_type": "execute_result"
        },
        {
          "data": {
            "text/plain": [
              "17"
            ]
          },
          "execution_count": 34,
          "metadata": {},
          "output_type": "execute_result"
        },
        {
          "name": "stderr",
          "output_type": "stream",
          "text": [
            " 33%|███▎      | 2/6 [00:00<00:00, 16.78it/s]"
          ]
        },
        {
          "data": {
            "text/plain": [
              "17"
            ]
          },
          "execution_count": 34,
          "metadata": {},
          "output_type": "execute_result"
        },
        {
          "data": {
            "text/plain": [
              "17"
            ]
          },
          "execution_count": 34,
          "metadata": {},
          "output_type": "execute_result"
        },
        {
          "name": "stderr",
          "output_type": "stream",
          "text": [
            " 67%|██████▋   | 4/6 [00:00<00:00, 16.76it/s]"
          ]
        },
        {
          "data": {
            "text/plain": [
              "17"
            ]
          },
          "execution_count": 34,
          "metadata": {},
          "output_type": "execute_result"
        },
        {
          "data": {
            "text/plain": [
              "17"
            ]
          },
          "execution_count": 34,
          "metadata": {},
          "output_type": "execute_result"
        },
        {
          "name": "stderr",
          "output_type": "stream",
          "text": [
            "100%|██████████| 6/6 [00:00<00:00, 16.45it/s]\n"
          ]
        }
      ],
      "source": [
        "for f in tqdm(item_feats):\n",
        "    inter[f'{f}_full_sale'] = full_sale(inter, [f], week_num=WEEK_NUM)\n",
        "    f_first_date = inter.groupby(f)['t_dat'].min().reset_index(name=f'{f}_first_dat')\n",
        "    inter = inter.merge(f_first_date, on=f, how='left')\n",
        "    inter[f'{f}_daily_sale'] = inter[f'{f}_full_sale'] / (pd.to_datetime(current_dat) - pd.to_datetime(inter[f'{f}_first_dat'])).dt.days\n",
        "    inter[f'i_{f}_daily_sale_ratio'] = inter['i_daily_sale'] / inter[f'{f}_daily_sale']\n",
        "    inter[f'p_{f}_daily_sale_ratio'] = inter['p_daily_sale'] / inter[f'{f}_daily_sale']\n",
        "    del inter[f'{f}_full_sale'], inter[f'{f}_first_dat']\n",
        "    gc.collect()"
      ]
    },
    {
      "cell_type": "code",
      "execution_count": 35,
      "metadata": {
        "id": "_fhlw8z4z5hD"
      },
      "outputs": [],
      "source": [
        "for f in item_feats + ['i_full_sale','p_full_sale']:\n",
        "    del inter[f]"
      ]
    },
    {
      "cell_type": "code",
      "execution_count": 36,
      "metadata": {
        "id": "ms4s0YUJznFU"
      },
      "outputs": [],
      "source": [
        "inter['i_pop'] = popularity(inter, 'article_id', week_num=WEEK_NUM)\n",
        "inter['p_pop'] = popularity(inter, 'product_code', week_num=WEEK_NUM)"
      ]
    },
    {
      "cell_type": "code",
      "execution_count": 37,
      "metadata": {
        "id": "ip6AdvV0kS1y"
      },
      "outputs": [],
      "source": [
        "inter = inter.loc[inter['week'] <= WEEK_NUM + 2]"
      ]
    },
    {
      "cell_type": "code",
      "execution_count": 38,
      "metadata": {
        "id": "huYRSLE91PJH"
      },
      "outputs": [],
      "source": [
        "inter.to_parquet(data_dir / \"processed/processed_inter.pqt\")"
      ]
    },
    {
      "cell_type": "markdown",
      "metadata": {
        "id": "jywhBCAGGGQS"
      },
      "source": [
        "## Merge Features\n"
      ]
    },
    {
      "cell_type": "code",
      "execution_count": 39,
      "metadata": {
        "id": "YwbQ4jyD4MxX"
      },
      "outputs": [],
      "source": [
        "inter = pd.read_parquet(data_dir / \"processed/processed_inter.pqt\")\n",
        "inter = inter[inter['week'] <= WEEK_NUM + 2]"
      ]
    },
    {
      "cell_type": "code",
      "execution_count": 40,
      "metadata": {
        "id": "-7YlHho_JR4F"
      },
      "outputs": [],
      "source": [
        "#* embeddings from DSSM model\n",
        "dssm_user_embd = np.load(data_dir / \"external/dssm_user_embd.npy\", allow_pickle=True)\n",
        "dssm_item_embd = np.load(data_dir / \"external/dssm_item_embd.npy\", allow_pickle=True)\n",
        "# * embeddings from YouTubeDNN model\n",
        "yt_user_embd = np.load(data_dir / \"external/yt_user_embd.npy\", allow_pickle=True)\n",
        "yt_item_embd = np.load(data_dir / \"external/yt_item_embd.npy\", allow_pickle=True)\n",
        "# * embeddings from Word2Vector model\n",
        "w2v_user_embd = np.load(data_dir/'external'/'w2v_user_embd.npy', allow_pickle=True)\n",
        "w2v_item_embd = np.load(data_dir/'external'/'w2v_item_embd.npy', allow_pickle=True)"
      ]
    },
    {
      "cell_type": "code",
      "execution_count": 41,
      "metadata": {
        "id": "IveB8V0VJGLm"
      },
      "outputs": [],
      "source": [
        "for col in inter.columns:\n",
        "    inter[col] = np.nan_to_num(inter[col])"
      ]
    },
    {
      "cell_type": "code",
      "execution_count": 42,
      "metadata": {
        "colab": {
          "base_uri": "https://localhost:8080/"
        },
        "id": "HXmOMDkO33sr",
        "outputId": "2e393829-09ab-4fd6-9372-edc7dfeda088"
      },
      "outputs": [
        {
          "name": "stderr",
          "output_type": "stream",
          "text": [
            "  0%|          | 0/6 [00:00<?, ?it/s]"
          ]
        },
        {
          "data": {
            "application/vnd.jupyter.widget-view+json": {
              "model_id": "6821330c8bc546ab87fc98615006df0f",
              "version_major": 2,
              "version_minor": 0
            },
            "text/plain": [
              "  0%|          | 0/6 [00:00<?, ?it/s]"
            ]
          },
          "metadata": {},
          "output_type": "display_data"
        },
        {
          "data": {
            "application/vnd.jupyter.widget-view+json": {
              "model_id": "ddb52eb2a9e44509b318a7494642943d",
              "version_major": 2,
              "version_minor": 0
            },
            "text/plain": [
              "  0%|          | 0/6 [00:00<?, ?it/s]"
            ]
          },
          "metadata": {},
          "output_type": "display_data"
        },
        {
          "data": {
            "application/vnd.jupyter.widget-view+json": {
              "model_id": "a5a3c228f52d4cdca54704b041e0bb51",
              "version_major": 2,
              "version_minor": 0
            },
            "text/plain": [
              "  0%|          | 0/6 [00:00<?, ?it/s]"
            ]
          },
          "metadata": {},
          "output_type": "display_data"
        },
        {
          "name": "stdout",
          "output_type": "stream",
          "text": [
            "Chunk 0 done...\n"
          ]
        },
        {
          "data": {
            "application/vnd.jupyter.widget-view+json": {
              "model_id": "8a9de72f01aa43588b35f450232a1e1c",
              "version_major": 2,
              "version_minor": 0
            },
            "text/plain": [
              "  0%|          | 0/6 [00:00<?, ?it/s]"
            ]
          },
          "metadata": {},
          "output_type": "display_data"
        },
        {
          "data": {
            "application/vnd.jupyter.widget-view+json": {
              "model_id": "e74a09eb64ab4218b63545bce287257e",
              "version_major": 2,
              "version_minor": 0
            },
            "text/plain": [
              "  0%|          | 0/6 [00:00<?, ?it/s]"
            ]
          },
          "metadata": {},
          "output_type": "display_data"
        },
        {
          "data": {
            "application/vnd.jupyter.widget-view+json": {
              "model_id": "61dfd0d6f44c439b98d1187a7cf40b05",
              "version_major": 2,
              "version_minor": 0
            },
            "text/plain": [
              "  0%|          | 0/6 [00:00<?, ?it/s]"
            ]
          },
          "metadata": {},
          "output_type": "display_data"
        },
        {
          "name": "stdout",
          "output_type": "stream",
          "text": [
            "Chunk 1 done...\n"
          ]
        },
        {
          "name": "stderr",
          "output_type": "stream",
          "text": [
            " 17%|█▋        | 1/6 [00:00<00:01,  2.69it/s]"
          ]
        },
        {
          "name": "stdout",
          "output_type": "stream",
          "text": [
            "127\n",
            "[1]\n"
          ]
        },
        {
          "data": {
            "application/vnd.jupyter.widget-view+json": {
              "model_id": "37df5d8e6fff407db7bd18ce5e96dfc4",
              "version_major": 2,
              "version_minor": 0
            },
            "text/plain": [
              "  0%|          | 0/1 [00:00<?, ?it/s]"
            ]
          },
          "metadata": {},
          "output_type": "display_data"
        },
        {
          "data": {
            "application/vnd.jupyter.widget-view+json": {
              "model_id": "ad9c1b4cb7be4efaa4d94ddd44dd6529",
              "version_major": 2,
              "version_minor": 0
            },
            "text/plain": [
              "  0%|          | 0/1 [00:00<?, ?it/s]"
            ]
          },
          "metadata": {},
          "output_type": "display_data"
        },
        {
          "data": {
            "application/vnd.jupyter.widget-view+json": {
              "model_id": "0a817f87dff5463c846c0a656b62b3cf",
              "version_major": 2,
              "version_minor": 0
            },
            "text/plain": [
              "  0%|          | 0/1 [00:00<?, ?it/s]"
            ]
          },
          "metadata": {},
          "output_type": "display_data"
        },
        {
          "name": "stderr",
          "output_type": "stream",
          "text": [
            " 33%|███▎      | 2/6 [00:00<00:01,  3.28it/s]"
          ]
        },
        {
          "name": "stdout",
          "output_type": "stream",
          "text": [
            "102\n",
            "[2]\n"
          ]
        },
        {
          "data": {
            "application/vnd.jupyter.widget-view+json": {
              "model_id": "23d40c32c47247caaeb6b3ce609d399a",
              "version_major": 2,
              "version_minor": 0
            },
            "text/plain": [
              "  0%|          | 0/1 [00:00<?, ?it/s]"
            ]
          },
          "metadata": {},
          "output_type": "display_data"
        },
        {
          "data": {
            "application/vnd.jupyter.widget-view+json": {
              "model_id": "ab1b4e3f09074ec68e5f754cc9508d56",
              "version_major": 2,
              "version_minor": 0
            },
            "text/plain": [
              "  0%|          | 0/1 [00:00<?, ?it/s]"
            ]
          },
          "metadata": {},
          "output_type": "display_data"
        },
        {
          "data": {
            "application/vnd.jupyter.widget-view+json": {
              "model_id": "ba8e89d38aa14c57bc0d8d0604c7e771",
              "version_major": 2,
              "version_minor": 0
            },
            "text/plain": [
              "  0%|          | 0/1 [00:00<?, ?it/s]"
            ]
          },
          "metadata": {},
          "output_type": "display_data"
        },
        {
          "name": "stderr",
          "output_type": "stream",
          "text": [
            " 50%|█████     | 3/6 [00:00<00:00,  4.25it/s]"
          ]
        },
        {
          "name": "stdout",
          "output_type": "stream",
          "text": [
            "144\n",
            "[3]\n"
          ]
        },
        {
          "data": {
            "application/vnd.jupyter.widget-view+json": {
              "model_id": "a51bb01209334eea8e266df004648798",
              "version_major": 2,
              "version_minor": 0
            },
            "text/plain": [
              "  0%|          | 0/1 [00:00<?, ?it/s]"
            ]
          },
          "metadata": {},
          "output_type": "display_data"
        },
        {
          "data": {
            "application/vnd.jupyter.widget-view+json": {
              "model_id": "d9b847727bf441929aec97d212aff194",
              "version_major": 2,
              "version_minor": 0
            },
            "text/plain": [
              "  0%|          | 0/1 [00:00<?, ?it/s]"
            ]
          },
          "metadata": {},
          "output_type": "display_data"
        },
        {
          "data": {
            "application/vnd.jupyter.widget-view+json": {
              "model_id": "accc80ae44f64e5aa31e335e22453d88",
              "version_major": 2,
              "version_minor": 0
            },
            "text/plain": [
              "  0%|          | 0/1 [00:00<?, ?it/s]"
            ]
          },
          "metadata": {},
          "output_type": "display_data"
        },
        {
          "name": "stderr",
          "output_type": "stream",
          "text": [
            " 67%|██████▋   | 4/6 [00:00<00:00,  4.89it/s]"
          ]
        },
        {
          "name": "stdout",
          "output_type": "stream",
          "text": [
            "148\n",
            "[4]\n"
          ]
        },
        {
          "data": {
            "application/vnd.jupyter.widget-view+json": {
              "model_id": "f686abcbc5464db7af1763378d8ef240",
              "version_major": 2,
              "version_minor": 0
            },
            "text/plain": [
              "  0%|          | 0/1 [00:00<?, ?it/s]"
            ]
          },
          "metadata": {},
          "output_type": "display_data"
        },
        {
          "data": {
            "application/vnd.jupyter.widget-view+json": {
              "model_id": "3601a611e1424351958a3e7ef25a234b",
              "version_major": 2,
              "version_minor": 0
            },
            "text/plain": [
              "  0%|          | 0/1 [00:00<?, ?it/s]"
            ]
          },
          "metadata": {},
          "output_type": "display_data"
        },
        {
          "data": {
            "application/vnd.jupyter.widget-view+json": {
              "model_id": "74a3df05cf3d4f20bcc525eeb54e27d8",
              "version_major": 2,
              "version_minor": 0
            },
            "text/plain": [
              "  0%|          | 0/1 [00:00<?, ?it/s]"
            ]
          },
          "metadata": {},
          "output_type": "display_data"
        },
        {
          "name": "stderr",
          "output_type": "stream",
          "text": [
            " 83%|████████▎ | 5/6 [00:01<00:00,  4.51it/s]"
          ]
        },
        {
          "name": "stdout",
          "output_type": "stream",
          "text": [
            "106\n",
            "[5]\n"
          ]
        },
        {
          "data": {
            "application/vnd.jupyter.widget-view+json": {
              "model_id": "ac76d68bf6804c9eb68ca25e7e40ef3a",
              "version_major": 2,
              "version_minor": 0
            },
            "text/plain": [
              "  0%|          | 0/1 [00:00<?, ?it/s]"
            ]
          },
          "metadata": {},
          "output_type": "display_data"
        },
        {
          "data": {
            "application/vnd.jupyter.widget-view+json": {
              "model_id": "1a47cf29677041198e144679d59bc6ef",
              "version_major": 2,
              "version_minor": 0
            },
            "text/plain": [
              "  0%|          | 0/1 [00:00<?, ?it/s]"
            ]
          },
          "metadata": {},
          "output_type": "display_data"
        },
        {
          "data": {
            "application/vnd.jupyter.widget-view+json": {
              "model_id": "47dbed451172467a80cae4843f815c26",
              "version_major": 2,
              "version_minor": 0
            },
            "text/plain": [
              "  0%|          | 0/1 [00:00<?, ?it/s]"
            ]
          },
          "metadata": {},
          "output_type": "display_data"
        },
        {
          "name": "stderr",
          "output_type": "stream",
          "text": [
            "100%|██████████| 6/6 [00:01<00:00,  4.48it/s]\n"
          ]
        }
      ],
      "source": [
        "for i in tqdm(range(WEEK_NUM)):\n",
        "    if i == 0 and not TEST:\n",
        "        continue\n",
        "    candidate = pd.read_parquet(data_dir/\"interim\"/VERSION_NAME/f\"week{i}_candidate.pqt\")\n",
        "\n",
        "    if candidate.shape[0] == 0:\n",
        "        print(f\"⚠️ Không có candidate nào ở tuần {i}, bỏ qua.\")\n",
        "        continue\n",
        "\n",
        "    if i == 0:\n",
        "        chunk_size = max(1, int(candidate.shape[0] * 0.5))  # tránh step = 0\n",
        "        for chunk, batch in enumerate(range(0, candidate.shape[0], chunk_size)):\n",
        "            sub_candidate = candidate.iloc[batch:batch + chunk_size]\n",
        "            sub_candidate = merge_week_data(data, inter, i, sub_candidate)\n",
        "            sub_candidate['article_id'] = sub_candidate['article_id'].astype(int)\n",
        "            sub_candidate['customer_id'] = sub_candidate['customer_id'].astype(int)\n",
        "            sub_candidate[\"dssm_similarity\"] = calc_embd_similarity(sub_candidate, dssm_user_embd, dssm_item_embd)\n",
        "            sub_candidate[\"yt_similarity\"] = calc_embd_similarity(sub_candidate, yt_user_embd, yt_item_embd)\n",
        "            sub_candidate[\"wv_similarity\"] = calc_embd_similarity(sub_candidate, w2v_user_embd, w2v_item_embd, sub=False)\n",
        "            print(f\"Chunk {chunk} done...\")\n",
        "            sub_candidate.to_parquet(data_dir/\"processed\"/VERSION_NAME/f\"week{i}_candidate_{chunk}.pqt\")\n",
        "    else:\n",
        "        candidate = merge_week_data(data, inter, i, candidate)\n",
        "        print(candidate['week'].unique())\n",
        "        candidate[\"dssm_similarity\"] = calc_embd_similarity(candidate, dssm_user_embd, dssm_item_embd)\n",
        "        candidate[\"yt_similarity\"] = calc_embd_similarity(candidate, yt_user_embd, yt_item_embd)\n",
        "        candidate[\"wv_similarity\"] = calc_embd_similarity(candidate, w2v_user_embd, w2v_item_embd, sub=False)\n",
        "        candidate.to_parquet(data_dir/\"processed\"/VERSION_NAME/f\"week{i}_candidate.pqt\")\n"
      ]
    },
    {
      "cell_type": "code",
      "execution_count": 43,
      "metadata": {
        "colab": {
          "base_uri": "https://localhost:8080/"
        },
        "id": "sWyKQBAt3x--",
        "outputId": "fbf329ec-67aa-4074-f106-f90285bf1d58"
      },
      "outputs": [
        {
          "data": {
            "text/plain": [
              "0"
            ]
          },
          "execution_count": 43,
          "metadata": {},
          "output_type": "execute_result"
        }
      ],
      "source": [
        "del dssm_user_embd, dssm_item_embd, yt_user_embd, yt_item_embd\n",
        "gc.collect()"
      ]
    },
    {
      "cell_type": "markdown",
      "metadata": {
        "id": "7Zml-cxryoU_"
      },
      "source": [
        "## Ranking\n"
      ]
    },
    {
      "cell_type": "code",
      "execution_count": 44,
      "metadata": {
        "colab": {
          "base_uri": "https://localhost:8080/"
        },
        "id": "PsmE6rgjdtIr",
        "outputId": "33501621-403f-4a60-f351-2a112cb1dfdb"
      },
      "outputs": [
        {
          "name": "stderr",
          "output_type": "stream",
          "text": [
            "100%|██████████| 5/5 [00:00<00:00, 104.94it/s]\n"
          ]
        }
      ],
      "source": [
        "candidates = {}\n",
        "labels = {}\n",
        "for i in tqdm(range(1, WEEK_NUM)):\n",
        "    candidates[i] = pd.read_parquet(data_dir/\"processed\"/VERSION_NAME/f\"week{i}_candidate.pqt\")\n",
        "    labels[i] = pd.read_parquet(data_dir/\"processed\"/VERSION_NAME/f\"week{i}_label.pqt\")    "
      ]
    },
    {
      "cell_type": "code",
      "execution_count": 45,
      "metadata": {
        "id": "xWqYwCbsdtIr"
      },
      "outputs": [],
      "source": [
        "feats = [\n",
        "    x\n",
        "    for x in candidates[1].columns\n",
        "    if x\n",
        "    not in [\n",
        "        \"label\",\n",
        "        \"sales_channel_id\",\n",
        "        \"t_dat\",\n",
        "        \"week\",\n",
        "    ]\n",
        "]\n",
        "cat_features = [\n",
        "    \"customer_id\",\n",
        "    \"article_id\",\n",
        "    \"product_code\",\n",
        "    \"FN\",\n",
        "    \"Active\",\n",
        "    \"club_member_status\",\n",
        "    \"fashion_news_frequency\",\n",
        "    \"age\",\n",
        "    \"product_type_no\",\n",
        "    \"product_group_name\",\n",
        "    \"graphical_appearance_no\",\n",
        "    \"colour_group_code\",\n",
        "    \"perceived_colour_value_id\",\n",
        "    \"perceived_colour_master_id\",\n",
        "    \"user_gender\",\n",
        "    \"article_gender\",\n",
        "    \"season_type\"\n",
        "]"
      ]
    },
    {
      "cell_type": "code",
      "execution_count": 46,
      "metadata": {
        "colab": {
          "base_uri": "https://localhost:8080/"
        },
        "id": "cweXHQMrJR4I",
        "outputId": "4b89aacb-d149-4284-f0f4-1bd3cf472500"
      },
      "outputs": [
        {
          "name": "stderr",
          "output_type": "stream",
          "text": [
            "100%|██████████| 17/17 [00:00<00:00, 416.69it/s]\n"
          ]
        }
      ],
      "source": [
        "# * Convert categorical featues as `CategoricalDtype`\n",
        "cate_dict = {}        \n",
        "for feat in tqdm(cat_features):\n",
        "    if feat in data['user'].columns:\n",
        "        value_set = set(data['user'][feat].unique())\n",
        "    elif feat in data['item'].columns:\n",
        "        value_set = set(data['item'][feat].unique())\n",
        "    else:\n",
        "        value_set = set(data['inter'][feat].unique())\n",
        "    cate_dict[feat] = CategoricalDtype(categories=value_set)"
      ]
    },
    {
      "cell_type": "code",
      "execution_count": 47,
      "metadata": {
        "id": "G-fVjg3JT_OE"
      },
      "outputs": [],
      "source": [
        "full_data = pd.concat([candidates[i] for i in range(1, WEEK_NUM)], ignore_index=True)"
      ]
    },
    {
      "cell_type": "markdown",
      "metadata": {
        "id": "aLttJ3CtJ39a"
      },
      "source": [
        "### Extra Features"
      ]
    },
    {
      "cell_type": "code",
      "execution_count": 48,
      "metadata": {
        "id": "lcsSONupJ9zO"
      },
      "outputs": [],
      "source": [
        "inter = data['inter']\n",
        "# H&M\n",
        "# inter = inter[inter['t_dat']<'2020-08-19'] # * start date of the last valid week\n",
        "# inter['week'] = (pd.to_datetime('2020-09-29') - pd.to_datetime(inter['t_dat'])).dt.days // 7\n",
        "#Vibrent\n",
        "inter = inter[inter['t_dat']<'2023-10-30'] # * start date of the last valid week\n",
        "inter['week'] = (pd.to_datetime('2023-10-30') - pd.to_datetime(inter['t_dat'])).dt.days // 7\n",
        "inter = inter.merge(data['item'][[\"article_id\", \"product_code\"]], on=\"article_id\", how=\"left\")"
      ]
    },
    {
      "cell_type": "code",
      "execution_count": 49,
      "metadata": {
        "id": "Z3vaGE2nJ-zT"
      },
      "outputs": [],
      "source": [
        "tmp = inter.groupby('article_id').week.mean()\n",
        "full_data['article_time_mean'] = full_data['article_id'].map(tmp)\n",
        "\n",
        "tmp = inter.groupby('customer_id').week.nth(-1)\n",
        "full_data['customer_id_last_time'] = full_data['customer_id'].map(tmp)\n",
        "\n",
        "tmp = inter.groupby('customer_id').week.nth(0)\n",
        "full_data['customer_id_first_time'] = full_data['customer_id'].map(tmp)\n",
        "\n",
        "tmp = inter.groupby('customer_id').week.mean()\n",
        "full_data['customer_id_time_mean'] = full_data['customer_id'].map(tmp)\n",
        "\n",
        "full_data['customer_id_gap'] = full_data['customer_id_first_time'] - full_data['customer_id_last_time']"
      ]
    },
    {
      "cell_type": "code",
      "execution_count": 50,
      "metadata": {
        "id": "RYEfzdHmczFn"
      },
      "outputs": [],
      "source": [
        "feats += [\n",
        "    'article_time_mean', \n",
        "    'customer_id_last_time', \n",
        "    'customer_id_first_time', \n",
        "    'customer_id_time_mean',\n",
        "    'customer_id_gap'\n",
        "]"
      ]
    },
    {
      "cell_type": "code",
      "execution_count": 51,
      "metadata": {
        "colab": {
          "base_uri": "https://localhost:8080/"
        },
        "id": "psZK0985KCnl",
        "outputId": "7d67a323-97ec-4435-ec61-3cb53bc634e5"
      },
      "outputs": [
        {
          "data": {
            "text/plain": [
              "19"
            ]
          },
          "execution_count": 51,
          "metadata": {},
          "output_type": "execute_result"
        }
      ],
      "source": [
        "del tmp\n",
        "gc.collect()"
      ]
    },
    {
      "cell_type": "markdown",
      "metadata": {
        "id": "3RojtbK9GGQU"
      },
      "source": [
        "### Train\n"
      ]
    },
    {
      "cell_type": "code",
      "execution_count": 52,
      "metadata": {
        "colab": {
          "base_uri": "https://localhost:8080/"
        },
        "id": "4UeLfwqRc4iQ",
        "outputId": "78f0b549-b400-4773-be89-c53272c85c37"
      },
      "outputs": [
        {
          "name": "stderr",
          "output_type": "stream",
          "text": [
            "100%|██████████| 17/17 [00:00<00:00, 285.61it/s]\n"
          ]
        }
      ],
      "source": [
        "for feat in tqdm(cat_features):\n",
        "    full_data[feat] = full_data[feat].astype(cate_dict[feat])"
      ]
    },
    {
      "cell_type": "code",
      "execution_count": 53,
      "metadata": {
        "colab": {
          "base_uri": "https://localhost:8080/"
        },
        "id": "rJIW8LACUCmg",
        "outputId": "8f48a53a-eedf-4e01-cc6c-4230bcac7111"
      },
      "outputs": [
        {
          "data": {
            "text/plain": [
              "0"
            ]
          },
          "execution_count": 53,
          "metadata": {},
          "output_type": "execute_result"
        }
      ],
      "source": [
        "train = full_data.loc[full_data['week']>1]\n",
        "valid = full_data.loc[full_data['week']==1]\n",
        "\n",
        "del full_data\n",
        "gc.collect()"
      ]
    },
    {
      "cell_type": "code",
      "execution_count": 54,
      "metadata": {
        "id": "nTm9bz6vR6T4"
      },
      "outputs": [],
      "source": [
        "params = {\n",
        "    \"objective\": \"binary\",#\"lambdarank\",\n",
        "    \"boosting_type\": \"gbdt\",\n",
        "    \"metric\": \"auc\",#\"map\",\n",
        "    \"max_depth\": 8,\n",
        "    \"num_leaves\": 128,\n",
        "    \"learning_rate\": 0.03,\n",
        "\n",
        "    \"verbose\": -1,\n",
        "    \"eval_at\": 12,\n",
        "}\n",
        "\n"
      ]
    },
    {
      "cell_type": "code",
      "execution_count": 55,
      "metadata": {
        "id": "G2wtl4vo9F8J"
      },
      "outputs": [],
      "source": [
        "def train_rank_model(train, valid, train_group, valid_group):\n",
        "    train_set = lgb.Dataset(\n",
        "        data=train[feats],\n",
        "        label=train[\"label\"],\n",
        "        group=train_group,\n",
        "        feature_name=feats,\n",
        "        categorical_feature=cat_features,\n",
        "    )\n",
        "    \n",
        "    valid_set = lgb.Dataset(\n",
        "        data=valid[feats],\n",
        "        label=valid[\"label\"],\n",
        "        group=valid_group,\n",
        "        feature_name=feats,\n",
        "        categorical_feature=cat_features,\n",
        "    )\n",
        "\n",
        "    # Huấn luyện mô hình với callbacks bao gồm early_stopping\n",
        "    ranker = lgb.train(\n",
        "        params=params,\n",
        "        train_set=train_set,\n",
        "        num_boost_round=300,\n",
        "        valid_sets=[valid_set],\n",
        "        valid_names=[\"valid\"],\n",
        "        callbacks=[\n",
        "            lgb.early_stopping(stopping_rounds=30),  # Dừng sớm sau 30 vòng không cải thiện\n",
        "            lgb.log_evaluation(period=10),  # Log every 10 iterations\n",
        "        ],\n",
        "    )\n",
        "\n",
        "    ranker.save_model(\n",
        "        model_dir / f\"lgb_small_ranker.model\",\n",
        "        num_iteration=ranker.best_iteration,\n",
        "    )\n",
        "    return ranker\n"
      ]
    },
    {
      "cell_type": "code",
      "execution_count": 56,
      "metadata": {
        "id": "01ZUO87Gg_-e"
      },
      "outputs": [],
      "source": [
        "def train_binary_model(train, valid):\n",
        "    train_set = lgb.Dataset(\n",
        "        data=train[feats],\n",
        "        label=train[\"label\"],\n",
        "        feature_name=feats,\n",
        "        categorical_feature=cat_features,\n",
        "    )\n",
        "\n",
        "    valid_set = lgb.Dataset(\n",
        "        data=valid[feats],\n",
        "        label=valid[\"label\"],\n",
        "        feature_name=feats,\n",
        "        categorical_feature=cat_features,\n",
        "    )\n",
        "\n",
        "    # Huấn luyện mô hình với các callbacks\n",
        "    ranker = lgb.train(\n",
        "        params=params,\n",
        "        train_set=train_set,\n",
        "        num_boost_round=300,\n",
        "        valid_sets=[valid_set],\n",
        "        valid_names=[\"valid\"],\n",
        "        callbacks=[\n",
        "            lgb.early_stopping(stopping_rounds=30),  # Dừng sớm nếu không cải thiện sau 30 vòng\n",
        "            lgb.log_evaluation(period=10),  # Log mỗi 10 vòng\n",
        "        ],\n",
        "    )\n",
        "\n",
        "    ranker.save_model(\n",
        "        model_dir / f\"lgb_small_binary.model\",\n",
        "        num_iteration=ranker.best_iteration,\n",
        "    )\n",
        "    return ranker\n"
      ]
    },
    {
      "cell_type": "code",
      "execution_count": 57,
      "metadata": {
        "colab": {
          "base_uri": "https://localhost:8080/"
        },
        "id": "vw2PmIZwPdFf",
        "outputId": "596f7eee-2618-4311-eebd-b62c0fd9c635"
      },
      "outputs": [
        {
          "data": {
            "text/plain": [
              "0"
            ]
          },
          "execution_count": 57,
          "metadata": {},
          "output_type": "execute_result"
        }
      ],
      "source": [
        "del candidates\n",
        "gc.collect()"
      ]
    },
    {
      "cell_type": "code",
      "execution_count": 58,
      "metadata": {
        "colab": {
          "base_uri": "https://localhost:8080/"
        },
        "id": "F-wxWYRFPd9O",
        "outputId": "7f5a0882-8a44-4533-abee-3ace8d20f93e"
      },
      "outputs": [
        {
          "name": "stdout",
          "output_type": "stream",
          "text": [
            "Train positive rate: 0.021956087824351298\n"
          ]
        }
      ],
      "source": [
        "print(\"Train positive rate:\", train.label.mean())"
      ]
    },
    {
      "cell_type": "code",
      "execution_count": 59,
      "metadata": {
        "id": "O9JQdMFFPfov"
      },
      "outputs": [],
      "source": [
        "train = train.sort_values(by=[\"week\", \"customer_id\"], ascending=True).reset_index(drop=True)\n",
        "valid = valid.sort_values(by=[\"customer_id\"], ascending=True).reset_index(drop=True)"
      ]
    },
    {
      "cell_type": "code",
      "execution_count": 60,
      "metadata": {
        "id": "aj70p1WDPgfQ"
      },
      "outputs": [],
      "source": [
        "train_group = train[[\"customer_id\", \"article_id\", \"week\"]]\n",
        "train_group = train_group.astype(\"int32\")  # * convert to int to avoid `0` in groupby count result\n",
        "train_group = (train_group.groupby([\"week\", \"customer_id\"]).size().values)"
      ]
    },
    {
      "cell_type": "code",
      "execution_count": 61,
      "metadata": {
        "id": "lYOh4wBaPhaN"
      },
      "outputs": [],
      "source": [
        "valid_group = valid[[\"customer_id\", \"article_id\"]]\n",
        "valid_group = valid_group.astype(\"int32\")  # * convert to int to avoid `0` in groupby count result\n",
        "valid_group = valid_group.groupby([\"customer_id\"]).size().values"
      ]
    },
    {
      "cell_type": "code",
      "execution_count": 62,
      "metadata": {
        "id": "Z1LrjrLKPiYA"
      },
      "outputs": [],
      "source": [
        "train = train[feats+['label']]\n",
        "valid = valid[feats+['label']]"
      ]
    },
    {
      "cell_type": "code",
      "execution_count": 63,
      "metadata": {
        "colab": {
          "base_uri": "https://localhost:8080/"
        },
        "id": "lm8JNIuqPjMN",
        "outputId": "cdfc2f52-28b9-47e7-dc54-0be7187fb16d"
      },
      "outputs": [
        {
          "data": {
            "text/plain": [
              "0"
            ]
          },
          "execution_count": 63,
          "metadata": {},
          "output_type": "execute_result"
        }
      ],
      "source": [
        "gc.collect()"
      ]
    },
    {
      "cell_type": "code",
      "execution_count": 64,
      "metadata": {
        "colab": {
          "base_uri": "https://localhost:8080/"
        },
        "id": "1FxwqE1cJR4L",
        "outputId": "8d510452-faa1-473e-9240-38d6657fc4e5"
      },
      "outputs": [
        {
          "name": "stdout",
          "output_type": "stream",
          "text": [
            "Training until validation scores don't improve for 30 rounds\n",
            "[10]\tvalid's auc: 0.583845\n",
            "[20]\tvalid's auc: 0.616025\n",
            "[30]\tvalid's auc: 0.620117\n",
            "[40]\tvalid's auc: 0.630441\n",
            "[50]\tvalid's auc: 0.645973\n",
            "[60]\tvalid's auc: 0.649089\n",
            "[70]\tvalid's auc: 0.670108\n",
            "[80]\tvalid's auc: 0.682199\n",
            "[90]\tvalid's auc: 0.687267\n",
            "[100]\tvalid's auc: 0.684849\n",
            "[110]\tvalid's auc: 0.687453\n",
            "Early stopping, best iteration is:\n",
            "[88]\tvalid's auc: 0.690895\n"
          ]
        }
      ],
      "source": [
        "# ranker = train_rank_model(train, valid, train_group, valid_group)\n",
        "\n",
        "ranker = train_binary_model(train, valid)\n",
        "    "
      ]
    },
    {
      "cell_type": "code",
      "execution_count": null,
      "metadata": {},
      "outputs": [],
      "source": []
    },
    {
      "cell_type": "markdown",
      "metadata": {
        "id": "KbFdGrYRdtIt"
      },
      "source": [
        "### Inference"
      ]
    },
    {
      "cell_type": "code",
      "execution_count": 65,
      "metadata": {
        "id": "hl3DPTaBGGQV"
      },
      "outputs": [],
      "source": [
        "ranker = lgb.Booster(model_file=model_dir / \"lgb_small_binary.model\")\n",
        "# ranker = lgb.Booster(model_file=model_dir / \"lgb_small_ranker.model\")"
      ]
    },
    {
      "cell_type": "code",
      "execution_count": 66,
      "metadata": {
        "id": "OG9AwSntGGQV"
      },
      "outputs": [
        {
          "data": {
            "text/plain": [
              "<Figure size 800x2200 with 0 Axes>"
            ]
          },
          "execution_count": 66,
          "metadata": {},
          "output_type": "execute_result"
        },
        {
          "data": {
            "text/plain": [
              "<Axes: xlabel='importance', ylabel='feature'>"
            ]
          },
          "execution_count": 66,
          "metadata": {},
          "output_type": "execute_result"
        },
        {
          "data": {
            "image/png": "[encoded data removed]",
            "text/plain": [
              "<Figure size 800x2200 with 1 Axes>"
            ]
          },
          "metadata": {},
          "output_type": "display_data"
        }
      ],
      "source": [
        "feat_importance = pd.DataFrame(\n",
        "    {\"feature\": feats, \"importance\": ranker.feature_importance()}\n",
        ").sort_values(by=\"importance\", ascending=False)\n",
        "plt.figure(figsize=(8, 22))\n",
        "sns.barplot(y=\"feature\", x=\"importance\", data=feat_importance)"
      ]
    },
    {
      "cell_type": "markdown",
      "metadata": {
        "id": "lLWs-Z5CGGQV"
      },
      "source": [
        "### Validate"
      ]
    },
    {
      "cell_type": "code",
      "execution_count": 67,
      "metadata": {
        "id": "SSpgfI0mdtIv"
      },
      "outputs": [],
      "source": [
        "val_candidates = valid.reset_index(drop=True)"
      ]
    },
    {
      "cell_type": "code",
      "execution_count": 68,
      "metadata": {
        "id": "pEhET3KZJR4N"
      },
      "outputs": [],
      "source": [
        "def predict(ranker, candidates, batch_size = 5_000_000):\n",
        "    probs = np.zeros(candidates.shape[0])\n",
        "    for batch in range(0, candidates.shape[0], batch_size):\n",
        "        outputs = ranker.predict(candidates.loc[batch : batch + batch_size - 1, feats])\n",
        "        probs[batch : batch + batch_size] = outputs\n",
        "    candidates[\"prob\"] = probs\n",
        "    pred_lgb = candidates[['customer_id','article_id','prob']]\n",
        "    pred_lgb = pred_lgb.sort_values(by=[\"customer_id\",\"prob\"], ascending=False).reset_index(drop=True)\n",
        "    pred_lgb.rename(columns={'article_id':'prediction'}, inplace=True)\n",
        "    pred_lgb = pred_lgb.drop_duplicates(['customer_id', 'prediction'], keep='first')\n",
        "    pred_lgb['customer_id'] = pred_lgb['customer_id'].astype(int)\n",
        "    pred_lgb = pred_lgb.groupby(\"customer_id\")[\"prediction\"].progress_apply(list).reset_index()\n",
        "    return pred_lgb"
      ]
    },
    {
      "cell_type": "code",
      "execution_count": 69,
      "metadata": {
        "colab": {
          "base_uri": "https://localhost:8080/"
        },
        "id": "Ifgoemo6JR4N",
        "outputId": "f1accf63-1aeb-4c3e-bf0b-c0edf1daeb26"
      },
      "outputs": [
        {
          "data": {
            "application/vnd.jupyter.widget-view+json": {
              "model_id": "5a3d79e8f7b84f37968358bc9eda4277",
              "version_major": 2,
              "version_minor": 0
            },
            "text/plain": [
              "  0%|          | 0/111 [00:00<?, ?it/s]"
            ]
          },
          "metadata": {},
          "output_type": "display_data"
        }
      ],
      "source": [
        "pred = predict(ranker, val_candidates)"
      ]
    },
    {
      "cell_type": "code",
      "execution_count": 70,
      "metadata": {
        "id": "G1Qh3k2aGGQW"
      },
      "outputs": [],
      "source": [
        "label = labels[1]\n",
        "label = pd.merge(label, pred, on=\"customer_id\", how=\"left\")"
      ]
    },
    {
      "cell_type": "code",
      "execution_count": 71,
      "metadata": {
        "colab": {
          "base_uri": "https://localhost:8080/"
        },
        "id": "XrFnQ2evGGQW",
        "outputId": "505a0a6f-a7cf-4866-b305-abca1658aed5"
      },
      "outputs": [
        {
          "data": {
            "text/plain": [
              "0.015725400725400726"
            ]
          },
          "execution_count": 71,
          "metadata": {},
          "output_type": "execute_result"
        }
      ],
      "source": [
        "#MapK\n",
        "map_at_k(label[\"article_id\"], label[\"prediction\"], k=12)"
      ]
    },
    {
      "cell_type": "code",
      "execution_count": 72,
      "metadata": {},
      "outputs": [
        {
          "data": {
            "text/plain": [
              "0.06615081615081615"
            ]
          },
          "execution_count": 72,
          "metadata": {},
          "output_type": "execute_result"
        }
      ],
      "source": [
        "# Recall\n",
        "recall_at_k(label[\"article_id\"], label[\"prediction\"], k=12)"
      ]
    },
    {
      "cell_type": "code",
      "execution_count": 73,
      "metadata": {},
      "outputs": [
        {
          "data": {
            "text/plain": [
              "0.14173228346456693"
            ]
          },
          "execution_count": 73,
          "metadata": {},
          "output_type": "execute_result"
        }
      ],
      "source": [
        "#HitRate\n",
        "hr_at_k(label[\"article_id\"], label[\"prediction\"], k=12)"
      ]
    },
    {
      "cell_type": "code",
      "execution_count": 74,
      "metadata": {
        "id": "SEpG-KVUJR4O"
      },
      "outputs": [],
      "source": [
        "batch_size = 5_000_000\n",
        "probs = np.zeros(val_candidates.shape[0])\n",
        "for batch in range(0, val_candidates.shape[0], batch_size):\n",
        "    outputs = ranker.predict(val_candidates.loc[batch : batch + batch_size - 1, feats])\n",
        "    probs[batch : batch + batch_size] = outputs\n",
        "val_candidates[\"prob\"] = probs\n",
        "pred_lgb = val_candidates[['customer_id','article_id','prob']]\n",
        "pred_lgb = pred_lgb.sort_values(by=[\"customer_id\",\"prob\"], ascending=False).reset_index(drop=True)\n",
        "pred_lgb.rename(columns={'article_id':'prediction'}, inplace=True)\n",
        "pred_lgb = pred_lgb.drop_duplicates(['customer_id', 'prediction'], keep='first')\n",
        "pred_lgb['customer_id'] = pred_lgb['customer_id'].astype(int)"
      ]
    },
    {
      "cell_type": "code",
      "execution_count": 75,
      "metadata": {
        "id": "UILjptYKJR4O"
      },
      "outputs": [],
      "source": [
        "pred_lgb.to_parquet(data_dir/\"processed\"/\"small_binary_valid.pqt\")\n",
        "# pred_lgb.to_parquet(data_dir/\"processed\"/\"small_rank_valid.pqt\")"
      ]
    },
    {
      "cell_type": "markdown",
      "metadata": {
        "id": "_5_faqlKJR4R"
      },
      "source": [
        "### Test"
      ]
    },
    {
      "cell_type": "code",
      "execution_count": 76,
      "metadata": {
        "colab": {
          "base_uri": "https://localhost:8080/"
        },
        "id": "qFaPtoF7JR4R",
        "outputId": "8817b209-c405-4874-9102-81fdbfab1ad4"
      },
      "outputs": [],
      "source": [
        "# del candidates\n",
        "# gc.collect()"
      ]
    },
    {
      "cell_type": "code",
      "execution_count": 77,
      "metadata": {
        "colab": {
          "base_uri": "https://localhost:8080/"
        },
        "id": "GxTa-32qPMNh",
        "outputId": "98bc03f6-32d4-4747-bec4-0a3024e5c09c"
      },
      "outputs": [
        {
          "name": "stdout",
          "output_type": "stream",
          "text": [
            "Chunk 0\n"
          ]
        },
        {
          "data": {
            "text/plain": [
              "135"
            ]
          },
          "execution_count": 77,
          "metadata": {},
          "output_type": "execute_result"
        },
        {
          "name": "stderr",
          "output_type": "stream",
          "text": [
            "100%|██████████| 1/1 [00:00<00:00, 80.97it/s]\n"
          ]
        },
        {
          "data": {
            "text/plain": [
              "4"
            ]
          },
          "execution_count": 77,
          "metadata": {},
          "output_type": "execute_result"
        },
        {
          "name": "stdout",
          "output_type": "stream",
          "text": [
            "Chunk 1\n"
          ]
        },
        {
          "data": {
            "text/plain": [
              "0"
            ]
          },
          "execution_count": 77,
          "metadata": {},
          "output_type": "execute_result"
        },
        {
          "name": "stderr",
          "output_type": "stream",
          "text": [
            "100%|██████████| 1/1 [00:00<00:00, 76.70it/s]\n"
          ]
        },
        {
          "data": {
            "text/plain": [
              "4"
            ]
          },
          "execution_count": 77,
          "metadata": {},
          "output_type": "execute_result"
        }
      ],
      "source": [
        "test_pred = []\n",
        "for chunk in range(2):\n",
        "    print(f\"Chunk {chunk}\")\n",
        "    test_candidates = pd.read_parquet(data_dir/\"processed\"/VERSION_NAME/f\"week0_candidate_{chunk}.pqt\")\n",
        "    for feat in cat_features:\n",
        "        test_candidates[feat] = test_candidates[feat].astype(cate_dict[feat])\n",
        "\n",
        "    # * Extra Features ===================================\n",
        "\n",
        "    tmp = inter.groupby('article_id').week.mean()\n",
        "    test_candidates['article_time_mean'] = test_candidates['article_id'].map(tmp)\n",
        "    # tmp = inter.groupby('article_id').week.mean().reset_index()\n",
        "    # test_candidates = test_candidates.merge(tmp, on='article_id', how='left')\n",
        "    # test_candidates.rename(columns={'week': 'article_time_mean'}, inplace=True)\n",
        "\n",
        "    tmp = inter.groupby('customer_id').week.nth(-1)\n",
        "    test_candidates['customer_id_last_time'] = test_candidates['customer_id'].map(tmp)\n",
        "\n",
        "    tmp = inter.groupby('customer_id').week.nth(0)\n",
        "    test_candidates['customer_id_first_time'] = test_candidates['customer_id'].map(tmp)\n",
        "\n",
        "    tmp = inter.groupby('customer_id').week.mean()\n",
        "    test_candidates['customer_id_time_mean'] = test_candidates['customer_id'].map(tmp)\n",
        "\n",
        "    test_candidates['customer_id_gap'] = test_candidates['customer_id_first_time'] - test_candidates['customer_id_last_time']\n",
        "\n",
        "    gc.collect()\n",
        "    # * ==================================================\n",
        "    \n",
        "    batch_size = 5_000_000\n",
        "    # probs = np.zeros(test_candidates.shape[0])\n",
        "    # for batch in tqdm(range(0, test_candidates.shape[0], batch_size)):\n",
        "    #     outputs = ranker.predict(test_candidates.loc[batch : batch + batch_size - 1, feats])\n",
        "    #     probs[batch : batch + batch_size] = outputs\n",
        "    probs = np.zeros(test_candidates.shape[0])\n",
        "    for batch in tqdm(range(0, test_candidates.shape[0], batch_size)):\n",
        "        outputs = ranker.predict(test_candidates.loc[batch:batch + batch_size - 1, feats])\n",
        "        probs[batch:batch + batch_size] = outputs\n",
        "\n",
        "    test_candidates[\"prob\"] = probs\n",
        "    pred_lgb = test_candidates[['customer_id','article_id','prob']]\n",
        "    pred_lgb = pred_lgb.sort_values(by=[\"customer_id\",\"prob\"], ascending=False).reset_index(drop=True)\n",
        "    pred_lgb.rename(columns={'article_id':'prediction'}, inplace=True)\n",
        "    pred_lgb = pred_lgb.drop_duplicates(['customer_id', 'prediction'], keep='first')\n",
        "    # pred_lgb['customer_id'] = pred_lgb['customer_id'].astype(int)\n",
        "    test_pred.append(pred_lgb)\n",
        "    del test_candidates\n",
        "    gc.collect()"
      ]
    },
    {
      "cell_type": "code",
      "execution_count": 78,
      "metadata": {
        "id": "S1D0jEFqPzng"
      },
      "outputs": [],
      "source": [
        "pred_lgb = pd.concat(test_pred, ignore_index=True)"
      ]
    },
    {
      "cell_type": "code",
      "execution_count": 79,
      "metadata": {
        "id": "ZpdiPY58JR4R"
      },
      "outputs": [],
      "source": [
        "pred_lgb.to_parquet(data_dir/\"processed\"/\"small_binary_test.pqt\")\n",
        "# pred_lgb.to_parquet(data_dir/\"processed\"/\"small_rank_test.pqt\")"
      ]
    }
  ],
  "metadata": {
    "colab": {
      "collapsed_sections": [
        "LX4M190s4pxo",
        "TBIrKxhRGGQR"
      ],
      "machine_shape": "hm",
      "name": "HM-Rec.ipynb",
      "provenance": []
    },
    "kernelspec": {
      "display_name": "Python 3",
      "language": "python",
      "name": "python3"
    },
    "language_info": {
      "codemirror_mode": {
        "name": "ipython",
        "version": 3
      },
      "file_extension": ".py",
      "mimetype": "text/x-python",
      "name": "python",
      "nbconvert_exporter": "python",
      "pygments_lexer": "ipython3",
      "version": "3.9.6"
    }
  },
  "nbformat": 4,
  "nbformat_minor": 0
}
